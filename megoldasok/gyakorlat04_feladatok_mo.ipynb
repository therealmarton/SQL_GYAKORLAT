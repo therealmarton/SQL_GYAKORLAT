{
    "metadata": {
        "kernelspec": {
            "name": "SQL",
            "display_name": "SQL",
            "language": "sql"
        },
        "language_info": {
            "name": "sql",
            "version": ""
        }
    },
    "nbformat_minor": 2,
    "nbformat": 4,
    "cells": [
        {
            "cell_type": "markdown",
            "source": [
                "1. <span style=\"background-color: rgb(255, 255, 255); color: rgb(0, 0, 0); font-family: &quot;Open Sans&quot;, sans-serif; font-size: 14.44px;\">Készítsünk listát arról, hogy ügyfelenként (LOGIN), azon belül szállítási módonként hány megrendelés történt!&nbsp;</span> \n",
                "\n",
                "a. A lista tartalmazza a részösszegeket és a végösszeget is!  \n",
                "b. Használjuk a ROLLUP záradékot!"
            ],
            "metadata": {
                "azdata_cell_guid": "363cd270-6577-449b-9c89-d4b7c7972d52"
            },
            "attachments": {}
        },
        {
            "cell_type": "code",
            "source": [
                ""
            ],
            "metadata": {
                "azdata_cell_guid": "6ab9f633-a3b5-48c9-a1dc-4fb8235ae85b",
                "language": "sql"
            },
            "outputs": [],
            "execution_count": null
        },
        {
            "cell_type": "markdown",
            "source": [
                "2. <span style=\"background-color: rgb(255, 255, 255); color: rgb(0, 0, 0); font-family: &quot;Open Sans&quot;, sans-serif; font-size: 14.44px;\">Készítsünk listát a termékek számáról a következő csoportosítási szempontok szerint:<br>kategória azonosító, raktárkód, raktárkód+mennyiségi egység!</span>\n",
                "\n",
                "a. A listát szűrjük azokra a csoportokra, ahol a termékek száma legalább 6!"
            ],
            "metadata": {
                "azdata_cell_guid": "ea75c103-911f-41a3-a32c-3d40fb3e4e4a"
            },
            "attachments": {}
        },
        {
            "cell_type": "code",
            "source": [
                ""
            ],
            "metadata": {
                "azdata_cell_guid": "222b9618-a8e8-42b4-a8e8-d002257122b7",
                "language": "sql"
            },
            "outputs": [],
            "execution_count": null
        },
        {
            "cell_type": "markdown",
            "source": [
                "```\n",
                "3. Készítsünk listát az egyes termékkategóriákban lévő termékek számáról! \n",
                "\n",
                "```\n",
                "\n",
                "a. Elég megjeleníteni a kategóriák azonosítóit és a darabszámokat!   \n",
                "<span style=\"color: var(--vscode-foreground);\">b. A lista megfelelően jelölve tartalmazza a végösszeget is!&nbsp;<br></span> <span style=\"color: var(--vscode-foreground);\">c. Az oszlopokat nevezzük el értelemszerűen!&nbsp;<br></span> <span style=\"color: var(--vscode-foreground);\">d. A listát rendezzük a darabszám szerint növekvő sorrendbe!</span>\n",
                "\n",
                "  \n",
                "\n",
                "![](https://moodle.uni-corvinus.hu/theme/image.php/adaptable/atto_h5p/1709548862/icon)"
            ],
            "metadata": {
                "azdata_cell_guid": "d7876bb9-76d0-4d07-baed-3cb17b2f96c3"
            },
            "attachments": {}
        },
        {
            "cell_type": "code",
            "source": [
                ""
            ],
            "metadata": {
                "azdata_cell_guid": "56ec19ce-e249-4551-b2a8-f17569765acc",
                "language": "sql"
            },
            "outputs": [],
            "execution_count": null
        },
        {
            "cell_type": "markdown",
            "source": [
                "4. <span style=\"background-color: rgb(255, 255, 255); color: rgb(0, 0, 0); font-family: &quot;Open Sans&quot;, sans-serif; font-size: 14.44px;\">Készítsünk listát az ügyfelek számáról születési év szerint, azon belül nem szerinti bontásban!&nbsp;</span> \n",
                "\n",
                "a. A lista megfelelően jelölve tartalmazza a részösszegeket és a végösszeget is!  \n",
                "b. Az oszlopoknak adjunk nevet értelemszerűen!"
            ],
            "metadata": {
                "azdata_cell_guid": "8e7fef82-8022-49a0-8255-fc2846c2134b"
            },
            "attachments": {}
        },
        {
            "cell_type": "code",
            "source": [
                "SELECT IIF(GROUPING_ID(szulev) = 1, 'Végösszeg', CAST(szulev as nvarchar(4))) AS 'Születési év',\r\n",
                "       CASE \r\n",
                "         WHEN GROUPING_ID(szulev, nem) = 1 THEN 'Részösszeg'\r\n",
                "         WHEN GROUPING_ID(szulev, nem) = 3 THEN 'Végösszeg'\r\n",
                "         ELSE nem \r\n",
                "         END AS 'Nem',\r\n",
                "       count(*) AS 'Ügyfelek száma'\r\n",
                "FROM ugyfel\r\n",
                "GROUP BY ROLLUP(szulev, nem)"
            ],
            "metadata": {
                "azdata_cell_guid": "36f7b396-4a1f-45e5-8720-2302537c91bc",
                "language": "sql"
            },
            "outputs": [
                {
                    "output_type": "display_data",
                    "data": {
                        "text/html": "(96 rows affected)"
                    },
                    "metadata": {}
                },
                {
                    "output_type": "display_data",
                    "data": {
                        "text/html": "Total execution time: 00:00:00.023"
                    },
                    "metadata": {}
                },
                {
                    "output_type": "execute_result",
                    "metadata": {},
                    "execution_count": 1,
                    "data": {
                        "application/vnd.dataresource+json": {
                            "schema": {
                                "fields": [
                                    {
                                        "name": "Születési év"
                                    },
                                    {
                                        "name": "Nem"
                                    },
                                    {
                                        "name": "Ügyfelek száma"
                                    }
                                ]
                            },
                            "data": [
                                {
                                    "Születési év": "1967",
                                    "Nem": "F",
                                    "Ügyfelek száma": "5"
                                },
                                {
                                    "Születési év": "1967",
                                    "Nem": "N",
                                    "Ügyfelek száma": "3"
                                },
                                {
                                    "Születési év": "1967",
                                    "Nem": "Részösszeg",
                                    "Ügyfelek száma": "8"
                                },
                                {
                                    "Születési év": "1968",
                                    "Nem": "F",
                                    "Ügyfelek száma": "5"
                                },
                                {
                                    "Születési év": "1968",
                                    "Nem": "N",
                                    "Ügyfelek száma": "3"
                                },
                                {
                                    "Születési év": "1968",
                                    "Nem": "Részösszeg",
                                    "Ügyfelek száma": "8"
                                },
                                {
                                    "Születési év": "1969",
                                    "Nem": "F",
                                    "Ügyfelek száma": "5"
                                },
                                {
                                    "Születési év": "1969",
                                    "Nem": "N",
                                    "Ügyfelek száma": "3"
                                },
                                {
                                    "Születési év": "1969",
                                    "Nem": "Részösszeg",
                                    "Ügyfelek száma": "8"
                                },
                                {
                                    "Születési év": "1970",
                                    "Nem": "F",
                                    "Ügyfelek száma": "4"
                                },
                                {
                                    "Születési év": "1970",
                                    "Nem": "Részösszeg",
                                    "Ügyfelek száma": "4"
                                },
                                {
                                    "Születési év": "1971",
                                    "Nem": "F",
                                    "Ügyfelek száma": "2"
                                },
                                {
                                    "Születési év": "1971",
                                    "Nem": "N",
                                    "Ügyfelek száma": "3"
                                },
                                {
                                    "Születési év": "1971",
                                    "Nem": "Részösszeg",
                                    "Ügyfelek száma": "5"
                                },
                                {
                                    "Születési év": "1972",
                                    "Nem": "F",
                                    "Ügyfelek száma": "2"
                                },
                                {
                                    "Születési év": "1972",
                                    "Nem": "N",
                                    "Ügyfelek száma": "2"
                                },
                                {
                                    "Születési év": "1972",
                                    "Nem": "Részösszeg",
                                    "Ügyfelek száma": "4"
                                },
                                {
                                    "Születési év": "1973",
                                    "Nem": "F",
                                    "Ügyfelek száma": "2"
                                },
                                {
                                    "Születési év": "1973",
                                    "Nem": "N",
                                    "Ügyfelek száma": "2"
                                },
                                {
                                    "Születési év": "1973",
                                    "Nem": "Részösszeg",
                                    "Ügyfelek száma": "4"
                                },
                                {
                                    "Születési év": "1974",
                                    "Nem": "F",
                                    "Ügyfelek száma": "1"
                                },
                                {
                                    "Születési év": "1974",
                                    "Nem": "N",
                                    "Ügyfelek száma": "3"
                                },
                                {
                                    "Születési év": "1974",
                                    "Nem": "Részösszeg",
                                    "Ügyfelek száma": "4"
                                },
                                {
                                    "Születési év": "1975",
                                    "Nem": "F",
                                    "Ügyfelek száma": "8"
                                },
                                {
                                    "Születési év": "1975",
                                    "Nem": "N",
                                    "Ügyfelek száma": "3"
                                },
                                {
                                    "Születési év": "1975",
                                    "Nem": "Részösszeg",
                                    "Ügyfelek száma": "11"
                                },
                                {
                                    "Születési év": "1976",
                                    "Nem": "F",
                                    "Ügyfelek száma": "5"
                                },
                                {
                                    "Születési év": "1976",
                                    "Nem": "N",
                                    "Ügyfelek száma": "2"
                                },
                                {
                                    "Születési év": "1976",
                                    "Nem": "Részösszeg",
                                    "Ügyfelek száma": "7"
                                },
                                {
                                    "Születési év": "1977",
                                    "Nem": "F",
                                    "Ügyfelek száma": "4"
                                },
                                {
                                    "Születési év": "1977",
                                    "Nem": "N",
                                    "Ügyfelek száma": "1"
                                },
                                {
                                    "Születési év": "1977",
                                    "Nem": "Részösszeg",
                                    "Ügyfelek száma": "5"
                                },
                                {
                                    "Születési év": "1978",
                                    "Nem": "F",
                                    "Ügyfelek száma": "3"
                                },
                                {
                                    "Születési év": "1978",
                                    "Nem": "N",
                                    "Ügyfelek száma": "4"
                                },
                                {
                                    "Születési év": "1978",
                                    "Nem": "Részösszeg",
                                    "Ügyfelek száma": "7"
                                },
                                {
                                    "Születési év": "1979",
                                    "Nem": "F",
                                    "Ügyfelek száma": "4"
                                },
                                {
                                    "Születési év": "1979",
                                    "Nem": "N",
                                    "Ügyfelek száma": "3"
                                },
                                {
                                    "Születési év": "1979",
                                    "Nem": "Részösszeg",
                                    "Ügyfelek száma": "7"
                                },
                                {
                                    "Születési év": "1980",
                                    "Nem": "F",
                                    "Ügyfelek száma": "4"
                                },
                                {
                                    "Születési év": "1980",
                                    "Nem": "N",
                                    "Ügyfelek száma": "3"
                                },
                                {
                                    "Születési év": "1980",
                                    "Nem": "Részösszeg",
                                    "Ügyfelek száma": "7"
                                },
                                {
                                    "Születési év": "1981",
                                    "Nem": "N",
                                    "Ügyfelek száma": "4"
                                },
                                {
                                    "Születési év": "1981",
                                    "Nem": "Részösszeg",
                                    "Ügyfelek száma": "4"
                                },
                                {
                                    "Születési év": "1982",
                                    "Nem": "F",
                                    "Ügyfelek száma": "2"
                                },
                                {
                                    "Születési év": "1982",
                                    "Nem": "N",
                                    "Ügyfelek száma": "2"
                                },
                                {
                                    "Születési év": "1982",
                                    "Nem": "Részösszeg",
                                    "Ügyfelek száma": "4"
                                },
                                {
                                    "Születési év": "1983",
                                    "Nem": "F",
                                    "Ügyfelek száma": "5"
                                },
                                {
                                    "Születési év": "1983",
                                    "Nem": "N",
                                    "Ügyfelek száma": "3"
                                },
                                {
                                    "Születési év": "1983",
                                    "Nem": "Részösszeg",
                                    "Ügyfelek száma": "8"
                                },
                                {
                                    "Születési év": "1984",
                                    "Nem": "F",
                                    "Ügyfelek száma": "6"
                                },
                                {
                                    "Születési év": "1984",
                                    "Nem": "N",
                                    "Ügyfelek száma": "2"
                                },
                                {
                                    "Születési év": "1984",
                                    "Nem": "Részösszeg",
                                    "Ügyfelek száma": "8"
                                },
                                {
                                    "Születési év": "1985",
                                    "Nem": "F",
                                    "Ügyfelek száma": "5"
                                },
                                {
                                    "Születési év": "1985",
                                    "Nem": "N",
                                    "Ügyfelek száma": "1"
                                },
                                {
                                    "Születési év": "1985",
                                    "Nem": "Részösszeg",
                                    "Ügyfelek száma": "6"
                                },
                                {
                                    "Születési év": "1986",
                                    "Nem": "F",
                                    "Ügyfelek száma": "7"
                                },
                                {
                                    "Születési év": "1986",
                                    "Nem": "N",
                                    "Ügyfelek száma": "2"
                                },
                                {
                                    "Születési év": "1986",
                                    "Nem": "Részösszeg",
                                    "Ügyfelek száma": "9"
                                },
                                {
                                    "Születési év": "1987",
                                    "Nem": "F",
                                    "Ügyfelek száma": "2"
                                },
                                {
                                    "Születési év": "1987",
                                    "Nem": "N",
                                    "Ügyfelek száma": "3"
                                },
                                {
                                    "Születési év": "1987",
                                    "Nem": "Részösszeg",
                                    "Ügyfelek száma": "5"
                                },
                                {
                                    "Születési év": "1988",
                                    "Nem": "F",
                                    "Ügyfelek száma": "2"
                                },
                                {
                                    "Születési év": "1988",
                                    "Nem": "N",
                                    "Ügyfelek száma": "4"
                                },
                                {
                                    "Születési év": "1988",
                                    "Nem": "Részösszeg",
                                    "Ügyfelek száma": "6"
                                },
                                {
                                    "Születési év": "1989",
                                    "Nem": "F",
                                    "Ügyfelek száma": "6"
                                },
                                {
                                    "Születési év": "1989",
                                    "Nem": "N",
                                    "Ügyfelek száma": "1"
                                },
                                {
                                    "Születési év": "1989",
                                    "Nem": "Részösszeg",
                                    "Ügyfelek száma": "7"
                                },
                                {
                                    "Születési év": "1990",
                                    "Nem": "F",
                                    "Ügyfelek száma": "5"
                                },
                                {
                                    "Születési év": "1990",
                                    "Nem": "N",
                                    "Ügyfelek száma": "3"
                                },
                                {
                                    "Születési év": "1990",
                                    "Nem": "Részösszeg",
                                    "Ügyfelek száma": "8"
                                },
                                {
                                    "Születési év": "1991",
                                    "Nem": "F",
                                    "Ügyfelek száma": "3"
                                },
                                {
                                    "Születési év": "1991",
                                    "Nem": "N",
                                    "Ügyfelek száma": "3"
                                },
                                {
                                    "Születési év": "1991",
                                    "Nem": "Részösszeg",
                                    "Ügyfelek száma": "6"
                                },
                                {
                                    "Születési év": "1992",
                                    "Nem": "F",
                                    "Ügyfelek száma": "3"
                                },
                                {
                                    "Születési év": "1992",
                                    "Nem": "N",
                                    "Ügyfelek száma": "1"
                                },
                                {
                                    "Születési év": "1992",
                                    "Nem": "Részösszeg",
                                    "Ügyfelek száma": "4"
                                },
                                {
                                    "Születési év": "1993",
                                    "Nem": "F",
                                    "Ügyfelek száma": "2"
                                },
                                {
                                    "Születési év": "1993",
                                    "Nem": "N",
                                    "Ügyfelek száma": "3"
                                },
                                {
                                    "Születési év": "1993",
                                    "Nem": "Részösszeg",
                                    "Ügyfelek száma": "5"
                                },
                                {
                                    "Születési év": "1994",
                                    "Nem": "N",
                                    "Ügyfelek száma": "3"
                                },
                                {
                                    "Születési év": "1994",
                                    "Nem": "Részösszeg",
                                    "Ügyfelek száma": "3"
                                },
                                {
                                    "Születési év": "1995",
                                    "Nem": "F",
                                    "Ügyfelek száma": "3"
                                },
                                {
                                    "Születési év": "1995",
                                    "Nem": "N",
                                    "Ügyfelek száma": "3"
                                },
                                {
                                    "Születési év": "1995",
                                    "Nem": "Részösszeg",
                                    "Ügyfelek száma": "6"
                                },
                                {
                                    "Születési év": "1996",
                                    "Nem": "F",
                                    "Ügyfelek száma": "2"
                                },
                                {
                                    "Születési év": "1996",
                                    "Nem": "N",
                                    "Ügyfelek száma": "5"
                                },
                                {
                                    "Születési év": "1996",
                                    "Nem": "Részösszeg",
                                    "Ügyfelek száma": "7"
                                },
                                {
                                    "Születési év": "1997",
                                    "Nem": "F",
                                    "Ügyfelek száma": "10"
                                },
                                {
                                    "Születési év": "1997",
                                    "Nem": "N",
                                    "Ügyfelek száma": "2"
                                },
                                {
                                    "Születési év": "1997",
                                    "Nem": "Részösszeg",
                                    "Ügyfelek száma": "12"
                                },
                                {
                                    "Születési év": "1998",
                                    "Nem": "F",
                                    "Ügyfelek száma": "1"
                                },
                                {
                                    "Születési év": "1998",
                                    "Nem": "N",
                                    "Ügyfelek száma": "1"
                                },
                                {
                                    "Születési év": "1998",
                                    "Nem": "Részösszeg",
                                    "Ügyfelek száma": "2"
                                },
                                {
                                    "Születési év": "2000",
                                    "Nem": "F",
                                    "Ügyfelek száma": "1"
                                },
                                {
                                    "Születési év": "2000",
                                    "Nem": "Részösszeg",
                                    "Ügyfelek száma": "1"
                                },
                                {
                                    "Születési év": "Végösszeg",
                                    "Nem": "Végösszeg",
                                    "Ügyfelek száma": "200"
                                }
                            ]
                        },
                        "text/html": [
                            "<table>",
                            "<tr><th>Születési év</th><th>Nem</th><th>Ügyfelek száma</th></tr>",
                            "<tr><td>1967</td><td>F</td><td>5</td></tr>",
                            "<tr><td>1967</td><td>N</td><td>3</td></tr>",
                            "<tr><td>1967</td><td>Részösszeg</td><td>8</td></tr>",
                            "<tr><td>1968</td><td>F</td><td>5</td></tr>",
                            "<tr><td>1968</td><td>N</td><td>3</td></tr>",
                            "<tr><td>1968</td><td>Részösszeg</td><td>8</td></tr>",
                            "<tr><td>1969</td><td>F</td><td>5</td></tr>",
                            "<tr><td>1969</td><td>N</td><td>3</td></tr>",
                            "<tr><td>1969</td><td>Részösszeg</td><td>8</td></tr>",
                            "<tr><td>1970</td><td>F</td><td>4</td></tr>",
                            "<tr><td>1970</td><td>Részösszeg</td><td>4</td></tr>",
                            "<tr><td>1971</td><td>F</td><td>2</td></tr>",
                            "<tr><td>1971</td><td>N</td><td>3</td></tr>",
                            "<tr><td>1971</td><td>Részösszeg</td><td>5</td></tr>",
                            "<tr><td>1972</td><td>F</td><td>2</td></tr>",
                            "<tr><td>1972</td><td>N</td><td>2</td></tr>",
                            "<tr><td>1972</td><td>Részösszeg</td><td>4</td></tr>",
                            "<tr><td>1973</td><td>F</td><td>2</td></tr>",
                            "<tr><td>1973</td><td>N</td><td>2</td></tr>",
                            "<tr><td>1973</td><td>Részösszeg</td><td>4</td></tr>",
                            "<tr><td>1974</td><td>F</td><td>1</td></tr>",
                            "<tr><td>1974</td><td>N</td><td>3</td></tr>",
                            "<tr><td>1974</td><td>Részösszeg</td><td>4</td></tr>",
                            "<tr><td>1975</td><td>F</td><td>8</td></tr>",
                            "<tr><td>1975</td><td>N</td><td>3</td></tr>",
                            "<tr><td>1975</td><td>Részösszeg</td><td>11</td></tr>",
                            "<tr><td>1976</td><td>F</td><td>5</td></tr>",
                            "<tr><td>1976</td><td>N</td><td>2</td></tr>",
                            "<tr><td>1976</td><td>Részösszeg</td><td>7</td></tr>",
                            "<tr><td>1977</td><td>F</td><td>4</td></tr>",
                            "<tr><td>1977</td><td>N</td><td>1</td></tr>",
                            "<tr><td>1977</td><td>Részösszeg</td><td>5</td></tr>",
                            "<tr><td>1978</td><td>F</td><td>3</td></tr>",
                            "<tr><td>1978</td><td>N</td><td>4</td></tr>",
                            "<tr><td>1978</td><td>Részösszeg</td><td>7</td></tr>",
                            "<tr><td>1979</td><td>F</td><td>4</td></tr>",
                            "<tr><td>1979</td><td>N</td><td>3</td></tr>",
                            "<tr><td>1979</td><td>Részösszeg</td><td>7</td></tr>",
                            "<tr><td>1980</td><td>F</td><td>4</td></tr>",
                            "<tr><td>1980</td><td>N</td><td>3</td></tr>",
                            "<tr><td>1980</td><td>Részösszeg</td><td>7</td></tr>",
                            "<tr><td>1981</td><td>N</td><td>4</td></tr>",
                            "<tr><td>1981</td><td>Részösszeg</td><td>4</td></tr>",
                            "<tr><td>1982</td><td>F</td><td>2</td></tr>",
                            "<tr><td>1982</td><td>N</td><td>2</td></tr>",
                            "<tr><td>1982</td><td>Részösszeg</td><td>4</td></tr>",
                            "<tr><td>1983</td><td>F</td><td>5</td></tr>",
                            "<tr><td>1983</td><td>N</td><td>3</td></tr>",
                            "<tr><td>1983</td><td>Részösszeg</td><td>8</td></tr>",
                            "<tr><td>1984</td><td>F</td><td>6</td></tr>",
                            "<tr><td>1984</td><td>N</td><td>2</td></tr>",
                            "<tr><td>1984</td><td>Részösszeg</td><td>8</td></tr>",
                            "<tr><td>1985</td><td>F</td><td>5</td></tr>",
                            "<tr><td>1985</td><td>N</td><td>1</td></tr>",
                            "<tr><td>1985</td><td>Részösszeg</td><td>6</td></tr>",
                            "<tr><td>1986</td><td>F</td><td>7</td></tr>",
                            "<tr><td>1986</td><td>N</td><td>2</td></tr>",
                            "<tr><td>1986</td><td>Részösszeg</td><td>9</td></tr>",
                            "<tr><td>1987</td><td>F</td><td>2</td></tr>",
                            "<tr><td>1987</td><td>N</td><td>3</td></tr>",
                            "<tr><td>1987</td><td>Részösszeg</td><td>5</td></tr>",
                            "<tr><td>1988</td><td>F</td><td>2</td></tr>",
                            "<tr><td>1988</td><td>N</td><td>4</td></tr>",
                            "<tr><td>1988</td><td>Részösszeg</td><td>6</td></tr>",
                            "<tr><td>1989</td><td>F</td><td>6</td></tr>",
                            "<tr><td>1989</td><td>N</td><td>1</td></tr>",
                            "<tr><td>1989</td><td>Részösszeg</td><td>7</td></tr>",
                            "<tr><td>1990</td><td>F</td><td>5</td></tr>",
                            "<tr><td>1990</td><td>N</td><td>3</td></tr>",
                            "<tr><td>1990</td><td>Részösszeg</td><td>8</td></tr>",
                            "<tr><td>1991</td><td>F</td><td>3</td></tr>",
                            "<tr><td>1991</td><td>N</td><td>3</td></tr>",
                            "<tr><td>1991</td><td>Részösszeg</td><td>6</td></tr>",
                            "<tr><td>1992</td><td>F</td><td>3</td></tr>",
                            "<tr><td>1992</td><td>N</td><td>1</td></tr>",
                            "<tr><td>1992</td><td>Részösszeg</td><td>4</td></tr>",
                            "<tr><td>1993</td><td>F</td><td>2</td></tr>",
                            "<tr><td>1993</td><td>N</td><td>3</td></tr>",
                            "<tr><td>1993</td><td>Részösszeg</td><td>5</td></tr>",
                            "<tr><td>1994</td><td>N</td><td>3</td></tr>",
                            "<tr><td>1994</td><td>Részösszeg</td><td>3</td></tr>",
                            "<tr><td>1995</td><td>F</td><td>3</td></tr>",
                            "<tr><td>1995</td><td>N</td><td>3</td></tr>",
                            "<tr><td>1995</td><td>Részösszeg</td><td>6</td></tr>",
                            "<tr><td>1996</td><td>F</td><td>2</td></tr>",
                            "<tr><td>1996</td><td>N</td><td>5</td></tr>",
                            "<tr><td>1996</td><td>Részösszeg</td><td>7</td></tr>",
                            "<tr><td>1997</td><td>F</td><td>10</td></tr>",
                            "<tr><td>1997</td><td>N</td><td>2</td></tr>",
                            "<tr><td>1997</td><td>Részösszeg</td><td>12</td></tr>",
                            "<tr><td>1998</td><td>F</td><td>1</td></tr>",
                            "<tr><td>1998</td><td>N</td><td>1</td></tr>",
                            "<tr><td>1998</td><td>Részösszeg</td><td>2</td></tr>",
                            "<tr><td>2000</td><td>F</td><td>1</td></tr>",
                            "<tr><td>2000</td><td>Részösszeg</td><td>1</td></tr>",
                            "<tr><td>Végösszeg</td><td>Végösszeg</td><td>200</td></tr>",
                            "</table>"
                        ]
                    }
                }
            ],
            "execution_count": 1
        },
        {
            "cell_type": "markdown",
            "source": [
                "5. <span style=\"background-color: rgb(255, 255, 255); color: rgb(0, 0, 0); font-family: &quot;Open Sans&quot;, sans-serif; font-size: 14.44px;\">Készítsünk listát a termékek számáról a felvitel hónapja, azon belül napja szerint csoportosítva.&nbsp;</span> \n",
                "\n",
                "a. A lista csak a részösszegeket és a végösszeget tartalmazza!  \n",
                "b. Az oszlopoknak adjunk megfelelő nevet!  \n",
                "c. Ötlet: HAVING + GROUPING\\_ID fv együttes használata"
            ],
            "metadata": {
                "azdata_cell_guid": "84239ca2-6b5e-49f5-9860-d44c11d6de32"
            },
            "attachments": {}
        },
        {
            "cell_type": "code",
            "source": [
                "SELECT MONTH(felvitel) AS 'hónap',\r\n",
                "       DAY(felvitel) AS 'nap',\r\n",
                "       COUNT(*) AS 'termékek száma'\r\n",
                "FROM Termek\r\n",
                "GROUP BY ROLLUP(MONTH(felvitel), DAY(felvitel))\r\n",
                "HAVING GROUPING_ID(MONTH(felvitel), DAY(felvitel)) > 0"
            ],
            "metadata": {
                "azdata_cell_guid": "06d9a62b-9430-424b-a135-d80e675f0eb3",
                "language": "sql"
            },
            "outputs": [
                {
                    "output_type": "display_data",
                    "data": {
                        "text/html": "(5 rows affected)"
                    },
                    "metadata": {}
                },
                {
                    "output_type": "display_data",
                    "data": {
                        "text/html": "Total execution time: 00:00:00.042"
                    },
                    "metadata": {}
                },
                {
                    "output_type": "execute_result",
                    "execution_count": 9,
                    "data": {
                        "application/vnd.dataresource+json": {
                            "schema": {
                                "fields": [
                                    {
                                        "name": "hónap"
                                    },
                                    {
                                        "name": "nap"
                                    },
                                    {
                                        "name": "termékek száma"
                                    }
                                ]
                            },
                            "data": [
                                {
                                    "hónap": "7",
                                    "nap": "NULL",
                                    "termékek száma": "355"
                                },
                                {
                                    "hónap": "8",
                                    "nap": "NULL",
                                    "termékek száma": "194"
                                },
                                {
                                    "hónap": "9",
                                    "nap": "NULL",
                                    "termékek száma": "1"
                                },
                                {
                                    "hónap": "12",
                                    "nap": "NULL",
                                    "termékek száma": "1"
                                },
                                {
                                    "hónap": "NULL",
                                    "nap": "NULL",
                                    "termékek száma": "551"
                                }
                            ]
                        },
                        "text/html": "<table><tr><th>hónap</th><th>nap</th><th>termékek száma</th></tr><tr><td>7</td><td>NULL</td><td>355</td></tr><tr><td>8</td><td>NULL</td><td>194</td></tr><tr><td>9</td><td>NULL</td><td>1</td></tr><tr><td>12</td><td>NULL</td><td>1</td></tr><tr><td>NULL</td><td>NULL</td><td>551</td></tr></table>"
                    },
                    "metadata": {}
                }
            ],
            "execution_count": 9
        }
    ]
}