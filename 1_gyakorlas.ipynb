{
    "metadata": {
        "kernelspec": {
            "name": "SQL",
            "display_name": "SQL",
            "language": "sql"
        },
        "language_info": {
            "name": "sql",
            "version": ""
        },
        "extensions": {
            "azuredatastudio": {
                "version": 1,
                "views": []
            }
        }
    },
    "nbformat_minor": 2,
    "nbformat": 4,
    "cells": [
        {
            "cell_type": "markdown",
            "source": [
                "1. Listázzuk a <span style=\"color: #800000;\">`kolcsonzes`</span> tábla következő oszlopait: ID, ki\\_datum, vissza\\_datum! \n",
                "\n",
                "  \n",
                "\n",
                "a.  Az ID oszlop neve legyen Azonosító\n",
                "\n",
                "b.  A ki\\_datum oszlop neve legyen Kölcsönzés\\_dátuma\n",
                "\n",
                "c.  A vissza\\_datum oszlop neve legyen Visszahozatal\\_dátuma"
            ],
            "metadata": {
                "azdata_cell_guid": "77f2d5b3-38e9-41cc-893f-f5afd02b97ef"
            },
            "attachments": {}
        },
        {
            "cell_type": "code",
            "source": [
                "SELECT ID AS \"Azonosito\",\r\n",
                "        ki_datum AS \"Kolcsonzes datuma\",\r\n",
                "        vissza_datum AS \"Visszahozatal datuma\"\r\n",
                "FROM kolcsonzesek\r\n",
                ""
            ],
            "metadata": {
                "azdata_cell_guid": "bd3cef1a-4e6e-4ece-9dc3-aaa9d2b5d66d",
                "language": "sql",
                "tags": []
            },
            "outputs": [
                {
                    "output_type": "display_data",
                    "data": {
                        "text/html": "(5 rows affected)"
                    },
                    "metadata": {}
                },
                {
                    "output_type": "display_data",
                    "data": {
                        "text/html": "Total execution time: 00:00:00.066"
                    },
                    "metadata": {}
                },
                {
                    "output_type": "execute_result",
                    "metadata": {},
                    "execution_count": 1,
                    "data": {
                        "application/vnd.dataresource+json": {
                            "schema": {
                                "fields": [
                                    {
                                        "name": "Azonosito"
                                    },
                                    {
                                        "name": "Kolcsonzes datuma"
                                    },
                                    {
                                        "name": "Visszahozatal datuma"
                                    }
                                ]
                            },
                            "data": [
                                {
                                    "Azonosito": "10",
                                    "Kolcsonzes datuma": "2003-12-11",
                                    "Visszahozatal datuma": "NULL"
                                },
                                {
                                    "Azonosito": "11",
                                    "Kolcsonzes datuma": "2003-12-11",
                                    "Visszahozatal datuma": "NULL"
                                },
                                {
                                    "Azonosito": "12",
                                    "Kolcsonzes datuma": "2003-12-11",
                                    "Visszahozatal datuma": "NULL"
                                },
                                {
                                    "Azonosito": "13",
                                    "Kolcsonzes datuma": "2006-10-01",
                                    "Visszahozatal datuma": "2006-10-10"
                                },
                                {
                                    "Azonosito": "14",
                                    "Kolcsonzes datuma": "2006-10-02",
                                    "Visszahozatal datuma": "2006-10-09"
                                }
                            ]
                        },
                        "text/html": [
                            "<table>",
                            "<tr><th>Azonosito</th><th>Kolcsonzes datuma</th><th>Visszahozatal datuma</th></tr>",
                            "<tr><td>10</td><td>2003-12-11</td><td>NULL</td></tr>",
                            "<tr><td>11</td><td>2003-12-11</td><td>NULL</td></tr>",
                            "<tr><td>12</td><td>2003-12-11</td><td>NULL</td></tr>",
                            "<tr><td>13</td><td>2006-10-01</td><td>2006-10-10</td></tr>",
                            "<tr><td>14</td><td>2006-10-02</td><td>2006-10-09</td></tr>",
                            "</table>"
                        ]
                    }
                }
            ],
            "execution_count": 1
        },
        {
            "cell_type": "markdown",
            "source": [
                "2. Melyek azok a kölcsönzések, amelyek 2005.01.01 és 2007.01.01 között történtek?"
            ],
            "metadata": {
                "azdata_cell_guid": "88f5b4bb-f4c1-4bad-a0c7-b2592687b422"
            },
            "attachments": {}
        },
        {
            "cell_type": "code",
            "source": [
                "SELECT *\r\n",
                "FROM kolcsonzesek\r\n",
                "WHERE ki_datum  BETWEEN '2005.01.01' AND '2007.01.01'"
            ],
            "metadata": {
                "azdata_cell_guid": "e9de5726-f036-4fb9-8c33-a873955ed886",
                "language": "sql",
                "tags": []
            },
            "outputs": [
                {
                    "output_type": "display_data",
                    "data": {
                        "text/html": "(2 rows affected)"
                    },
                    "metadata": {}
                },
                {
                    "output_type": "display_data",
                    "data": {
                        "text/html": "Total execution time: 00:00:00.015"
                    },
                    "metadata": {}
                },
                {
                    "output_type": "execute_result",
                    "metadata": {},
                    "execution_count": 32,
                    "data": {
                        "application/vnd.dataresource+json": {
                            "schema": {
                                "fields": [
                                    {
                                        "name": "ID"
                                    },
                                    {
                                        "name": "ki"
                                    },
                                    {
                                        "name": "mit"
                                    },
                                    {
                                        "name": "ki_datum"
                                    },
                                    {
                                        "name": "vissza_datum"
                                    }
                                ]
                            },
                            "data": [
                                {
                                    "ID": "13",
                                    "ki": "1",
                                    "mit": "3",
                                    "ki_datum": "2006-10-01",
                                    "vissza_datum": "2006-10-10"
                                },
                                {
                                    "ID": "14",
                                    "ki": "2",
                                    "mit": "3",
                                    "ki_datum": "2006-10-02",
                                    "vissza_datum": "2006-10-09"
                                }
                            ]
                        },
                        "text/html": [
                            "<table>",
                            "<tr><th>ID</th><th>ki</th><th>mit</th><th>ki_datum</th><th>vissza_datum</th></tr>",
                            "<tr><td>13</td><td>1</td><td>3</td><td>2006-10-01</td><td>2006-10-10</td></tr>",
                            "<tr><td>14</td><td>2</td><td>3</td><td>2006-10-02</td><td>2006-10-09</td></tr>",
                            "</table>"
                        ]
                    }
                }
            ],
            "execution_count": 32
        },
        {
            "cell_type": "code",
            "source": [
                "--PROBA\r\n",
                ""
            ],
            "metadata": {
                "azdata_cell_guid": "8babc565-0139-4fc2-af2d-a93acc5e5b94",
                "language": "sql",
                "tags": []
            },
            "outputs": [
                {
                    "output_type": "display_data",
                    "data": {
                        "text/html": "(1 row affected)"
                    },
                    "metadata": {}
                },
                {
                    "output_type": "display_data",
                    "data": {
                        "text/html": "Total execution time: 00:00:00.009"
                    },
                    "metadata": {}
                },
                {
                    "output_type": "execute_result",
                    "metadata": {},
                    "execution_count": 31,
                    "data": {
                        "application/vnd.dataresource+json": {
                            "schema": {
                                "fields": [
                                    {
                                        "name": "(No column name)"
                                    }
                                ]
                            },
                            "data": [
                                {
                                    "(No column name)": "21"
                                }
                            ]
                        },
                        "text/html": [
                            "<table>",
                            "<tr><th>(No column name)</th></tr>",
                            "<tr><td>21</td></tr>",
                            "</table>"
                        ]
                    }
                }
            ],
            "execution_count": 31
        },
        {
            "cell_type": "markdown",
            "source": [
                "3. Melyek azok a tagok, akiknek kedvenc stílusa a játék, és nevük a-ra végződik?\n",
                "\n",
                "  \n",
                "\n",
                "a.  Csak a tagok neve jelenjen meg, az oszlop neve Név legyen"
            ],
            "metadata": {
                "azdata_cell_guid": "9e7249de-1b59-43d8-84b1-26fa7d81fc5a"
            },
            "attachments": {}
        },
        {
            "cell_type": "code",
            "source": [
                "SELECT nev as 'NÉV'\r\n",
                "FROM tagok\r\n",
                "WHERE RIGHT(nev, 1) = 'a' AND kedvencstilus = 'játék'"
            ],
            "metadata": {
                "azdata_cell_guid": "6405d3e8-a9b1-45d7-aa76-3b1e785ef6cc",
                "language": "sql",
                "tags": []
            },
            "outputs": [
                {
                    "output_type": "display_data",
                    "data": {
                        "text/html": "(2 rows affected)"
                    },
                    "metadata": {}
                },
                {
                    "output_type": "display_data",
                    "data": {
                        "text/html": "Total execution time: 00:00:00.016"
                    },
                    "metadata": {}
                },
                {
                    "output_type": "execute_result",
                    "metadata": {},
                    "execution_count": 40,
                    "data": {
                        "application/vnd.dataresource+json": {
                            "schema": {
                                "fields": [
                                    {
                                        "name": "NÉV"
                                    }
                                ]
                            },
                            "data": [
                                {
                                    "NÉV": "Bodó Kinga"
                                },
                                {
                                    "NÉV": "Garay Magdolna"
                                }
                            ]
                        },
                        "text/html": [
                            "<table>",
                            "<tr><th>NÉV</th></tr>",
                            "<tr><td>Bodó Kinga</td></tr>",
                            "<tr><td>Garay Magdolna</td></tr>",
                            "</table>"
                        ]
                    }
                }
            ],
            "execution_count": 40
        },
        {
            "cell_type": "markdown",
            "source": [
                "4. Listázzuk egy oszlopban a tagok nevét, címét és kedvenc stílusát összefűzve! \n",
                "\n",
                "  \n",
                "\n",
                "a.  A nevet, címet és a stílust kötőjellel válasszuk el\n",
                "\n",
                "b.  A kötőjelek előtt és után legyen 1-1 szóköz\n",
                "\n",
                "c.  Az oszlop neve legyen TAG\n",
                "\n",
                "d.  Kinga keresztnevű tagok ne legyenek benne a listában"
            ],
            "metadata": {
                "azdata_cell_guid": "6478e469-c094-472c-a772-ccd5b5c61516"
            },
            "attachments": {}
        },
        {
            "cell_type": "code",
            "source": [
                "SELECT nev + ' - ' + cim + ' - ' + kedvencstilus  AS 'TAG'\r\n",
                "FROM tagok\r\n",
                "WHERE RIGHT(nev, 5) <>'Kinga'"
            ],
            "metadata": {
                "azdata_cell_guid": "02031ea2-3838-458d-839c-228e3b362b61",
                "language": "sql",
                "tags": []
            },
            "outputs": [
                {
                    "output_type": "display_data",
                    "data": {
                        "text/html": "(15 rows affected)"
                    },
                    "metadata": {}
                },
                {
                    "output_type": "display_data",
                    "data": {
                        "text/html": "Total execution time: 00:00:00.024"
                    },
                    "metadata": {}
                },
                {
                    "output_type": "execute_result",
                    "metadata": {},
                    "execution_count": 44,
                    "data": {
                        "application/vnd.dataresource+json": {
                            "schema": {
                                "fields": [
                                    {
                                        "name": "TAG"
                                    }
                                ]
                            },
                            "data": [
                                {
                                    "TAG": "Bakk Csaba József - Ulászló u. 22. - játék"
                                },
                                {
                                    "TAG": "Kollár Zsófia - Tenkes u. 7/a I/4. - történelem"
                                },
                                {
                                    "TAG": "Mohai Mónika - Pasaréti út 23. - történelem"
                                },
                                {
                                    "TAG": "Ivicsics Miklós - Mészöly u. 4.  - sport"
                                },
                                {
                                    "TAG": "Braiwish Dalal-Brigitte - Kosztolányi tér 7. - földrajz"
                                },
                                {
                                    "TAG": "Hajnáczky Gábor - Kende u. 14. - történelem"
                                },
                                {
                                    "TAG": "Lázár Gergely - Halom u. 15. - játék"
                                },
                                {
                                    "TAG": "Göttinger Pál - Forrás tér 14. - sport"
                                },
                                {
                                    "TAG": "Bernáth Margit - Felsővár u. 55/c - történelem"
                                },
                                {
                                    "TAG": "Garay Magdolna - Bartók B. út 66. - játék"
                                },
                                {
                                    "TAG": "Ligeti Orsolya - Bartók B. u. 61. I/6. - sport"
                                },
                                {
                                    "TAG": "Király Róbert - Bajcsy Zs. u. 19/b - földrajz"
                                },
                                {
                                    "TAG": "Burai-Kovács Anikó - Bajcsy u. 1. - sport"
                                },
                                {
                                    "TAG": "Czimmermann Zsolt - Árpád u. 3. - földrajz"
                                },
                                {
                                    "TAG": "Boronkay Péter - Ábel Jenő  u. 31. - földrajz"
                                }
                            ]
                        },
                        "text/html": [
                            "<table>",
                            "<tr><th>TAG</th></tr>",
                            "<tr><td>Bakk Csaba József - Ulászló u. 22. - játék</td></tr>",
                            "<tr><td>Kollár Zsófia - Tenkes u. 7/a I/4. - történelem</td></tr>",
                            "<tr><td>Mohai Mónika - Pasaréti út 23. - történelem</td></tr>",
                            "<tr><td>Ivicsics Miklós - Mészöly u. 4.  - sport</td></tr>",
                            "<tr><td>Braiwish Dalal-Brigitte - Kosztolányi tér 7. - földrajz</td></tr>",
                            "<tr><td>Hajnáczky Gábor - Kende u. 14. - történelem</td></tr>",
                            "<tr><td>Lázár Gergely - Halom u. 15. - játék</td></tr>",
                            "<tr><td>Göttinger Pál - Forrás tér 14. - sport</td></tr>",
                            "<tr><td>Bernáth Margit - Felsővár u. 55/c - történelem</td></tr>",
                            "<tr><td>Garay Magdolna - Bartók B. út 66. - játék</td></tr>",
                            "<tr><td>Ligeti Orsolya - Bartók B. u. 61. I/6. - sport</td></tr>",
                            "<tr><td>Király Róbert - Bajcsy Zs. u. 19/b - földrajz</td></tr>",
                            "<tr><td>Burai-Kovács Anikó - Bajcsy u. 1. - sport</td></tr>",
                            "<tr><td>Czimmermann Zsolt - Árpád u. 3. - földrajz</td></tr>",
                            "<tr><td>Boronkay Péter - Ábel Jenő  u. 31. - földrajz</td></tr>",
                            "</table>"
                        ]
                    }
                }
            ],
            "execution_count": 44
        },
        {
            "cell_type": "markdown",
            "source": [
                "5. Mennyi lenne a dvd-k nettó ára, ha 20%-kal csökkenne? \n",
                "\n",
                "  \n",
                "\n",
                "a.  Csak a dvd-k címét és a csökkentett árat jelenítsük meg\n",
                "\n",
                "b.  A csökkentett árat nevezzük el diszkont\\_ar-nak"
            ],
            "metadata": {
                "azdata_cell_guid": "9edbbaf9-c276-4898-9a01-e1b2993c089f"
            },
            "attachments": {}
        },
        {
            "cell_type": "code",
            "source": [
                "SELECT cim, nettoar, (nettoar*0.8) AS 'diszkont_ar'\r\n",
                "FROM dvd"
            ],
            "metadata": {
                "azdata_cell_guid": "5ad5fdcb-2878-4111-861a-833bcd50e935",
                "language": "sql"
            },
            "outputs": [
                {
                    "output_type": "display_data",
                    "data": {
                        "text/html": "(318 rows affected)"
                    },
                    "metadata": {}
                },
                {
                    "output_type": "display_data",
                    "data": {
                        "text/html": "Total execution time: 00:00:00.025"
                    },
                    "metadata": {}
                },
                {
                    "output_type": "execute_result",
                    "metadata": {},
                    "execution_count": 50,
                    "data": {
                        "application/vnd.dataresource+json": {
                            "schema": {
                                "fields": [
                                    {
                                        "name": "cim"
                                    },
                                    {
                                        "name": "nettoar"
                                    },
                                    {
                                        "name": "diszkont_ar"
                                    }
                                ]
                            },
                            "data": [
                                {
                                    "cim": "NULL",
                                    "nettoar": "3859",
                                    "diszkont_ar": "3087,2000000000003"
                                },
                                {
                                    "cim": "A II. világháború története (1999)",
                                    "nettoar": "4244",
                                    "diszkont_ar": "3395,2000000000003"
                                },
                                {
                                    "cim": "3D Dinosaur - adventure",
                                    "nettoar": "5041",
                                    "diszkont_ar": "4032,8"
                                },
                                {
                                    "cim": "3D virtuális origami (2000)",
                                    "nettoar": "5355",
                                    "diszkont_ar": "4284"
                                },
                                {
                                    "cim": "Az 1848-1849-iki szabadságharc története (2002)",
                                    "nettoar": "5700",
                                    "diszkont_ar": "4560"
                                },
                                {
                                    "cim": "Ablak zsiráf (1999)",
                                    "nettoar": "3540",
                                    "diszkont_ar": "2832"
                                },
                                {
                                    "cim": "Ady Endre összes művei (1999)",
                                    "nettoar": "4241",
                                    "diszkont_ar": "3392,8"
                                },
                                {
                                    "cim": "Afrika",
                                    "nettoar": "5318",
                                    "diszkont_ar": "4254,400000000001"
                                },
                                {
                                    "cim": "Age of Empires (2000)",
                                    "nettoar": "4482",
                                    "diszkont_ar": "3585,6000000000004"
                                },
                                {
                                    "cim": "Airport Inc.",
                                    "nettoar": "4311",
                                    "diszkont_ar": "3448,8"
                                },
                                {
                                    "cim": "American Rodeo : BullRider 2000 (2001)",
                                    "nettoar": "5591",
                                    "diszkont_ar": "4472,8"
                                },
                                {
                                    "cim": "Angol : 8-10 éveseknek (2002)",
                                    "nettoar": "4853",
                                    "diszkont_ar": "3882,4"
                                },
                                {
                                    "cim": "Angol és német nyelvtani gyakorlatok (2002)",
                                    "nettoar": "4906",
                                    "diszkont_ar": "3924,8"
                                },
                                {
                                    "cim": "Angol szótanító CD-ROM",
                                    "nettoar": "4449",
                                    "diszkont_ar": "3559,2000000000003"
                                },
                                {
                                    "cim": "Angol szótanító CD-ROM",
                                    "nettoar": "4444",
                                    "diszkont_ar": "3555,2000000000003"
                                },
                                {
                                    "cim": "Angol szótár (1996)",
                                    "nettoar": "3509",
                                    "diszkont_ar": "2807,2000000000003"
                                },
                                {
                                    "cim": "Angol-magyar, Magyar-angol hangosszótár",
                                    "nettoar": "5151",
                                    "diszkont_ar": "4120,8"
                                },
                                {
                                    "cim": "Angol-magyar nagyszótár (Halász Előd)",
                                    "nettoar": "5638",
                                    "diszkont_ar": "4510,400000000001"
                                },
                                {
                                    "cim": "Az áramvonalas fakanál",
                                    "nettoar": "5706",
                                    "diszkont_ar": "4564,8"
                                },
                                {
                                    "cim": "Arany János: A bajusz (2002)",
                                    "nettoar": "3391",
                                    "diszkont_ar": "2712,8"
                                },
                                {
                                    "cim": "Az Árpád-ház története",
                                    "nettoar": "5022",
                                    "diszkont_ar": "4017,6000000000004"
                                },
                                {
                                    "cim": "Art Attack (1998)",
                                    "nettoar": "3914",
                                    "diszkont_ar": "3131,2000000000003"
                                },
                                {
                                    "cim": "Art puzzle (1998)",
                                    "nettoar": "5786",
                                    "diszkont_ar": "4628,8"
                                },
                                {
                                    "cim": "Az ásványok világa",
                                    "nettoar": "5624",
                                    "diszkont_ar": "4499,2"
                                },
                                {
                                    "cim": "Ausztrália",
                                    "nettoar": "5326",
                                    "diszkont_ar": "4260,8"
                                },
                                {
                                    "cim": "Auto 2000 - Kerékvilág",
                                    "nettoar": "4463",
                                    "diszkont_ar": "3570,4"
                                },
                                {
                                    "cim": "Ázsia (2000)",
                                    "nettoar": "3123",
                                    "diszkont_ar": "2498,4"
                                },
                                {
                                    "cim": "Biblia (1995)",
                                    "nettoar": "4440",
                                    "diszkont_ar": "3552"
                                },
                                {
                                    "cim": "Biológia '97",
                                    "nettoar": "5543",
                                    "diszkont_ar": "4434,400000000001"
                                },
                                {
                                    "cim": "Biológia (2000)",
                                    "nettoar": "3819",
                                    "diszkont_ar": "3055,2000000000003"
                                },
                                {
                                    "cim": "Biológia (2001)",
                                    "nettoar": "3792",
                                    "diszkont_ar": "3033,6000000000004"
                                },
                                {
                                    "cim": "Biológia : 12-14 éveseknek (2003)",
                                    "nettoar": "3482",
                                    "diszkont_ar": "2785,6000000000004"
                                },
                                {
                                    "cim": "Blinky Bill : A fantasztikus léggömbkaland",
                                    "nettoar": "4076",
                                    "diszkont_ar": "3260,8"
                                },
                                {
                                    "cim": "Broken Sword II. (cop. 1997)",
                                    "nettoar": "4502",
                                    "diszkont_ar": "3601,6000000000004"
                                },
                                {
                                    "cim": "Budapest kalauz",
                                    "nettoar": "4054",
                                    "diszkont_ar": "3243,2000000000003"
                                },
                                {
                                    "cim": "Budapest Museum",
                                    "nettoar": "5292",
                                    "diszkont_ar": "4233,6"
                                },
                                {
                                    "cim": "Buggy",
                                    "nettoar": "5830",
                                    "diszkont_ar": "4664"
                                },
                                {
                                    "cim": "Byte Magyarország (2002)",
                                    "nettoar": "3277",
                                    "diszkont_ar": "2621,6000000000004"
                                },
                                {
                                    "cim": "Caesar III.",
                                    "nettoar": "4136",
                                    "diszkont_ar": "3308,8"
                                },
                                {
                                    "cim": "Capitalism II. (2001)",
                                    "nettoar": "6062",
                                    "diszkont_ar": "4849,6"
                                },
                                {
                                    "cim": "Capitalism Plus",
                                    "nettoar": "5030",
                                    "diszkont_ar": "4024"
                                },
                                {
                                    "cim": "Castle Explorer",
                                    "nettoar": "3707",
                                    "diszkont_ar": "2965,6000000000004"
                                },
                                {
                                    "cim": "CD Panoráma 1-4. (1998)",
                                    "nettoar": "5422",
                                    "diszkont_ar": "4337,6"
                                },
                                {
                                    "cim": "Computer iskola (1998)",
                                    "nettoar": "5260",
                                    "diszkont_ar": "4208"
                                },
                                {
                                    "cim": "Csizmás kandúr (1998)",
                                    "nettoar": "5932",
                                    "diszkont_ar": "4745,6"
                                },
                                {
                                    "cim": "Csodálatos univerzum (1997)",
                                    "nettoar": "4087",
                                    "diszkont_ar": "3269,6000000000004"
                                },
                                {
                                    "cim": "Dél-Amerika (1999)",
                                    "nettoar": "3999",
                                    "diszkont_ar": "3199,2000000000003"
                                },
                                {
                                    "cim": "Dementia 1-5. (1997)",
                                    "nettoar": "5919",
                                    "diszkont_ar": "4735,2"
                                },
                                {
                                    "cim": "Deutsch: Anfanger (kezdő) + Telepítő ",
                                    "nettoar": "5633",
                                    "diszkont_ar": "4506,400000000001"
                                },
                                {
                                    "cim": "Deutsch: Fortgeschrittene (haladó) + Installation",
                                    "nettoar": "5784",
                                    "diszkont_ar": "4627,2"
                                },
                                {
                                    "cim": "Deutsch: Mittelstufe (középhaladó)+ Telepítő",
                                    "nettoar": "4377",
                                    "diszkont_ar": "3501,6000000000004"
                                },
                                {
                                    "cim": "Diablo",
                                    "nettoar": "5969",
                                    "diszkont_ar": "4775,2"
                                },
                                {
                                    "cim": "Diablo II. (2000)",
                                    "nettoar": "4900",
                                    "diszkont_ar": "3920"
                                },
                                {
                                    "cim": "Dicső napok és hétköznapok 1848 - Digitális forrásgyűjtemény 1.",
                                    "nettoar": "5611",
                                    "diszkont_ar": "4488,8"
                                },
                                {
                                    "cim": "Dreams to Reality 1-2. (1997)",
                                    "nettoar": "4699",
                                    "diszkont_ar": "3759,2000000000003"
                                },
                                {
                                    "cim": "Duke Nukem 3D",
                                    "nettoar": "5474",
                                    "diszkont_ar": "4379,2"
                                },
                                {
                                    "cim": "Dungeon Keeper 2. (1999)",
                                    "nettoar": "3369",
                                    "diszkont_ar": "2695,2000000000003"
                                },
                                {
                                    "cim": "E-Games : Collector's Edition (2001)",
                                    "nettoar": "5583",
                                    "diszkont_ar": "4466,400000000001"
                                },
                                {
                                    "cim": "Éléstár (1998)",
                                    "nettoar": "3258",
                                    "diszkont_ar": "2606,4"
                                },
                                {
                                    "cim": "Élet a polgárosodó Magyarországon (2001)",
                                    "nettoar": "5572",
                                    "diszkont_ar": "4457,6"
                                },
                                {
                                    "cim": "Életképek 1848 (1998)",
                                    "nettoar": "4211",
                                    "diszkont_ar": "3368,8"
                                },
                                {
                                    "cim": "Az ember tragédiája",
                                    "nettoar": "4295",
                                    "diszkont_ar": "3436"
                                },
                                {
                                    "cim": "Encarta World Atlas '99 1-2. (1998)",
                                    "nettoar": "5334",
                                    "diszkont_ar": "4267,2"
                                },
                                {
                                    "cim": "Enemy Engaged RAH-66",
                                    "nettoar": "5217",
                                    "diszkont_ar": "4173,6"
                                },
                                {
                                    "cim": "English 1-2. + Telepítő",
                                    "nettoar": "5215",
                                    "diszkont_ar": "4172"
                                },
                                {
                                    "cim": "English: Intermediate (haladó)",
                                    "nettoar": "3627",
                                    "diszkont_ar": "2901,6000000000004"
                                },
                                {
                                    "cim": "English by Stealth  lásd: Lopva angolul",
                                    "nettoar": "4478",
                                    "diszkont_ar": "3582,4"
                                },
                                {
                                    "cim": "Erdély (1996)",
                                    "nettoar": "4999",
                                    "diszkont_ar": "3999,2000000000003"
                                },
                                {
                                    "cim": "Espanol: Intermedio + Telepítő",
                                    "nettoar": "3914",
                                    "diszkont_ar": "3131,2000000000003"
                                },
                                {
                                    "cim": "Espanol: Principiante + Telepítő",
                                    "nettoar": "5882",
                                    "diszkont_ar": "4705,6"
                                },
                                {
                                    "cim": "Észak-Amerika",
                                    "nettoar": "3994",
                                    "diszkont_ar": "3195,2000000000003"
                                },
                                {
                                    "cim": "Európa",
                                    "nettoar": "5270",
                                    "diszkont_ar": "4216"
                                },
                                {
                                    "cim": "The F.A. Premier League Stars 2001",
                                    "nettoar": "3871",
                                    "diszkont_ar": "3096,8"
                                },
                                {
                                    "cim": "Felvételi példatár : Angol",
                                    "nettoar": "3876",
                                    "diszkont_ar": "3100,8"
                                },
                                {
                                    "cim": "Felvételi példatár : Biológia, földrajz",
                                    "nettoar": "3215",
                                    "diszkont_ar": "2572"
                                },
                                {
                                    "cim": "Felvételi példatár : Kémia, fizika",
                                    "nettoar": "5851",
                                    "diszkont_ar": "4680,8"
                                },
                                {
                                    "cim": "Felvételi példatár : Magyar nyelv és irodalom",
                                    "nettoar": "5955",
                                    "diszkont_ar": "4764"
                                },
                                {
                                    "cim": "Felvételi példatár : Matematika",
                                    "nettoar": "5009",
                                    "diszkont_ar": "4007,2000000000003"
                                },
                                {
                                    "cim": "Felvételi példatár : Német",
                                    "nettoar": "3102",
                                    "diszkont_ar": "2481,6000000000004"
                                },
                                {
                                    "cim": "FIFA, 2000 (1999)",
                                    "nettoar": "5059",
                                    "diszkont_ar": "4047,2000000000003"
                                },
                                {
                                    "cim": "Fighting Force (1998)",
                                    "nettoar": "4800",
                                    "diszkont_ar": "3840"
                                },
                                {
                                    "cim": "Final Liberation (1997)",
                                    "nettoar": "4632",
                                    "diszkont_ar": "3705,6000000000004"
                                },
                                {
                                    "cim": "Fitness mesterfokon / Béres Alexandra (2001)",
                                    "nettoar": "4607",
                                    "diszkont_ar": "3685,6000000000004"
                                },
                                {
                                    "cim": "Fizika : 12-14 éveseknek (2002)",
                                    "nettoar": "3734",
                                    "diszkont_ar": "2987,2000000000003"
                                },
                                {
                                    "cim": "Fizika felkészítő az érettségi és felvételi vizsgára",
                                    "nettoar": "4810",
                                    "diszkont_ar": "3848"
                                },
                                {
                                    "cim": "Fizika világa (2001)",
                                    "nettoar": "5763",
                                    "diszkont_ar": "4610,400000000001"
                                },
                                {
                                    "cim": "A Föld élővilága",
                                    "nettoar": "5900",
                                    "diszkont_ar": "4720"
                                },
                                {
                                    "cim": "Földrajz: 10-14 éveseknek (2002)",
                                    "nettoar": "3930",
                                    "diszkont_ar": "3144"
                                },
                                {
                                    "cim": "Földrajz: érettségi előkészítő (2002)",
                                    "nettoar": "3173",
                                    "diszkont_ar": "2538,4"
                                },
                                {
                                    "cim": "Francais 1-2. + Telepítő",
                                    "nettoar": "4038",
                                    "diszkont_ar": "3230,4"
                                },
                                {
                                    "cim": "Francais: Débutan (kezdő) + Telepítő",
                                    "nettoar": "3770",
                                    "diszkont_ar": "3016"
                                },
                                {
                                    "cim": "Francais: Moyen + Telepítő",
                                    "nettoar": "5619",
                                    "diszkont_ar": "4495,2"
                                },
                                {
                                    "cim": "Francia-magyar szótár",
                                    "nettoar": "3566",
                                    "diszkont_ar": "2852,8"
                                },
                                {
                                    "cim": "Funschool in Dreamland (1995)",
                                    "nettoar": "4766",
                                    "diszkont_ar": "3812,8"
                                },
                                {
                                    "cim": "Geolexikon 4.2 : földtani adatbázis (2002)",
                                    "nettoar": "4602",
                                    "diszkont_ar": "3681,6000000000004"
                                },
                                {
                                    "cim": "Gépírás 2000",
                                    "nettoar": "3936",
                                    "diszkont_ar": "3148,8"
                                },
                                {
                                    "cim": "Gondolattár: aforizmák, szállóigék",
                                    "nettoar": "5346",
                                    "diszkont_ar": "4276,8"
                                },
                                {
                                    "cim": "GTA 2",
                                    "nettoar": "5005",
                                    "diszkont_ar": "4004"
                                },
                                {
                                    "cim": "Hadiflották I. (2002)",
                                    "nettoar": "5124",
                                    "diszkont_ar": "4099,2"
                                },
                                {
                                    "cim": "Hadtudományi lexikon (1998)",
                                    "nettoar": "3515",
                                    "diszkont_ar": "2812"
                                },
                                {
                                    "cim": "Hajdúböszörmény",
                                    "nettoar": "3781",
                                    "diszkont_ar": "3024,8"
                                },
                                {
                                    "cim": "Halak, kétéltűek, hüllők",
                                    "nettoar": "4153",
                                    "diszkont_ar": "3322,4"
                                },
                                {
                                    "cim": "Half-Life (1996)",
                                    "nettoar": "5405",
                                    "diszkont_ar": "4324"
                                },
                                {
                                    "cim": "Half-Life Generation: Game of the Year Edition (2002)",
                                    "nettoar": "3705",
                                    "diszkont_ar": "2964"
                                },
                                {
                                    "cim": "Half-Life Generation: Counter Strike (2002)",
                                    "nettoar": "5744",
                                    "diszkont_ar": "4595,2"
                                },
                                {
                                    "cim": "Half-Life Generation: Blue Shift (2002)",
                                    "nettoar": "5728",
                                    "diszkont_ar": "4582,400000000001"
                                },
                                {
                                    "cim": "Harry Potter és a bölcsek köve (2001)",
                                    "nettoar": "4472",
                                    "diszkont_ar": "3577,6000000000004"
                                },
                                {
                                    "cim": "Haza és haladás",
                                    "nettoar": "3481",
                                    "diszkont_ar": "2784,8"
                                },
                                {
                                    "cim": "A hét világcsoda (2001)",
                                    "nettoar": "3162",
                                    "diszkont_ar": "2529,6000000000004"
                                },
                                {
                                    "cim": "Home Desing 3D (1998)",
                                    "nettoar": "4287",
                                    "diszkont_ar": "3429,6000000000004"
                                },
                                {
                                    "cim": "Hupikék törpikék: teletransportörp (1999)",
                                    "nettoar": "3110",
                                    "diszkont_ar": "2488"
                                },
                                {
                                    "cim": "Informatika - Internet - Iskola",
                                    "nettoar": "3733",
                                    "diszkont_ar": "2986,4"
                                },
                                {
                                    "cim": "Interaktív angol nyelvész kurzus haladó szint 1-5.",
                                    "nettoar": "4592",
                                    "diszkont_ar": "3673,6000000000004"
                                },
                                {
                                    "cim": "Interaktív angol nyelvész kurzus kezdő szint",
                                    "nettoar": "4183",
                                    "diszkont_ar": "3346,4"
                                },
                                {
                                    "cim": "Interaktív angol nyelvész kurzus középhaladó szint",
                                    "nettoar": "3115",
                                    "diszkont_ar": "2492"
                                },
                                {
                                    "cim": "Interaktív magyar nyelvtan",
                                    "nettoar": "4779",
                                    "diszkont_ar": "3823,2000000000003"
                                },
                                {
                                    "cim": "International Rally Championship",
                                    "nettoar": "3890",
                                    "diszkont_ar": "3112"
                                },
                                {
                                    "cim": "Internet (1996)",
                                    "nettoar": "4934",
                                    "diszkont_ar": "3947,2000000000003"
                                },
                                {
                                    "cim": "Introduction to Archeology",
                                    "nettoar": "3773",
                                    "diszkont_ar": "3018,4"
                                },
                                {
                                    "cim": "Investigating 20th Century Art (1994)",
                                    "nettoar": "4394",
                                    "diszkont_ar": "3515,2000000000003"
                                },
                                {
                                    "cim": "Az ipari forradalom kora (2000)",
                                    "nettoar": "5082",
                                    "diszkont_ar": "4065,6000000000004"
                                },
                                {
                                    "cim": "Irodalmi arcképcsarnok",
                                    "nettoar": "3866",
                                    "diszkont_ar": "3092,8"
                                },
                                {
                                    "cim": "Irodalom  felkészítő az érettségi és felvételi vizsgára",
                                    "nettoar": "5654",
                                    "diszkont_ar": "4523,2"
                                },
                                {
                                    "cim": "Irodalom (1998)",
                                    "nettoar": "5625",
                                    "diszkont_ar": "4500"
                                },
                                {
                                    "cim": "Italiano (1998) + Installation",
                                    "nettoar": "5436",
                                    "diszkont_ar": "4348,8"
                                },
                                {
                                    "cim": "Italiano 1-2. (1998) + Installation",
                                    "nettoar": "6082",
                                    "diszkont_ar": "4865,6"
                                },
                                {
                                    "cim": "Italiano 1-2. (1998) + Installation",
                                    "nettoar": "3419",
                                    "diszkont_ar": "2735,2000000000003"
                                },
                                {
                                    "cim": "Jancsó",
                                    "nettoar": "4204",
                                    "diszkont_ar": "3363,2000000000003"
                                },
                                {
                                    "cim": "Japán : képes kulturális atlasz (2001)",
                                    "nettoar": "4459",
                                    "diszkont_ar": "3567,2000000000003"
                                },
                                {
                                    "cim": "Játékfilmek 1963-tól napjainkig",
                                    "nettoar": "3138",
                                    "diszkont_ar": "2510,4"
                                },
                                {
                                    "cim": "Játszóház (1998)",
                                    "nettoar": "5299",
                                    "diszkont_ar": "4239,2"
                                },
                                {
                                    "cim": "Jókai összes művei (2001)",
                                    "nettoar": "4768",
                                    "diszkont_ar": "3814,4"
                                },
                                {
                                    "cim": "József Attila (1998)",
                                    "nettoar": "3870",
                                    "diszkont_ar": "3096"
                                },
                                {
                                    "cim": "A jövő titkai - Interaktív horoszkóp (1998)",
                                    "nettoar": "6072",
                                    "diszkont_ar": "4857,6"
                                },
                                {
                                    "cim": "Kártyaváros",
                                    "nettoar": "3107",
                                    "diszkont_ar": "2485,6000000000004"
                                },
                                {
                                    "cim": "Kémia Kalauz 2.",
                                    "nettoar": "5094",
                                    "diszkont_ar": "4075,2000000000003"
                                },
                                {
                                    "cim": "A kémkedés és a hírszerzés története (2002)",
                                    "nettoar": "5845",
                                    "diszkont_ar": "4676"
                                },
                                {
                                    "cim": "Képes krónika (1996)",
                                    "nettoar": "3931",
                                    "diszkont_ar": "3144,8"
                                },
                                {
                                    "cim": "Képtárak (1995)",
                                    "nettoar": "5408",
                                    "diszkont_ar": "4326,400000000001"
                                },
                                {
                                    "cim": "Kereszt és félhold",
                                    "nettoar": "4302",
                                    "diszkont_ar": "3441,6000000000004"
                                },
                                {
                                    "cim": "Kétfejű sas: A Habsburg-uralom Magyarországon (1699-1790)",
                                    "nettoar": "5459",
                                    "diszkont_ar": "4367,2"
                                },
                                {
                                    "cim": "Kettős kötődés: Az Osztrák-Magyar Monarchia (1867-1918)",
                                    "nettoar": "4829",
                                    "diszkont_ar": "3863,2000000000003"
                                },
                                {
                                    "cim": "Kínai falatok",
                                    "nettoar": "4550",
                                    "diszkont_ar": "3640"
                                },
                                {
                                    "cim": "Királyi könyvek 1-9. kötet",
                                    "nettoar": "3256",
                                    "diszkont_ar": "2604,8"
                                },
                                {
                                    "cim": "Királyi könyvek 18-26. kötet",
                                    "nettoar": "5507",
                                    "diszkont_ar": "4405,6"
                                },
                                {
                                    "cim": "Királyi könyvek 27-38. kötet : 1703-1740 (2002)",
                                    "nettoar": "5476",
                                    "diszkont_ar": "4380,8"
                                },
                                {
                                    "cim": "Kispál és a borz (1998)",
                                    "nettoar": "5730",
                                    "diszkont_ar": "4584"
                                },
                                {
                                    "cim": "Kossuth Lajos összes munkái (2002)",
                                    "nettoar": "4589",
                                    "diszkont_ar": "3671,2000000000003"
                                },
                                {
                                    "cim": "Környezetvédelmi kalauz (1999)",
                                    "nettoar": "5508",
                                    "diszkont_ar": "4406,400000000001"
                                },
                                {
                                    "cim": "Kötelező olvasmányok könyvtára 1. (2002)",
                                    "nettoar": "3594",
                                    "diszkont_ar": "2875,2000000000003"
                                },
                                {
                                    "cim": "A kőszívű ember fiai - Egri csillagok",
                                    "nettoar": "5538",
                                    "diszkont_ar": "4430,400000000001"
                                },
                                {
                                    "cim": "A kutyák: A család kedvencei",
                                    "nettoar": "4963",
                                    "diszkont_ar": "3970,4"
                                },
                                {
                                    "cim": "Kutyatár",
                                    "nettoar": "5235",
                                    "diszkont_ar": "4188"
                                },
                                {
                                    "cim": "KvízIQ : A hét világcsoda (2001)",
                                    "nettoar": "3451",
                                    "diszkont_ar": "2760,8"
                                },
                                {
                                    "cim": "Lakáskultúra 2000 (2000)",
                                    "nettoar": "5847",
                                    "diszkont_ar": "4677,6"
                                },
                                {
                                    "cim": "Lakáskultúra 1999 (1999)",
                                    "nettoar": "5414",
                                    "diszkont_ar": "4331,2"
                                },
                                {
                                    "cim": "Lakáskultúra 1998 (1998)",
                                    "nettoar": "5491",
                                    "diszkont_ar": "4392,8"
                                },
                                {
                                    "cim": "Lakáskultúra 1997 (1997)",
                                    "nettoar": "3419",
                                    "diszkont_ar": "2735,2000000000003"
                                },
                                {
                                    "cim": "Lakáskultúra 1996 (1996)",
                                    "nettoar": "4209",
                                    "diszkont_ar": "3367,2000000000003"
                                },
                                {
                                    "cim": "Lands of Lore II. 1-4. (1997)",
                                    "nettoar": "4312",
                                    "diszkont_ar": "3449,6000000000004"
                                },
                                {
                                    "cim": "Landscape Design 3D (1998)",
                                    "nettoar": "4951",
                                    "diszkont_ar": "3960,8"
                                },
                                {
                                    "cim": "Legféltettebb természeti értékeink",
                                    "nettoar": "5083",
                                    "diszkont_ar": "4066,4"
                                },
                                {
                                    "cim": "Legszebb vadnövényeink",
                                    "nettoar": "4438",
                                    "diszkont_ar": "3550,4"
                                },
                                {
                                    "cim": "Leonardo da Vinci",
                                    "nettoar": "5118",
                                    "diszkont_ar": "4094,4"
                                },
                                {
                                    "cim": "Lilenthal Andor sakkjátszmái",
                                    "nettoar": "3644",
                                    "diszkont_ar": "2915,2000000000003"
                                },
                                {
                                    "cim": "Lopva angolul /English by Stealth 1.",
                                    "nettoar": "5431",
                                    "diszkont_ar": "4344,8"
                                },
                                {
                                    "cim": "Lopva angolul /English by Stealth 2.",
                                    "nettoar": "4597",
                                    "diszkont_ar": "3677,6000000000004"
                                },
                                {
                                    "cim": "Lopva angolul /English by Stealth 3.",
                                    "nettoar": "4851",
                                    "diszkont_ar": "3880,8"
                                },
                                {
                                    "cim": "Lovagkirályok (1301-1437) (1997)",
                                    "nettoar": "4368",
                                    "diszkont_ar": "3494,4"
                                },
                                {
                                    "cim": "LoveQ, SexQ : szerelmi intelligencia (2001)",
                                    "nettoar": "3626",
                                    "diszkont_ar": "2900,8"
                                },
                                {
                                    "cim": "M1 Tank (1998)",
                                    "nettoar": "5981",
                                    "diszkont_ar": "4784,8"
                                },
                                {
                                    "cim": "Mackó úr (2002)",
                                    "nettoar": "4632",
                                    "diszkont_ar": "3705,6000000000004"
                                },
                                {
                                    "cim": "Madárdalos kirándulások - Madártani oktató CD-ROM (1999)",
                                    "nettoar": "3408",
                                    "diszkont_ar": "2726,4"
                                },
                                {
                                    "cim": "Magyar bélyegek katalógusa",
                                    "nettoar": "4035",
                                    "diszkont_ar": "3228"
                                },
                                {
                                    "cim": "Magyar fontok '97",
                                    "nettoar": "3845",
                                    "diszkont_ar": "3076"
                                },
                                {
                                    "cim": "A Magyar Koronázási Jelvények",
                                    "nettoar": "4122",
                                    "diszkont_ar": "3297,6000000000004"
                                },
                                {
                                    "cim": "Magyar nyelv és irodalom",
                                    "nettoar": "4704",
                                    "diszkont_ar": "3763,2000000000003"
                                },
                                {
                                    "cim": "Magyar színházművészet a világban",
                                    "nettoar": "5158",
                                    "diszkont_ar": "4126,400000000001"
                                },
                                {
                                    "cim": "Magyarország, 1944-1956 (2001)",
                                    "nettoar": "4921",
                                    "diszkont_ar": "3936,8"
                                },
                                {
                                    "cim": "Magyarország, 1944-1956 (2001)",
                                    "nettoar": "3673",
                                    "diszkont_ar": "2938,4"
                                },
                                {
                                    "cim": "Magyarország Nemzeti Parkjai I.",
                                    "nettoar": "3348",
                                    "diszkont_ar": "2678,4"
                                },
                                {
                                    "cim": "Magyarország Nemzeti Parkjai II.",
                                    "nettoar": "3377",
                                    "diszkont_ar": "2701,6000000000004"
                                },
                                {
                                    "cim": "Magyarországi várak (1998)",
                                    "nettoar": "5459",
                                    "diszkont_ar": "4367,2"
                                },
                                {
                                    "cim": "Mahjongg Master (1998)",
                                    "nettoar": "5423",
                                    "diszkont_ar": "4338,400000000001"
                                },
                                {
                                    "cim": "Manó Angol 1.",
                                    "nettoar": "5852",
                                    "diszkont_ar": "4681,6"
                                },
                                {
                                    "cim": "Manó Angol 1. (2002)",
                                    "nettoar": "6051",
                                    "diszkont_ar": "4840,8"
                                },
                                {
                                    "cim": "Manó Angol 2.",
                                    "nettoar": "5353",
                                    "diszkont_ar": "4282,400000000001"
                                },
                                {
                                    "cim": "Manó Angol 2. (2000)",
                                    "nettoar": "6068",
                                    "diszkont_ar": "4854,400000000001"
                                },
                                {
                                    "cim": "Manó Élővilág",
                                    "nettoar": "3474",
                                    "diszkont_ar": "2779,2000000000003"
                                },
                                {
                                    "cim": "Manó Élővilág (2002)",
                                    "nettoar": "4881",
                                    "diszkont_ar": "3904,8"
                                },
                                {
                                    "cim": "Manó IQ (2001)",
                                    "nettoar": "5383",
                                    "diszkont_ar": "4306,400000000001"
                                },
                                {
                                    "cim": "Manó Kaland (2002)",
                                    "nettoar": "5967",
                                    "diszkont_ar": "4773,6"
                                },
                                {
                                    "cim": "Manó Magyarország (2002)",
                                    "nettoar": "4150",
                                    "diszkont_ar": "3320"
                                },
                                {
                                    "cim": "Manó Matek 1.",
                                    "nettoar": "5995",
                                    "diszkont_ar": "4796"
                                },
                                {
                                    "cim": "Manó Matek 1. (2002)",
                                    "nettoar": "5396",
                                    "diszkont_ar": "4316,8"
                                },
                                {
                                    "cim": "Manó Matek 2. (1999)",
                                    "nettoar": "5568",
                                    "diszkont_ar": "4454,400000000001"
                                },
                                {
                                    "cim": "Manó Matek 2. (1999)",
                                    "nettoar": "3536",
                                    "diszkont_ar": "2828,8"
                                },
                                {
                                    "cim": "Manó Matek 3.",
                                    "nettoar": "4803",
                                    "diszkont_ar": "3842,4"
                                },
                                {
                                    "cim": "Manó Muzsika",
                                    "nettoar": "4996",
                                    "diszkont_ar": "3996,8"
                                },
                                {
                                    "cim": "Manó Muzsika",
                                    "nettoar": "3391",
                                    "diszkont_ar": "2712,8"
                                },
                                {
                                    "cim": "Manó Német 2.",
                                    "nettoar": "4642",
                                    "diszkont_ar": "3713,6000000000004"
                                },
                                {
                                    "cim": "Manó Olvasás 1.",
                                    "nettoar": "5845",
                                    "diszkont_ar": "4676"
                                },
                                {
                                    "cim": "Manó Puzzle (2002)",
                                    "nettoar": "6078",
                                    "diszkont_ar": "4862,400000000001"
                                },
                                {
                                    "cim": "Matematika (1998)",
                                    "nettoar": "3105",
                                    "diszkont_ar": "2484"
                                },
                                {
                                    "cim": "Matematika felkészítő az érettségi és felvételi vizsgára",
                                    "nettoar": "4616",
                                    "diszkont_ar": "3692,8"
                                },
                                {
                                    "cim": "Matematika kalauz (1997)",
                                    "nettoar": "3315",
                                    "diszkont_ar": "2652"
                                },
                                {
                                    "cim": "Mig-29 (1998)",
                                    "nettoar": "5040",
                                    "diszkont_ar": "4032"
                                },
                                {
                                    "cim": "Mikszáth Kálmán összes művei",
                                    "nettoar": "4786",
                                    "diszkont_ar": "3828,8"
                                },
                                {
                                    "cim": "Mini Manó Tavasz",
                                    "nettoar": "4727",
                                    "diszkont_ar": "3781,6000000000004"
                                },
                                {
                                    "cim": "MoBi Mouse: A fordító egér",
                                    "nettoar": "5036",
                                    "diszkont_ar": "4028,8"
                                },
                                {
                                    "cim": "Monopoly Junior",
                                    "nettoar": "3974",
                                    "diszkont_ar": "3179,2000000000003"
                                },
                                {
                                    "cim": "Mons Sacer Pannoniae (2001)",
                                    "nettoar": "4410",
                                    "diszkont_ar": "3528"
                                },
                                {
                                    "cim": "Moving Puzzle Action Flight (2000)",
                                    "nettoar": "5477",
                                    "diszkont_ar": "4381,6"
                                },
                                {
                                    "cim": "Multimédiás Menedzsment Könyvtár 1. - Változásmenedzsment",
                                    "nettoar": "6057",
                                    "diszkont_ar": "4845,6"
                                },
                                {
                                    "cim": "Multimédiás Menedzsment Könyvtár 2. - Önszervezés",
                                    "nettoar": "3279",
                                    "diszkont_ar": "2623,2000000000003"
                                },
                                {
                                    "cim": "Musique! (1997)",
                                    "nettoar": "5336",
                                    "diszkont_ar": "4268,8"
                                },
                                {
                                    "cim": "Művészet és mesterség",
                                    "nettoar": "6098",
                                    "diszkont_ar": "4878,400000000001"
                                },
                                {
                                    "cim": "Művészet és művészek (2002)",
                                    "nettoar": "3490",
                                    "diszkont_ar": "2792"
                                },
                                {
                                    "cim": "Nagy képes világtörténet (Matczáli Henrik) (1998)",
                                    "nettoar": "4387",
                                    "diszkont_ar": "3509,6000000000004"
                                },
                                {
                                    "cim": "Nagy vicc tár",
                                    "nettoar": "5573",
                                    "diszkont_ar": "4458,400000000001"
                                },
                                {
                                    "cim": "A Nagybányai Festőiskola (1998)",
                                    "nettoar": "4877",
                                    "diszkont_ar": "3901,6000000000004"
                                },
                                {
                                    "cim": "NASA 1.",
                                    "nettoar": "5968",
                                    "diszkont_ar": "4774,400000000001"
                                },
                                {
                                    "cim": "NASA 2.",
                                    "nettoar": "4147",
                                    "diszkont_ar": "3317,6000000000004"
                                },
                                {
                                    "cim": "Na, So Was? - Minden helyzetben otthonosan",
                                    "nettoar": "3600",
                                    "diszkont_ar": "2880"
                                },
                                {
                                    "cim": "Német : 8-10 éveseknek (2002)",
                                    "nettoar": "3754",
                                    "diszkont_ar": "3003,2000000000003"
                                },
                                {
                                    "cim": "Német szótanító CD-ROM",
                                    "nettoar": "3313",
                                    "diszkont_ar": "2650,4"
                                },
                                {
                                    "cim": "Németh László összes műve",
                                    "nettoar": "4497",
                                    "diszkont_ar": "3597,6000000000004"
                                },
                                {
                                    "cim": "New York : a tragédiák városa (2001)",
                                    "nettoar": "3723",
                                    "diszkont_ar": "2978,4"
                                },
                                {
                                    "cim": "NHL 2001",
                                    "nettoar": "5242",
                                    "diszkont_ar": "4193,6"
                                },
                                {
                                    "cim": "Nincs királyi út - A matematika kultúrtörténete",
                                    "nettoar": "4353",
                                    "diszkont_ar": "3482,4"
                                },
                                {
                                    "cim": "Nyelvész : Angol és német haladóknak (1997)",
                                    "nettoar": "3522",
                                    "diszkont_ar": "2817,6000000000004"
                                },
                                {
                                    "cim": "Nyelvtan összefoglaló : érettségi előkészítő (2002)",
                                    "nettoar": "3688",
                                    "diszkont_ar": "2950,4"
                                },
                                {
                                    "cim": "Az óceán világa - Maldiv szigetek (2000)",
                                    "nettoar": "5833",
                                    "diszkont_ar": "4666,400000000001"
                                },
                                {
                                    "cim": "Ókori lexikon",
                                    "nettoar": "3122",
                                    "diszkont_ar": "2497,6000000000004"
                                },
                                {
                                    "cim": "Olasz-magyar, magyar-olasz digitális szótár",
                                    "nettoar": "4107",
                                    "diszkont_ar": "3285,6000000000004"
                                },
                                {
                                    "cim": "Olasz szótanító CD-ROM",
                                    "nettoar": "5108",
                                    "diszkont_ar": "4086,4"
                                },
                                {
                                    "cim": "Orosz (1998)",
                                    "nettoar": "6009",
                                    "diszkont_ar": "4807,2"
                                },
                                {
                                    "cim": "Orosz-magyar nagyszótár",
                                    "nettoar": "4666",
                                    "diszkont_ar": "3732,8"
                                },
                                {
                                    "cim": "Az Országos Széchényi Könyvtár corvinái, 2002 (2002)",
                                    "nettoar": "4753",
                                    "diszkont_ar": "3802,4"
                                },
                                {
                                    "cim": "Az Osztrák-Magyar Monarchia írásban és képekben (2001)",
                                    "nettoar": "4359",
                                    "diszkont_ar": "3487,2000000000003"
                                },
                                {
                                    "cim": "Paddle Bash (2001)",
                                    "nettoar": "3937",
                                    "diszkont_ar": "3149,6000000000004"
                                },
                                {
                                    "cim": "Pannon Enciklopédia (1998)",
                                    "nettoar": "4606",
                                    "diszkont_ar": "3684,8"
                                },
                                {
                                    "cim": "Pannonhalmi Főapátság (2001)",
                                    "nettoar": "5817",
                                    "diszkont_ar": "4653,6"
                                },
                                {
                                    "cim": "Panzer General III: Scorched Earth (2000)",
                                    "nettoar": "6058",
                                    "diszkont_ar": "4846,400000000001"
                                },
                                {
                                    "cim": "People's General (1998)",
                                    "nettoar": "5623",
                                    "diszkont_ar": "4498,400000000001"
                                },
                                {
                                    "cim": "Petőfi Sándor: Arany Lacinak (2002)",
                                    "nettoar": "5488",
                                    "diszkont_ar": "4390,400000000001"
                                },
                                {
                                    "cim": "Petőfi Sándor összes költeményei",
                                    "nettoar": "3782",
                                    "diszkont_ar": "3025,6000000000004"
                                },
                                {
                                    "cim": "Plane Crazy",
                                    "nettoar": "5011",
                                    "diszkont_ar": "4008,8"
                                },
                                {
                                    "cim": "Quake III. (2001)",
                                    "nettoar": "3144",
                                    "diszkont_ar": "2515,2000000000003"
                                },
                                {
                                    "cim": "Rákóczi-szabadságharc",
                                    "nettoar": "4778",
                                    "diszkont_ar": "3822,4"
                                },
                                {
                                    "cim": "Rally Championship",
                                    "nettoar": "3106",
                                    "diszkont_ar": "2484,8"
                                },
                                {
                                    "cim": "Rayman: Matek és olvasás",
                                    "nettoar": "4484",
                                    "diszkont_ar": "3587,2000000000003"
                                },
                                {
                                    "cim": "Re-Volt (1999)",
                                    "nettoar": "3989",
                                    "diszkont_ar": "3191,2000000000003"
                                },
                                {
                                    "cim": "The Settlers III. 1-2. (1998)",
                                    "nettoar": "4267",
                                    "diszkont_ar": "3413,6000000000004"
                                },
                                {
                                    "cim": "The Settlers IV. (2001)",
                                    "nettoar": "4143",
                                    "diszkont_ar": "3314,4"
                                },
                                {
                                    "cim": "Shanghai (1997)",
                                    "nettoar": "5900",
                                    "diszkont_ar": "4720"
                                },
                                {
                                    "cim": "The Sims",
                                    "nettoar": "4043",
                                    "diszkont_ar": "3234,4"
                                },
                                {
                                    "cim": "Sonic Racer",
                                    "nettoar": "3450",
                                    "diszkont_ar": "2760"
                                },
                                {
                                    "cim": "Spanyol (1997)",
                                    "nettoar": "3775",
                                    "diszkont_ar": "3020"
                                },
                                {
                                    "cim": "Spanyol-magyar szótár",
                                    "nettoar": "5734",
                                    "diszkont_ar": "4587,2"
                                },
                                {
                                    "cim": "Star Wars: Battle for Naboo",
                                    "nettoar": "3520",
                                    "diszkont_ar": "2816"
                                },
                                {
                                    "cim": "Star Wars: Force Commander (2001)",
                                    "nettoar": "5785",
                                    "diszkont_ar": "4628"
                                },
                                {
                                    "cim": "Star Wars : Rogue Squadron 3D",
                                    "nettoar": "5803",
                                    "diszkont_ar": "4642,400000000001"
                                },
                                {
                                    "cim": "Supreme Snowboarding",
                                    "nettoar": "4151",
                                    "diszkont_ar": "3320,8"
                                },
                                {
                                    "cim": "Szabadítsd ki a kisoroszlánt!",
                                    "nettoar": "5537",
                                    "diszkont_ar": "4429,6"
                                },
                                {
                                    "cim": "Szabadságharc 1848-49 (1988)",
                                    "nettoar": "6060",
                                    "diszkont_ar": "4848"
                                },
                                {
                                    "cim": "A szabadságharc népzenei emlékei",
                                    "nettoar": "5187",
                                    "diszkont_ar": "4149,6"
                                },
                                {
                                    "cim": "Szolfézs: Kezdőknek és haladóknak",
                                    "nettoar": "4492",
                                    "diszkont_ar": "3593,6000000000004"
                                },
                                {
                                    "cim": "Talk To Me Deutsch 2-4.",
                                    "nettoar": "5990",
                                    "diszkont_ar": "4792"
                                },
                                {
                                    "cim": "Talk To Me English 1.",
                                    "nettoar": "4743",
                                    "diszkont_ar": "3794,4"
                                },
                                {
                                    "cim": "Talk To Me Francais 1-2.",
                                    "nettoar": "4973",
                                    "diszkont_ar": "3978,4"
                                },
                                {
                                    "cim": "Tankok, tüzérség (2002)",
                                    "nettoar": "6084",
                                    "diszkont_ar": "4867,2"
                                },
                                {
                                    "cim": "Tanulj tovább! 2000 (2000)",
                                    "nettoar": "4310",
                                    "diszkont_ar": "3448"
                                },
                                {
                                    "cim": "Táplálkozás, életmód mesterfokon (2002)",
                                    "nettoar": "4480",
                                    "diszkont_ar": "3584"
                                },
                                {
                                    "cim": "Target English (1998)",
                                    "nettoar": "6061",
                                    "diszkont_ar": "4848,8"
                                },
                                {
                                    "cim": "Tarzan",
                                    "nettoar": "3737",
                                    "diszkont_ar": "2989,6000000000004"
                                },
                                {
                                    "cim": "Terrorizmus (2002)",
                                    "nettoar": "4877",
                                    "diszkont_ar": "3901,6000000000004"
                                },
                                {
                                    "cim": "Testbeszéd (1998)",
                                    "nettoar": "5382",
                                    "diszkont_ar": "4305,6"
                                },
                                {
                                    "cim": "Tesztre készen: angol (1998)",
                                    "nettoar": "4157",
                                    "diszkont_ar": "3325,6000000000004"
                                },
                                {
                                    "cim": "Tesztre készen: német (1998)",
                                    "nettoar": "4566",
                                    "diszkont_ar": "3652,8"
                                },
                                {
                                    "cim": "Thaiföldi ízek (1999)",
                                    "nettoar": "5250",
                                    "diszkont_ar": "4200"
                                },
                                {
                                    "cim": "Timeshock!",
                                    "nettoar": "5159",
                                    "diszkont_ar": "4127,2"
                                },
                                {
                                    "cim": "Tomi megmenti a tengert (2000)",
                                    "nettoar": "4325",
                                    "diszkont_ar": "3460"
                                },
                                {
                                    "cim": "Touché - The Adventures of the Fifth",
                                    "nettoar": "4548",
                                    "diszkont_ar": "3638,4"
                                },
                                {
                                    "cim": "Toy Story 2.",
                                    "nettoar": "3809",
                                    "diszkont_ar": "3047,2000000000003"
                                },
                                {
                                    "cim": "Történelem (1998)",
                                    "nettoar": "3737",
                                    "diszkont_ar": "2989,6000000000004"
                                },
                                {
                                    "cim": "Történelem : 10-14 éveseknek (2002)",
                                    "nettoar": "3737",
                                    "diszkont_ar": "2989,6000000000004"
                                },
                                {
                                    "cim": "Történelem : középiskola 1. osztály (2002)",
                                    "nettoar": "3736",
                                    "diszkont_ar": "2988,8"
                                },
                                {
                                    "cim": "Történelem : középiskola 4. osztály (2002)",
                                    "nettoar": "5635",
                                    "diszkont_ar": "4508"
                                },
                                {
                                    "cim": "Traffic Giant",
                                    "nettoar": "4385",
                                    "diszkont_ar": "3508"
                                },
                                {
                                    "cim": "Train Simulator (2002)",
                                    "nettoar": "5428",
                                    "diszkont_ar": "4342,400000000001"
                                },
                                {
                                    "cim": "Trickstyle",
                                    "nettoar": "4651",
                                    "diszkont_ar": "3720,8"
                                },
                                {
                                    "cim": "A tudás próbája (2001)",
                                    "nettoar": "5461",
                                    "diszkont_ar": "4368,8"
                                },
                                {
                                    "cim": "Turul : 1883-1900 (2002)",
                                    "nettoar": "5238",
                                    "diszkont_ar": "4190,400000000001"
                                },
                                {
                                    "cim": "UEFA Champions Leage Season",
                                    "nettoar": "5522",
                                    "diszkont_ar": "4417,6"
                                },
                                {
                                    "cim": "Új Könyvek 1994-2000 (2002)",
                                    "nettoar": "6024",
                                    "diszkont_ar": "4819,2"
                                },
                                {
                                    "cim": "Az Univerzum története",
                                    "nettoar": "3654",
                                    "diszkont_ar": "2923,2000000000003"
                                },
                                {
                                    "cim": "Utazás a csillagok között (1998)",
                                    "nettoar": "5705",
                                    "diszkont_ar": "4564"
                                },
                                {
                                    "cim": "Utazás a Naprendszerben",
                                    "nettoar": "3582",
                                    "diszkont_ar": "2865,6000000000004"
                                },
                                {
                                    "cim": "Utazás a Naprendszerben 2.",
                                    "nettoar": "5992",
                                    "diszkont_ar": "4793,6"
                                },
                                {
                                    "cim": "Úton 2. (1998)",
                                    "nettoar": "5476",
                                    "diszkont_ar": "4380,8"
                                },
                                {
                                    "cim": "Üzleti protokoll CD (2002)",
                                    "nettoar": "4891",
                                    "diszkont_ar": "3912,8"
                                },
                                {
                                    "cim": "Várak, kastélyok, legendák 1.",
                                    "nettoar": "4237",
                                    "diszkont_ar": "3389,6000000000004"
                                },
                                {
                                    "cim": "Várak, kastélyok, legendák 2. (2002)",
                                    "nettoar": "3313",
                                    "diszkont_ar": "2650,4"
                                },
                                {
                                    "cim": "A varázslatos emberi test (1998)",
                                    "nettoar": "4863",
                                    "diszkont_ar": "3890,4"
                                },
                                {
                                    "cim": "Varázslatos szülinap",
                                    "nettoar": "5712",
                                    "diszkont_ar": "4569,6"
                                },
                                {
                                    "cim": "Varázslatos történelmi nyomozás",
                                    "nettoar": "4395",
                                    "diszkont_ar": "3516"
                                },
                                {
                                    "cim": "A városi élet a Római Birodalomban (1999)",
                                    "nettoar": "5749",
                                    "diszkont_ar": "4599,2"
                                },
                                {
                                    "cim": "A Vazul-ág (1038-1301) (1997)",
                                    "nettoar": "4060",
                                    "diszkont_ar": "3248"
                                },
                                {
                                    "cim": "Világatlasz '99 (1998)",
                                    "nettoar": "5399",
                                    "diszkont_ar": "4319,2"
                                },
                                {
                                    "cim": "Világatlasz '99 (1998)",
                                    "nettoar": "5202",
                                    "diszkont_ar": "4161,6"
                                },
                                {
                                    "cim": "Világatlasz (2001)",
                                    "nettoar": "3446",
                                    "diszkont_ar": "2756,8"
                                },
                                {
                                    "cim": "Világirodalom : Az ókortól napjainkig (2001)",
                                    "nettoar": "3595",
                                    "diszkont_ar": "2876"
                                },
                                {
                                    "cim": "Volt egyszer egy Magyarország",
                                    "nettoar": "5302",
                                    "diszkont_ar": "4241,6"
                                },
                                {
                                    "cim": "Warcraft III. (2002)",
                                    "nettoar": "5774",
                                    "diszkont_ar": "4619,2"
                                },
                                {
                                    "cim": "William Shakespeare összes művei",
                                    "nettoar": "4437",
                                    "diszkont_ar": "3549,6000000000004"
                                },
                                {
                                    "cim": "Zielpunkt Deutsch (1997)",
                                    "nettoar": "4144",
                                    "diszkont_ar": "3315,2000000000003"
                                },
                                {
                                    "cim": "Zöld Ödön a földgömbön",
                                    "nettoar": "6065",
                                    "diszkont_ar": "4852"
                                }
                            ]
                        },
                        "text/html": [
                            "<table>",
                            "<tr><th>cim</th><th>nettoar</th><th>diszkont_ar</th></tr>",
                            "<tr><td>NULL</td><td>3859</td><td>3087,2000000000003</td></tr>",
                            "<tr><td>A II. világháború története (1999)</td><td>4244</td><td>3395,2000000000003</td></tr>",
                            "<tr><td>3D Dinosaur - adventure</td><td>5041</td><td>4032,8</td></tr>",
                            "<tr><td>3D virtuális origami (2000)</td><td>5355</td><td>4284</td></tr>",
                            "<tr><td>Az 1848-1849-iki szabadságharc története (2002)</td><td>5700</td><td>4560</td></tr>",
                            "<tr><td>Ablak zsiráf (1999)</td><td>3540</td><td>2832</td></tr>",
                            "<tr><td>Ady Endre összes művei (1999)</td><td>4241</td><td>3392,8</td></tr>",
                            "<tr><td>Afrika</td><td>5318</td><td>4254,400000000001</td></tr>",
                            "<tr><td>Age of Empires (2000)</td><td>4482</td><td>3585,6000000000004</td></tr>",
                            "<tr><td>Airport Inc.</td><td>4311</td><td>3448,8</td></tr>",
                            "<tr><td>American Rodeo : BullRider 2000 (2001)</td><td>5591</td><td>4472,8</td></tr>",
                            "<tr><td>Angol : 8-10 éveseknek (2002)</td><td>4853</td><td>3882,4</td></tr>",
                            "<tr><td>Angol és német nyelvtani gyakorlatok (2002)</td><td>4906</td><td>3924,8</td></tr>",
                            "<tr><td>Angol szótanító CD-ROM</td><td>4449</td><td>3559,2000000000003</td></tr>",
                            "<tr><td>Angol szótanító CD-ROM</td><td>4444</td><td>3555,2000000000003</td></tr>",
                            "<tr><td>Angol szótár (1996)</td><td>3509</td><td>2807,2000000000003</td></tr>",
                            "<tr><td>Angol-magyar, Magyar-angol hangosszótár</td><td>5151</td><td>4120,8</td></tr>",
                            "<tr><td>Angol-magyar nagyszótár (Halász Előd)</td><td>5638</td><td>4510,400000000001</td></tr>",
                            "<tr><td>Az áramvonalas fakanál</td><td>5706</td><td>4564,8</td></tr>",
                            "<tr><td>Arany János: A bajusz (2002)</td><td>3391</td><td>2712,8</td></tr>",
                            "<tr><td>Az Árpád-ház története</td><td>5022</td><td>4017,6000000000004</td></tr>",
                            "<tr><td>Art Attack (1998)</td><td>3914</td><td>3131,2000000000003</td></tr>",
                            "<tr><td>Art puzzle (1998)</td><td>5786</td><td>4628,8</td></tr>",
                            "<tr><td>Az ásványok világa</td><td>5624</td><td>4499,2</td></tr>",
                            "<tr><td>Ausztrália</td><td>5326</td><td>4260,8</td></tr>",
                            "<tr><td>Auto 2000 - Kerékvilág</td><td>4463</td><td>3570,4</td></tr>",
                            "<tr><td>Ázsia (2000)</td><td>3123</td><td>2498,4</td></tr>",
                            "<tr><td>Biblia (1995)</td><td>4440</td><td>3552</td></tr>",
                            "<tr><td>Biológia &#39;97</td><td>5543</td><td>4434,400000000001</td></tr>",
                            "<tr><td>Biológia (2000)</td><td>3819</td><td>3055,2000000000003</td></tr>",
                            "<tr><td>Biológia (2001)</td><td>3792</td><td>3033,6000000000004</td></tr>",
                            "<tr><td>Biológia : 12-14 éveseknek (2003)</td><td>3482</td><td>2785,6000000000004</td></tr>",
                            "<tr><td>Blinky Bill : A fantasztikus léggömbkaland</td><td>4076</td><td>3260,8</td></tr>",
                            "<tr><td>Broken Sword II. (cop. 1997)</td><td>4502</td><td>3601,6000000000004</td></tr>",
                            "<tr><td>Budapest kalauz</td><td>4054</td><td>3243,2000000000003</td></tr>",
                            "<tr><td>Budapest Museum</td><td>5292</td><td>4233,6</td></tr>",
                            "<tr><td>Buggy</td><td>5830</td><td>4664</td></tr>",
                            "<tr><td>Byte Magyarország (2002)</td><td>3277</td><td>2621,6000000000004</td></tr>",
                            "<tr><td>Caesar III.</td><td>4136</td><td>3308,8</td></tr>",
                            "<tr><td>Capitalism II. (2001)</td><td>6062</td><td>4849,6</td></tr>",
                            "<tr><td>Capitalism Plus</td><td>5030</td><td>4024</td></tr>",
                            "<tr><td>Castle Explorer</td><td>3707</td><td>2965,6000000000004</td></tr>",
                            "<tr><td>CD Panoráma 1-4. (1998)</td><td>5422</td><td>4337,6</td></tr>",
                            "<tr><td>Computer iskola (1998)</td><td>5260</td><td>4208</td></tr>",
                            "<tr><td>Csizmás kandúr (1998)</td><td>5932</td><td>4745,6</td></tr>",
                            "<tr><td>Csodálatos univerzum (1997)</td><td>4087</td><td>3269,6000000000004</td></tr>",
                            "<tr><td>Dél-Amerika (1999)</td><td>3999</td><td>3199,2000000000003</td></tr>",
                            "<tr><td>Dementia 1-5. (1997)</td><td>5919</td><td>4735,2</td></tr>",
                            "<tr><td>Deutsch: Anfanger (kezdő) + Telepítő </td><td>5633</td><td>4506,400000000001</td></tr>",
                            "<tr><td>Deutsch: Fortgeschrittene (haladó) + Installation</td><td>5784</td><td>4627,2</td></tr>",
                            "<tr><td>Deutsch: Mittelstufe (középhaladó)+ Telepítő</td><td>4377</td><td>3501,6000000000004</td></tr>",
                            "<tr><td>Diablo</td><td>5969</td><td>4775,2</td></tr>",
                            "<tr><td>Diablo II. (2000)</td><td>4900</td><td>3920</td></tr>",
                            "<tr><td>Dicső napok és hétköznapok 1848 - Digitális forrásgyűjtemény 1.</td><td>5611</td><td>4488,8</td></tr>",
                            "<tr><td>Dreams to Reality 1-2. (1997)</td><td>4699</td><td>3759,2000000000003</td></tr>",
                            "<tr><td>Duke Nukem 3D</td><td>5474</td><td>4379,2</td></tr>",
                            "<tr><td>Dungeon Keeper 2. (1999)</td><td>3369</td><td>2695,2000000000003</td></tr>",
                            "<tr><td>E-Games : Collector&#39;s Edition (2001)</td><td>5583</td><td>4466,400000000001</td></tr>",
                            "<tr><td>Éléstár (1998)</td><td>3258</td><td>2606,4</td></tr>",
                            "<tr><td>Élet a polgárosodó Magyarországon (2001)</td><td>5572</td><td>4457,6</td></tr>",
                            "<tr><td>Életképek 1848 (1998)</td><td>4211</td><td>3368,8</td></tr>",
                            "<tr><td>Az ember tragédiája</td><td>4295</td><td>3436</td></tr>",
                            "<tr><td>Encarta World Atlas &#39;99 1-2. (1998)</td><td>5334</td><td>4267,2</td></tr>",
                            "<tr><td>Enemy Engaged RAH-66</td><td>5217</td><td>4173,6</td></tr>",
                            "<tr><td>English 1-2. + Telepítő</td><td>5215</td><td>4172</td></tr>",
                            "<tr><td>English: Intermediate (haladó)</td><td>3627</td><td>2901,6000000000004</td></tr>",
                            "<tr><td>English by Stealth  lásd: Lopva angolul</td><td>4478</td><td>3582,4</td></tr>",
                            "<tr><td>Erdély (1996)</td><td>4999</td><td>3999,2000000000003</td></tr>",
                            "<tr><td>Espanol: Intermedio + Telepítő</td><td>3914</td><td>3131,2000000000003</td></tr>",
                            "<tr><td>Espanol: Principiante + Telepítő</td><td>5882</td><td>4705,6</td></tr>",
                            "<tr><td>Észak-Amerika</td><td>3994</td><td>3195,2000000000003</td></tr>",
                            "<tr><td>Európa</td><td>5270</td><td>4216</td></tr>",
                            "<tr><td>The F.A. Premier League Stars 2001</td><td>3871</td><td>3096,8</td></tr>",
                            "<tr><td>Felvételi példatár : Angol</td><td>3876</td><td>3100,8</td></tr>",
                            "<tr><td>Felvételi példatár : Biológia, földrajz</td><td>3215</td><td>2572</td></tr>",
                            "<tr><td>Felvételi példatár : Kémia, fizika</td><td>5851</td><td>4680,8</td></tr>",
                            "<tr><td>Felvételi példatár : Magyar nyelv és irodalom</td><td>5955</td><td>4764</td></tr>",
                            "<tr><td>Felvételi példatár : Matematika</td><td>5009</td><td>4007,2000000000003</td></tr>",
                            "<tr><td>Felvételi példatár : Német</td><td>3102</td><td>2481,6000000000004</td></tr>",
                            "<tr><td>FIFA, 2000 (1999)</td><td>5059</td><td>4047,2000000000003</td></tr>",
                            "<tr><td>Fighting Force (1998)</td><td>4800</td><td>3840</td></tr>",
                            "<tr><td>Final Liberation (1997)</td><td>4632</td><td>3705,6000000000004</td></tr>",
                            "<tr><td>Fitness mesterfokon / Béres Alexandra (2001)</td><td>4607</td><td>3685,6000000000004</td></tr>",
                            "<tr><td>Fizika : 12-14 éveseknek (2002)</td><td>3734</td><td>2987,2000000000003</td></tr>",
                            "<tr><td>Fizika felkészítő az érettségi és felvételi vizsgára</td><td>4810</td><td>3848</td></tr>",
                            "<tr><td>Fizika világa (2001)</td><td>5763</td><td>4610,400000000001</td></tr>",
                            "<tr><td>A Föld élővilága</td><td>5900</td><td>4720</td></tr>",
                            "<tr><td>Földrajz: 10-14 éveseknek (2002)</td><td>3930</td><td>3144</td></tr>",
                            "<tr><td>Földrajz: érettségi előkészítő (2002)</td><td>3173</td><td>2538,4</td></tr>",
                            "<tr><td>Francais 1-2. + Telepítő</td><td>4038</td><td>3230,4</td></tr>",
                            "<tr><td>Francais: Débutan (kezdő) + Telepítő</td><td>3770</td><td>3016</td></tr>",
                            "<tr><td>Francais: Moyen + Telepítő</td><td>5619</td><td>4495,2</td></tr>",
                            "<tr><td>Francia-magyar szótár</td><td>3566</td><td>2852,8</td></tr>",
                            "<tr><td>Funschool in Dreamland (1995)</td><td>4766</td><td>3812,8</td></tr>",
                            "<tr><td>Geolexikon 4.2 : földtani adatbázis (2002)</td><td>4602</td><td>3681,6000000000004</td></tr>",
                            "<tr><td>Gépírás 2000</td><td>3936</td><td>3148,8</td></tr>",
                            "<tr><td>Gondolattár: aforizmák, szállóigék</td><td>5346</td><td>4276,8</td></tr>",
                            "<tr><td>GTA 2</td><td>5005</td><td>4004</td></tr>",
                            "<tr><td>Hadiflották I. (2002)</td><td>5124</td><td>4099,2</td></tr>",
                            "<tr><td>Hadtudományi lexikon (1998)</td><td>3515</td><td>2812</td></tr>",
                            "<tr><td>Hajdúböszörmény</td><td>3781</td><td>3024,8</td></tr>",
                            "<tr><td>Halak, kétéltűek, hüllők</td><td>4153</td><td>3322,4</td></tr>",
                            "<tr><td>Half-Life (1996)</td><td>5405</td><td>4324</td></tr>",
                            "<tr><td>Half-Life Generation: Game of the Year Edition (2002)</td><td>3705</td><td>2964</td></tr>",
                            "<tr><td>Half-Life Generation: Counter Strike (2002)</td><td>5744</td><td>4595,2</td></tr>",
                            "<tr><td>Half-Life Generation: Blue Shift (2002)</td><td>5728</td><td>4582,400000000001</td></tr>",
                            "<tr><td>Harry Potter és a bölcsek köve (2001)</td><td>4472</td><td>3577,6000000000004</td></tr>",
                            "<tr><td>Haza és haladás</td><td>3481</td><td>2784,8</td></tr>",
                            "<tr><td>A hét világcsoda (2001)</td><td>3162</td><td>2529,6000000000004</td></tr>",
                            "<tr><td>Home Desing 3D (1998)</td><td>4287</td><td>3429,6000000000004</td></tr>",
                            "<tr><td>Hupikék törpikék: teletransportörp (1999)</td><td>3110</td><td>2488</td></tr>",
                            "<tr><td>Informatika - Internet - Iskola</td><td>3733</td><td>2986,4</td></tr>",
                            "<tr><td>Interaktív angol nyelvész kurzus haladó szint 1-5.</td><td>4592</td><td>3673,6000000000004</td></tr>",
                            "<tr><td>Interaktív angol nyelvész kurzus kezdő szint</td><td>4183</td><td>3346,4</td></tr>",
                            "<tr><td>Interaktív angol nyelvész kurzus középhaladó szint</td><td>3115</td><td>2492</td></tr>",
                            "<tr><td>Interaktív magyar nyelvtan</td><td>4779</td><td>3823,2000000000003</td></tr>",
                            "<tr><td>International Rally Championship</td><td>3890</td><td>3112</td></tr>",
                            "<tr><td>Internet (1996)</td><td>4934</td><td>3947,2000000000003</td></tr>",
                            "<tr><td>Introduction to Archeology</td><td>3773</td><td>3018,4</td></tr>",
                            "<tr><td>Investigating 20th Century Art (1994)</td><td>4394</td><td>3515,2000000000003</td></tr>",
                            "<tr><td>Az ipari forradalom kora (2000)</td><td>5082</td><td>4065,6000000000004</td></tr>",
                            "<tr><td>Irodalmi arcképcsarnok</td><td>3866</td><td>3092,8</td></tr>",
                            "<tr><td>Irodalom  felkészítő az érettségi és felvételi vizsgára</td><td>5654</td><td>4523,2</td></tr>",
                            "<tr><td>Irodalom (1998)</td><td>5625</td><td>4500</td></tr>",
                            "<tr><td>Italiano (1998) + Installation</td><td>5436</td><td>4348,8</td></tr>",
                            "<tr><td>Italiano 1-2. (1998) + Installation</td><td>6082</td><td>4865,6</td></tr>",
                            "<tr><td>Italiano 1-2. (1998) + Installation</td><td>3419</td><td>2735,2000000000003</td></tr>",
                            "<tr><td>Jancsó</td><td>4204</td><td>3363,2000000000003</td></tr>",
                            "<tr><td>Japán : képes kulturális atlasz (2001)</td><td>4459</td><td>3567,2000000000003</td></tr>",
                            "<tr><td>Játékfilmek 1963-tól napjainkig</td><td>3138</td><td>2510,4</td></tr>",
                            "<tr><td>Játszóház (1998)</td><td>5299</td><td>4239,2</td></tr>",
                            "<tr><td>Jókai összes művei (2001)</td><td>4768</td><td>3814,4</td></tr>",
                            "<tr><td>József Attila (1998)</td><td>3870</td><td>3096</td></tr>",
                            "<tr><td>A jövő titkai - Interaktív horoszkóp (1998)</td><td>6072</td><td>4857,6</td></tr>",
                            "<tr><td>Kártyaváros</td><td>3107</td><td>2485,6000000000004</td></tr>",
                            "<tr><td>Kémia Kalauz 2.</td><td>5094</td><td>4075,2000000000003</td></tr>",
                            "<tr><td>A kémkedés és a hírszerzés története (2002)</td><td>5845</td><td>4676</td></tr>",
                            "<tr><td>Képes krónika (1996)</td><td>3931</td><td>3144,8</td></tr>",
                            "<tr><td>Képtárak (1995)</td><td>5408</td><td>4326,400000000001</td></tr>",
                            "<tr><td>Kereszt és félhold</td><td>4302</td><td>3441,6000000000004</td></tr>",
                            "<tr><td>Kétfejű sas: A Habsburg-uralom Magyarországon (1699-1790)</td><td>5459</td><td>4367,2</td></tr>",
                            "<tr><td>Kettős kötődés: Az Osztrák-Magyar Monarchia (1867-1918)</td><td>4829</td><td>3863,2000000000003</td></tr>",
                            "<tr><td>Kínai falatok</td><td>4550</td><td>3640</td></tr>",
                            "<tr><td>Királyi könyvek 1-9. kötet</td><td>3256</td><td>2604,8</td></tr>",
                            "<tr><td>Királyi könyvek 18-26. kötet</td><td>5507</td><td>4405,6</td></tr>",
                            "<tr><td>Királyi könyvek 27-38. kötet : 1703-1740 (2002)</td><td>5476</td><td>4380,8</td></tr>",
                            "<tr><td>Kispál és a borz (1998)</td><td>5730</td><td>4584</td></tr>",
                            "<tr><td>Kossuth Lajos összes munkái (2002)</td><td>4589</td><td>3671,2000000000003</td></tr>",
                            "<tr><td>Környezetvédelmi kalauz (1999)</td><td>5508</td><td>4406,400000000001</td></tr>",
                            "<tr><td>Kötelező olvasmányok könyvtára 1. (2002)</td><td>3594</td><td>2875,2000000000003</td></tr>",
                            "<tr><td>A kőszívű ember fiai - Egri csillagok</td><td>5538</td><td>4430,400000000001</td></tr>",
                            "<tr><td>A kutyák: A család kedvencei</td><td>4963</td><td>3970,4</td></tr>",
                            "<tr><td>Kutyatár</td><td>5235</td><td>4188</td></tr>",
                            "<tr><td>KvízIQ : A hét világcsoda (2001)</td><td>3451</td><td>2760,8</td></tr>",
                            "<tr><td>Lakáskultúra 2000 (2000)</td><td>5847</td><td>4677,6</td></tr>",
                            "<tr><td>Lakáskultúra 1999 (1999)</td><td>5414</td><td>4331,2</td></tr>",
                            "<tr><td>Lakáskultúra 1998 (1998)</td><td>5491</td><td>4392,8</td></tr>",
                            "<tr><td>Lakáskultúra 1997 (1997)</td><td>3419</td><td>2735,2000000000003</td></tr>",
                            "<tr><td>Lakáskultúra 1996 (1996)</td><td>4209</td><td>3367,2000000000003</td></tr>",
                            "<tr><td>Lands of Lore II. 1-4. (1997)</td><td>4312</td><td>3449,6000000000004</td></tr>",
                            "<tr><td>Landscape Design 3D (1998)</td><td>4951</td><td>3960,8</td></tr>",
                            "<tr><td>Legféltettebb természeti értékeink</td><td>5083</td><td>4066,4</td></tr>",
                            "<tr><td>Legszebb vadnövényeink</td><td>4438</td><td>3550,4</td></tr>",
                            "<tr><td>Leonardo da Vinci</td><td>5118</td><td>4094,4</td></tr>",
                            "<tr><td>Lilenthal Andor sakkjátszmái</td><td>3644</td><td>2915,2000000000003</td></tr>",
                            "<tr><td>Lopva angolul /English by Stealth 1.</td><td>5431</td><td>4344,8</td></tr>",
                            "<tr><td>Lopva angolul /English by Stealth 2.</td><td>4597</td><td>3677,6000000000004</td></tr>",
                            "<tr><td>Lopva angolul /English by Stealth 3.</td><td>4851</td><td>3880,8</td></tr>",
                            "<tr><td>Lovagkirályok (1301-1437) (1997)</td><td>4368</td><td>3494,4</td></tr>",
                            "<tr><td>LoveQ, SexQ : szerelmi intelligencia (2001)</td><td>3626</td><td>2900,8</td></tr>",
                            "<tr><td>M1 Tank (1998)</td><td>5981</td><td>4784,8</td></tr>",
                            "<tr><td>Mackó úr (2002)</td><td>4632</td><td>3705,6000000000004</td></tr>",
                            "<tr><td>Madárdalos kirándulások - Madártani oktató CD-ROM (1999)</td><td>3408</td><td>2726,4</td></tr>",
                            "<tr><td>Magyar bélyegek katalógusa</td><td>4035</td><td>3228</td></tr>",
                            "<tr><td>Magyar fontok &#39;97</td><td>3845</td><td>3076</td></tr>",
                            "<tr><td>A Magyar Koronázási Jelvények</td><td>4122</td><td>3297,6000000000004</td></tr>",
                            "<tr><td>Magyar nyelv és irodalom</td><td>4704</td><td>3763,2000000000003</td></tr>",
                            "<tr><td>Magyar színházművészet a világban</td><td>5158</td><td>4126,400000000001</td></tr>",
                            "<tr><td>Magyarország, 1944-1956 (2001)</td><td>4921</td><td>3936,8</td></tr>",
                            "<tr><td>Magyarország, 1944-1956 (2001)</td><td>3673</td><td>2938,4</td></tr>",
                            "<tr><td>Magyarország Nemzeti Parkjai I.</td><td>3348</td><td>2678,4</td></tr>",
                            "<tr><td>Magyarország Nemzeti Parkjai II.</td><td>3377</td><td>2701,6000000000004</td></tr>",
                            "<tr><td>Magyarországi várak (1998)</td><td>5459</td><td>4367,2</td></tr>",
                            "<tr><td>Mahjongg Master (1998)</td><td>5423</td><td>4338,400000000001</td></tr>",
                            "<tr><td>Manó Angol 1.</td><td>5852</td><td>4681,6</td></tr>",
                            "<tr><td>Manó Angol 1. (2002)</td><td>6051</td><td>4840,8</td></tr>",
                            "<tr><td>Manó Angol 2.</td><td>5353</td><td>4282,400000000001</td></tr>",
                            "<tr><td>Manó Angol 2. (2000)</td><td>6068</td><td>4854,400000000001</td></tr>",
                            "<tr><td>Manó Élővilág</td><td>3474</td><td>2779,2000000000003</td></tr>",
                            "<tr><td>Manó Élővilág (2002)</td><td>4881</td><td>3904,8</td></tr>",
                            "<tr><td>Manó IQ (2001)</td><td>5383</td><td>4306,400000000001</td></tr>",
                            "<tr><td>Manó Kaland (2002)</td><td>5967</td><td>4773,6</td></tr>",
                            "<tr><td>Manó Magyarország (2002)</td><td>4150</td><td>3320</td></tr>",
                            "<tr><td>Manó Matek 1.</td><td>5995</td><td>4796</td></tr>",
                            "<tr><td>Manó Matek 1. (2002)</td><td>5396</td><td>4316,8</td></tr>",
                            "<tr><td>Manó Matek 2. (1999)</td><td>5568</td><td>4454,400000000001</td></tr>",
                            "<tr><td>Manó Matek 2. (1999)</td><td>3536</td><td>2828,8</td></tr>",
                            "<tr><td>Manó Matek 3.</td><td>4803</td><td>3842,4</td></tr>",
                            "<tr><td>Manó Muzsika</td><td>4996</td><td>3996,8</td></tr>",
                            "<tr><td>Manó Muzsika</td><td>3391</td><td>2712,8</td></tr>",
                            "<tr><td>Manó Német 2.</td><td>4642</td><td>3713,6000000000004</td></tr>",
                            "<tr><td>Manó Olvasás 1.</td><td>5845</td><td>4676</td></tr>",
                            "<tr><td>Manó Puzzle (2002)</td><td>6078</td><td>4862,400000000001</td></tr>",
                            "<tr><td>Matematika (1998)</td><td>3105</td><td>2484</td></tr>",
                            "<tr><td>Matematika felkészítő az érettségi és felvételi vizsgára</td><td>4616</td><td>3692,8</td></tr>",
                            "<tr><td>Matematika kalauz (1997)</td><td>3315</td><td>2652</td></tr>",
                            "<tr><td>Mig-29 (1998)</td><td>5040</td><td>4032</td></tr>",
                            "<tr><td>Mikszáth Kálmán összes művei</td><td>4786</td><td>3828,8</td></tr>",
                            "<tr><td>Mini Manó Tavasz</td><td>4727</td><td>3781,6000000000004</td></tr>",
                            "<tr><td>MoBi Mouse: A fordító egér</td><td>5036</td><td>4028,8</td></tr>",
                            "<tr><td>Monopoly Junior</td><td>3974</td><td>3179,2000000000003</td></tr>",
                            "<tr><td>Mons Sacer Pannoniae (2001)</td><td>4410</td><td>3528</td></tr>",
                            "<tr><td>Moving Puzzle Action Flight (2000)</td><td>5477</td><td>4381,6</td></tr>",
                            "<tr><td>Multimédiás Menedzsment Könyvtár 1. - Változásmenedzsment</td><td>6057</td><td>4845,6</td></tr>",
                            "<tr><td>Multimédiás Menedzsment Könyvtár 2. - Önszervezés</td><td>3279</td><td>2623,2000000000003</td></tr>",
                            "<tr><td>Musique! (1997)</td><td>5336</td><td>4268,8</td></tr>",
                            "<tr><td>Művészet és mesterség</td><td>6098</td><td>4878,400000000001</td></tr>",
                            "<tr><td>Művészet és művészek (2002)</td><td>3490</td><td>2792</td></tr>",
                            "<tr><td>Nagy képes világtörténet (Matczáli Henrik) (1998)</td><td>4387</td><td>3509,6000000000004</td></tr>",
                            "<tr><td>Nagy vicc tár</td><td>5573</td><td>4458,400000000001</td></tr>",
                            "<tr><td>A Nagybányai Festőiskola (1998)</td><td>4877</td><td>3901,6000000000004</td></tr>",
                            "<tr><td>NASA 1.</td><td>5968</td><td>4774,400000000001</td></tr>",
                            "<tr><td>NASA 2.</td><td>4147</td><td>3317,6000000000004</td></tr>",
                            "<tr><td>Na, So Was? - Minden helyzetben otthonosan</td><td>3600</td><td>2880</td></tr>",
                            "<tr><td>Német : 8-10 éveseknek (2002)</td><td>3754</td><td>3003,2000000000003</td></tr>",
                            "<tr><td>Német szótanító CD-ROM</td><td>3313</td><td>2650,4</td></tr>",
                            "<tr><td>Németh László összes műve</td><td>4497</td><td>3597,6000000000004</td></tr>",
                            "<tr><td>New York : a tragédiák városa (2001)</td><td>3723</td><td>2978,4</td></tr>",
                            "<tr><td>NHL 2001</td><td>5242</td><td>4193,6</td></tr>",
                            "<tr><td>Nincs királyi út - A matematika kultúrtörténete</td><td>4353</td><td>3482,4</td></tr>",
                            "<tr><td>Nyelvész : Angol és német haladóknak (1997)</td><td>3522</td><td>2817,6000000000004</td></tr>",
                            "<tr><td>Nyelvtan összefoglaló : érettségi előkészítő (2002)</td><td>3688</td><td>2950,4</td></tr>",
                            "<tr><td>Az óceán világa - Maldiv szigetek (2000)</td><td>5833</td><td>4666,400000000001</td></tr>",
                            "<tr><td>Ókori lexikon</td><td>3122</td><td>2497,6000000000004</td></tr>",
                            "<tr><td>Olasz-magyar, magyar-olasz digitális szótár</td><td>4107</td><td>3285,6000000000004</td></tr>",
                            "<tr><td>Olasz szótanító CD-ROM</td><td>5108</td><td>4086,4</td></tr>",
                            "<tr><td>Orosz (1998)</td><td>6009</td><td>4807,2</td></tr>",
                            "<tr><td>Orosz-magyar nagyszótár</td><td>4666</td><td>3732,8</td></tr>",
                            "<tr><td>Az Országos Széchényi Könyvtár corvinái, 2002 (2002)</td><td>4753</td><td>3802,4</td></tr>",
                            "<tr><td>Az Osztrák-Magyar Monarchia írásban és képekben (2001)</td><td>4359</td><td>3487,2000000000003</td></tr>",
                            "<tr><td>Paddle Bash (2001)</td><td>3937</td><td>3149,6000000000004</td></tr>",
                            "<tr><td>Pannon Enciklopédia (1998)</td><td>4606</td><td>3684,8</td></tr>",
                            "<tr><td>Pannonhalmi Főapátság (2001)</td><td>5817</td><td>4653,6</td></tr>",
                            "<tr><td>Panzer General III: Scorched Earth (2000)</td><td>6058</td><td>4846,400000000001</td></tr>",
                            "<tr><td>People&#39;s General (1998)</td><td>5623</td><td>4498,400000000001</td></tr>",
                            "<tr><td>Petőfi Sándor: Arany Lacinak (2002)</td><td>5488</td><td>4390,400000000001</td></tr>",
                            "<tr><td>Petőfi Sándor összes költeményei</td><td>3782</td><td>3025,6000000000004</td></tr>",
                            "<tr><td>Plane Crazy</td><td>5011</td><td>4008,8</td></tr>",
                            "<tr><td>Quake III. (2001)</td><td>3144</td><td>2515,2000000000003</td></tr>",
                            "<tr><td>Rákóczi-szabadságharc</td><td>4778</td><td>3822,4</td></tr>",
                            "<tr><td>Rally Championship</td><td>3106</td><td>2484,8</td></tr>",
                            "<tr><td>Rayman: Matek és olvasás</td><td>4484</td><td>3587,2000000000003</td></tr>",
                            "<tr><td>Re-Volt (1999)</td><td>3989</td><td>3191,2000000000003</td></tr>",
                            "<tr><td>The Settlers III. 1-2. (1998)</td><td>4267</td><td>3413,6000000000004</td></tr>",
                            "<tr><td>The Settlers IV. (2001)</td><td>4143</td><td>3314,4</td></tr>",
                            "<tr><td>Shanghai (1997)</td><td>5900</td><td>4720</td></tr>",
                            "<tr><td>The Sims</td><td>4043</td><td>3234,4</td></tr>",
                            "<tr><td>Sonic Racer</td><td>3450</td><td>2760</td></tr>",
                            "<tr><td>Spanyol (1997)</td><td>3775</td><td>3020</td></tr>",
                            "<tr><td>Spanyol-magyar szótár</td><td>5734</td><td>4587,2</td></tr>",
                            "<tr><td>Star Wars: Battle for Naboo</td><td>3520</td><td>2816</td></tr>",
                            "<tr><td>Star Wars: Force Commander (2001)</td><td>5785</td><td>4628</td></tr>",
                            "<tr><td>Star Wars : Rogue Squadron 3D</td><td>5803</td><td>4642,400000000001</td></tr>",
                            "<tr><td>Supreme Snowboarding</td><td>4151</td><td>3320,8</td></tr>",
                            "<tr><td>Szabadítsd ki a kisoroszlánt!</td><td>5537</td><td>4429,6</td></tr>",
                            "<tr><td>Szabadságharc 1848-49 (1988)</td><td>6060</td><td>4848</td></tr>",
                            "<tr><td>A szabadságharc népzenei emlékei</td><td>5187</td><td>4149,6</td></tr>",
                            "<tr><td>Szolfézs: Kezdőknek és haladóknak</td><td>4492</td><td>3593,6000000000004</td></tr>",
                            "<tr><td>Talk To Me Deutsch 2-4.</td><td>5990</td><td>4792</td></tr>",
                            "<tr><td>Talk To Me English 1.</td><td>4743</td><td>3794,4</td></tr>",
                            "<tr><td>Talk To Me Francais 1-2.</td><td>4973</td><td>3978,4</td></tr>",
                            "<tr><td>Tankok, tüzérség (2002)</td><td>6084</td><td>4867,2</td></tr>",
                            "<tr><td>Tanulj tovább! 2000 (2000)</td><td>4310</td><td>3448</td></tr>",
                            "<tr><td>Táplálkozás, életmód mesterfokon (2002)</td><td>4480</td><td>3584</td></tr>",
                            "<tr><td>Target English (1998)</td><td>6061</td><td>4848,8</td></tr>",
                            "<tr><td>Tarzan</td><td>3737</td><td>2989,6000000000004</td></tr>",
                            "<tr><td>Terrorizmus (2002)</td><td>4877</td><td>3901,6000000000004</td></tr>",
                            "<tr><td>Testbeszéd (1998)</td><td>5382</td><td>4305,6</td></tr>",
                            "<tr><td>Tesztre készen: angol (1998)</td><td>4157</td><td>3325,6000000000004</td></tr>",
                            "<tr><td>Tesztre készen: német (1998)</td><td>4566</td><td>3652,8</td></tr>",
                            "<tr><td>Thaiföldi ízek (1999)</td><td>5250</td><td>4200</td></tr>",
                            "<tr><td>Timeshock!</td><td>5159</td><td>4127,2</td></tr>",
                            "<tr><td>Tomi megmenti a tengert (2000)</td><td>4325</td><td>3460</td></tr>",
                            "<tr><td>Touché - The Adventures of the Fifth</td><td>4548</td><td>3638,4</td></tr>",
                            "<tr><td>Toy Story 2.</td><td>3809</td><td>3047,2000000000003</td></tr>",
                            "<tr><td>Történelem (1998)</td><td>3737</td><td>2989,6000000000004</td></tr>",
                            "<tr><td>Történelem : 10-14 éveseknek (2002)</td><td>3737</td><td>2989,6000000000004</td></tr>",
                            "<tr><td>Történelem : középiskola 1. osztály (2002)</td><td>3736</td><td>2988,8</td></tr>",
                            "<tr><td>Történelem : középiskola 4. osztály (2002)</td><td>5635</td><td>4508</td></tr>",
                            "<tr><td>Traffic Giant</td><td>4385</td><td>3508</td></tr>",
                            "<tr><td>Train Simulator (2002)</td><td>5428</td><td>4342,400000000001</td></tr>",
                            "<tr><td>Trickstyle</td><td>4651</td><td>3720,8</td></tr>",
                            "<tr><td>A tudás próbája (2001)</td><td>5461</td><td>4368,8</td></tr>",
                            "<tr><td>Turul : 1883-1900 (2002)</td><td>5238</td><td>4190,400000000001</td></tr>",
                            "<tr><td>UEFA Champions Leage Season</td><td>5522</td><td>4417,6</td></tr>",
                            "<tr><td>Új Könyvek 1994-2000 (2002)</td><td>6024</td><td>4819,2</td></tr>",
                            "<tr><td>Az Univerzum története</td><td>3654</td><td>2923,2000000000003</td></tr>",
                            "<tr><td>Utazás a csillagok között (1998)</td><td>5705</td><td>4564</td></tr>",
                            "<tr><td>Utazás a Naprendszerben</td><td>3582</td><td>2865,6000000000004</td></tr>",
                            "<tr><td>Utazás a Naprendszerben 2.</td><td>5992</td><td>4793,6</td></tr>",
                            "<tr><td>Úton 2. (1998)</td><td>5476</td><td>4380,8</td></tr>",
                            "<tr><td>Üzleti protokoll CD (2002)</td><td>4891</td><td>3912,8</td></tr>",
                            "<tr><td>Várak, kastélyok, legendák 1.</td><td>4237</td><td>3389,6000000000004</td></tr>",
                            "<tr><td>Várak, kastélyok, legendák 2. (2002)</td><td>3313</td><td>2650,4</td></tr>",
                            "<tr><td>A varázslatos emberi test (1998)</td><td>4863</td><td>3890,4</td></tr>",
                            "<tr><td>Varázslatos szülinap</td><td>5712</td><td>4569,6</td></tr>",
                            "<tr><td>Varázslatos történelmi nyomozás</td><td>4395</td><td>3516</td></tr>",
                            "<tr><td>A városi élet a Római Birodalomban (1999)</td><td>5749</td><td>4599,2</td></tr>",
                            "<tr><td>A Vazul-ág (1038-1301) (1997)</td><td>4060</td><td>3248</td></tr>",
                            "<tr><td>Világatlasz &#39;99 (1998)</td><td>5399</td><td>4319,2</td></tr>",
                            "<tr><td>Világatlasz &#39;99 (1998)</td><td>5202</td><td>4161,6</td></tr>",
                            "<tr><td>Világatlasz (2001)</td><td>3446</td><td>2756,8</td></tr>",
                            "<tr><td>Világirodalom : Az ókortól napjainkig (2001)</td><td>3595</td><td>2876</td></tr>",
                            "<tr><td>Volt egyszer egy Magyarország</td><td>5302</td><td>4241,6</td></tr>",
                            "<tr><td>Warcraft III. (2002)</td><td>5774</td><td>4619,2</td></tr>",
                            "<tr><td>William Shakespeare összes művei</td><td>4437</td><td>3549,6000000000004</td></tr>",
                            "<tr><td>Zielpunkt Deutsch (1997)</td><td>4144</td><td>3315,2000000000003</td></tr>",
                            "<tr><td>Zöld Ödön a földgömbön</td><td>6065</td><td>4852</td></tr>",
                            "</table>"
                        ]
                    }
                }
            ],
            "execution_count": 50
        },
        {
            "cell_type": "markdown",
            "source": [
                "6. Melyek azok a kölcsönzések, ahol még nem hozták vissza a dvd-t?"
            ],
            "metadata": {
                "azdata_cell_guid": "5fe65c1c-2479-45ac-ad03-ec99d12eae21"
            },
            "attachments": {}
        },
        {
            "cell_type": "code",
            "source": [
                "SELECT *\r\n",
                "FROM kolcsonzesek\r\n",
                "WHERE vissza_datum IS NULL\r\n",
                "--WHERE vissza_datum = 'nincs visszahozva'"
            ],
            "metadata": {
                "azdata_cell_guid": "924f2dde-f1c2-4def-a7f9-dbf4bace7735",
                "language": "sql",
                "tags": []
            },
            "outputs": [
                {
                    "output_type": "display_data",
                    "data": {
                        "text/html": "(3 rows affected)"
                    },
                    "metadata": {}
                },
                {
                    "output_type": "display_data",
                    "data": {
                        "text/html": "Total execution time: 00:00:00.015"
                    },
                    "metadata": {}
                },
                {
                    "output_type": "execute_result",
                    "metadata": {},
                    "execution_count": 68,
                    "data": {
                        "application/vnd.dataresource+json": {
                            "schema": {
                                "fields": [
                                    {
                                        "name": "ID"
                                    },
                                    {
                                        "name": "ki"
                                    },
                                    {
                                        "name": "mit"
                                    },
                                    {
                                        "name": "ki_datum"
                                    },
                                    {
                                        "name": "vissza_datum"
                                    }
                                ]
                            },
                            "data": [
                                {
                                    "ID": "10",
                                    "ki": "3",
                                    "mit": "5",
                                    "ki_datum": "2003-12-11",
                                    "vissza_datum": "NULL"
                                },
                                {
                                    "ID": "11",
                                    "ki": "4",
                                    "mit": "2",
                                    "ki_datum": "2003-12-11",
                                    "vissza_datum": "NULL"
                                },
                                {
                                    "ID": "12",
                                    "ki": "5",
                                    "mit": "6",
                                    "ki_datum": "2003-12-11",
                                    "vissza_datum": "NULL"
                                }
                            ]
                        },
                        "text/html": [
                            "<table>",
                            "<tr><th>ID</th><th>ki</th><th>mit</th><th>ki_datum</th><th>vissza_datum</th></tr>",
                            "<tr><td>10</td><td>3</td><td>5</td><td>2003-12-11</td><td>NULL</td></tr>",
                            "<tr><td>11</td><td>4</td><td>2</td><td>2003-12-11</td><td>NULL</td></tr>",
                            "<tr><td>12</td><td>5</td><td>6</td><td>2003-12-11</td><td>NULL</td></tr>",
                            "</table>"
                        ]
                    }
                }
            ],
            "execution_count": 68
        },
        {
            "cell_type": "markdown",
            "source": [
                "7. Listázzuk azon diákok nevét és születési idejét, akik 1984-ben vagy 1985-ben születtek!  \n",
                "\n",
                "  \n",
                "\n",
                "a.  A születési dátum csak az évet, hónapot és a napot tartalmazza! \n",
                "\n",
                "b.  A születési dátum oszlopát nevezzük el 'Születési idő'-nek!"
            ],
            "metadata": {
                "azdata_cell_guid": "3aeb6bf5-b111-40d5-92b2-9712ce335696"
            },
            "attachments": {}
        },
        {
            "cell_type": "code" TODATE()) _
            "source": [
                "SELECT Nev, (YEAR(Szulido) + MONTH(Szulido) + DAY(Szulido)) AS 'Szuletesi ido'\r\n",
                "FROM diak"
            ],
            "metadata": {
                "azdata_cell_guid": "3e89b651-f56f-4102-af52-30eb2bbe360d",
                "language": "sql"
            },
            "outputs": [
{
    "output_type": "display_data",
    "data": {
        "text/html": "(10 rows affected)"
    },
    "metadata": {}
}, {
    "output_type": "display_data",
    "data": {
        "text/html": "Total execution time: 00:00:00.011"
    },
    "metadata": {}
}, {
    "output_type": "execute_result",
    "metadata": {},
    "execution_count": 71,
    "data": {
        "application/vnd.dataresource+json": {
            "schema": {
                "fields": [
                    {
                        "name": "Nev"
                    },
                    {
                        "name": "Szuletesi ido"
                    }
                ]
            },
            "data": [
                {
                    "Nev": "Kos Péter",
                    "Szuletesi ido": "2003"
                },
                {
                    "Nev": "Port Imre",
                    "Szuletesi ido": "2000"
                },
                {
                    "Nev": "Kovács Imre",
                    "Szuletesi ido": "1989"
                },
                {
                    "Nev": "Horváth Emil",
                    "Szuletesi ido": "1995"
                },
                {
                    "Nev": "Kapos Petra",
                    "Szuletesi ido": "2020"
                },
                {
                    "Nev": "Csóka Anna",
                    "Szuletesi ido": "2022"
                },
                {
                    "Nev": "Nyúl Tamás",
                    "Szuletesi ido": "2006"
                },
                {
                    "Nev": "Ordasi Emma",
                    "Szuletesi ido": "1993"
                },
                {
                    "Nev": "Koppány Olga",
                    "Szuletesi ido": "2014"
                },
                {
                    "Nev": "Kozma Patrícia",
                    "Szuletesi ido": "1990"
                }
            ]
        },
        "text/html": [
            "<table>",
            "<tr><th>Nev</th><th>Szuletesi ido</th></tr>",
            "<tr><td>Kos Péter</td><td>2003</td></tr>",
            "<tr><td>Port Imre</td><td>2000</td></tr>",
            "<tr><td>Kovács Imre</td><td>1989</td></tr>",
            "<tr><td>Horváth Emil</td><td>1995</td></tr>",
            "<tr><td>Kapos Petra</td><td>2020</td></tr>",
            "<tr><td>Csóka Anna</td><td>2022</td></tr>",
            "<tr><td>Nyúl Tamás</td><td>2006</td></tr>",
            "<tr><td>Ordasi Emma</td><td>1993</td></tr>",
            "<tr><td>Koppány Olga</td><td>2014</td></tr>",
            "<tr><td>Kozma Patrícia</td><td>1990</td></tr>",
            "</table>"
        ]
    }
}
],
            "execution_count": 71
        },
        {
            "cell_type": "markdown",
            "source": [
                "8. Készítsünk lekérdezést, amely a tanulók nevét és az ebből képzett felhasználói nevét tartalmazza. \n",
                "\n",
                "  \n",
                "\n",
                "a.  A felhasználói név álljon a név első kettő, illetve utolsó kettő betűjének összefűzéséből!\n",
                "\n",
                "b.  A listát szűrjük azon tanulókra, akik teljes neve - szóközzel együtt - legalább 10 betűs!"
            ],
            "metadata": {
                "azdata_cell_guid": "26a504dc-ff6a-439f-94c0-4580eca3eacf"
            },
            "attachments": {}
        },
        {
            "cell_type": "code",
            "source": [
                ""
            ],
            "metadata": {
                "azdata_cell_guid": "1cbb8aeb-78b5-4350-aa45-e3202fdab85b",
                "language": "sql"
            },
            "outputs": [],
            "execution_count": null
        },
        {
            "cell_type": "markdown",
            "source": [
                "9. Készítsünk listát a diákok adatairól, ahol a diákok neve úgy jelenik meg, hogy először a keresztnév, majd a vezetéknév, közöttük szóközzel!  \n",
                "\n",
                "a.  Ezen felül a születési idő három külön oszlopban jelenjen meg (év, hónap, nap). \n",
                "\n",
                "b.  Az oszlopokat nevezzük el értelemszerűen!"
            ],
            "metadata": {
                "azdata_cell_guid": "435e2860-2dd5-4877-90f4-34a43baeb53c"
            },
            "attachments": {}
        },
        {
            "cell_type": "code",
            "source": [
                ""
            ],
            "metadata": {
                "azdata_cell_guid": "ce846351-ddbe-4d8e-b8fb-2a92c73ac80b",
                "language": "sql"
            },
            "outputs": [],
            "execution_count": null
        },
        {
            "cell_type": "markdown",
            "source": [
                "10. Készítsünk listát a munkák azonosítójáról és megnevezéséről! Egy új oszlopban azt is jelenítsük meg, hogy melyik munka hetente mennyit fizet! \n",
                "\n",
                "a.  Az oszlop neve legyen Heti bér, az értéket kerekítsük 1000 forintra! \n",
                "\n",
                "b.  A listát szűrjük azon rekordokra, ahol a kerekített heti bér 10000 Ft felett van!"
            ],
            "metadata": {
                "azdata_cell_guid": "217c5772-afe2-4a7c-b913-e3a3e09d6411"
            },
            "attachments": {}
        },
        {
            "cell_type": "code",
            "source": [
                ""
            ],
            "metadata": {
                "azdata_cell_guid": "a9cc0926-3dbd-4ed8-8179-1c39d64a0762",
                "language": "sql"
            },
            "outputs": [],
            "execution_count": null
        },
        {
            "cell_type": "markdown",
            "source": [
                "11. A diákok számára differenciált béremelést terveznek: a középiskolások esetében 33%, egyéb esetben 17% mértékben. Készítsünk listát, amely tartalmazza a munkák azonosítóját, az állás nevét, az eredeti óradíjat és a tervezett emelt óradíjat.\n",
                "\n",
                "  \n",
                "\n",
                "a.  Az oszlopoknak adjuk nevet értelemszerűen!\n",
                "\n",
                "b.  Az emelt óradíj összegét kerekítsük egészre! (Az esetlegesen megjelenő 0 tizedesjegyekkel ne foglalkozzunk)"
            ],
            "metadata": {
                "azdata_cell_guid": "d2340f5f-1614-473c-b937-85740d67f7c1"
            },
            "attachments": {}
        },
        {
            "cell_type": "code",
            "source": [
                ""
            ],
            "metadata": {
                "azdata_cell_guid": "e99c2c53-898f-4787-b0e6-182d106dc16f",
                "language": "sql"
            },
            "outputs": [],
            "execution_count": null
        },
        {
            "cell_type": "markdown",
            "source": [
                "12. A diákok számára próbaidőt írnak elő, amely a munka kezdetétől számítva 3 hónapig tart.    Jelenítsük meg a munka tábla adatait egy új oszloppal kiegészítve, amelyik a próbaidő    végének dátumát mutatja!  \n",
                "\n",
                "  \n",
                "\n",
                "a.  Az oszlop neve Próbaidő vége legyen! \n",
                "\n",
                "b.  A lista ne tartalmazza azokat a munkákat, ahol a diákok azonosítója nincs megadva!"
            ],
            "metadata": {
                "azdata_cell_guid": "a765e9d6-58b3-4171-872a-78f3118fd6e3"
            },
            "attachments": {}
        },
        {
            "cell_type": "code",
            "source": [
                ""
            ],
            "metadata": {
                "azdata_cell_guid": "422e8127-b652-4d3a-bfd7-9b1637b5781e",
                "language": "sql"
            },
            "outputs": [],
            "execution_count": null
        },
        {
            "cell_type": "markdown",
            "source": [
                "13. Készítsünk listát a munkák azonosítóiról és a megnevezésükről! A megnevezés allas-óraszám formában jelenjen meg, pl: eladó-4. \n",
                "\n",
                "  \n",
                "\n",
                "a.  Jelenítsük meg a dátumot is, de csak a évet és a hónapot, pl: 2003-07! \n",
                "\n",
                "b.  Ennek az oszlopnak 'Kezdés hónapja' legyen a neve! A listát szűrjük a nyári hónapokra!"
            ],
            "metadata": {
                "azdata_cell_guid": "3f9237ae-f109-401c-acb9-31d75e73331b"
            },
            "attachments": {}
        },
        {
            "cell_type": "code",
            "source": [
                ""
            ],
            "metadata": {
                "azdata_cell_guid": "4b31bb89-cfbc-46b1-8639-85c462877786",
                "language": "sql"
            },
            "outputs": [],
            "execution_count": null
        },
        {
            "cell_type": "markdown",
            "source": [
                "14. Készítsünk listát a diákok adatairól, amely a Nev oszlop helyén a diák monogramját jeleníti meg (keresztnév, illetve vezetéknév első betűje összefűzve). \n",
                "\n",
                "a.  A listát szűrjük 1983.01.01 és 1987.06.01 között született diákokra!"
            ],
            "metadata": {
                "azdata_cell_guid": "f634e09a-85ef-4e70-8ec6-ef355dfddaa7"
            },
            "attachments": {}
        },
        {
            "cell_type": "code",
            "source": [
                ""
            ],
            "metadata": {
                "azdata_cell_guid": "88abc55b-2c78-495b-a72f-3f8f4eb5fe70",
                "language": "sql"
            },
            "outputs": [],
            "execution_count": null
        },
        {
            "cell_type": "markdown",
            "source": [
                "15. A diákok a munkakezdés évének utolsó napján bónuszt kapnak, amennyiben az adott évben legalább 6 hónapot dolgoznak. \n",
                "\n",
                "  \n",
                "\n",
                "a.  Jelenítsük meg, hogy az egyes munkák adatait, egy új oszlopban az éves bónusz napját is 'Bónusz dátum' néven! \n",
                "\n",
                "b.  A lista csak a bónuszra jogosultak adatait tartalmazza!"
            ],
            "metadata": {
                "azdata_cell_guid": "4cbf2f0d-a65d-480a-8186-ccdb24498443"
            },
            "attachments": {}
        },
        {
            "cell_type": "code",
            "source": [
                ""
            ],
            "metadata": {
                "azdata_cell_guid": "c148aee8-bc85-40bf-b80a-a4898a6c05cb",
                "language": "sql"
            },
            "outputs": [],
            "execution_count": null
        }
    ]
}