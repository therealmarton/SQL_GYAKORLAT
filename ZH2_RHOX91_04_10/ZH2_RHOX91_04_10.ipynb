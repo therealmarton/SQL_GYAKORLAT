{
    "metadata": {
        "kernelspec": {
            "name": "SQL",
            "display_name": "SQL",
            "language": "sql"
        },
        "language_info": {
            "name": "sql",
            "version": ""
        }
    },
    "nbformat_minor": 2,
    "nbformat": 4,
    "cells": [
        {
            "cell_type": "markdown",
            "source": [
                "1. Listázzuk a foglalások számát szobánként, azon belül a foglalás éve szerint csoportosítva!\n",
                "    \n",
                "    - Az évnél a Mettől oszlopot használjuk\n",
                "    - Jelenítsük meg a részösszegeket és a végösszeget is úgy, hogy ne jelenjen meg minden Oszlop/NULL kombináció!\n",
                "    - A részösszegeket jelöljük megfelelően, pl. Részösszeg vagy Szoba összesen"
            ],
            "metadata": {
                "azdata_cell_guid": "ca9f6772-e142-4026-b120-2159e34ffdde"
            },
            "attachments": {}
        },
        {
            "cell_type": "code",
            "source": [
                "SELECT szoba_fk, year(mettol) as 'eve', count(foglalas_pk) as 'szamuk'\r\n",
                "FROM FOGLALAS\r\n",
                "group by rollup (SZOBA_FK, METTOL)"
            ],
            "metadata": {
                "azdata_cell_guid": "ee1b7857-186c-47da-899f-c4d30465b3ef",
                "language": "sql",
                "tags": []
            },
            "outputs": [
                {
                    "output_type": "display_data",
                    "data": {
                        "text/html": "(1215 rows affected)"
                    },
                    "metadata": {}
                },
                {
                    "output_type": "display_data",
                    "data": {
                        "text/html": "Total execution time: 00:00:00.014"
                    },
                    "metadata": {}
                },
                {
                    "output_type": "execute_result",
                    "metadata": {},
                    "execution_count": 23,
                    "data": {
                        "application/vnd.dataresource+json": {
                            "schema": {
                                "fields": [
                                    {
                                        "name": "szoba_fk"
                                    },
                                    {
                                        "name": "eve"
                                    },
                                    {
                                        "name": "szamuk"
                                    }
                                ]
                            },
                            "data": [
                                {
                                    "szoba_fk": "1",
                                    "eve": "2016",
                                    "szamuk": "1"
                                },
                                {
                                    "szoba_fk": "1",
                                    "eve": "2016",
                                    "szamuk": "1"
                                },
                                {
                                    "szoba_fk": "1",
                                    "eve": "2016",
                                    "szamuk": "1"
                                },
                                {
                                    "szoba_fk": "1",
                                    "eve": "2016",
                                    "szamuk": "1"
                                },
                                {
                                    "szoba_fk": "1",
                                    "eve": "2016",
                                    "szamuk": "1"
                                },
                                {
                                    "szoba_fk": "1",
                                    "eve": "2016",
                                    "szamuk": "1"
                                },
                                {
                                    "szoba_fk": "1",
                                    "eve": "2016",
                                    "szamuk": "1"
                                },
                                {
                                    "szoba_fk": "1",
                                    "eve": "2016",
                                    "szamuk": "1"
                                },
                                {
                                    "szoba_fk": "1",
                                    "eve": "NULL",
                                    "szamuk": "8"
                                },
                                {
                                    "szoba_fk": "2",
                                    "eve": "2016",
                                    "szamuk": "1"
                                },
                                {
                                    "szoba_fk": "2",
                                    "eve": "2016",
                                    "szamuk": "1"
                                },
                                {
                                    "szoba_fk": "2",
                                    "eve": "2016",
                                    "szamuk": "1"
                                },
                                {
                                    "szoba_fk": "2",
                                    "eve": "2016",
                                    "szamuk": "1"
                                },
                                {
                                    "szoba_fk": "2",
                                    "eve": "NULL",
                                    "szamuk": "4"
                                },
                                {
                                    "szoba_fk": "3",
                                    "eve": "2016",
                                    "szamuk": "1"
                                },
                                {
                                    "szoba_fk": "3",
                                    "eve": "2016",
                                    "szamuk": "1"
                                },
                                {
                                    "szoba_fk": "3",
                                    "eve": "2016",
                                    "szamuk": "1"
                                },
                                {
                                    "szoba_fk": "3",
                                    "eve": "2016",
                                    "szamuk": "1"
                                },
                                {
                                    "szoba_fk": "3",
                                    "eve": "2016",
                                    "szamuk": "1"
                                },
                                {
                                    "szoba_fk": "3",
                                    "eve": "2016",
                                    "szamuk": "1"
                                },
                                {
                                    "szoba_fk": "3",
                                    "eve": "2017",
                                    "szamuk": "1"
                                },
                                {
                                    "szoba_fk": "3",
                                    "eve": "2017",
                                    "szamuk": "1"
                                },
                                {
                                    "szoba_fk": "3",
                                    "eve": "NULL",
                                    "szamuk": "8"
                                },
                                {
                                    "szoba_fk": "4",
                                    "eve": "2016",
                                    "szamuk": "1"
                                },
                                {
                                    "szoba_fk": "4",
                                    "eve": "2016",
                                    "szamuk": "1"
                                },
                                {
                                    "szoba_fk": "4",
                                    "eve": "2016",
                                    "szamuk": "1"
                                },
                                {
                                    "szoba_fk": "4",
                                    "eve": "2016",
                                    "szamuk": "1"
                                },
                                {
                                    "szoba_fk": "4",
                                    "eve": "2016",
                                    "szamuk": "1"
                                },
                                {
                                    "szoba_fk": "4",
                                    "eve": "2017",
                                    "szamuk": "1"
                                },
                                {
                                    "szoba_fk": "4",
                                    "eve": "NULL",
                                    "szamuk": "6"
                                },
                                {
                                    "szoba_fk": "5",
                                    "eve": "2016",
                                    "szamuk": "1"
                                },
                                {
                                    "szoba_fk": "5",
                                    "eve": "2016",
                                    "szamuk": "1"
                                },
                                {
                                    "szoba_fk": "5",
                                    "eve": "2016",
                                    "szamuk": "1"
                                },
                                {
                                    "szoba_fk": "5",
                                    "eve": "2016",
                                    "szamuk": "1"
                                },
                                {
                                    "szoba_fk": "5",
                                    "eve": "NULL",
                                    "szamuk": "4"
                                },
                                {
                                    "szoba_fk": "6",
                                    "eve": "2016",
                                    "szamuk": "1"
                                },
                                {
                                    "szoba_fk": "6",
                                    "eve": "2016",
                                    "szamuk": "1"
                                },
                                {
                                    "szoba_fk": "6",
                                    "eve": "2016",
                                    "szamuk": "1"
                                },
                                {
                                    "szoba_fk": "6",
                                    "eve": "2016",
                                    "szamuk": "1"
                                },
                                {
                                    "szoba_fk": "6",
                                    "eve": "2016",
                                    "szamuk": "1"
                                },
                                {
                                    "szoba_fk": "6",
                                    "eve": "2016",
                                    "szamuk": "1"
                                },
                                {
                                    "szoba_fk": "6",
                                    "eve": "NULL",
                                    "szamuk": "6"
                                },
                                {
                                    "szoba_fk": "7",
                                    "eve": "2016",
                                    "szamuk": "1"
                                },
                                {
                                    "szoba_fk": "7",
                                    "eve": "2016",
                                    "szamuk": "1"
                                },
                                {
                                    "szoba_fk": "7",
                                    "eve": "2016",
                                    "szamuk": "1"
                                },
                                {
                                    "szoba_fk": "7",
                                    "eve": "2016",
                                    "szamuk": "1"
                                },
                                {
                                    "szoba_fk": "7",
                                    "eve": "2016",
                                    "szamuk": "1"
                                },
                                {
                                    "szoba_fk": "7",
                                    "eve": "2016",
                                    "szamuk": "1"
                                },
                                {
                                    "szoba_fk": "7",
                                    "eve": "NULL",
                                    "szamuk": "6"
                                },
                                {
                                    "szoba_fk": "8",
                                    "eve": "2016",
                                    "szamuk": "1"
                                },
                                {
                                    "szoba_fk": "8",
                                    "eve": "2016",
                                    "szamuk": "1"
                                },
                                {
                                    "szoba_fk": "8",
                                    "eve": "2016",
                                    "szamuk": "1"
                                },
                                {
                                    "szoba_fk": "8",
                                    "eve": "2016",
                                    "szamuk": "1"
                                },
                                {
                                    "szoba_fk": "8",
                                    "eve": "2016",
                                    "szamuk": "1"
                                },
                                {
                                    "szoba_fk": "8",
                                    "eve": "NULL",
                                    "szamuk": "5"
                                },
                                {
                                    "szoba_fk": "9",
                                    "eve": "2016",
                                    "szamuk": "1"
                                },
                                {
                                    "szoba_fk": "9",
                                    "eve": "2016",
                                    "szamuk": "1"
                                },
                                {
                                    "szoba_fk": "9",
                                    "eve": "2016",
                                    "szamuk": "1"
                                },
                                {
                                    "szoba_fk": "9",
                                    "eve": "2016",
                                    "szamuk": "1"
                                },
                                {
                                    "szoba_fk": "9",
                                    "eve": "2017",
                                    "szamuk": "1"
                                },
                                {
                                    "szoba_fk": "9",
                                    "eve": "2017",
                                    "szamuk": "1"
                                },
                                {
                                    "szoba_fk": "9",
                                    "eve": "NULL",
                                    "szamuk": "6"
                                },
                                {
                                    "szoba_fk": "10",
                                    "eve": "2016",
                                    "szamuk": "1"
                                },
                                {
                                    "szoba_fk": "10",
                                    "eve": "2016",
                                    "szamuk": "1"
                                },
                                {
                                    "szoba_fk": "10",
                                    "eve": "2016",
                                    "szamuk": "1"
                                },
                                {
                                    "szoba_fk": "10",
                                    "eve": "2016",
                                    "szamuk": "1"
                                },
                                {
                                    "szoba_fk": "10",
                                    "eve": "NULL",
                                    "szamuk": "4"
                                },
                                {
                                    "szoba_fk": "11",
                                    "eve": "2016",
                                    "szamuk": "1"
                                },
                                {
                                    "szoba_fk": "11",
                                    "eve": "2016",
                                    "szamuk": "1"
                                },
                                {
                                    "szoba_fk": "11",
                                    "eve": "2016",
                                    "szamuk": "1"
                                },
                                {
                                    "szoba_fk": "11",
                                    "eve": "2017",
                                    "szamuk": "1"
                                },
                                {
                                    "szoba_fk": "11",
                                    "eve": "NULL",
                                    "szamuk": "4"
                                },
                                {
                                    "szoba_fk": "12",
                                    "eve": "2016",
                                    "szamuk": "1"
                                },
                                {
                                    "szoba_fk": "12",
                                    "eve": "2016",
                                    "szamuk": "1"
                                },
                                {
                                    "szoba_fk": "12",
                                    "eve": "2016",
                                    "szamuk": "1"
                                },
                                {
                                    "szoba_fk": "12",
                                    "eve": "2016",
                                    "szamuk": "1"
                                },
                                {
                                    "szoba_fk": "12",
                                    "eve": "2016",
                                    "szamuk": "1"
                                },
                                {
                                    "szoba_fk": "12",
                                    "eve": "2016",
                                    "szamuk": "1"
                                },
                                {
                                    "szoba_fk": "12",
                                    "eve": "2016",
                                    "szamuk": "1"
                                },
                                {
                                    "szoba_fk": "12",
                                    "eve": "2016",
                                    "szamuk": "1"
                                },
                                {
                                    "szoba_fk": "12",
                                    "eve": "2017",
                                    "szamuk": "1"
                                },
                                {
                                    "szoba_fk": "12",
                                    "eve": "NULL",
                                    "szamuk": "9"
                                },
                                {
                                    "szoba_fk": "13",
                                    "eve": "2016",
                                    "szamuk": "1"
                                },
                                {
                                    "szoba_fk": "13",
                                    "eve": "2016",
                                    "szamuk": "1"
                                },
                                {
                                    "szoba_fk": "13",
                                    "eve": "2016",
                                    "szamuk": "1"
                                },
                                {
                                    "szoba_fk": "13",
                                    "eve": "2017",
                                    "szamuk": "1"
                                },
                                {
                                    "szoba_fk": "13",
                                    "eve": "NULL",
                                    "szamuk": "4"
                                },
                                {
                                    "szoba_fk": "14",
                                    "eve": "2016",
                                    "szamuk": "1"
                                },
                                {
                                    "szoba_fk": "14",
                                    "eve": "2016",
                                    "szamuk": "1"
                                },
                                {
                                    "szoba_fk": "14",
                                    "eve": "2017",
                                    "szamuk": "1"
                                },
                                {
                                    "szoba_fk": "14",
                                    "eve": "NULL",
                                    "szamuk": "3"
                                },
                                {
                                    "szoba_fk": "15",
                                    "eve": "2016",
                                    "szamuk": "1"
                                },
                                {
                                    "szoba_fk": "15",
                                    "eve": "2016",
                                    "szamuk": "1"
                                },
                                {
                                    "szoba_fk": "15",
                                    "eve": "2016",
                                    "szamuk": "1"
                                },
                                {
                                    "szoba_fk": "15",
                                    "eve": "2016",
                                    "szamuk": "1"
                                },
                                {
                                    "szoba_fk": "15",
                                    "eve": "2017",
                                    "szamuk": "1"
                                },
                                {
                                    "szoba_fk": "15",
                                    "eve": "2017",
                                    "szamuk": "1"
                                },
                                {
                                    "szoba_fk": "15",
                                    "eve": "NULL",
                                    "szamuk": "6"
                                },
                                {
                                    "szoba_fk": "16",
                                    "eve": "2016",
                                    "szamuk": "1"
                                },
                                {
                                    "szoba_fk": "16",
                                    "eve": "2016",
                                    "szamuk": "1"
                                },
                                {
                                    "szoba_fk": "16",
                                    "eve": "2016",
                                    "szamuk": "1"
                                },
                                {
                                    "szoba_fk": "16",
                                    "eve": "2016",
                                    "szamuk": "1"
                                },
                                {
                                    "szoba_fk": "16",
                                    "eve": "2017",
                                    "szamuk": "1"
                                },
                                {
                                    "szoba_fk": "16",
                                    "eve": "NULL",
                                    "szamuk": "5"
                                },
                                {
                                    "szoba_fk": "17",
                                    "eve": "2016",
                                    "szamuk": "1"
                                },
                                {
                                    "szoba_fk": "17",
                                    "eve": "2016",
                                    "szamuk": "1"
                                },
                                {
                                    "szoba_fk": "17",
                                    "eve": "2016",
                                    "szamuk": "1"
                                },
                                {
                                    "szoba_fk": "17",
                                    "eve": "2016",
                                    "szamuk": "1"
                                },
                                {
                                    "szoba_fk": "17",
                                    "eve": "2016",
                                    "szamuk": "1"
                                },
                                {
                                    "szoba_fk": "17",
                                    "eve": "2017",
                                    "szamuk": "1"
                                },
                                {
                                    "szoba_fk": "17",
                                    "eve": "NULL",
                                    "szamuk": "6"
                                },
                                {
                                    "szoba_fk": "18",
                                    "eve": "2016",
                                    "szamuk": "1"
                                },
                                {
                                    "szoba_fk": "18",
                                    "eve": "2016",
                                    "szamuk": "1"
                                },
                                {
                                    "szoba_fk": "18",
                                    "eve": "2016",
                                    "szamuk": "1"
                                },
                                {
                                    "szoba_fk": "18",
                                    "eve": "2016",
                                    "szamuk": "1"
                                },
                                {
                                    "szoba_fk": "18",
                                    "eve": "2016",
                                    "szamuk": "1"
                                },
                                {
                                    "szoba_fk": "18",
                                    "eve": "2017",
                                    "szamuk": "1"
                                },
                                {
                                    "szoba_fk": "18",
                                    "eve": "NULL",
                                    "szamuk": "6"
                                },
                                {
                                    "szoba_fk": "19",
                                    "eve": "2016",
                                    "szamuk": "1"
                                },
                                {
                                    "szoba_fk": "19",
                                    "eve": "2016",
                                    "szamuk": "1"
                                },
                                {
                                    "szoba_fk": "19",
                                    "eve": "2016",
                                    "szamuk": "1"
                                },
                                {
                                    "szoba_fk": "19",
                                    "eve": "2016",
                                    "szamuk": "1"
                                },
                                {
                                    "szoba_fk": "19",
                                    "eve": "2016",
                                    "szamuk": "1"
                                },
                                {
                                    "szoba_fk": "19",
                                    "eve": "2017",
                                    "szamuk": "1"
                                },
                                {
                                    "szoba_fk": "19",
                                    "eve": "NULL",
                                    "szamuk": "6"
                                },
                                {
                                    "szoba_fk": "20",
                                    "eve": "2016",
                                    "szamuk": "1"
                                },
                                {
                                    "szoba_fk": "20",
                                    "eve": "2016",
                                    "szamuk": "1"
                                },
                                {
                                    "szoba_fk": "20",
                                    "eve": "2016",
                                    "szamuk": "1"
                                },
                                {
                                    "szoba_fk": "20",
                                    "eve": "2016",
                                    "szamuk": "2"
                                },
                                {
                                    "szoba_fk": "20",
                                    "eve": "NULL",
                                    "szamuk": "5"
                                },
                                {
                                    "szoba_fk": "21",
                                    "eve": "2016",
                                    "szamuk": "1"
                                },
                                {
                                    "szoba_fk": "21",
                                    "eve": "2016",
                                    "szamuk": "1"
                                },
                                {
                                    "szoba_fk": "21",
                                    "eve": "2016",
                                    "szamuk": "1"
                                },
                                {
                                    "szoba_fk": "21",
                                    "eve": "2016",
                                    "szamuk": "1"
                                },
                                {
                                    "szoba_fk": "21",
                                    "eve": "NULL",
                                    "szamuk": "4"
                                },
                                {
                                    "szoba_fk": "22",
                                    "eve": "2016",
                                    "szamuk": "1"
                                },
                                {
                                    "szoba_fk": "22",
                                    "eve": "2016",
                                    "szamuk": "1"
                                },
                                {
                                    "szoba_fk": "22",
                                    "eve": "2016",
                                    "szamuk": "1"
                                },
                                {
                                    "szoba_fk": "22",
                                    "eve": "2016",
                                    "szamuk": "1"
                                },
                                {
                                    "szoba_fk": "22",
                                    "eve": "2016",
                                    "szamuk": "1"
                                },
                                {
                                    "szoba_fk": "22",
                                    "eve": "2016",
                                    "szamuk": "1"
                                },
                                {
                                    "szoba_fk": "22",
                                    "eve": "NULL",
                                    "szamuk": "6"
                                },
                                {
                                    "szoba_fk": "23",
                                    "eve": "2016",
                                    "szamuk": "1"
                                },
                                {
                                    "szoba_fk": "23",
                                    "eve": "2016",
                                    "szamuk": "1"
                                },
                                {
                                    "szoba_fk": "23",
                                    "eve": "2016",
                                    "szamuk": "1"
                                },
                                {
                                    "szoba_fk": "23",
                                    "eve": "NULL",
                                    "szamuk": "3"
                                },
                                {
                                    "szoba_fk": "24",
                                    "eve": "2016",
                                    "szamuk": "1"
                                },
                                {
                                    "szoba_fk": "24",
                                    "eve": "2016",
                                    "szamuk": "1"
                                },
                                {
                                    "szoba_fk": "24",
                                    "eve": "2017",
                                    "szamuk": "1"
                                },
                                {
                                    "szoba_fk": "24",
                                    "eve": "NULL",
                                    "szamuk": "3"
                                },
                                {
                                    "szoba_fk": "25",
                                    "eve": "2016",
                                    "szamuk": "1"
                                },
                                {
                                    "szoba_fk": "25",
                                    "eve": "2016",
                                    "szamuk": "1"
                                },
                                {
                                    "szoba_fk": "25",
                                    "eve": "NULL",
                                    "szamuk": "2"
                                },
                                {
                                    "szoba_fk": "26",
                                    "eve": "2016",
                                    "szamuk": "1"
                                },
                                {
                                    "szoba_fk": "26",
                                    "eve": "2016",
                                    "szamuk": "1"
                                },
                                {
                                    "szoba_fk": "26",
                                    "eve": "NULL",
                                    "szamuk": "2"
                                },
                                {
                                    "szoba_fk": "27",
                                    "eve": "2016",
                                    "szamuk": "1"
                                },
                                {
                                    "szoba_fk": "27",
                                    "eve": "2016",
                                    "szamuk": "1"
                                },
                                {
                                    "szoba_fk": "27",
                                    "eve": "2016",
                                    "szamuk": "1"
                                },
                                {
                                    "szoba_fk": "27",
                                    "eve": "2016",
                                    "szamuk": "1"
                                },
                                {
                                    "szoba_fk": "27",
                                    "eve": "2016",
                                    "szamuk": "1"
                                },
                                {
                                    "szoba_fk": "27",
                                    "eve": "2016",
                                    "szamuk": "1"
                                },
                                {
                                    "szoba_fk": "27",
                                    "eve": "2017",
                                    "szamuk": "1"
                                },
                                {
                                    "szoba_fk": "27",
                                    "eve": "NULL",
                                    "szamuk": "7"
                                },
                                {
                                    "szoba_fk": "28",
                                    "eve": "2016",
                                    "szamuk": "1"
                                },
                                {
                                    "szoba_fk": "28",
                                    "eve": "2016",
                                    "szamuk": "1"
                                },
                                {
                                    "szoba_fk": "28",
                                    "eve": "2016",
                                    "szamuk": "1"
                                },
                                {
                                    "szoba_fk": "28",
                                    "eve": "2016",
                                    "szamuk": "1"
                                },
                                {
                                    "szoba_fk": "28",
                                    "eve": "2016",
                                    "szamuk": "1"
                                },
                                {
                                    "szoba_fk": "28",
                                    "eve": "2017",
                                    "szamuk": "1"
                                },
                                {
                                    "szoba_fk": "28",
                                    "eve": "NULL",
                                    "szamuk": "6"
                                },
                                {
                                    "szoba_fk": "29",
                                    "eve": "2016",
                                    "szamuk": "1"
                                },
                                {
                                    "szoba_fk": "29",
                                    "eve": "2016",
                                    "szamuk": "1"
                                },
                                {
                                    "szoba_fk": "29",
                                    "eve": "2016",
                                    "szamuk": "1"
                                },
                                {
                                    "szoba_fk": "29",
                                    "eve": "2016",
                                    "szamuk": "1"
                                },
                                {
                                    "szoba_fk": "29",
                                    "eve": "2016",
                                    "szamuk": "1"
                                },
                                {
                                    "szoba_fk": "29",
                                    "eve": "2017",
                                    "szamuk": "1"
                                },
                                {
                                    "szoba_fk": "29",
                                    "eve": "NULL",
                                    "szamuk": "6"
                                },
                                {
                                    "szoba_fk": "30",
                                    "eve": "2016",
                                    "szamuk": "1"
                                },
                                {
                                    "szoba_fk": "30",
                                    "eve": "2016",
                                    "szamuk": "1"
                                },
                                {
                                    "szoba_fk": "30",
                                    "eve": "2016",
                                    "szamuk": "1"
                                },
                                {
                                    "szoba_fk": "30",
                                    "eve": "NULL",
                                    "szamuk": "3"
                                },
                                {
                                    "szoba_fk": "31",
                                    "eve": "2016",
                                    "szamuk": "1"
                                },
                                {
                                    "szoba_fk": "31",
                                    "eve": "2016",
                                    "szamuk": "1"
                                },
                                {
                                    "szoba_fk": "31",
                                    "eve": "2016",
                                    "szamuk": "1"
                                },
                                {
                                    "szoba_fk": "31",
                                    "eve": "NULL",
                                    "szamuk": "3"
                                },
                                {
                                    "szoba_fk": "32",
                                    "eve": "2016",
                                    "szamuk": "1"
                                },
                                {
                                    "szoba_fk": "32",
                                    "eve": "NULL",
                                    "szamuk": "1"
                                },
                                {
                                    "szoba_fk": "33",
                                    "eve": "2016",
                                    "szamuk": "1"
                                },
                                {
                                    "szoba_fk": "33",
                                    "eve": "2016",
                                    "szamuk": "1"
                                },
                                {
                                    "szoba_fk": "33",
                                    "eve": "2016",
                                    "szamuk": "1"
                                },
                                {
                                    "szoba_fk": "33",
                                    "eve": "2016",
                                    "szamuk": "1"
                                },
                                {
                                    "szoba_fk": "33",
                                    "eve": "2016",
                                    "szamuk": "1"
                                },
                                {
                                    "szoba_fk": "33",
                                    "eve": "2016",
                                    "szamuk": "1"
                                },
                                {
                                    "szoba_fk": "33",
                                    "eve": "NULL",
                                    "szamuk": "6"
                                },
                                {
                                    "szoba_fk": "34",
                                    "eve": "2016",
                                    "szamuk": "1"
                                },
                                {
                                    "szoba_fk": "34",
                                    "eve": "2016",
                                    "szamuk": "1"
                                },
                                {
                                    "szoba_fk": "34",
                                    "eve": "2016",
                                    "szamuk": "1"
                                },
                                {
                                    "szoba_fk": "34",
                                    "eve": "2016",
                                    "szamuk": "1"
                                },
                                {
                                    "szoba_fk": "34",
                                    "eve": "NULL",
                                    "szamuk": "4"
                                },
                                {
                                    "szoba_fk": "35",
                                    "eve": "2016",
                                    "szamuk": "1"
                                },
                                {
                                    "szoba_fk": "35",
                                    "eve": "2016",
                                    "szamuk": "1"
                                },
                                {
                                    "szoba_fk": "35",
                                    "eve": "2016",
                                    "szamuk": "1"
                                },
                                {
                                    "szoba_fk": "35",
                                    "eve": "2016",
                                    "szamuk": "1"
                                },
                                {
                                    "szoba_fk": "35",
                                    "eve": "2016",
                                    "szamuk": "1"
                                },
                                {
                                    "szoba_fk": "35",
                                    "eve": "2016",
                                    "szamuk": "1"
                                },
                                {
                                    "szoba_fk": "35",
                                    "eve": "2017",
                                    "szamuk": "1"
                                },
                                {
                                    "szoba_fk": "35",
                                    "eve": "2017",
                                    "szamuk": "1"
                                },
                                {
                                    "szoba_fk": "35",
                                    "eve": "2017",
                                    "szamuk": "1"
                                },
                                {
                                    "szoba_fk": "35",
                                    "eve": "NULL",
                                    "szamuk": "9"
                                },
                                {
                                    "szoba_fk": "36",
                                    "eve": "2016",
                                    "szamuk": "1"
                                },
                                {
                                    "szoba_fk": "36",
                                    "eve": "2016",
                                    "szamuk": "1"
                                },
                                {
                                    "szoba_fk": "36",
                                    "eve": "2016",
                                    "szamuk": "1"
                                },
                                {
                                    "szoba_fk": "36",
                                    "eve": "2016",
                                    "szamuk": "1"
                                },
                                {
                                    "szoba_fk": "36",
                                    "eve": "2016",
                                    "szamuk": "1"
                                },
                                {
                                    "szoba_fk": "36",
                                    "eve": "2016",
                                    "szamuk": "1"
                                },
                                {
                                    "szoba_fk": "36",
                                    "eve": "NULL",
                                    "szamuk": "6"
                                },
                                {
                                    "szoba_fk": "37",
                                    "eve": "2016",
                                    "szamuk": "1"
                                },
                                {
                                    "szoba_fk": "37",
                                    "eve": "2016",
                                    "szamuk": "1"
                                },
                                {
                                    "szoba_fk": "37",
                                    "eve": "2016",
                                    "szamuk": "1"
                                },
                                {
                                    "szoba_fk": "37",
                                    "eve": "NULL",
                                    "szamuk": "3"
                                },
                                {
                                    "szoba_fk": "38",
                                    "eve": "2016",
                                    "szamuk": "1"
                                },
                                {
                                    "szoba_fk": "38",
                                    "eve": "2016",
                                    "szamuk": "1"
                                },
                                {
                                    "szoba_fk": "38",
                                    "eve": "2016",
                                    "szamuk": "1"
                                },
                                {
                                    "szoba_fk": "38",
                                    "eve": "2016",
                                    "szamuk": "1"
                                },
                                {
                                    "szoba_fk": "38",
                                    "eve": "2016",
                                    "szamuk": "1"
                                },
                                {
                                    "szoba_fk": "38",
                                    "eve": "2017",
                                    "szamuk": "1"
                                },
                                {
                                    "szoba_fk": "38",
                                    "eve": "2017",
                                    "szamuk": "1"
                                },
                                {
                                    "szoba_fk": "38",
                                    "eve": "2017",
                                    "szamuk": "1"
                                },
                                {
                                    "szoba_fk": "38",
                                    "eve": "NULL",
                                    "szamuk": "8"
                                },
                                {
                                    "szoba_fk": "39",
                                    "eve": "2016",
                                    "szamuk": "1"
                                },
                                {
                                    "szoba_fk": "39",
                                    "eve": "2016",
                                    "szamuk": "1"
                                },
                                {
                                    "szoba_fk": "39",
                                    "eve": "2016",
                                    "szamuk": "1"
                                },
                                {
                                    "szoba_fk": "39",
                                    "eve": "2016",
                                    "szamuk": "1"
                                },
                                {
                                    "szoba_fk": "39",
                                    "eve": "2017",
                                    "szamuk": "1"
                                },
                                {
                                    "szoba_fk": "39",
                                    "eve": "2017",
                                    "szamuk": "1"
                                },
                                {
                                    "szoba_fk": "39",
                                    "eve": "2017",
                                    "szamuk": "1"
                                },
                                {
                                    "szoba_fk": "39",
                                    "eve": "NULL",
                                    "szamuk": "7"
                                },
                                {
                                    "szoba_fk": "40",
                                    "eve": "2016",
                                    "szamuk": "2"
                                },
                                {
                                    "szoba_fk": "40",
                                    "eve": "2016",
                                    "szamuk": "1"
                                },
                                {
                                    "szoba_fk": "40",
                                    "eve": "2016",
                                    "szamuk": "1"
                                },
                                {
                                    "szoba_fk": "40",
                                    "eve": "NULL",
                                    "szamuk": "4"
                                },
                                {
                                    "szoba_fk": "41",
                                    "eve": "2016",
                                    "szamuk": "1"
                                },
                                {
                                    "szoba_fk": "41",
                                    "eve": "2016",
                                    "szamuk": "1"
                                },
                                {
                                    "szoba_fk": "41",
                                    "eve": "NULL",
                                    "szamuk": "2"
                                },
                                {
                                    "szoba_fk": "42",
                                    "eve": "2016",
                                    "szamuk": "1"
                                },
                                {
                                    "szoba_fk": "42",
                                    "eve": "2016",
                                    "szamuk": "1"
                                },
                                {
                                    "szoba_fk": "42",
                                    "eve": "2016",
                                    "szamuk": "1"
                                },
                                {
                                    "szoba_fk": "42",
                                    "eve": "2016",
                                    "szamuk": "1"
                                },
                                {
                                    "szoba_fk": "42",
                                    "eve": "2016",
                                    "szamuk": "1"
                                },
                                {
                                    "szoba_fk": "42",
                                    "eve": "2017",
                                    "szamuk": "1"
                                },
                                {
                                    "szoba_fk": "42",
                                    "eve": "NULL",
                                    "szamuk": "6"
                                },
                                {
                                    "szoba_fk": "43",
                                    "eve": "2016",
                                    "szamuk": "1"
                                },
                                {
                                    "szoba_fk": "43",
                                    "eve": "2016",
                                    "szamuk": "1"
                                },
                                {
                                    "szoba_fk": "43",
                                    "eve": "2016",
                                    "szamuk": "1"
                                },
                                {
                                    "szoba_fk": "43",
                                    "eve": "2016",
                                    "szamuk": "1"
                                },
                                {
                                    "szoba_fk": "43",
                                    "eve": "2016",
                                    "szamuk": "1"
                                },
                                {
                                    "szoba_fk": "43",
                                    "eve": "2016",
                                    "szamuk": "1"
                                },
                                {
                                    "szoba_fk": "43",
                                    "eve": "2017",
                                    "szamuk": "1"
                                },
                                {
                                    "szoba_fk": "43",
                                    "eve": "2017",
                                    "szamuk": "1"
                                },
                                {
                                    "szoba_fk": "43",
                                    "eve": "NULL",
                                    "szamuk": "8"
                                },
                                {
                                    "szoba_fk": "44",
                                    "eve": "2016",
                                    "szamuk": "1"
                                },
                                {
                                    "szoba_fk": "44",
                                    "eve": "2016",
                                    "szamuk": "1"
                                },
                                {
                                    "szoba_fk": "44",
                                    "eve": "2016",
                                    "szamuk": "1"
                                },
                                {
                                    "szoba_fk": "44",
                                    "eve": "2016",
                                    "szamuk": "1"
                                },
                                {
                                    "szoba_fk": "44",
                                    "eve": "2017",
                                    "szamuk": "1"
                                },
                                {
                                    "szoba_fk": "44",
                                    "eve": "2017",
                                    "szamuk": "1"
                                },
                                {
                                    "szoba_fk": "44",
                                    "eve": "NULL",
                                    "szamuk": "6"
                                },
                                {
                                    "szoba_fk": "45",
                                    "eve": "2016",
                                    "szamuk": "2"
                                },
                                {
                                    "szoba_fk": "45",
                                    "eve": "2016",
                                    "szamuk": "1"
                                },
                                {
                                    "szoba_fk": "45",
                                    "eve": "2016",
                                    "szamuk": "1"
                                },
                                {
                                    "szoba_fk": "45",
                                    "eve": "2016",
                                    "szamuk": "1"
                                },
                                {
                                    "szoba_fk": "45",
                                    "eve": "NULL",
                                    "szamuk": "5"
                                },
                                {
                                    "szoba_fk": "46",
                                    "eve": "2016",
                                    "szamuk": "1"
                                },
                                {
                                    "szoba_fk": "46",
                                    "eve": "2016",
                                    "szamuk": "1"
                                },
                                {
                                    "szoba_fk": "46",
                                    "eve": "2016",
                                    "szamuk": "1"
                                },
                                {
                                    "szoba_fk": "46",
                                    "eve": "2017",
                                    "szamuk": "1"
                                },
                                {
                                    "szoba_fk": "46",
                                    "eve": "NULL",
                                    "szamuk": "4"
                                },
                                {
                                    "szoba_fk": "47",
                                    "eve": "2016",
                                    "szamuk": "1"
                                },
                                {
                                    "szoba_fk": "47",
                                    "eve": "2016",
                                    "szamuk": "1"
                                },
                                {
                                    "szoba_fk": "47",
                                    "eve": "NULL",
                                    "szamuk": "2"
                                },
                                {
                                    "szoba_fk": "48",
                                    "eve": "2016",
                                    "szamuk": "1"
                                },
                                {
                                    "szoba_fk": "48",
                                    "eve": "2016",
                                    "szamuk": "1"
                                },
                                {
                                    "szoba_fk": "48",
                                    "eve": "2016",
                                    "szamuk": "1"
                                },
                                {
                                    "szoba_fk": "48",
                                    "eve": "2016",
                                    "szamuk": "1"
                                },
                                {
                                    "szoba_fk": "48",
                                    "eve": "2016",
                                    "szamuk": "1"
                                },
                                {
                                    "szoba_fk": "48",
                                    "eve": "2016",
                                    "szamuk": "1"
                                },
                                {
                                    "szoba_fk": "48",
                                    "eve": "2017",
                                    "szamuk": "1"
                                },
                                {
                                    "szoba_fk": "48",
                                    "eve": "2017",
                                    "szamuk": "1"
                                },
                                {
                                    "szoba_fk": "48",
                                    "eve": "2017",
                                    "szamuk": "1"
                                },
                                {
                                    "szoba_fk": "48",
                                    "eve": "NULL",
                                    "szamuk": "9"
                                },
                                {
                                    "szoba_fk": "49",
                                    "eve": "2016",
                                    "szamuk": "1"
                                },
                                {
                                    "szoba_fk": "49",
                                    "eve": "2016",
                                    "szamuk": "1"
                                },
                                {
                                    "szoba_fk": "49",
                                    "eve": "2016",
                                    "szamuk": "1"
                                },
                                {
                                    "szoba_fk": "49",
                                    "eve": "2016",
                                    "szamuk": "1"
                                },
                                {
                                    "szoba_fk": "49",
                                    "eve": "2016",
                                    "szamuk": "1"
                                },
                                {
                                    "szoba_fk": "49",
                                    "eve": "2016",
                                    "szamuk": "1"
                                },
                                {
                                    "szoba_fk": "49",
                                    "eve": "2017",
                                    "szamuk": "1"
                                },
                                {
                                    "szoba_fk": "49",
                                    "eve": "NULL",
                                    "szamuk": "7"
                                },
                                {
                                    "szoba_fk": "50",
                                    "eve": "2016",
                                    "szamuk": "1"
                                },
                                {
                                    "szoba_fk": "50",
                                    "eve": "2016",
                                    "szamuk": "1"
                                },
                                {
                                    "szoba_fk": "50",
                                    "eve": "2016",
                                    "szamuk": "1"
                                },
                                {
                                    "szoba_fk": "50",
                                    "eve": "2016",
                                    "szamuk": "1"
                                },
                                {
                                    "szoba_fk": "50",
                                    "eve": "NULL",
                                    "szamuk": "4"
                                },
                                {
                                    "szoba_fk": "51",
                                    "eve": "2016",
                                    "szamuk": "1"
                                },
                                {
                                    "szoba_fk": "51",
                                    "eve": "2016",
                                    "szamuk": "1"
                                },
                                {
                                    "szoba_fk": "51",
                                    "eve": "2016",
                                    "szamuk": "1"
                                },
                                {
                                    "szoba_fk": "51",
                                    "eve": "2017",
                                    "szamuk": "1"
                                },
                                {
                                    "szoba_fk": "51",
                                    "eve": "2017",
                                    "szamuk": "1"
                                },
                                {
                                    "szoba_fk": "51",
                                    "eve": "NULL",
                                    "szamuk": "5"
                                },
                                {
                                    "szoba_fk": "52",
                                    "eve": "2016",
                                    "szamuk": "1"
                                },
                                {
                                    "szoba_fk": "52",
                                    "eve": "2016",
                                    "szamuk": "1"
                                },
                                {
                                    "szoba_fk": "52",
                                    "eve": "2016",
                                    "szamuk": "1"
                                },
                                {
                                    "szoba_fk": "52",
                                    "eve": "2017",
                                    "szamuk": "1"
                                },
                                {
                                    "szoba_fk": "52",
                                    "eve": "2017",
                                    "szamuk": "1"
                                },
                                {
                                    "szoba_fk": "52",
                                    "eve": "NULL",
                                    "szamuk": "5"
                                },
                                {
                                    "szoba_fk": "53",
                                    "eve": "2016",
                                    "szamuk": "1"
                                },
                                {
                                    "szoba_fk": "53",
                                    "eve": "2016",
                                    "szamuk": "1"
                                },
                                {
                                    "szoba_fk": "53",
                                    "eve": "NULL",
                                    "szamuk": "2"
                                },
                                {
                                    "szoba_fk": "54",
                                    "eve": "2016",
                                    "szamuk": "1"
                                },
                                {
                                    "szoba_fk": "54",
                                    "eve": "2016",
                                    "szamuk": "1"
                                },
                                {
                                    "szoba_fk": "54",
                                    "eve": "2016",
                                    "szamuk": "1"
                                },
                                {
                                    "szoba_fk": "54",
                                    "eve": "2016",
                                    "szamuk": "1"
                                },
                                {
                                    "szoba_fk": "54",
                                    "eve": "2016",
                                    "szamuk": "1"
                                },
                                {
                                    "szoba_fk": "54",
                                    "eve": "2016",
                                    "szamuk": "1"
                                },
                                {
                                    "szoba_fk": "54",
                                    "eve": "NULL",
                                    "szamuk": "6"
                                },
                                {
                                    "szoba_fk": "55",
                                    "eve": "2016",
                                    "szamuk": "1"
                                },
                                {
                                    "szoba_fk": "55",
                                    "eve": "2016",
                                    "szamuk": "1"
                                },
                                {
                                    "szoba_fk": "55",
                                    "eve": "2016",
                                    "szamuk": "1"
                                },
                                {
                                    "szoba_fk": "55",
                                    "eve": "2016",
                                    "szamuk": "1"
                                },
                                {
                                    "szoba_fk": "55",
                                    "eve": "2016",
                                    "szamuk": "1"
                                },
                                {
                                    "szoba_fk": "55",
                                    "eve": "2016",
                                    "szamuk": "1"
                                },
                                {
                                    "szoba_fk": "55",
                                    "eve": "2017",
                                    "szamuk": "1"
                                },
                                {
                                    "szoba_fk": "55",
                                    "eve": "2017",
                                    "szamuk": "1"
                                },
                                {
                                    "szoba_fk": "55",
                                    "eve": "NULL",
                                    "szamuk": "8"
                                },
                                {
                                    "szoba_fk": "56",
                                    "eve": "2016",
                                    "szamuk": "1"
                                },
                                {
                                    "szoba_fk": "56",
                                    "eve": "2016",
                                    "szamuk": "1"
                                },
                                {
                                    "szoba_fk": "56",
                                    "eve": "NULL",
                                    "szamuk": "2"
                                },
                                {
                                    "szoba_fk": "57",
                                    "eve": "2016",
                                    "szamuk": "1"
                                },
                                {
                                    "szoba_fk": "57",
                                    "eve": "2016",
                                    "szamuk": "1"
                                },
                                {
                                    "szoba_fk": "57",
                                    "eve": "2017",
                                    "szamuk": "1"
                                },
                                {
                                    "szoba_fk": "57",
                                    "eve": "2017",
                                    "szamuk": "1"
                                },
                                {
                                    "szoba_fk": "57",
                                    "eve": "NULL",
                                    "szamuk": "4"
                                },
                                {
                                    "szoba_fk": "58",
                                    "eve": "2016",
                                    "szamuk": "1"
                                },
                                {
                                    "szoba_fk": "58",
                                    "eve": "2016",
                                    "szamuk": "1"
                                },
                                {
                                    "szoba_fk": "58",
                                    "eve": "2016",
                                    "szamuk": "1"
                                },
                                {
                                    "szoba_fk": "58",
                                    "eve": "2016",
                                    "szamuk": "1"
                                },
                                {
                                    "szoba_fk": "58",
                                    "eve": "2016",
                                    "szamuk": "1"
                                },
                                {
                                    "szoba_fk": "58",
                                    "eve": "2016",
                                    "szamuk": "1"
                                },
                                {
                                    "szoba_fk": "58",
                                    "eve": "2016",
                                    "szamuk": "1"
                                },
                                {
                                    "szoba_fk": "58",
                                    "eve": "2016",
                                    "szamuk": "1"
                                },
                                {
                                    "szoba_fk": "58",
                                    "eve": "2016",
                                    "szamuk": "1"
                                },
                                {
                                    "szoba_fk": "58",
                                    "eve": "2016",
                                    "szamuk": "1"
                                },
                                {
                                    "szoba_fk": "58",
                                    "eve": "2016",
                                    "szamuk": "1"
                                },
                                {
                                    "szoba_fk": "58",
                                    "eve": "2016",
                                    "szamuk": "1"
                                },
                                {
                                    "szoba_fk": "58",
                                    "eve": "2017",
                                    "szamuk": "1"
                                },
                                {
                                    "szoba_fk": "58",
                                    "eve": "NULL",
                                    "szamuk": "13"
                                },
                                {
                                    "szoba_fk": "59",
                                    "eve": "2016",
                                    "szamuk": "1"
                                },
                                {
                                    "szoba_fk": "59",
                                    "eve": "2016",
                                    "szamuk": "1"
                                },
                                {
                                    "szoba_fk": "59",
                                    "eve": "2016",
                                    "szamuk": "1"
                                },
                                {
                                    "szoba_fk": "59",
                                    "eve": "2016",
                                    "szamuk": "1"
                                },
                                {
                                    "szoba_fk": "59",
                                    "eve": "2016",
                                    "szamuk": "1"
                                },
                                {
                                    "szoba_fk": "59",
                                    "eve": "2016",
                                    "szamuk": "1"
                                },
                                {
                                    "szoba_fk": "59",
                                    "eve": "2017",
                                    "szamuk": "1"
                                },
                                {
                                    "szoba_fk": "59",
                                    "eve": "NULL",
                                    "szamuk": "7"
                                },
                                {
                                    "szoba_fk": "60",
                                    "eve": "2016",
                                    "szamuk": "1"
                                },
                                {
                                    "szoba_fk": "60",
                                    "eve": "NULL",
                                    "szamuk": "1"
                                },
                                {
                                    "szoba_fk": "61",
                                    "eve": "2016",
                                    "szamuk": "1"
                                },
                                {
                                    "szoba_fk": "61",
                                    "eve": "2016",
                                    "szamuk": "1"
                                },
                                {
                                    "szoba_fk": "61",
                                    "eve": "2016",
                                    "szamuk": "1"
                                },
                                {
                                    "szoba_fk": "61",
                                    "eve": "2016",
                                    "szamuk": "1"
                                },
                                {
                                    "szoba_fk": "61",
                                    "eve": "2017",
                                    "szamuk": "1"
                                },
                                {
                                    "szoba_fk": "61",
                                    "eve": "NULL",
                                    "szamuk": "5"
                                },
                                {
                                    "szoba_fk": "62",
                                    "eve": "2016",
                                    "szamuk": "1"
                                },
                                {
                                    "szoba_fk": "62",
                                    "eve": "2016",
                                    "szamuk": "1"
                                },
                                {
                                    "szoba_fk": "62",
                                    "eve": "2016",
                                    "szamuk": "1"
                                },
                                {
                                    "szoba_fk": "62",
                                    "eve": "2016",
                                    "szamuk": "1"
                                },
                                {
                                    "szoba_fk": "62",
                                    "eve": "2017",
                                    "szamuk": "1"
                                },
                                {
                                    "szoba_fk": "62",
                                    "eve": "NULL",
                                    "szamuk": "5"
                                },
                                {
                                    "szoba_fk": "63",
                                    "eve": "2016",
                                    "szamuk": "1"
                                },
                                {
                                    "szoba_fk": "63",
                                    "eve": "2016",
                                    "szamuk": "1"
                                },
                                {
                                    "szoba_fk": "63",
                                    "eve": "2016",
                                    "szamuk": "1"
                                },
                                {
                                    "szoba_fk": "63",
                                    "eve": "2016",
                                    "szamuk": "1"
                                },
                                {
                                    "szoba_fk": "63",
                                    "eve": "NULL",
                                    "szamuk": "4"
                                },
                                {
                                    "szoba_fk": "64",
                                    "eve": "2016",
                                    "szamuk": "1"
                                },
                                {
                                    "szoba_fk": "64",
                                    "eve": "2016",
                                    "szamuk": "1"
                                },
                                {
                                    "szoba_fk": "64",
                                    "eve": "2016",
                                    "szamuk": "1"
                                },
                                {
                                    "szoba_fk": "64",
                                    "eve": "2017",
                                    "szamuk": "1"
                                },
                                {
                                    "szoba_fk": "64",
                                    "eve": "2017",
                                    "szamuk": "1"
                                },
                                {
                                    "szoba_fk": "64",
                                    "eve": "2017",
                                    "szamuk": "1"
                                },
                                {
                                    "szoba_fk": "64",
                                    "eve": "NULL",
                                    "szamuk": "6"
                                },
                                {
                                    "szoba_fk": "65",
                                    "eve": "2016",
                                    "szamuk": "1"
                                },
                                {
                                    "szoba_fk": "65",
                                    "eve": "NULL",
                                    "szamuk": "1"
                                },
                                {
                                    "szoba_fk": "66",
                                    "eve": "2016",
                                    "szamuk": "1"
                                },
                                {
                                    "szoba_fk": "66",
                                    "eve": "2016",
                                    "szamuk": "1"
                                },
                                {
                                    "szoba_fk": "66",
                                    "eve": "2016",
                                    "szamuk": "1"
                                },
                                {
                                    "szoba_fk": "66",
                                    "eve": "2016",
                                    "szamuk": "1"
                                },
                                {
                                    "szoba_fk": "66",
                                    "eve": "NULL",
                                    "szamuk": "4"
                                },
                                {
                                    "szoba_fk": "67",
                                    "eve": "2016",
                                    "szamuk": "1"
                                },
                                {
                                    "szoba_fk": "67",
                                    "eve": "2016",
                                    "szamuk": "1"
                                },
                                {
                                    "szoba_fk": "67",
                                    "eve": "2016",
                                    "szamuk": "1"
                                },
                                {
                                    "szoba_fk": "67",
                                    "eve": "2016",
                                    "szamuk": "1"
                                },
                                {
                                    "szoba_fk": "67",
                                    "eve": "2017",
                                    "szamuk": "1"
                                },
                                {
                                    "szoba_fk": "67",
                                    "eve": "2017",
                                    "szamuk": "1"
                                },
                                {
                                    "szoba_fk": "67",
                                    "eve": "NULL",
                                    "szamuk": "6"
                                },
                                {
                                    "szoba_fk": "68",
                                    "eve": "2016",
                                    "szamuk": "1"
                                },
                                {
                                    "szoba_fk": "68",
                                    "eve": "2016",
                                    "szamuk": "1"
                                },
                                {
                                    "szoba_fk": "68",
                                    "eve": "2016",
                                    "szamuk": "1"
                                },
                                {
                                    "szoba_fk": "68",
                                    "eve": "NULL",
                                    "szamuk": "3"
                                },
                                {
                                    "szoba_fk": "69",
                                    "eve": "2016",
                                    "szamuk": "1"
                                },
                                {
                                    "szoba_fk": "69",
                                    "eve": "2016",
                                    "szamuk": "1"
                                },
                                {
                                    "szoba_fk": "69",
                                    "eve": "2016",
                                    "szamuk": "1"
                                },
                                {
                                    "szoba_fk": "69",
                                    "eve": "2016",
                                    "szamuk": "1"
                                },
                                {
                                    "szoba_fk": "69",
                                    "eve": "NULL",
                                    "szamuk": "4"
                                },
                                {
                                    "szoba_fk": "70",
                                    "eve": "2016",
                                    "szamuk": "1"
                                },
                                {
                                    "szoba_fk": "70",
                                    "eve": "2016",
                                    "szamuk": "1"
                                },
                                {
                                    "szoba_fk": "70",
                                    "eve": "2016",
                                    "szamuk": "1"
                                },
                                {
                                    "szoba_fk": "70",
                                    "eve": "2016",
                                    "szamuk": "1"
                                },
                                {
                                    "szoba_fk": "70",
                                    "eve": "2016",
                                    "szamuk": "1"
                                },
                                {
                                    "szoba_fk": "70",
                                    "eve": "2016",
                                    "szamuk": "1"
                                },
                                {
                                    "szoba_fk": "70",
                                    "eve": "2016",
                                    "szamuk": "1"
                                },
                                {
                                    "szoba_fk": "70",
                                    "eve": "2016",
                                    "szamuk": "1"
                                },
                                {
                                    "szoba_fk": "70",
                                    "eve": "2016",
                                    "szamuk": "1"
                                },
                                {
                                    "szoba_fk": "70",
                                    "eve": "2016",
                                    "szamuk": "1"
                                },
                                {
                                    "szoba_fk": "70",
                                    "eve": "2017",
                                    "szamuk": "1"
                                },
                                {
                                    "szoba_fk": "70",
                                    "eve": "NULL",
                                    "szamuk": "11"
                                },
                                {
                                    "szoba_fk": "71",
                                    "eve": "2016",
                                    "szamuk": "1"
                                },
                                {
                                    "szoba_fk": "71",
                                    "eve": "2016",
                                    "szamuk": "1"
                                },
                                {
                                    "szoba_fk": "71",
                                    "eve": "2016",
                                    "szamuk": "1"
                                },
                                {
                                    "szoba_fk": "71",
                                    "eve": "NULL",
                                    "szamuk": "3"
                                },
                                {
                                    "szoba_fk": "72",
                                    "eve": "2016",
                                    "szamuk": "1"
                                },
                                {
                                    "szoba_fk": "72",
                                    "eve": "2016",
                                    "szamuk": "1"
                                },
                                {
                                    "szoba_fk": "72",
                                    "eve": "2016",
                                    "szamuk": "1"
                                },
                                {
                                    "szoba_fk": "72",
                                    "eve": "2016",
                                    "szamuk": "1"
                                },
                                {
                                    "szoba_fk": "72",
                                    "eve": "NULL",
                                    "szamuk": "4"
                                },
                                {
                                    "szoba_fk": "73",
                                    "eve": "2016",
                                    "szamuk": "1"
                                },
                                {
                                    "szoba_fk": "73",
                                    "eve": "2016",
                                    "szamuk": "1"
                                },
                                {
                                    "szoba_fk": "73",
                                    "eve": "2016",
                                    "szamuk": "1"
                                },
                                {
                                    "szoba_fk": "73",
                                    "eve": "2016",
                                    "szamuk": "1"
                                },
                                {
                                    "szoba_fk": "73",
                                    "eve": "NULL",
                                    "szamuk": "4"
                                },
                                {
                                    "szoba_fk": "74",
                                    "eve": "2016",
                                    "szamuk": "1"
                                },
                                {
                                    "szoba_fk": "74",
                                    "eve": "2016",
                                    "szamuk": "1"
                                },
                                {
                                    "szoba_fk": "74",
                                    "eve": "2016",
                                    "szamuk": "1"
                                },
                                {
                                    "szoba_fk": "74",
                                    "eve": "2016",
                                    "szamuk": "1"
                                },
                                {
                                    "szoba_fk": "74",
                                    "eve": "2016",
                                    "szamuk": "1"
                                },
                                {
                                    "szoba_fk": "74",
                                    "eve": "2016",
                                    "szamuk": "1"
                                },
                                {
                                    "szoba_fk": "74",
                                    "eve": "2016",
                                    "szamuk": "1"
                                },
                                {
                                    "szoba_fk": "74",
                                    "eve": "2016",
                                    "szamuk": "1"
                                },
                                {
                                    "szoba_fk": "74",
                                    "eve": "2016",
                                    "szamuk": "1"
                                },
                                {
                                    "szoba_fk": "74",
                                    "eve": "NULL",
                                    "szamuk": "9"
                                },
                                {
                                    "szoba_fk": "75",
                                    "eve": "2016",
                                    "szamuk": "1"
                                },
                                {
                                    "szoba_fk": "75",
                                    "eve": "2017",
                                    "szamuk": "1"
                                },
                                {
                                    "szoba_fk": "75",
                                    "eve": "2017",
                                    "szamuk": "1"
                                },
                                {
                                    "szoba_fk": "75",
                                    "eve": "NULL",
                                    "szamuk": "3"
                                },
                                {
                                    "szoba_fk": "76",
                                    "eve": "2016",
                                    "szamuk": "1"
                                },
                                {
                                    "szoba_fk": "76",
                                    "eve": "2016",
                                    "szamuk": "1"
                                },
                                {
                                    "szoba_fk": "76",
                                    "eve": "2017",
                                    "szamuk": "1"
                                },
                                {
                                    "szoba_fk": "76",
                                    "eve": "NULL",
                                    "szamuk": "3"
                                },
                                {
                                    "szoba_fk": "77",
                                    "eve": "2016",
                                    "szamuk": "1"
                                },
                                {
                                    "szoba_fk": "77",
                                    "eve": "2016",
                                    "szamuk": "1"
                                },
                                {
                                    "szoba_fk": "77",
                                    "eve": "2016",
                                    "szamuk": "1"
                                },
                                {
                                    "szoba_fk": "77",
                                    "eve": "2016",
                                    "szamuk": "1"
                                },
                                {
                                    "szoba_fk": "77",
                                    "eve": "2017",
                                    "szamuk": "1"
                                },
                                {
                                    "szoba_fk": "77",
                                    "eve": "2017",
                                    "szamuk": "1"
                                },
                                {
                                    "szoba_fk": "77",
                                    "eve": "NULL",
                                    "szamuk": "6"
                                },
                                {
                                    "szoba_fk": "78",
                                    "eve": "2016",
                                    "szamuk": "1"
                                },
                                {
                                    "szoba_fk": "78",
                                    "eve": "2016",
                                    "szamuk": "1"
                                },
                                {
                                    "szoba_fk": "78",
                                    "eve": "2016",
                                    "szamuk": "1"
                                },
                                {
                                    "szoba_fk": "78",
                                    "eve": "2016",
                                    "szamuk": "1"
                                },
                                {
                                    "szoba_fk": "78",
                                    "eve": "2016",
                                    "szamuk": "1"
                                },
                                {
                                    "szoba_fk": "78",
                                    "eve": "2017",
                                    "szamuk": "1"
                                },
                                {
                                    "szoba_fk": "78",
                                    "eve": "NULL",
                                    "szamuk": "6"
                                },
                                {
                                    "szoba_fk": "79",
                                    "eve": "2016",
                                    "szamuk": "1"
                                },
                                {
                                    "szoba_fk": "79",
                                    "eve": "2016",
                                    "szamuk": "1"
                                },
                                {
                                    "szoba_fk": "79",
                                    "eve": "2016",
                                    "szamuk": "1"
                                },
                                {
                                    "szoba_fk": "79",
                                    "eve": "2016",
                                    "szamuk": "1"
                                },
                                {
                                    "szoba_fk": "79",
                                    "eve": "2017",
                                    "szamuk": "1"
                                },
                                {
                                    "szoba_fk": "79",
                                    "eve": "NULL",
                                    "szamuk": "5"
                                },
                                {
                                    "szoba_fk": "80",
                                    "eve": "2016",
                                    "szamuk": "1"
                                },
                                {
                                    "szoba_fk": "80",
                                    "eve": "2016",
                                    "szamuk": "1"
                                },
                                {
                                    "szoba_fk": "80",
                                    "eve": "2016",
                                    "szamuk": "1"
                                },
                                {
                                    "szoba_fk": "80",
                                    "eve": "2016",
                                    "szamuk": "1"
                                },
                                {
                                    "szoba_fk": "80",
                                    "eve": "2016",
                                    "szamuk": "1"
                                },
                                {
                                    "szoba_fk": "80",
                                    "eve": "2016",
                                    "szamuk": "1"
                                },
                                {
                                    "szoba_fk": "80",
                                    "eve": "2016",
                                    "szamuk": "1"
                                },
                                {
                                    "szoba_fk": "80",
                                    "eve": "NULL",
                                    "szamuk": "7"
                                },
                                {
                                    "szoba_fk": "81",
                                    "eve": "2016",
                                    "szamuk": "1"
                                },
                                {
                                    "szoba_fk": "81",
                                    "eve": "2017",
                                    "szamuk": "1"
                                },
                                {
                                    "szoba_fk": "81",
                                    "eve": "2017",
                                    "szamuk": "1"
                                },
                                {
                                    "szoba_fk": "81",
                                    "eve": "2017",
                                    "szamuk": "1"
                                },
                                {
                                    "szoba_fk": "81",
                                    "eve": "2017",
                                    "szamuk": "1"
                                },
                                {
                                    "szoba_fk": "81",
                                    "eve": "NULL",
                                    "szamuk": "5"
                                },
                                {
                                    "szoba_fk": "82",
                                    "eve": "2016",
                                    "szamuk": "1"
                                },
                                {
                                    "szoba_fk": "82",
                                    "eve": "2016",
                                    "szamuk": "1"
                                },
                                {
                                    "szoba_fk": "82",
                                    "eve": "2016",
                                    "szamuk": "1"
                                },
                                {
                                    "szoba_fk": "82",
                                    "eve": "2016",
                                    "szamuk": "1"
                                },
                                {
                                    "szoba_fk": "82",
                                    "eve": "2016",
                                    "szamuk": "1"
                                },
                                {
                                    "szoba_fk": "82",
                                    "eve": "2016",
                                    "szamuk": "1"
                                },
                                {
                                    "szoba_fk": "82",
                                    "eve": "NULL",
                                    "szamuk": "6"
                                },
                                {
                                    "szoba_fk": "83",
                                    "eve": "2016",
                                    "szamuk": "1"
                                },
                                {
                                    "szoba_fk": "83",
                                    "eve": "2016",
                                    "szamuk": "1"
                                },
                                {
                                    "szoba_fk": "83",
                                    "eve": "2016",
                                    "szamuk": "1"
                                },
                                {
                                    "szoba_fk": "83",
                                    "eve": "2016",
                                    "szamuk": "1"
                                },
                                {
                                    "szoba_fk": "83",
                                    "eve": "2016",
                                    "szamuk": "1"
                                },
                                {
                                    "szoba_fk": "83",
                                    "eve": "2016",
                                    "szamuk": "1"
                                },
                                {
                                    "szoba_fk": "83",
                                    "eve": "2016",
                                    "szamuk": "1"
                                },
                                {
                                    "szoba_fk": "83",
                                    "eve": "2016",
                                    "szamuk": "1"
                                },
                                {
                                    "szoba_fk": "83",
                                    "eve": "NULL",
                                    "szamuk": "8"
                                },
                                {
                                    "szoba_fk": "84",
                                    "eve": "2016",
                                    "szamuk": "1"
                                },
                                {
                                    "szoba_fk": "84",
                                    "eve": "2016",
                                    "szamuk": "1"
                                },
                                {
                                    "szoba_fk": "84",
                                    "eve": "2016",
                                    "szamuk": "1"
                                },
                                {
                                    "szoba_fk": "84",
                                    "eve": "2016",
                                    "szamuk": "1"
                                },
                                {
                                    "szoba_fk": "84",
                                    "eve": "NULL",
                                    "szamuk": "4"
                                },
                                {
                                    "szoba_fk": "85",
                                    "eve": "2016",
                                    "szamuk": "1"
                                },
                                {
                                    "szoba_fk": "85",
                                    "eve": "2016",
                                    "szamuk": "1"
                                },
                                {
                                    "szoba_fk": "85",
                                    "eve": "2016",
                                    "szamuk": "1"
                                },
                                {
                                    "szoba_fk": "85",
                                    "eve": "2017",
                                    "szamuk": "1"
                                },
                                {
                                    "szoba_fk": "85",
                                    "eve": "NULL",
                                    "szamuk": "4"
                                },
                                {
                                    "szoba_fk": "86",
                                    "eve": "2016",
                                    "szamuk": "1"
                                },
                                {
                                    "szoba_fk": "86",
                                    "eve": "2016",
                                    "szamuk": "1"
                                },
                                {
                                    "szoba_fk": "86",
                                    "eve": "2016",
                                    "szamuk": "1"
                                },
                                {
                                    "szoba_fk": "86",
                                    "eve": "2016",
                                    "szamuk": "1"
                                },
                                {
                                    "szoba_fk": "86",
                                    "eve": "2017",
                                    "szamuk": "1"
                                },
                                {
                                    "szoba_fk": "86",
                                    "eve": "NULL",
                                    "szamuk": "5"
                                },
                                {
                                    "szoba_fk": "87",
                                    "eve": "2016",
                                    "szamuk": "1"
                                },
                                {
                                    "szoba_fk": "87",
                                    "eve": "2016",
                                    "szamuk": "1"
                                },
                                {
                                    "szoba_fk": "87",
                                    "eve": "2016",
                                    "szamuk": "1"
                                },
                                {
                                    "szoba_fk": "87",
                                    "eve": "2016",
                                    "szamuk": "1"
                                },
                                {
                                    "szoba_fk": "87",
                                    "eve": "2017",
                                    "szamuk": "1"
                                },
                                {
                                    "szoba_fk": "87",
                                    "eve": "NULL",
                                    "szamuk": "5"
                                },
                                {
                                    "szoba_fk": "88",
                                    "eve": "2016",
                                    "szamuk": "1"
                                },
                                {
                                    "szoba_fk": "88",
                                    "eve": "2016",
                                    "szamuk": "1"
                                },
                                {
                                    "szoba_fk": "88",
                                    "eve": "2016",
                                    "szamuk": "1"
                                },
                                {
                                    "szoba_fk": "88",
                                    "eve": "2016",
                                    "szamuk": "1"
                                },
                                {
                                    "szoba_fk": "88",
                                    "eve": "2016",
                                    "szamuk": "1"
                                },
                                {
                                    "szoba_fk": "88",
                                    "eve": "2016",
                                    "szamuk": "1"
                                },
                                {
                                    "szoba_fk": "88",
                                    "eve": "2017",
                                    "szamuk": "1"
                                },
                                {
                                    "szoba_fk": "88",
                                    "eve": "2017",
                                    "szamuk": "1"
                                },
                                {
                                    "szoba_fk": "88",
                                    "eve": "NULL",
                                    "szamuk": "8"
                                },
                                {
                                    "szoba_fk": "89",
                                    "eve": "2016",
                                    "szamuk": "1"
                                },
                                {
                                    "szoba_fk": "89",
                                    "eve": "2016",
                                    "szamuk": "1"
                                },
                                {
                                    "szoba_fk": "89",
                                    "eve": "2016",
                                    "szamuk": "1"
                                },
                                {
                                    "szoba_fk": "89",
                                    "eve": "2016",
                                    "szamuk": "1"
                                },
                                {
                                    "szoba_fk": "89",
                                    "eve": "2016",
                                    "szamuk": "1"
                                },
                                {
                                    "szoba_fk": "89",
                                    "eve": "2016",
                                    "szamuk": "1"
                                },
                                {
                                    "szoba_fk": "89",
                                    "eve": "2016",
                                    "szamuk": "1"
                                },
                                {
                                    "szoba_fk": "89",
                                    "eve": "2017",
                                    "szamuk": "1"
                                },
                                {
                                    "szoba_fk": "89",
                                    "eve": "NULL",
                                    "szamuk": "8"
                                },
                                {
                                    "szoba_fk": "90",
                                    "eve": "2016",
                                    "szamuk": "1"
                                },
                                {
                                    "szoba_fk": "90",
                                    "eve": "2016",
                                    "szamuk": "1"
                                },
                                {
                                    "szoba_fk": "90",
                                    "eve": "2016",
                                    "szamuk": "1"
                                },
                                {
                                    "szoba_fk": "90",
                                    "eve": "2016",
                                    "szamuk": "1"
                                },
                                {
                                    "szoba_fk": "90",
                                    "eve": "NULL",
                                    "szamuk": "4"
                                },
                                {
                                    "szoba_fk": "91",
                                    "eve": "2016",
                                    "szamuk": "1"
                                },
                                {
                                    "szoba_fk": "91",
                                    "eve": "2016",
                                    "szamuk": "1"
                                },
                                {
                                    "szoba_fk": "91",
                                    "eve": "2016",
                                    "szamuk": "1"
                                },
                                {
                                    "szoba_fk": "91",
                                    "eve": "2016",
                                    "szamuk": "1"
                                },
                                {
                                    "szoba_fk": "91",
                                    "eve": "NULL",
                                    "szamuk": "4"
                                },
                                {
                                    "szoba_fk": "92",
                                    "eve": "2016",
                                    "szamuk": "1"
                                },
                                {
                                    "szoba_fk": "92",
                                    "eve": "2016",
                                    "szamuk": "1"
                                },
                                {
                                    "szoba_fk": "92",
                                    "eve": "2016",
                                    "szamuk": "1"
                                },
                                {
                                    "szoba_fk": "92",
                                    "eve": "2016",
                                    "szamuk": "1"
                                },
                                {
                                    "szoba_fk": "92",
                                    "eve": "2017",
                                    "szamuk": "1"
                                },
                                {
                                    "szoba_fk": "92",
                                    "eve": "2017",
                                    "szamuk": "1"
                                },
                                {
                                    "szoba_fk": "92",
                                    "eve": "NULL",
                                    "szamuk": "6"
                                },
                                {
                                    "szoba_fk": "93",
                                    "eve": "2016",
                                    "szamuk": "1"
                                },
                                {
                                    "szoba_fk": "93",
                                    "eve": "2016",
                                    "szamuk": "1"
                                },
                                {
                                    "szoba_fk": "93",
                                    "eve": "2016",
                                    "szamuk": "1"
                                },
                                {
                                    "szoba_fk": "93",
                                    "eve": "2016",
                                    "szamuk": "1"
                                },
                                {
                                    "szoba_fk": "93",
                                    "eve": "2016",
                                    "szamuk": "1"
                                },
                                {
                                    "szoba_fk": "93",
                                    "eve": "NULL",
                                    "szamuk": "5"
                                },
                                {
                                    "szoba_fk": "94",
                                    "eve": "2016",
                                    "szamuk": "1"
                                },
                                {
                                    "szoba_fk": "94",
                                    "eve": "2016",
                                    "szamuk": "1"
                                },
                                {
                                    "szoba_fk": "94",
                                    "eve": "2016",
                                    "szamuk": "1"
                                },
                                {
                                    "szoba_fk": "94",
                                    "eve": "2016",
                                    "szamuk": "1"
                                },
                                {
                                    "szoba_fk": "94",
                                    "eve": "2016",
                                    "szamuk": "1"
                                },
                                {
                                    "szoba_fk": "94",
                                    "eve": "2016",
                                    "szamuk": "1"
                                },
                                {
                                    "szoba_fk": "94",
                                    "eve": "2016",
                                    "szamuk": "1"
                                },
                                {
                                    "szoba_fk": "94",
                                    "eve": "2016",
                                    "szamuk": "1"
                                },
                                {
                                    "szoba_fk": "94",
                                    "eve": "2017",
                                    "szamuk": "1"
                                },
                                {
                                    "szoba_fk": "94",
                                    "eve": "2017",
                                    "szamuk": "1"
                                },
                                {
                                    "szoba_fk": "94",
                                    "eve": "NULL",
                                    "szamuk": "10"
                                },
                                {
                                    "szoba_fk": "95",
                                    "eve": "2016",
                                    "szamuk": "1"
                                },
                                {
                                    "szoba_fk": "95",
                                    "eve": "2016",
                                    "szamuk": "1"
                                },
                                {
                                    "szoba_fk": "95",
                                    "eve": "2016",
                                    "szamuk": "1"
                                },
                                {
                                    "szoba_fk": "95",
                                    "eve": "2017",
                                    "szamuk": "1"
                                },
                                {
                                    "szoba_fk": "95",
                                    "eve": "NULL",
                                    "szamuk": "4"
                                },
                                {
                                    "szoba_fk": "96",
                                    "eve": "2016",
                                    "szamuk": "1"
                                },
                                {
                                    "szoba_fk": "96",
                                    "eve": "2016",
                                    "szamuk": "1"
                                },
                                {
                                    "szoba_fk": "96",
                                    "eve": "2016",
                                    "szamuk": "1"
                                },
                                {
                                    "szoba_fk": "96",
                                    "eve": "2016",
                                    "szamuk": "1"
                                },
                                {
                                    "szoba_fk": "96",
                                    "eve": "2016",
                                    "szamuk": "1"
                                },
                                {
                                    "szoba_fk": "96",
                                    "eve": "2017",
                                    "szamuk": "1"
                                },
                                {
                                    "szoba_fk": "96",
                                    "eve": "2017",
                                    "szamuk": "1"
                                },
                                {
                                    "szoba_fk": "96",
                                    "eve": "NULL",
                                    "szamuk": "7"
                                },
                                {
                                    "szoba_fk": "97",
                                    "eve": "2016",
                                    "szamuk": "1"
                                },
                                {
                                    "szoba_fk": "97",
                                    "eve": "2016",
                                    "szamuk": "2"
                                },
                                {
                                    "szoba_fk": "97",
                                    "eve": "2016",
                                    "szamuk": "1"
                                },
                                {
                                    "szoba_fk": "97",
                                    "eve": "2016",
                                    "szamuk": "1"
                                },
                                {
                                    "szoba_fk": "97",
                                    "eve": "2017",
                                    "szamuk": "1"
                                },
                                {
                                    "szoba_fk": "97",
                                    "eve": "2017",
                                    "szamuk": "1"
                                },
                                {
                                    "szoba_fk": "97",
                                    "eve": "NULL",
                                    "szamuk": "7"
                                },
                                {
                                    "szoba_fk": "98",
                                    "eve": "2016",
                                    "szamuk": "1"
                                },
                                {
                                    "szoba_fk": "98",
                                    "eve": "2016",
                                    "szamuk": "1"
                                },
                                {
                                    "szoba_fk": "98",
                                    "eve": "2016",
                                    "szamuk": "1"
                                },
                                {
                                    "szoba_fk": "98",
                                    "eve": "2016",
                                    "szamuk": "1"
                                },
                                {
                                    "szoba_fk": "98",
                                    "eve": "NULL",
                                    "szamuk": "4"
                                },
                                {
                                    "szoba_fk": "99",
                                    "eve": "2016",
                                    "szamuk": "1"
                                },
                                {
                                    "szoba_fk": "99",
                                    "eve": "2016",
                                    "szamuk": "1"
                                },
                                {
                                    "szoba_fk": "99",
                                    "eve": "2016",
                                    "szamuk": "1"
                                },
                                {
                                    "szoba_fk": "99",
                                    "eve": "2016",
                                    "szamuk": "1"
                                },
                                {
                                    "szoba_fk": "99",
                                    "eve": "2017",
                                    "szamuk": "1"
                                },
                                {
                                    "szoba_fk": "99",
                                    "eve": "NULL",
                                    "szamuk": "5"
                                },
                                {
                                    "szoba_fk": "100",
                                    "eve": "2016",
                                    "szamuk": "1"
                                },
                                {
                                    "szoba_fk": "100",
                                    "eve": "2016",
                                    "szamuk": "1"
                                },
                                {
                                    "szoba_fk": "100",
                                    "eve": "2016",
                                    "szamuk": "1"
                                },
                                {
                                    "szoba_fk": "100",
                                    "eve": "2017",
                                    "szamuk": "1"
                                },
                                {
                                    "szoba_fk": "100",
                                    "eve": "NULL",
                                    "szamuk": "4"
                                },
                                {
                                    "szoba_fk": "101",
                                    "eve": "2016",
                                    "szamuk": "1"
                                },
                                {
                                    "szoba_fk": "101",
                                    "eve": "2016",
                                    "szamuk": "1"
                                },
                                {
                                    "szoba_fk": "101",
                                    "eve": "2017",
                                    "szamuk": "1"
                                },
                                {
                                    "szoba_fk": "101",
                                    "eve": "NULL",
                                    "szamuk": "3"
                                },
                                {
                                    "szoba_fk": "102",
                                    "eve": "2016",
                                    "szamuk": "1"
                                },
                                {
                                    "szoba_fk": "102",
                                    "eve": "2016",
                                    "szamuk": "1"
                                },
                                {
                                    "szoba_fk": "102",
                                    "eve": "NULL",
                                    "szamuk": "2"
                                },
                                {
                                    "szoba_fk": "103",
                                    "eve": "2016",
                                    "szamuk": "1"
                                },
                                {
                                    "szoba_fk": "103",
                                    "eve": "2016",
                                    "szamuk": "1"
                                },
                                {
                                    "szoba_fk": "103",
                                    "eve": "2016",
                                    "szamuk": "1"
                                },
                                {
                                    "szoba_fk": "103",
                                    "eve": "2017",
                                    "szamuk": "1"
                                },
                                {
                                    "szoba_fk": "103",
                                    "eve": "NULL",
                                    "szamuk": "4"
                                },
                                {
                                    "szoba_fk": "104",
                                    "eve": "2016",
                                    "szamuk": "1"
                                },
                                {
                                    "szoba_fk": "104",
                                    "eve": "2016",
                                    "szamuk": "1"
                                },
                                {
                                    "szoba_fk": "104",
                                    "eve": "2017",
                                    "szamuk": "1"
                                },
                                {
                                    "szoba_fk": "104",
                                    "eve": "2017",
                                    "szamuk": "1"
                                },
                                {
                                    "szoba_fk": "104",
                                    "eve": "NULL",
                                    "szamuk": "4"
                                },
                                {
                                    "szoba_fk": "105",
                                    "eve": "2016",
                                    "szamuk": "1"
                                },
                                {
                                    "szoba_fk": "105",
                                    "eve": "2017",
                                    "szamuk": "1"
                                },
                                {
                                    "szoba_fk": "105",
                                    "eve": "NULL",
                                    "szamuk": "2"
                                },
                                {
                                    "szoba_fk": "106",
                                    "eve": "2016",
                                    "szamuk": "1"
                                },
                                {
                                    "szoba_fk": "106",
                                    "eve": "2016",
                                    "szamuk": "1"
                                },
                                {
                                    "szoba_fk": "106",
                                    "eve": "2016",
                                    "szamuk": "1"
                                },
                                {
                                    "szoba_fk": "106",
                                    "eve": "2016",
                                    "szamuk": "1"
                                },
                                {
                                    "szoba_fk": "106",
                                    "eve": "2016",
                                    "szamuk": "1"
                                },
                                {
                                    "szoba_fk": "106",
                                    "eve": "2017",
                                    "szamuk": "1"
                                },
                                {
                                    "szoba_fk": "106",
                                    "eve": "NULL",
                                    "szamuk": "6"
                                },
                                {
                                    "szoba_fk": "107",
                                    "eve": "2016",
                                    "szamuk": "1"
                                },
                                {
                                    "szoba_fk": "107",
                                    "eve": "2016",
                                    "szamuk": "1"
                                },
                                {
                                    "szoba_fk": "107",
                                    "eve": "2016",
                                    "szamuk": "1"
                                },
                                {
                                    "szoba_fk": "107",
                                    "eve": "2017",
                                    "szamuk": "1"
                                },
                                {
                                    "szoba_fk": "107",
                                    "eve": "2017",
                                    "szamuk": "1"
                                },
                                {
                                    "szoba_fk": "107",
                                    "eve": "NULL",
                                    "szamuk": "5"
                                },
                                {
                                    "szoba_fk": "108",
                                    "eve": "2016",
                                    "szamuk": "1"
                                },
                                {
                                    "szoba_fk": "108",
                                    "eve": "2016",
                                    "szamuk": "1"
                                },
                                {
                                    "szoba_fk": "108",
                                    "eve": "NULL",
                                    "szamuk": "2"
                                },
                                {
                                    "szoba_fk": "109",
                                    "eve": "2016",
                                    "szamuk": "1"
                                },
                                {
                                    "szoba_fk": "109",
                                    "eve": "2016",
                                    "szamuk": "1"
                                },
                                {
                                    "szoba_fk": "109",
                                    "eve": "2016",
                                    "szamuk": "1"
                                },
                                {
                                    "szoba_fk": "109",
                                    "eve": "2016",
                                    "szamuk": "1"
                                },
                                {
                                    "szoba_fk": "109",
                                    "eve": "2016",
                                    "szamuk": "1"
                                },
                                {
                                    "szoba_fk": "109",
                                    "eve": "2016",
                                    "szamuk": "1"
                                },
                                {
                                    "szoba_fk": "109",
                                    "eve": "2017",
                                    "szamuk": "1"
                                },
                                {
                                    "szoba_fk": "109",
                                    "eve": "NULL",
                                    "szamuk": "7"
                                },
                                {
                                    "szoba_fk": "110",
                                    "eve": "2016",
                                    "szamuk": "1"
                                },
                                {
                                    "szoba_fk": "110",
                                    "eve": "2016",
                                    "szamuk": "1"
                                },
                                {
                                    "szoba_fk": "110",
                                    "eve": "2016",
                                    "szamuk": "1"
                                },
                                {
                                    "szoba_fk": "110",
                                    "eve": "2016",
                                    "szamuk": "1"
                                },
                                {
                                    "szoba_fk": "110",
                                    "eve": "2016",
                                    "szamuk": "1"
                                },
                                {
                                    "szoba_fk": "110",
                                    "eve": "2016",
                                    "szamuk": "1"
                                },
                                {
                                    "szoba_fk": "110",
                                    "eve": "2017",
                                    "szamuk": "1"
                                },
                                {
                                    "szoba_fk": "110",
                                    "eve": "2017",
                                    "szamuk": "1"
                                },
                                {
                                    "szoba_fk": "110",
                                    "eve": "NULL",
                                    "szamuk": "8"
                                },
                                {
                                    "szoba_fk": "111",
                                    "eve": "2016",
                                    "szamuk": "1"
                                },
                                {
                                    "szoba_fk": "111",
                                    "eve": "2016",
                                    "szamuk": "1"
                                },
                                {
                                    "szoba_fk": "111",
                                    "eve": "2016",
                                    "szamuk": "1"
                                },
                                {
                                    "szoba_fk": "111",
                                    "eve": "2016",
                                    "szamuk": "1"
                                },
                                {
                                    "szoba_fk": "111",
                                    "eve": "2016",
                                    "szamuk": "1"
                                },
                                {
                                    "szoba_fk": "111",
                                    "eve": "NULL",
                                    "szamuk": "5"
                                },
                                {
                                    "szoba_fk": "112",
                                    "eve": "2016",
                                    "szamuk": "1"
                                },
                                {
                                    "szoba_fk": "112",
                                    "eve": "2016",
                                    "szamuk": "1"
                                },
                                {
                                    "szoba_fk": "112",
                                    "eve": "2016",
                                    "szamuk": "1"
                                },
                                {
                                    "szoba_fk": "112",
                                    "eve": "2016",
                                    "szamuk": "1"
                                },
                                {
                                    "szoba_fk": "112",
                                    "eve": "2017",
                                    "szamuk": "1"
                                },
                                {
                                    "szoba_fk": "112",
                                    "eve": "NULL",
                                    "szamuk": "5"
                                },
                                {
                                    "szoba_fk": "113",
                                    "eve": "2016",
                                    "szamuk": "1"
                                },
                                {
                                    "szoba_fk": "113",
                                    "eve": "2016",
                                    "szamuk": "1"
                                },
                                {
                                    "szoba_fk": "113",
                                    "eve": "2016",
                                    "szamuk": "1"
                                },
                                {
                                    "szoba_fk": "113",
                                    "eve": "2017",
                                    "szamuk": "1"
                                },
                                {
                                    "szoba_fk": "113",
                                    "eve": "2017",
                                    "szamuk": "1"
                                },
                                {
                                    "szoba_fk": "113",
                                    "eve": "NULL",
                                    "szamuk": "5"
                                },
                                {
                                    "szoba_fk": "114",
                                    "eve": "2016",
                                    "szamuk": "1"
                                },
                                {
                                    "szoba_fk": "114",
                                    "eve": "2016",
                                    "szamuk": "1"
                                },
                                {
                                    "szoba_fk": "114",
                                    "eve": "2016",
                                    "szamuk": "1"
                                },
                                {
                                    "szoba_fk": "114",
                                    "eve": "2017",
                                    "szamuk": "1"
                                },
                                {
                                    "szoba_fk": "114",
                                    "eve": "NULL",
                                    "szamuk": "4"
                                },
                                {
                                    "szoba_fk": "115",
                                    "eve": "2016",
                                    "szamuk": "1"
                                },
                                {
                                    "szoba_fk": "115",
                                    "eve": "2016",
                                    "szamuk": "1"
                                },
                                {
                                    "szoba_fk": "115",
                                    "eve": "2016",
                                    "szamuk": "1"
                                },
                                {
                                    "szoba_fk": "115",
                                    "eve": "2016",
                                    "szamuk": "1"
                                },
                                {
                                    "szoba_fk": "115",
                                    "eve": "2016",
                                    "szamuk": "1"
                                },
                                {
                                    "szoba_fk": "115",
                                    "eve": "2017",
                                    "szamuk": "1"
                                },
                                {
                                    "szoba_fk": "115",
                                    "eve": "2017",
                                    "szamuk": "1"
                                },
                                {
                                    "szoba_fk": "115",
                                    "eve": "NULL",
                                    "szamuk": "7"
                                },
                                {
                                    "szoba_fk": "116",
                                    "eve": "2017",
                                    "szamuk": "1"
                                },
                                {
                                    "szoba_fk": "116",
                                    "eve": "2017",
                                    "szamuk": "1"
                                },
                                {
                                    "szoba_fk": "116",
                                    "eve": "NULL",
                                    "szamuk": "2"
                                },
                                {
                                    "szoba_fk": "117",
                                    "eve": "2016",
                                    "szamuk": "1"
                                },
                                {
                                    "szoba_fk": "117",
                                    "eve": "2016",
                                    "szamuk": "1"
                                },
                                {
                                    "szoba_fk": "117",
                                    "eve": "2016",
                                    "szamuk": "1"
                                },
                                {
                                    "szoba_fk": "117",
                                    "eve": "2016",
                                    "szamuk": "1"
                                },
                                {
                                    "szoba_fk": "117",
                                    "eve": "2016",
                                    "szamuk": "1"
                                },
                                {
                                    "szoba_fk": "117",
                                    "eve": "2016",
                                    "szamuk": "1"
                                },
                                {
                                    "szoba_fk": "117",
                                    "eve": "2016",
                                    "szamuk": "1"
                                },
                                {
                                    "szoba_fk": "117",
                                    "eve": "2017",
                                    "szamuk": "1"
                                },
                                {
                                    "szoba_fk": "117",
                                    "eve": "NULL",
                                    "szamuk": "8"
                                },
                                {
                                    "szoba_fk": "118",
                                    "eve": "2016",
                                    "szamuk": "1"
                                },
                                {
                                    "szoba_fk": "118",
                                    "eve": "2016",
                                    "szamuk": "1"
                                },
                                {
                                    "szoba_fk": "118",
                                    "eve": "2016",
                                    "szamuk": "1"
                                },
                                {
                                    "szoba_fk": "118",
                                    "eve": "2016",
                                    "szamuk": "1"
                                },
                                {
                                    "szoba_fk": "118",
                                    "eve": "2016",
                                    "szamuk": "1"
                                },
                                {
                                    "szoba_fk": "118",
                                    "eve": "2017",
                                    "szamuk": "1"
                                },
                                {
                                    "szoba_fk": "118",
                                    "eve": "2017",
                                    "szamuk": "1"
                                },
                                {
                                    "szoba_fk": "118",
                                    "eve": "NULL",
                                    "szamuk": "7"
                                },
                                {
                                    "szoba_fk": "119",
                                    "eve": "2016",
                                    "szamuk": "1"
                                },
                                {
                                    "szoba_fk": "119",
                                    "eve": "2016",
                                    "szamuk": "1"
                                },
                                {
                                    "szoba_fk": "119",
                                    "eve": "2016",
                                    "szamuk": "1"
                                },
                                {
                                    "szoba_fk": "119",
                                    "eve": "2017",
                                    "szamuk": "1"
                                },
                                {
                                    "szoba_fk": "119",
                                    "eve": "2017",
                                    "szamuk": "1"
                                },
                                {
                                    "szoba_fk": "119",
                                    "eve": "NULL",
                                    "szamuk": "5"
                                },
                                {
                                    "szoba_fk": "120",
                                    "eve": "2016",
                                    "szamuk": "1"
                                },
                                {
                                    "szoba_fk": "120",
                                    "eve": "2016",
                                    "szamuk": "1"
                                },
                                {
                                    "szoba_fk": "120",
                                    "eve": "2016",
                                    "szamuk": "1"
                                },
                                {
                                    "szoba_fk": "120",
                                    "eve": "2016",
                                    "szamuk": "1"
                                },
                                {
                                    "szoba_fk": "120",
                                    "eve": "2017",
                                    "szamuk": "1"
                                },
                                {
                                    "szoba_fk": "120",
                                    "eve": "2017",
                                    "szamuk": "1"
                                },
                                {
                                    "szoba_fk": "120",
                                    "eve": "NULL",
                                    "szamuk": "6"
                                },
                                {
                                    "szoba_fk": "121",
                                    "eve": "2016",
                                    "szamuk": "1"
                                },
                                {
                                    "szoba_fk": "121",
                                    "eve": "2016",
                                    "szamuk": "1"
                                },
                                {
                                    "szoba_fk": "121",
                                    "eve": "2016",
                                    "szamuk": "1"
                                },
                                {
                                    "szoba_fk": "121",
                                    "eve": "2016",
                                    "szamuk": "1"
                                },
                                {
                                    "szoba_fk": "121",
                                    "eve": "2016",
                                    "szamuk": "1"
                                },
                                {
                                    "szoba_fk": "121",
                                    "eve": "2016",
                                    "szamuk": "1"
                                },
                                {
                                    "szoba_fk": "121",
                                    "eve": "2016",
                                    "szamuk": "1"
                                },
                                {
                                    "szoba_fk": "121",
                                    "eve": "2016",
                                    "szamuk": "1"
                                },
                                {
                                    "szoba_fk": "121",
                                    "eve": "NULL",
                                    "szamuk": "8"
                                },
                                {
                                    "szoba_fk": "122",
                                    "eve": "2016",
                                    "szamuk": "1"
                                },
                                {
                                    "szoba_fk": "122",
                                    "eve": "2016",
                                    "szamuk": "1"
                                },
                                {
                                    "szoba_fk": "122",
                                    "eve": "2016",
                                    "szamuk": "1"
                                },
                                {
                                    "szoba_fk": "122",
                                    "eve": "2016",
                                    "szamuk": "1"
                                },
                                {
                                    "szoba_fk": "122",
                                    "eve": "2016",
                                    "szamuk": "1"
                                },
                                {
                                    "szoba_fk": "122",
                                    "eve": "2016",
                                    "szamuk": "1"
                                },
                                {
                                    "szoba_fk": "122",
                                    "eve": "2016",
                                    "szamuk": "1"
                                },
                                {
                                    "szoba_fk": "122",
                                    "eve": "2016",
                                    "szamuk": "1"
                                },
                                {
                                    "szoba_fk": "122",
                                    "eve": "2017",
                                    "szamuk": "1"
                                },
                                {
                                    "szoba_fk": "122",
                                    "eve": "NULL",
                                    "szamuk": "9"
                                },
                                {
                                    "szoba_fk": "123",
                                    "eve": "2016",
                                    "szamuk": "1"
                                },
                                {
                                    "szoba_fk": "123",
                                    "eve": "2016",
                                    "szamuk": "1"
                                },
                                {
                                    "szoba_fk": "123",
                                    "eve": "2016",
                                    "szamuk": "1"
                                },
                                {
                                    "szoba_fk": "123",
                                    "eve": "2016",
                                    "szamuk": "1"
                                },
                                {
                                    "szoba_fk": "123",
                                    "eve": "2016",
                                    "szamuk": "1"
                                },
                                {
                                    "szoba_fk": "123",
                                    "eve": "NULL",
                                    "szamuk": "5"
                                },
                                {
                                    "szoba_fk": "124",
                                    "eve": "2016",
                                    "szamuk": "1"
                                },
                                {
                                    "szoba_fk": "124",
                                    "eve": "2016",
                                    "szamuk": "1"
                                },
                                {
                                    "szoba_fk": "124",
                                    "eve": "2016",
                                    "szamuk": "1"
                                },
                                {
                                    "szoba_fk": "124",
                                    "eve": "2016",
                                    "szamuk": "1"
                                },
                                {
                                    "szoba_fk": "124",
                                    "eve": "2017",
                                    "szamuk": "1"
                                },
                                {
                                    "szoba_fk": "124",
                                    "eve": "2017",
                                    "szamuk": "1"
                                },
                                {
                                    "szoba_fk": "124",
                                    "eve": "NULL",
                                    "szamuk": "6"
                                },
                                {
                                    "szoba_fk": "125",
                                    "eve": "2016",
                                    "szamuk": "1"
                                },
                                {
                                    "szoba_fk": "125",
                                    "eve": "NULL",
                                    "szamuk": "1"
                                },
                                {
                                    "szoba_fk": "126",
                                    "eve": "2016",
                                    "szamuk": "1"
                                },
                                {
                                    "szoba_fk": "126",
                                    "eve": "2016",
                                    "szamuk": "1"
                                },
                                {
                                    "szoba_fk": "126",
                                    "eve": "2016",
                                    "szamuk": "1"
                                },
                                {
                                    "szoba_fk": "126",
                                    "eve": "2016",
                                    "szamuk": "1"
                                },
                                {
                                    "szoba_fk": "126",
                                    "eve": "2017",
                                    "szamuk": "1"
                                },
                                {
                                    "szoba_fk": "126",
                                    "eve": "2017",
                                    "szamuk": "1"
                                },
                                {
                                    "szoba_fk": "126",
                                    "eve": "NULL",
                                    "szamuk": "6"
                                },
                                {
                                    "szoba_fk": "127",
                                    "eve": "2016",
                                    "szamuk": "1"
                                },
                                {
                                    "szoba_fk": "127",
                                    "eve": "2016",
                                    "szamuk": "1"
                                },
                                {
                                    "szoba_fk": "127",
                                    "eve": "2016",
                                    "szamuk": "1"
                                },
                                {
                                    "szoba_fk": "127",
                                    "eve": "2016",
                                    "szamuk": "1"
                                },
                                {
                                    "szoba_fk": "127",
                                    "eve": "2016",
                                    "szamuk": "1"
                                },
                                {
                                    "szoba_fk": "127",
                                    "eve": "2016",
                                    "szamuk": "1"
                                },
                                {
                                    "szoba_fk": "127",
                                    "eve": "2017",
                                    "szamuk": "1"
                                },
                                {
                                    "szoba_fk": "127",
                                    "eve": "NULL",
                                    "szamuk": "7"
                                },
                                {
                                    "szoba_fk": "128",
                                    "eve": "2016",
                                    "szamuk": "1"
                                },
                                {
                                    "szoba_fk": "128",
                                    "eve": "2016",
                                    "szamuk": "1"
                                },
                                {
                                    "szoba_fk": "128",
                                    "eve": "2016",
                                    "szamuk": "1"
                                },
                                {
                                    "szoba_fk": "128",
                                    "eve": "2017",
                                    "szamuk": "1"
                                },
                                {
                                    "szoba_fk": "128",
                                    "eve": "2017",
                                    "szamuk": "1"
                                },
                                {
                                    "szoba_fk": "128",
                                    "eve": "NULL",
                                    "szamuk": "5"
                                },
                                {
                                    "szoba_fk": "129",
                                    "eve": "2016",
                                    "szamuk": "1"
                                },
                                {
                                    "szoba_fk": "129",
                                    "eve": "2016",
                                    "szamuk": "1"
                                },
                                {
                                    "szoba_fk": "129",
                                    "eve": "2017",
                                    "szamuk": "1"
                                },
                                {
                                    "szoba_fk": "129",
                                    "eve": "2017",
                                    "szamuk": "1"
                                },
                                {
                                    "szoba_fk": "129",
                                    "eve": "NULL",
                                    "szamuk": "4"
                                },
                                {
                                    "szoba_fk": "130",
                                    "eve": "2016",
                                    "szamuk": "1"
                                },
                                {
                                    "szoba_fk": "130",
                                    "eve": "2016",
                                    "szamuk": "1"
                                },
                                {
                                    "szoba_fk": "130",
                                    "eve": "2016",
                                    "szamuk": "1"
                                },
                                {
                                    "szoba_fk": "130",
                                    "eve": "2016",
                                    "szamuk": "1"
                                },
                                {
                                    "szoba_fk": "130",
                                    "eve": "2016",
                                    "szamuk": "1"
                                },
                                {
                                    "szoba_fk": "130",
                                    "eve": "2017",
                                    "szamuk": "1"
                                },
                                {
                                    "szoba_fk": "130",
                                    "eve": "NULL",
                                    "szamuk": "6"
                                },
                                {
                                    "szoba_fk": "131",
                                    "eve": "2016",
                                    "szamuk": "1"
                                },
                                {
                                    "szoba_fk": "131",
                                    "eve": "2016",
                                    "szamuk": "1"
                                },
                                {
                                    "szoba_fk": "131",
                                    "eve": "2016",
                                    "szamuk": "1"
                                },
                                {
                                    "szoba_fk": "131",
                                    "eve": "2016",
                                    "szamuk": "1"
                                },
                                {
                                    "szoba_fk": "131",
                                    "eve": "2017",
                                    "szamuk": "1"
                                },
                                {
                                    "szoba_fk": "131",
                                    "eve": "NULL",
                                    "szamuk": "5"
                                },
                                {
                                    "szoba_fk": "132",
                                    "eve": "2016",
                                    "szamuk": "1"
                                },
                                {
                                    "szoba_fk": "132",
                                    "eve": "2016",
                                    "szamuk": "1"
                                },
                                {
                                    "szoba_fk": "132",
                                    "eve": "2016",
                                    "szamuk": "1"
                                },
                                {
                                    "szoba_fk": "132",
                                    "eve": "2016",
                                    "szamuk": "1"
                                },
                                {
                                    "szoba_fk": "132",
                                    "eve": "2016",
                                    "szamuk": "1"
                                },
                                {
                                    "szoba_fk": "132",
                                    "eve": "2017",
                                    "szamuk": "1"
                                },
                                {
                                    "szoba_fk": "132",
                                    "eve": "NULL",
                                    "szamuk": "6"
                                },
                                {
                                    "szoba_fk": "133",
                                    "eve": "2016",
                                    "szamuk": "1"
                                },
                                {
                                    "szoba_fk": "133",
                                    "eve": "2016",
                                    "szamuk": "1"
                                },
                                {
                                    "szoba_fk": "133",
                                    "eve": "2016",
                                    "szamuk": "1"
                                },
                                {
                                    "szoba_fk": "133",
                                    "eve": "2016",
                                    "szamuk": "1"
                                },
                                {
                                    "szoba_fk": "133",
                                    "eve": "2016",
                                    "szamuk": "1"
                                },
                                {
                                    "szoba_fk": "133",
                                    "eve": "2017",
                                    "szamuk": "1"
                                },
                                {
                                    "szoba_fk": "133",
                                    "eve": "NULL",
                                    "szamuk": "6"
                                },
                                {
                                    "szoba_fk": "134",
                                    "eve": "2016",
                                    "szamuk": "1"
                                },
                                {
                                    "szoba_fk": "134",
                                    "eve": "2016",
                                    "szamuk": "1"
                                },
                                {
                                    "szoba_fk": "134",
                                    "eve": "2016",
                                    "szamuk": "1"
                                },
                                {
                                    "szoba_fk": "134",
                                    "eve": "2016",
                                    "szamuk": "1"
                                },
                                {
                                    "szoba_fk": "134",
                                    "eve": "2016",
                                    "szamuk": "1"
                                },
                                {
                                    "szoba_fk": "134",
                                    "eve": "2017",
                                    "szamuk": "1"
                                },
                                {
                                    "szoba_fk": "134",
                                    "eve": "NULL",
                                    "szamuk": "6"
                                },
                                {
                                    "szoba_fk": "135",
                                    "eve": "2016",
                                    "szamuk": "1"
                                },
                                {
                                    "szoba_fk": "135",
                                    "eve": "2016",
                                    "szamuk": "1"
                                },
                                {
                                    "szoba_fk": "135",
                                    "eve": "2016",
                                    "szamuk": "1"
                                },
                                {
                                    "szoba_fk": "135",
                                    "eve": "NULL",
                                    "szamuk": "3"
                                },
                                {
                                    "szoba_fk": "136",
                                    "eve": "2016",
                                    "szamuk": "1"
                                },
                                {
                                    "szoba_fk": "136",
                                    "eve": "2016",
                                    "szamuk": "1"
                                },
                                {
                                    "szoba_fk": "136",
                                    "eve": "2016",
                                    "szamuk": "1"
                                },
                                {
                                    "szoba_fk": "136",
                                    "eve": "NULL",
                                    "szamuk": "3"
                                },
                                {
                                    "szoba_fk": "137",
                                    "eve": "2016",
                                    "szamuk": "1"
                                },
                                {
                                    "szoba_fk": "137",
                                    "eve": "2016",
                                    "szamuk": "1"
                                },
                                {
                                    "szoba_fk": "137",
                                    "eve": "2016",
                                    "szamuk": "1"
                                },
                                {
                                    "szoba_fk": "137",
                                    "eve": "2016",
                                    "szamuk": "1"
                                },
                                {
                                    "szoba_fk": "137",
                                    "eve": "2016",
                                    "szamuk": "1"
                                },
                                {
                                    "szoba_fk": "137",
                                    "eve": "2016",
                                    "szamuk": "1"
                                },
                                {
                                    "szoba_fk": "137",
                                    "eve": "NULL",
                                    "szamuk": "6"
                                },
                                {
                                    "szoba_fk": "138",
                                    "eve": "2016",
                                    "szamuk": "1"
                                },
                                {
                                    "szoba_fk": "138",
                                    "eve": "2016",
                                    "szamuk": "1"
                                },
                                {
                                    "szoba_fk": "138",
                                    "eve": "2016",
                                    "szamuk": "1"
                                },
                                {
                                    "szoba_fk": "138",
                                    "eve": "2016",
                                    "szamuk": "1"
                                },
                                {
                                    "szoba_fk": "138",
                                    "eve": "2016",
                                    "szamuk": "1"
                                },
                                {
                                    "szoba_fk": "138",
                                    "eve": "2016",
                                    "szamuk": "1"
                                },
                                {
                                    "szoba_fk": "138",
                                    "eve": "2016",
                                    "szamuk": "1"
                                },
                                {
                                    "szoba_fk": "138",
                                    "eve": "NULL",
                                    "szamuk": "7"
                                },
                                {
                                    "szoba_fk": "139",
                                    "eve": "2016",
                                    "szamuk": "1"
                                },
                                {
                                    "szoba_fk": "139",
                                    "eve": "2016",
                                    "szamuk": "1"
                                },
                                {
                                    "szoba_fk": "139",
                                    "eve": "2016",
                                    "szamuk": "1"
                                },
                                {
                                    "szoba_fk": "139",
                                    "eve": "2016",
                                    "szamuk": "1"
                                },
                                {
                                    "szoba_fk": "139",
                                    "eve": "2016",
                                    "szamuk": "1"
                                },
                                {
                                    "szoba_fk": "139",
                                    "eve": "2017",
                                    "szamuk": "1"
                                },
                                {
                                    "szoba_fk": "139",
                                    "eve": "2017",
                                    "szamuk": "1"
                                },
                                {
                                    "szoba_fk": "139",
                                    "eve": "NULL",
                                    "szamuk": "7"
                                },
                                {
                                    "szoba_fk": "140",
                                    "eve": "2016",
                                    "szamuk": "1"
                                },
                                {
                                    "szoba_fk": "140",
                                    "eve": "2016",
                                    "szamuk": "1"
                                },
                                {
                                    "szoba_fk": "140",
                                    "eve": "2016",
                                    "szamuk": "1"
                                },
                                {
                                    "szoba_fk": "140",
                                    "eve": "2016",
                                    "szamuk": "1"
                                },
                                {
                                    "szoba_fk": "140",
                                    "eve": "2016",
                                    "szamuk": "1"
                                },
                                {
                                    "szoba_fk": "140",
                                    "eve": "2016",
                                    "szamuk": "1"
                                },
                                {
                                    "szoba_fk": "140",
                                    "eve": "2016",
                                    "szamuk": "1"
                                },
                                {
                                    "szoba_fk": "140",
                                    "eve": "2016",
                                    "szamuk": "1"
                                },
                                {
                                    "szoba_fk": "140",
                                    "eve": "NULL",
                                    "szamuk": "8"
                                },
                                {
                                    "szoba_fk": "141",
                                    "eve": "2016",
                                    "szamuk": "1"
                                },
                                {
                                    "szoba_fk": "141",
                                    "eve": "2016",
                                    "szamuk": "1"
                                },
                                {
                                    "szoba_fk": "141",
                                    "eve": "2016",
                                    "szamuk": "1"
                                },
                                {
                                    "szoba_fk": "141",
                                    "eve": "2016",
                                    "szamuk": "1"
                                },
                                {
                                    "szoba_fk": "141",
                                    "eve": "2016",
                                    "szamuk": "1"
                                },
                                {
                                    "szoba_fk": "141",
                                    "eve": "2016",
                                    "szamuk": "1"
                                },
                                {
                                    "szoba_fk": "141",
                                    "eve": "NULL",
                                    "szamuk": "6"
                                },
                                {
                                    "szoba_fk": "142",
                                    "eve": "2016",
                                    "szamuk": "1"
                                },
                                {
                                    "szoba_fk": "142",
                                    "eve": "2017",
                                    "szamuk": "1"
                                },
                                {
                                    "szoba_fk": "142",
                                    "eve": "NULL",
                                    "szamuk": "2"
                                },
                                {
                                    "szoba_fk": "143",
                                    "eve": "2016",
                                    "szamuk": "1"
                                },
                                {
                                    "szoba_fk": "143",
                                    "eve": "2016",
                                    "szamuk": "1"
                                },
                                {
                                    "szoba_fk": "143",
                                    "eve": "2016",
                                    "szamuk": "1"
                                },
                                {
                                    "szoba_fk": "143",
                                    "eve": "2016",
                                    "szamuk": "1"
                                },
                                {
                                    "szoba_fk": "143",
                                    "eve": "2016",
                                    "szamuk": "1"
                                },
                                {
                                    "szoba_fk": "143",
                                    "eve": "2016",
                                    "szamuk": "1"
                                },
                                {
                                    "szoba_fk": "143",
                                    "eve": "2017",
                                    "szamuk": "1"
                                },
                                {
                                    "szoba_fk": "143",
                                    "eve": "NULL",
                                    "szamuk": "7"
                                },
                                {
                                    "szoba_fk": "144",
                                    "eve": "2016",
                                    "szamuk": "1"
                                },
                                {
                                    "szoba_fk": "144",
                                    "eve": "2016",
                                    "szamuk": "1"
                                },
                                {
                                    "szoba_fk": "144",
                                    "eve": "2016",
                                    "szamuk": "1"
                                },
                                {
                                    "szoba_fk": "144",
                                    "eve": "2016",
                                    "szamuk": "1"
                                },
                                {
                                    "szoba_fk": "144",
                                    "eve": "2017",
                                    "szamuk": "1"
                                },
                                {
                                    "szoba_fk": "144",
                                    "eve": "NULL",
                                    "szamuk": "5"
                                },
                                {
                                    "szoba_fk": "145",
                                    "eve": "2016",
                                    "szamuk": "1"
                                },
                                {
                                    "szoba_fk": "145",
                                    "eve": "2016",
                                    "szamuk": "1"
                                },
                                {
                                    "szoba_fk": "145",
                                    "eve": "2016",
                                    "szamuk": "1"
                                },
                                {
                                    "szoba_fk": "145",
                                    "eve": "2016",
                                    "szamuk": "1"
                                },
                                {
                                    "szoba_fk": "145",
                                    "eve": "2016",
                                    "szamuk": "1"
                                },
                                {
                                    "szoba_fk": "145",
                                    "eve": "2017",
                                    "szamuk": "1"
                                },
                                {
                                    "szoba_fk": "145",
                                    "eve": "NULL",
                                    "szamuk": "6"
                                },
                                {
                                    "szoba_fk": "146",
                                    "eve": "2016",
                                    "szamuk": "1"
                                },
                                {
                                    "szoba_fk": "146",
                                    "eve": "2016",
                                    "szamuk": "1"
                                },
                                {
                                    "szoba_fk": "146",
                                    "eve": "2016",
                                    "szamuk": "1"
                                },
                                {
                                    "szoba_fk": "146",
                                    "eve": "2016",
                                    "szamuk": "1"
                                },
                                {
                                    "szoba_fk": "146",
                                    "eve": "2016",
                                    "szamuk": "1"
                                },
                                {
                                    "szoba_fk": "146",
                                    "eve": "2017",
                                    "szamuk": "1"
                                },
                                {
                                    "szoba_fk": "146",
                                    "eve": "NULL",
                                    "szamuk": "6"
                                },
                                {
                                    "szoba_fk": "147",
                                    "eve": "2016",
                                    "szamuk": "1"
                                },
                                {
                                    "szoba_fk": "147",
                                    "eve": "NULL",
                                    "szamuk": "1"
                                },
                                {
                                    "szoba_fk": "148",
                                    "eve": "2016",
                                    "szamuk": "1"
                                },
                                {
                                    "szoba_fk": "148",
                                    "eve": "2016",
                                    "szamuk": "1"
                                },
                                {
                                    "szoba_fk": "148",
                                    "eve": "2016",
                                    "szamuk": "1"
                                },
                                {
                                    "szoba_fk": "148",
                                    "eve": "2016",
                                    "szamuk": "2"
                                },
                                {
                                    "szoba_fk": "148",
                                    "eve": "2017",
                                    "szamuk": "1"
                                },
                                {
                                    "szoba_fk": "148",
                                    "eve": "NULL",
                                    "szamuk": "6"
                                },
                                {
                                    "szoba_fk": "149",
                                    "eve": "2016",
                                    "szamuk": "1"
                                },
                                {
                                    "szoba_fk": "149",
                                    "eve": "2016",
                                    "szamuk": "1"
                                },
                                {
                                    "szoba_fk": "149",
                                    "eve": "2016",
                                    "szamuk": "1"
                                },
                                {
                                    "szoba_fk": "149",
                                    "eve": "2016",
                                    "szamuk": "1"
                                },
                                {
                                    "szoba_fk": "149",
                                    "eve": "2016",
                                    "szamuk": "1"
                                },
                                {
                                    "szoba_fk": "149",
                                    "eve": "2016",
                                    "szamuk": "1"
                                },
                                {
                                    "szoba_fk": "149",
                                    "eve": "2017",
                                    "szamuk": "1"
                                },
                                {
                                    "szoba_fk": "149",
                                    "eve": "NULL",
                                    "szamuk": "7"
                                },
                                {
                                    "szoba_fk": "150",
                                    "eve": "2016",
                                    "szamuk": "1"
                                },
                                {
                                    "szoba_fk": "150",
                                    "eve": "2016",
                                    "szamuk": "2"
                                },
                                {
                                    "szoba_fk": "150",
                                    "eve": "2016",
                                    "szamuk": "1"
                                },
                                {
                                    "szoba_fk": "150",
                                    "eve": "2016",
                                    "szamuk": "1"
                                },
                                {
                                    "szoba_fk": "150",
                                    "eve": "2017",
                                    "szamuk": "1"
                                },
                                {
                                    "szoba_fk": "150",
                                    "eve": "NULL",
                                    "szamuk": "6"
                                },
                                {
                                    "szoba_fk": "151",
                                    "eve": "2016",
                                    "szamuk": "1"
                                },
                                {
                                    "szoba_fk": "151",
                                    "eve": "2016",
                                    "szamuk": "1"
                                },
                                {
                                    "szoba_fk": "151",
                                    "eve": "2016",
                                    "szamuk": "1"
                                },
                                {
                                    "szoba_fk": "151",
                                    "eve": "NULL",
                                    "szamuk": "3"
                                },
                                {
                                    "szoba_fk": "152",
                                    "eve": "2016",
                                    "szamuk": "1"
                                },
                                {
                                    "szoba_fk": "152",
                                    "eve": "2016",
                                    "szamuk": "1"
                                },
                                {
                                    "szoba_fk": "152",
                                    "eve": "2016",
                                    "szamuk": "1"
                                },
                                {
                                    "szoba_fk": "152",
                                    "eve": "2017",
                                    "szamuk": "1"
                                },
                                {
                                    "szoba_fk": "152",
                                    "eve": "NULL",
                                    "szamuk": "4"
                                },
                                {
                                    "szoba_fk": "153",
                                    "eve": "2016",
                                    "szamuk": "1"
                                },
                                {
                                    "szoba_fk": "153",
                                    "eve": "2016",
                                    "szamuk": "1"
                                },
                                {
                                    "szoba_fk": "153",
                                    "eve": "2017",
                                    "szamuk": "1"
                                },
                                {
                                    "szoba_fk": "153",
                                    "eve": "2017",
                                    "szamuk": "1"
                                },
                                {
                                    "szoba_fk": "153",
                                    "eve": "2017",
                                    "szamuk": "1"
                                },
                                {
                                    "szoba_fk": "153",
                                    "eve": "NULL",
                                    "szamuk": "5"
                                },
                                {
                                    "szoba_fk": "154",
                                    "eve": "2016",
                                    "szamuk": "1"
                                },
                                {
                                    "szoba_fk": "154",
                                    "eve": "2016",
                                    "szamuk": "1"
                                },
                                {
                                    "szoba_fk": "154",
                                    "eve": "2016",
                                    "szamuk": "1"
                                },
                                {
                                    "szoba_fk": "154",
                                    "eve": "2016",
                                    "szamuk": "1"
                                },
                                {
                                    "szoba_fk": "154",
                                    "eve": "2017",
                                    "szamuk": "1"
                                },
                                {
                                    "szoba_fk": "154",
                                    "eve": "NULL",
                                    "szamuk": "5"
                                },
                                {
                                    "szoba_fk": "155",
                                    "eve": "2016",
                                    "szamuk": "1"
                                },
                                {
                                    "szoba_fk": "155",
                                    "eve": "2016",
                                    "szamuk": "1"
                                },
                                {
                                    "szoba_fk": "155",
                                    "eve": "2016",
                                    "szamuk": "1"
                                },
                                {
                                    "szoba_fk": "155",
                                    "eve": "2016",
                                    "szamuk": "1"
                                },
                                {
                                    "szoba_fk": "155",
                                    "eve": "2017",
                                    "szamuk": "1"
                                },
                                {
                                    "szoba_fk": "155",
                                    "eve": "NULL",
                                    "szamuk": "5"
                                },
                                {
                                    "szoba_fk": "156",
                                    "eve": "2016",
                                    "szamuk": "1"
                                },
                                {
                                    "szoba_fk": "156",
                                    "eve": "2016",
                                    "szamuk": "1"
                                },
                                {
                                    "szoba_fk": "156",
                                    "eve": "2016",
                                    "szamuk": "1"
                                },
                                {
                                    "szoba_fk": "156",
                                    "eve": "2016",
                                    "szamuk": "1"
                                },
                                {
                                    "szoba_fk": "156",
                                    "eve": "2017",
                                    "szamuk": "1"
                                },
                                {
                                    "szoba_fk": "156",
                                    "eve": "2017",
                                    "szamuk": "1"
                                },
                                {
                                    "szoba_fk": "156",
                                    "eve": "2017",
                                    "szamuk": "1"
                                },
                                {
                                    "szoba_fk": "156",
                                    "eve": "NULL",
                                    "szamuk": "7"
                                },
                                {
                                    "szoba_fk": "157",
                                    "eve": "2016",
                                    "szamuk": "1"
                                },
                                {
                                    "szoba_fk": "157",
                                    "eve": "2016",
                                    "szamuk": "1"
                                },
                                {
                                    "szoba_fk": "157",
                                    "eve": "2016",
                                    "szamuk": "1"
                                },
                                {
                                    "szoba_fk": "157",
                                    "eve": "2016",
                                    "szamuk": "1"
                                },
                                {
                                    "szoba_fk": "157",
                                    "eve": "2017",
                                    "szamuk": "1"
                                },
                                {
                                    "szoba_fk": "157",
                                    "eve": "NULL",
                                    "szamuk": "5"
                                },
                                {
                                    "szoba_fk": "158",
                                    "eve": "2016",
                                    "szamuk": "1"
                                },
                                {
                                    "szoba_fk": "158",
                                    "eve": "2016",
                                    "szamuk": "1"
                                },
                                {
                                    "szoba_fk": "158",
                                    "eve": "2016",
                                    "szamuk": "1"
                                },
                                {
                                    "szoba_fk": "158",
                                    "eve": "NULL",
                                    "szamuk": "3"
                                },
                                {
                                    "szoba_fk": "160",
                                    "eve": "2016",
                                    "szamuk": "1"
                                },
                                {
                                    "szoba_fk": "160",
                                    "eve": "2016",
                                    "szamuk": "2"
                                },
                                {
                                    "szoba_fk": "160",
                                    "eve": "2016",
                                    "szamuk": "1"
                                },
                                {
                                    "szoba_fk": "160",
                                    "eve": "2017",
                                    "szamuk": "1"
                                },
                                {
                                    "szoba_fk": "160",
                                    "eve": "NULL",
                                    "szamuk": "5"
                                },
                                {
                                    "szoba_fk": "161",
                                    "eve": "2016",
                                    "szamuk": "1"
                                },
                                {
                                    "szoba_fk": "161",
                                    "eve": "2016",
                                    "szamuk": "1"
                                },
                                {
                                    "szoba_fk": "161",
                                    "eve": "2016",
                                    "szamuk": "1"
                                },
                                {
                                    "szoba_fk": "161",
                                    "eve": "2016",
                                    "szamuk": "1"
                                },
                                {
                                    "szoba_fk": "161",
                                    "eve": "2016",
                                    "szamuk": "1"
                                },
                                {
                                    "szoba_fk": "161",
                                    "eve": "2017",
                                    "szamuk": "1"
                                },
                                {
                                    "szoba_fk": "161",
                                    "eve": "NULL",
                                    "szamuk": "6"
                                },
                                {
                                    "szoba_fk": "162",
                                    "eve": "2016",
                                    "szamuk": "1"
                                },
                                {
                                    "szoba_fk": "162",
                                    "eve": "2016",
                                    "szamuk": "1"
                                },
                                {
                                    "szoba_fk": "162",
                                    "eve": "2016",
                                    "szamuk": "1"
                                },
                                {
                                    "szoba_fk": "162",
                                    "eve": "NULL",
                                    "szamuk": "3"
                                },
                                {
                                    "szoba_fk": "163",
                                    "eve": "2016",
                                    "szamuk": "1"
                                },
                                {
                                    "szoba_fk": "163",
                                    "eve": "2016",
                                    "szamuk": "1"
                                },
                                {
                                    "szoba_fk": "163",
                                    "eve": "2016",
                                    "szamuk": "1"
                                },
                                {
                                    "szoba_fk": "163",
                                    "eve": "2016",
                                    "szamuk": "1"
                                },
                                {
                                    "szoba_fk": "163",
                                    "eve": "2016",
                                    "szamuk": "1"
                                },
                                {
                                    "szoba_fk": "163",
                                    "eve": "2016",
                                    "szamuk": "1"
                                },
                                {
                                    "szoba_fk": "163",
                                    "eve": "2017",
                                    "szamuk": "1"
                                },
                                {
                                    "szoba_fk": "163",
                                    "eve": "NULL",
                                    "szamuk": "7"
                                },
                                {
                                    "szoba_fk": "164",
                                    "eve": "2016",
                                    "szamuk": "1"
                                },
                                {
                                    "szoba_fk": "164",
                                    "eve": "2016",
                                    "szamuk": "1"
                                },
                                {
                                    "szoba_fk": "164",
                                    "eve": "2016",
                                    "szamuk": "1"
                                },
                                {
                                    "szoba_fk": "164",
                                    "eve": "2016",
                                    "szamuk": "1"
                                },
                                {
                                    "szoba_fk": "164",
                                    "eve": "2016",
                                    "szamuk": "1"
                                },
                                {
                                    "szoba_fk": "164",
                                    "eve": "NULL",
                                    "szamuk": "5"
                                },
                                {
                                    "szoba_fk": "165",
                                    "eve": "2016",
                                    "szamuk": "1"
                                },
                                {
                                    "szoba_fk": "165",
                                    "eve": "2016",
                                    "szamuk": "1"
                                },
                                {
                                    "szoba_fk": "165",
                                    "eve": "2016",
                                    "szamuk": "3"
                                },
                                {
                                    "szoba_fk": "165",
                                    "eve": "2016",
                                    "szamuk": "1"
                                },
                                {
                                    "szoba_fk": "165",
                                    "eve": "2016",
                                    "szamuk": "1"
                                },
                                {
                                    "szoba_fk": "165",
                                    "eve": "NULL",
                                    "szamuk": "7"
                                },
                                {
                                    "szoba_fk": "166",
                                    "eve": "2016",
                                    "szamuk": "1"
                                },
                                {
                                    "szoba_fk": "166",
                                    "eve": "2016",
                                    "szamuk": "1"
                                },
                                {
                                    "szoba_fk": "166",
                                    "eve": "2017",
                                    "szamuk": "1"
                                },
                                {
                                    "szoba_fk": "166",
                                    "eve": "NULL",
                                    "szamuk": "3"
                                },
                                {
                                    "szoba_fk": "167",
                                    "eve": "2016",
                                    "szamuk": "1"
                                },
                                {
                                    "szoba_fk": "167",
                                    "eve": "2017",
                                    "szamuk": "1"
                                },
                                {
                                    "szoba_fk": "167",
                                    "eve": "NULL",
                                    "szamuk": "2"
                                },
                                {
                                    "szoba_fk": "168",
                                    "eve": "2016",
                                    "szamuk": "1"
                                },
                                {
                                    "szoba_fk": "168",
                                    "eve": "2016",
                                    "szamuk": "1"
                                },
                                {
                                    "szoba_fk": "168",
                                    "eve": "2016",
                                    "szamuk": "1"
                                },
                                {
                                    "szoba_fk": "168",
                                    "eve": "2016",
                                    "szamuk": "1"
                                },
                                {
                                    "szoba_fk": "168",
                                    "eve": "2016",
                                    "szamuk": "1"
                                },
                                {
                                    "szoba_fk": "168",
                                    "eve": "NULL",
                                    "szamuk": "5"
                                },
                                {
                                    "szoba_fk": "169",
                                    "eve": "2016",
                                    "szamuk": "1"
                                },
                                {
                                    "szoba_fk": "169",
                                    "eve": "2016",
                                    "szamuk": "1"
                                },
                                {
                                    "szoba_fk": "169",
                                    "eve": "2016",
                                    "szamuk": "1"
                                },
                                {
                                    "szoba_fk": "169",
                                    "eve": "2016",
                                    "szamuk": "1"
                                },
                                {
                                    "szoba_fk": "169",
                                    "eve": "2016",
                                    "szamuk": "1"
                                },
                                {
                                    "szoba_fk": "169",
                                    "eve": "2017",
                                    "szamuk": "1"
                                },
                                {
                                    "szoba_fk": "169",
                                    "eve": "NULL",
                                    "szamuk": "6"
                                },
                                {
                                    "szoba_fk": "170",
                                    "eve": "2016",
                                    "szamuk": "1"
                                },
                                {
                                    "szoba_fk": "170",
                                    "eve": "2016",
                                    "szamuk": "1"
                                },
                                {
                                    "szoba_fk": "170",
                                    "eve": "2016",
                                    "szamuk": "1"
                                },
                                {
                                    "szoba_fk": "170",
                                    "eve": "2016",
                                    "szamuk": "1"
                                },
                                {
                                    "szoba_fk": "170",
                                    "eve": "2016",
                                    "szamuk": "1"
                                },
                                {
                                    "szoba_fk": "170",
                                    "eve": "NULL",
                                    "szamuk": "5"
                                },
                                {
                                    "szoba_fk": "171",
                                    "eve": "2016",
                                    "szamuk": "1"
                                },
                                {
                                    "szoba_fk": "171",
                                    "eve": "2016",
                                    "szamuk": "1"
                                },
                                {
                                    "szoba_fk": "171",
                                    "eve": "2016",
                                    "szamuk": "1"
                                },
                                {
                                    "szoba_fk": "171",
                                    "eve": "2016",
                                    "szamuk": "1"
                                },
                                {
                                    "szoba_fk": "171",
                                    "eve": "2017",
                                    "szamuk": "1"
                                },
                                {
                                    "szoba_fk": "171",
                                    "eve": "NULL",
                                    "szamuk": "5"
                                },
                                {
                                    "szoba_fk": "172",
                                    "eve": "2016",
                                    "szamuk": "1"
                                },
                                {
                                    "szoba_fk": "172",
                                    "eve": "2016",
                                    "szamuk": "1"
                                },
                                {
                                    "szoba_fk": "172",
                                    "eve": "2016",
                                    "szamuk": "1"
                                },
                                {
                                    "szoba_fk": "172",
                                    "eve": "2016",
                                    "szamuk": "1"
                                },
                                {
                                    "szoba_fk": "172",
                                    "eve": "2016",
                                    "szamuk": "1"
                                },
                                {
                                    "szoba_fk": "172",
                                    "eve": "2016",
                                    "szamuk": "1"
                                },
                                {
                                    "szoba_fk": "172",
                                    "eve": "2016",
                                    "szamuk": "1"
                                },
                                {
                                    "szoba_fk": "172",
                                    "eve": "2017",
                                    "szamuk": "1"
                                },
                                {
                                    "szoba_fk": "172",
                                    "eve": "2017",
                                    "szamuk": "1"
                                },
                                {
                                    "szoba_fk": "172",
                                    "eve": "NULL",
                                    "szamuk": "9"
                                },
                                {
                                    "szoba_fk": "173",
                                    "eve": "2016",
                                    "szamuk": "1"
                                },
                                {
                                    "szoba_fk": "173",
                                    "eve": "2016",
                                    "szamuk": "1"
                                },
                                {
                                    "szoba_fk": "173",
                                    "eve": "2016",
                                    "szamuk": "1"
                                },
                                {
                                    "szoba_fk": "173",
                                    "eve": "2017",
                                    "szamuk": "1"
                                },
                                {
                                    "szoba_fk": "173",
                                    "eve": "NULL",
                                    "szamuk": "4"
                                },
                                {
                                    "szoba_fk": "174",
                                    "eve": "2016",
                                    "szamuk": "1"
                                },
                                {
                                    "szoba_fk": "174",
                                    "eve": "2016",
                                    "szamuk": "1"
                                },
                                {
                                    "szoba_fk": "174",
                                    "eve": "2016",
                                    "szamuk": "1"
                                },
                                {
                                    "szoba_fk": "174",
                                    "eve": "2016",
                                    "szamuk": "1"
                                },
                                {
                                    "szoba_fk": "174",
                                    "eve": "NULL",
                                    "szamuk": "4"
                                },
                                {
                                    "szoba_fk": "175",
                                    "eve": "2016",
                                    "szamuk": "1"
                                },
                                {
                                    "szoba_fk": "175",
                                    "eve": "2016",
                                    "szamuk": "1"
                                },
                                {
                                    "szoba_fk": "175",
                                    "eve": "2016",
                                    "szamuk": "1"
                                },
                                {
                                    "szoba_fk": "175",
                                    "eve": "2016",
                                    "szamuk": "1"
                                },
                                {
                                    "szoba_fk": "175",
                                    "eve": "2016",
                                    "szamuk": "1"
                                },
                                {
                                    "szoba_fk": "175",
                                    "eve": "NULL",
                                    "szamuk": "5"
                                },
                                {
                                    "szoba_fk": "176",
                                    "eve": "2016",
                                    "szamuk": "1"
                                },
                                {
                                    "szoba_fk": "176",
                                    "eve": "2016",
                                    "szamuk": "1"
                                },
                                {
                                    "szoba_fk": "176",
                                    "eve": "2016",
                                    "szamuk": "1"
                                },
                                {
                                    "szoba_fk": "176",
                                    "eve": "2016",
                                    "szamuk": "1"
                                },
                                {
                                    "szoba_fk": "176",
                                    "eve": "2017",
                                    "szamuk": "1"
                                },
                                {
                                    "szoba_fk": "176",
                                    "eve": "2017",
                                    "szamuk": "1"
                                },
                                {
                                    "szoba_fk": "176",
                                    "eve": "NULL",
                                    "szamuk": "6"
                                },
                                {
                                    "szoba_fk": "177",
                                    "eve": "2016",
                                    "szamuk": "1"
                                },
                                {
                                    "szoba_fk": "177",
                                    "eve": "2016",
                                    "szamuk": "1"
                                },
                                {
                                    "szoba_fk": "177",
                                    "eve": "2016",
                                    "szamuk": "1"
                                },
                                {
                                    "szoba_fk": "177",
                                    "eve": "2017",
                                    "szamuk": "1"
                                },
                                {
                                    "szoba_fk": "177",
                                    "eve": "NULL",
                                    "szamuk": "4"
                                },
                                {
                                    "szoba_fk": "178",
                                    "eve": "2016",
                                    "szamuk": "1"
                                },
                                {
                                    "szoba_fk": "178",
                                    "eve": "2016",
                                    "szamuk": "1"
                                },
                                {
                                    "szoba_fk": "178",
                                    "eve": "2016",
                                    "szamuk": "1"
                                },
                                {
                                    "szoba_fk": "178",
                                    "eve": "2016",
                                    "szamuk": "1"
                                },
                                {
                                    "szoba_fk": "178",
                                    "eve": "NULL",
                                    "szamuk": "4"
                                },
                                {
                                    "szoba_fk": "179",
                                    "eve": "2016",
                                    "szamuk": "1"
                                },
                                {
                                    "szoba_fk": "179",
                                    "eve": "2016",
                                    "szamuk": "1"
                                },
                                {
                                    "szoba_fk": "179",
                                    "eve": "2017",
                                    "szamuk": "1"
                                },
                                {
                                    "szoba_fk": "179",
                                    "eve": "NULL",
                                    "szamuk": "3"
                                },
                                {
                                    "szoba_fk": "180",
                                    "eve": "2016",
                                    "szamuk": "1"
                                },
                                {
                                    "szoba_fk": "180",
                                    "eve": "2017",
                                    "szamuk": "1"
                                },
                                {
                                    "szoba_fk": "180",
                                    "eve": "2017",
                                    "szamuk": "1"
                                },
                                {
                                    "szoba_fk": "180",
                                    "eve": "NULL",
                                    "szamuk": "3"
                                },
                                {
                                    "szoba_fk": "181",
                                    "eve": "2016",
                                    "szamuk": "1"
                                },
                                {
                                    "szoba_fk": "181",
                                    "eve": "2016",
                                    "szamuk": "1"
                                },
                                {
                                    "szoba_fk": "181",
                                    "eve": "2016",
                                    "szamuk": "1"
                                },
                                {
                                    "szoba_fk": "181",
                                    "eve": "2016",
                                    "szamuk": "1"
                                },
                                {
                                    "szoba_fk": "181",
                                    "eve": "2016",
                                    "szamuk": "1"
                                },
                                {
                                    "szoba_fk": "181",
                                    "eve": "2016",
                                    "szamuk": "1"
                                },
                                {
                                    "szoba_fk": "181",
                                    "eve": "NULL",
                                    "szamuk": "6"
                                },
                                {
                                    "szoba_fk": "182",
                                    "eve": "2016",
                                    "szamuk": "1"
                                },
                                {
                                    "szoba_fk": "182",
                                    "eve": "2016",
                                    "szamuk": "1"
                                },
                                {
                                    "szoba_fk": "182",
                                    "eve": "2016",
                                    "szamuk": "1"
                                },
                                {
                                    "szoba_fk": "182",
                                    "eve": "2016",
                                    "szamuk": "1"
                                },
                                {
                                    "szoba_fk": "182",
                                    "eve": "2016",
                                    "szamuk": "1"
                                },
                                {
                                    "szoba_fk": "182",
                                    "eve": "2016",
                                    "szamuk": "2"
                                },
                                {
                                    "szoba_fk": "182",
                                    "eve": "2016",
                                    "szamuk": "1"
                                },
                                {
                                    "szoba_fk": "182",
                                    "eve": "2016",
                                    "szamuk": "1"
                                },
                                {
                                    "szoba_fk": "182",
                                    "eve": "2016",
                                    "szamuk": "1"
                                },
                                {
                                    "szoba_fk": "182",
                                    "eve": "2017",
                                    "szamuk": "1"
                                },
                                {
                                    "szoba_fk": "182",
                                    "eve": "2017",
                                    "szamuk": "1"
                                },
                                {
                                    "szoba_fk": "182",
                                    "eve": "NULL",
                                    "szamuk": "12"
                                },
                                {
                                    "szoba_fk": "183",
                                    "eve": "2016",
                                    "szamuk": "1"
                                },
                                {
                                    "szoba_fk": "183",
                                    "eve": "2016",
                                    "szamuk": "1"
                                },
                                {
                                    "szoba_fk": "183",
                                    "eve": "2016",
                                    "szamuk": "1"
                                },
                                {
                                    "szoba_fk": "183",
                                    "eve": "2017",
                                    "szamuk": "1"
                                },
                                {
                                    "szoba_fk": "183",
                                    "eve": "NULL",
                                    "szamuk": "4"
                                },
                                {
                                    "szoba_fk": "184",
                                    "eve": "2016",
                                    "szamuk": "1"
                                },
                                {
                                    "szoba_fk": "184",
                                    "eve": "2016",
                                    "szamuk": "1"
                                },
                                {
                                    "szoba_fk": "184",
                                    "eve": "2016",
                                    "szamuk": "1"
                                },
                                {
                                    "szoba_fk": "184",
                                    "eve": "2016",
                                    "szamuk": "1"
                                },
                                {
                                    "szoba_fk": "184",
                                    "eve": "NULL",
                                    "szamuk": "4"
                                },
                                {
                                    "szoba_fk": "185",
                                    "eve": "2016",
                                    "szamuk": "1"
                                },
                                {
                                    "szoba_fk": "185",
                                    "eve": "2016",
                                    "szamuk": "1"
                                },
                                {
                                    "szoba_fk": "185",
                                    "eve": "2016",
                                    "szamuk": "1"
                                },
                                {
                                    "szoba_fk": "185",
                                    "eve": "2016",
                                    "szamuk": "1"
                                },
                                {
                                    "szoba_fk": "185",
                                    "eve": "2016",
                                    "szamuk": "1"
                                },
                                {
                                    "szoba_fk": "185",
                                    "eve": "2016",
                                    "szamuk": "1"
                                },
                                {
                                    "szoba_fk": "185",
                                    "eve": "2016",
                                    "szamuk": "1"
                                },
                                {
                                    "szoba_fk": "185",
                                    "eve": "2016",
                                    "szamuk": "1"
                                },
                                {
                                    "szoba_fk": "185",
                                    "eve": "2016",
                                    "szamuk": "1"
                                },
                                {
                                    "szoba_fk": "185",
                                    "eve": "2016",
                                    "szamuk": "1"
                                },
                                {
                                    "szoba_fk": "185",
                                    "eve": "2017",
                                    "szamuk": "1"
                                },
                                {
                                    "szoba_fk": "185",
                                    "eve": "2017",
                                    "szamuk": "1"
                                },
                                {
                                    "szoba_fk": "185",
                                    "eve": "NULL",
                                    "szamuk": "12"
                                },
                                {
                                    "szoba_fk": "186",
                                    "eve": "2016",
                                    "szamuk": "1"
                                },
                                {
                                    "szoba_fk": "186",
                                    "eve": "2016",
                                    "szamuk": "1"
                                },
                                {
                                    "szoba_fk": "186",
                                    "eve": "2016",
                                    "szamuk": "1"
                                },
                                {
                                    "szoba_fk": "186",
                                    "eve": "2017",
                                    "szamuk": "1"
                                },
                                {
                                    "szoba_fk": "186",
                                    "eve": "NULL",
                                    "szamuk": "4"
                                },
                                {
                                    "szoba_fk": "187",
                                    "eve": "2016",
                                    "szamuk": "1"
                                },
                                {
                                    "szoba_fk": "187",
                                    "eve": "2016",
                                    "szamuk": "1"
                                },
                                {
                                    "szoba_fk": "187",
                                    "eve": "2016",
                                    "szamuk": "1"
                                },
                                {
                                    "szoba_fk": "187",
                                    "eve": "2016",
                                    "szamuk": "1"
                                },
                                {
                                    "szoba_fk": "187",
                                    "eve": "2016",
                                    "szamuk": "1"
                                },
                                {
                                    "szoba_fk": "187",
                                    "eve": "2016",
                                    "szamuk": "1"
                                },
                                {
                                    "szoba_fk": "187",
                                    "eve": "2016",
                                    "szamuk": "1"
                                },
                                {
                                    "szoba_fk": "187",
                                    "eve": "NULL",
                                    "szamuk": "7"
                                },
                                {
                                    "szoba_fk": "188",
                                    "eve": "2016",
                                    "szamuk": "1"
                                },
                                {
                                    "szoba_fk": "188",
                                    "eve": "2016",
                                    "szamuk": "1"
                                },
                                {
                                    "szoba_fk": "188",
                                    "eve": "2016",
                                    "szamuk": "1"
                                },
                                {
                                    "szoba_fk": "188",
                                    "eve": "2016",
                                    "szamuk": "1"
                                },
                                {
                                    "szoba_fk": "188",
                                    "eve": "2016",
                                    "szamuk": "1"
                                },
                                {
                                    "szoba_fk": "188",
                                    "eve": "2016",
                                    "szamuk": "1"
                                },
                                {
                                    "szoba_fk": "188",
                                    "eve": "NULL",
                                    "szamuk": "6"
                                },
                                {
                                    "szoba_fk": "189",
                                    "eve": "2016",
                                    "szamuk": "1"
                                },
                                {
                                    "szoba_fk": "189",
                                    "eve": "2016",
                                    "szamuk": "1"
                                },
                                {
                                    "szoba_fk": "189",
                                    "eve": "2016",
                                    "szamuk": "1"
                                },
                                {
                                    "szoba_fk": "189",
                                    "eve": "2017",
                                    "szamuk": "1"
                                },
                                {
                                    "szoba_fk": "189",
                                    "eve": "2017",
                                    "szamuk": "1"
                                },
                                {
                                    "szoba_fk": "189",
                                    "eve": "NULL",
                                    "szamuk": "5"
                                },
                                {
                                    "szoba_fk": "190",
                                    "eve": "2016",
                                    "szamuk": "1"
                                },
                                {
                                    "szoba_fk": "190",
                                    "eve": "2016",
                                    "szamuk": "1"
                                },
                                {
                                    "szoba_fk": "190",
                                    "eve": "2016",
                                    "szamuk": "1"
                                },
                                {
                                    "szoba_fk": "190",
                                    "eve": "2016",
                                    "szamuk": "1"
                                },
                                {
                                    "szoba_fk": "190",
                                    "eve": "2017",
                                    "szamuk": "1"
                                },
                                {
                                    "szoba_fk": "190",
                                    "eve": "NULL",
                                    "szamuk": "5"
                                },
                                {
                                    "szoba_fk": "191",
                                    "eve": "2016",
                                    "szamuk": "1"
                                },
                                {
                                    "szoba_fk": "191",
                                    "eve": "2016",
                                    "szamuk": "1"
                                },
                                {
                                    "szoba_fk": "191",
                                    "eve": "2016",
                                    "szamuk": "1"
                                },
                                {
                                    "szoba_fk": "191",
                                    "eve": "2017",
                                    "szamuk": "1"
                                },
                                {
                                    "szoba_fk": "191",
                                    "eve": "2017",
                                    "szamuk": "1"
                                },
                                {
                                    "szoba_fk": "191",
                                    "eve": "NULL",
                                    "szamuk": "5"
                                },
                                {
                                    "szoba_fk": "192",
                                    "eve": "2016",
                                    "szamuk": "1"
                                },
                                {
                                    "szoba_fk": "192",
                                    "eve": "2016",
                                    "szamuk": "1"
                                },
                                {
                                    "szoba_fk": "192",
                                    "eve": "NULL",
                                    "szamuk": "2"
                                },
                                {
                                    "szoba_fk": "193",
                                    "eve": "2016",
                                    "szamuk": "1"
                                },
                                {
                                    "szoba_fk": "193",
                                    "eve": "2016",
                                    "szamuk": "1"
                                },
                                {
                                    "szoba_fk": "193",
                                    "eve": "2016",
                                    "szamuk": "1"
                                },
                                {
                                    "szoba_fk": "193",
                                    "eve": "2016",
                                    "szamuk": "1"
                                },
                                {
                                    "szoba_fk": "193",
                                    "eve": "2016",
                                    "szamuk": "1"
                                },
                                {
                                    "szoba_fk": "193",
                                    "eve": "2016",
                                    "szamuk": "1"
                                },
                                {
                                    "szoba_fk": "193",
                                    "eve": "2016",
                                    "szamuk": "1"
                                },
                                {
                                    "szoba_fk": "193",
                                    "eve": "NULL",
                                    "szamuk": "7"
                                },
                                {
                                    "szoba_fk": "194",
                                    "eve": "2016",
                                    "szamuk": "1"
                                },
                                {
                                    "szoba_fk": "194",
                                    "eve": "NULL",
                                    "szamuk": "1"
                                },
                                {
                                    "szoba_fk": "195",
                                    "eve": "2016",
                                    "szamuk": "1"
                                },
                                {
                                    "szoba_fk": "195",
                                    "eve": "2016",
                                    "szamuk": "1"
                                },
                                {
                                    "szoba_fk": "195",
                                    "eve": "2016",
                                    "szamuk": "1"
                                },
                                {
                                    "szoba_fk": "195",
                                    "eve": "2016",
                                    "szamuk": "1"
                                },
                                {
                                    "szoba_fk": "195",
                                    "eve": "2017",
                                    "szamuk": "1"
                                },
                                {
                                    "szoba_fk": "195",
                                    "eve": "2017",
                                    "szamuk": "1"
                                },
                                {
                                    "szoba_fk": "195",
                                    "eve": "NULL",
                                    "szamuk": "6"
                                },
                                {
                                    "szoba_fk": "196",
                                    "eve": "2016",
                                    "szamuk": "1"
                                },
                                {
                                    "szoba_fk": "196",
                                    "eve": "2016",
                                    "szamuk": "1"
                                },
                                {
                                    "szoba_fk": "196",
                                    "eve": "2016",
                                    "szamuk": "1"
                                },
                                {
                                    "szoba_fk": "196",
                                    "eve": "2016",
                                    "szamuk": "1"
                                },
                                {
                                    "szoba_fk": "196",
                                    "eve": "NULL",
                                    "szamuk": "4"
                                },
                                {
                                    "szoba_fk": "197",
                                    "eve": "2016",
                                    "szamuk": "1"
                                },
                                {
                                    "szoba_fk": "197",
                                    "eve": "2016",
                                    "szamuk": "1"
                                },
                                {
                                    "szoba_fk": "197",
                                    "eve": "2016",
                                    "szamuk": "1"
                                },
                                {
                                    "szoba_fk": "197",
                                    "eve": "2016",
                                    "szamuk": "1"
                                },
                                {
                                    "szoba_fk": "197",
                                    "eve": "2016",
                                    "szamuk": "1"
                                },
                                {
                                    "szoba_fk": "197",
                                    "eve": "2016",
                                    "szamuk": "1"
                                },
                                {
                                    "szoba_fk": "197",
                                    "eve": "NULL",
                                    "szamuk": "6"
                                },
                                {
                                    "szoba_fk": "198",
                                    "eve": "2016",
                                    "szamuk": "1"
                                },
                                {
                                    "szoba_fk": "198",
                                    "eve": "2016",
                                    "szamuk": "1"
                                },
                                {
                                    "szoba_fk": "198",
                                    "eve": "2016",
                                    "szamuk": "1"
                                },
                                {
                                    "szoba_fk": "198",
                                    "eve": "2016",
                                    "szamuk": "1"
                                },
                                {
                                    "szoba_fk": "198",
                                    "eve": "2016",
                                    "szamuk": "1"
                                },
                                {
                                    "szoba_fk": "198",
                                    "eve": "2016",
                                    "szamuk": "1"
                                },
                                {
                                    "szoba_fk": "198",
                                    "eve": "2016",
                                    "szamuk": "1"
                                },
                                {
                                    "szoba_fk": "198",
                                    "eve": "2017",
                                    "szamuk": "1"
                                },
                                {
                                    "szoba_fk": "198",
                                    "eve": "NULL",
                                    "szamuk": "8"
                                },
                                {
                                    "szoba_fk": "NULL",
                                    "eve": "NULL",
                                    "szamuk": "1027"
                                }
                            ]
                        },
                        "text/html": [
                            "<table>",
                            "<tr><th>szoba_fk</th><th>eve</th><th>szamuk</th></tr>",
                            "<tr><td>1</td><td>2016</td><td>1</td></tr>",
                            "<tr><td>1</td><td>2016</td><td>1</td></tr>",
                            "<tr><td>1</td><td>2016</td><td>1</td></tr>",
                            "<tr><td>1</td><td>2016</td><td>1</td></tr>",
                            "<tr><td>1</td><td>2016</td><td>1</td></tr>",
                            "<tr><td>1</td><td>2016</td><td>1</td></tr>",
                            "<tr><td>1</td><td>2016</td><td>1</td></tr>",
                            "<tr><td>1</td><td>2016</td><td>1</td></tr>",
                            "<tr><td>1</td><td>NULL</td><td>8</td></tr>",
                            "<tr><td>2</td><td>2016</td><td>1</td></tr>",
                            "<tr><td>2</td><td>2016</td><td>1</td></tr>",
                            "<tr><td>2</td><td>2016</td><td>1</td></tr>",
                            "<tr><td>2</td><td>2016</td><td>1</td></tr>",
                            "<tr><td>2</td><td>NULL</td><td>4</td></tr>",
                            "<tr><td>3</td><td>2016</td><td>1</td></tr>",
                            "<tr><td>3</td><td>2016</td><td>1</td></tr>",
                            "<tr><td>3</td><td>2016</td><td>1</td></tr>",
                            "<tr><td>3</td><td>2016</td><td>1</td></tr>",
                            "<tr><td>3</td><td>2016</td><td>1</td></tr>",
                            "<tr><td>3</td><td>2016</td><td>1</td></tr>",
                            "<tr><td>3</td><td>2017</td><td>1</td></tr>",
                            "<tr><td>3</td><td>2017</td><td>1</td></tr>",
                            "<tr><td>3</td><td>NULL</td><td>8</td></tr>",
                            "<tr><td>4</td><td>2016</td><td>1</td></tr>",
                            "<tr><td>4</td><td>2016</td><td>1</td></tr>",
                            "<tr><td>4</td><td>2016</td><td>1</td></tr>",
                            "<tr><td>4</td><td>2016</td><td>1</td></tr>",
                            "<tr><td>4</td><td>2016</td><td>1</td></tr>",
                            "<tr><td>4</td><td>2017</td><td>1</td></tr>",
                            "<tr><td>4</td><td>NULL</td><td>6</td></tr>",
                            "<tr><td>5</td><td>2016</td><td>1</td></tr>",
                            "<tr><td>5</td><td>2016</td><td>1</td></tr>",
                            "<tr><td>5</td><td>2016</td><td>1</td></tr>",
                            "<tr><td>5</td><td>2016</td><td>1</td></tr>",
                            "<tr><td>5</td><td>NULL</td><td>4</td></tr>",
                            "<tr><td>6</td><td>2016</td><td>1</td></tr>",
                            "<tr><td>6</td><td>2016</td><td>1</td></tr>",
                            "<tr><td>6</td><td>2016</td><td>1</td></tr>",
                            "<tr><td>6</td><td>2016</td><td>1</td></tr>",
                            "<tr><td>6</td><td>2016</td><td>1</td></tr>",
                            "<tr><td>6</td><td>2016</td><td>1</td></tr>",
                            "<tr><td>6</td><td>NULL</td><td>6</td></tr>",
                            "<tr><td>7</td><td>2016</td><td>1</td></tr>",
                            "<tr><td>7</td><td>2016</td><td>1</td></tr>",
                            "<tr><td>7</td><td>2016</td><td>1</td></tr>",
                            "<tr><td>7</td><td>2016</td><td>1</td></tr>",
                            "<tr><td>7</td><td>2016</td><td>1</td></tr>",
                            "<tr><td>7</td><td>2016</td><td>1</td></tr>",
                            "<tr><td>7</td><td>NULL</td><td>6</td></tr>",
                            "<tr><td>8</td><td>2016</td><td>1</td></tr>",
                            "<tr><td>8</td><td>2016</td><td>1</td></tr>",
                            "<tr><td>8</td><td>2016</td><td>1</td></tr>",
                            "<tr><td>8</td><td>2016</td><td>1</td></tr>",
                            "<tr><td>8</td><td>2016</td><td>1</td></tr>",
                            "<tr><td>8</td><td>NULL</td><td>5</td></tr>",
                            "<tr><td>9</td><td>2016</td><td>1</td></tr>",
                            "<tr><td>9</td><td>2016</td><td>1</td></tr>",
                            "<tr><td>9</td><td>2016</td><td>1</td></tr>",
                            "<tr><td>9</td><td>2016</td><td>1</td></tr>",
                            "<tr><td>9</td><td>2017</td><td>1</td></tr>",
                            "<tr><td>9</td><td>2017</td><td>1</td></tr>",
                            "<tr><td>9</td><td>NULL</td><td>6</td></tr>",
                            "<tr><td>10</td><td>2016</td><td>1</td></tr>",
                            "<tr><td>10</td><td>2016</td><td>1</td></tr>",
                            "<tr><td>10</td><td>2016</td><td>1</td></tr>",
                            "<tr><td>10</td><td>2016</td><td>1</td></tr>",
                            "<tr><td>10</td><td>NULL</td><td>4</td></tr>",
                            "<tr><td>11</td><td>2016</td><td>1</td></tr>",
                            "<tr><td>11</td><td>2016</td><td>1</td></tr>",
                            "<tr><td>11</td><td>2016</td><td>1</td></tr>",
                            "<tr><td>11</td><td>2017</td><td>1</td></tr>",
                            "<tr><td>11</td><td>NULL</td><td>4</td></tr>",
                            "<tr><td>12</td><td>2016</td><td>1</td></tr>",
                            "<tr><td>12</td><td>2016</td><td>1</td></tr>",
                            "<tr><td>12</td><td>2016</td><td>1</td></tr>",
                            "<tr><td>12</td><td>2016</td><td>1</td></tr>",
                            "<tr><td>12</td><td>2016</td><td>1</td></tr>",
                            "<tr><td>12</td><td>2016</td><td>1</td></tr>",
                            "<tr><td>12</td><td>2016</td><td>1</td></tr>",
                            "<tr><td>12</td><td>2016</td><td>1</td></tr>",
                            "<tr><td>12</td><td>2017</td><td>1</td></tr>",
                            "<tr><td>12</td><td>NULL</td><td>9</td></tr>",
                            "<tr><td>13</td><td>2016</td><td>1</td></tr>",
                            "<tr><td>13</td><td>2016</td><td>1</td></tr>",
                            "<tr><td>13</td><td>2016</td><td>1</td></tr>",
                            "<tr><td>13</td><td>2017</td><td>1</td></tr>",
                            "<tr><td>13</td><td>NULL</td><td>4</td></tr>",
                            "<tr><td>14</td><td>2016</td><td>1</td></tr>",
                            "<tr><td>14</td><td>2016</td><td>1</td></tr>",
                            "<tr><td>14</td><td>2017</td><td>1</td></tr>",
                            "<tr><td>14</td><td>NULL</td><td>3</td></tr>",
                            "<tr><td>15</td><td>2016</td><td>1</td></tr>",
                            "<tr><td>15</td><td>2016</td><td>1</td></tr>",
                            "<tr><td>15</td><td>2016</td><td>1</td></tr>",
                            "<tr><td>15</td><td>2016</td><td>1</td></tr>",
                            "<tr><td>15</td><td>2017</td><td>1</td></tr>",
                            "<tr><td>15</td><td>2017</td><td>1</td></tr>",
                            "<tr><td>15</td><td>NULL</td><td>6</td></tr>",
                            "<tr><td>16</td><td>2016</td><td>1</td></tr>",
                            "<tr><td>16</td><td>2016</td><td>1</td></tr>",
                            "<tr><td>16</td><td>2016</td><td>1</td></tr>",
                            "<tr><td>16</td><td>2016</td><td>1</td></tr>",
                            "<tr><td>16</td><td>2017</td><td>1</td></tr>",
                            "<tr><td>16</td><td>NULL</td><td>5</td></tr>",
                            "<tr><td>17</td><td>2016</td><td>1</td></tr>",
                            "<tr><td>17</td><td>2016</td><td>1</td></tr>",
                            "<tr><td>17</td><td>2016</td><td>1</td></tr>",
                            "<tr><td>17</td><td>2016</td><td>1</td></tr>",
                            "<tr><td>17</td><td>2016</td><td>1</td></tr>",
                            "<tr><td>17</td><td>2017</td><td>1</td></tr>",
                            "<tr><td>17</td><td>NULL</td><td>6</td></tr>",
                            "<tr><td>18</td><td>2016</td><td>1</td></tr>",
                            "<tr><td>18</td><td>2016</td><td>1</td></tr>",
                            "<tr><td>18</td><td>2016</td><td>1</td></tr>",
                            "<tr><td>18</td><td>2016</td><td>1</td></tr>",
                            "<tr><td>18</td><td>2016</td><td>1</td></tr>",
                            "<tr><td>18</td><td>2017</td><td>1</td></tr>",
                            "<tr><td>18</td><td>NULL</td><td>6</td></tr>",
                            "<tr><td>19</td><td>2016</td><td>1</td></tr>",
                            "<tr><td>19</td><td>2016</td><td>1</td></tr>",
                            "<tr><td>19</td><td>2016</td><td>1</td></tr>",
                            "<tr><td>19</td><td>2016</td><td>1</td></tr>",
                            "<tr><td>19</td><td>2016</td><td>1</td></tr>",
                            "<tr><td>19</td><td>2017</td><td>1</td></tr>",
                            "<tr><td>19</td><td>NULL</td><td>6</td></tr>",
                            "<tr><td>20</td><td>2016</td><td>1</td></tr>",
                            "<tr><td>20</td><td>2016</td><td>1</td></tr>",
                            "<tr><td>20</td><td>2016</td><td>1</td></tr>",
                            "<tr><td>20</td><td>2016</td><td>2</td></tr>",
                            "<tr><td>20</td><td>NULL</td><td>5</td></tr>",
                            "<tr><td>21</td><td>2016</td><td>1</td></tr>",
                            "<tr><td>21</td><td>2016</td><td>1</td></tr>",
                            "<tr><td>21</td><td>2016</td><td>1</td></tr>",
                            "<tr><td>21</td><td>2016</td><td>1</td></tr>",
                            "<tr><td>21</td><td>NULL</td><td>4</td></tr>",
                            "<tr><td>22</td><td>2016</td><td>1</td></tr>",
                            "<tr><td>22</td><td>2016</td><td>1</td></tr>",
                            "<tr><td>22</td><td>2016</td><td>1</td></tr>",
                            "<tr><td>22</td><td>2016</td><td>1</td></tr>",
                            "<tr><td>22</td><td>2016</td><td>1</td></tr>",
                            "<tr><td>22</td><td>2016</td><td>1</td></tr>",
                            "<tr><td>22</td><td>NULL</td><td>6</td></tr>",
                            "<tr><td>23</td><td>2016</td><td>1</td></tr>",
                            "<tr><td>23</td><td>2016</td><td>1</td></tr>",
                            "<tr><td>23</td><td>2016</td><td>1</td></tr>",
                            "<tr><td>23</td><td>NULL</td><td>3</td></tr>",
                            "<tr><td>24</td><td>2016</td><td>1</td></tr>",
                            "<tr><td>24</td><td>2016</td><td>1</td></tr>",
                            "<tr><td>24</td><td>2017</td><td>1</td></tr>",
                            "<tr><td>24</td><td>NULL</td><td>3</td></tr>",
                            "<tr><td>25</td><td>2016</td><td>1</td></tr>",
                            "<tr><td>25</td><td>2016</td><td>1</td></tr>",
                            "<tr><td>25</td><td>NULL</td><td>2</td></tr>",
                            "<tr><td>26</td><td>2016</td><td>1</td></tr>",
                            "<tr><td>26</td><td>2016</td><td>1</td></tr>",
                            "<tr><td>26</td><td>NULL</td><td>2</td></tr>",
                            "<tr><td>27</td><td>2016</td><td>1</td></tr>",
                            "<tr><td>27</td><td>2016</td><td>1</td></tr>",
                            "<tr><td>27</td><td>2016</td><td>1</td></tr>",
                            "<tr><td>27</td><td>2016</td><td>1</td></tr>",
                            "<tr><td>27</td><td>2016</td><td>1</td></tr>",
                            "<tr><td>27</td><td>2016</td><td>1</td></tr>",
                            "<tr><td>27</td><td>2017</td><td>1</td></tr>",
                            "<tr><td>27</td><td>NULL</td><td>7</td></tr>",
                            "<tr><td>28</td><td>2016</td><td>1</td></tr>",
                            "<tr><td>28</td><td>2016</td><td>1</td></tr>",
                            "<tr><td>28</td><td>2016</td><td>1</td></tr>",
                            "<tr><td>28</td><td>2016</td><td>1</td></tr>",
                            "<tr><td>28</td><td>2016</td><td>1</td></tr>",
                            "<tr><td>28</td><td>2017</td><td>1</td></tr>",
                            "<tr><td>28</td><td>NULL</td><td>6</td></tr>",
                            "<tr><td>29</td><td>2016</td><td>1</td></tr>",
                            "<tr><td>29</td><td>2016</td><td>1</td></tr>",
                            "<tr><td>29</td><td>2016</td><td>1</td></tr>",
                            "<tr><td>29</td><td>2016</td><td>1</td></tr>",
                            "<tr><td>29</td><td>2016</td><td>1</td></tr>",
                            "<tr><td>29</td><td>2017</td><td>1</td></tr>",
                            "<tr><td>29</td><td>NULL</td><td>6</td></tr>",
                            "<tr><td>30</td><td>2016</td><td>1</td></tr>",
                            "<tr><td>30</td><td>2016</td><td>1</td></tr>",
                            "<tr><td>30</td><td>2016</td><td>1</td></tr>",
                            "<tr><td>30</td><td>NULL</td><td>3</td></tr>",
                            "<tr><td>31</td><td>2016</td><td>1</td></tr>",
                            "<tr><td>31</td><td>2016</td><td>1</td></tr>",
                            "<tr><td>31</td><td>2016</td><td>1</td></tr>",
                            "<tr><td>31</td><td>NULL</td><td>3</td></tr>",
                            "<tr><td>32</td><td>2016</td><td>1</td></tr>",
                            "<tr><td>32</td><td>NULL</td><td>1</td></tr>",
                            "<tr><td>33</td><td>2016</td><td>1</td></tr>",
                            "<tr><td>33</td><td>2016</td><td>1</td></tr>",
                            "<tr><td>33</td><td>2016</td><td>1</td></tr>",
                            "<tr><td>33</td><td>2016</td><td>1</td></tr>",
                            "<tr><td>33</td><td>2016</td><td>1</td></tr>",
                            "<tr><td>33</td><td>2016</td><td>1</td></tr>",
                            "<tr><td>33</td><td>NULL</td><td>6</td></tr>",
                            "<tr><td>34</td><td>2016</td><td>1</td></tr>",
                            "<tr><td>34</td><td>2016</td><td>1</td></tr>",
                            "<tr><td>34</td><td>2016</td><td>1</td></tr>",
                            "<tr><td>34</td><td>2016</td><td>1</td></tr>",
                            "<tr><td>34</td><td>NULL</td><td>4</td></tr>",
                            "<tr><td>35</td><td>2016</td><td>1</td></tr>",
                            "<tr><td>35</td><td>2016</td><td>1</td></tr>",
                            "<tr><td>35</td><td>2016</td><td>1</td></tr>",
                            "<tr><td>35</td><td>2016</td><td>1</td></tr>",
                            "<tr><td>35</td><td>2016</td><td>1</td></tr>",
                            "<tr><td>35</td><td>2016</td><td>1</td></tr>",
                            "<tr><td>35</td><td>2017</td><td>1</td></tr>",
                            "<tr><td>35</td><td>2017</td><td>1</td></tr>",
                            "<tr><td>35</td><td>2017</td><td>1</td></tr>",
                            "<tr><td>35</td><td>NULL</td><td>9</td></tr>",
                            "<tr><td>36</td><td>2016</td><td>1</td></tr>",
                            "<tr><td>36</td><td>2016</td><td>1</td></tr>",
                            "<tr><td>36</td><td>2016</td><td>1</td></tr>",
                            "<tr><td>36</td><td>2016</td><td>1</td></tr>",
                            "<tr><td>36</td><td>2016</td><td>1</td></tr>",
                            "<tr><td>36</td><td>2016</td><td>1</td></tr>",
                            "<tr><td>36</td><td>NULL</td><td>6</td></tr>",
                            "<tr><td>37</td><td>2016</td><td>1</td></tr>",
                            "<tr><td>37</td><td>2016</td><td>1</td></tr>",
                            "<tr><td>37</td><td>2016</td><td>1</td></tr>",
                            "<tr><td>37</td><td>NULL</td><td>3</td></tr>",
                            "<tr><td>38</td><td>2016</td><td>1</td></tr>",
                            "<tr><td>38</td><td>2016</td><td>1</td></tr>",
                            "<tr><td>38</td><td>2016</td><td>1</td></tr>",
                            "<tr><td>38</td><td>2016</td><td>1</td></tr>",
                            "<tr><td>38</td><td>2016</td><td>1</td></tr>",
                            "<tr><td>38</td><td>2017</td><td>1</td></tr>",
                            "<tr><td>38</td><td>2017</td><td>1</td></tr>",
                            "<tr><td>38</td><td>2017</td><td>1</td></tr>",
                            "<tr><td>38</td><td>NULL</td><td>8</td></tr>",
                            "<tr><td>39</td><td>2016</td><td>1</td></tr>",
                            "<tr><td>39</td><td>2016</td><td>1</td></tr>",
                            "<tr><td>39</td><td>2016</td><td>1</td></tr>",
                            "<tr><td>39</td><td>2016</td><td>1</td></tr>",
                            "<tr><td>39</td><td>2017</td><td>1</td></tr>",
                            "<tr><td>39</td><td>2017</td><td>1</td></tr>",
                            "<tr><td>39</td><td>2017</td><td>1</td></tr>",
                            "<tr><td>39</td><td>NULL</td><td>7</td></tr>",
                            "<tr><td>40</td><td>2016</td><td>2</td></tr>",
                            "<tr><td>40</td><td>2016</td><td>1</td></tr>",
                            "<tr><td>40</td><td>2016</td><td>1</td></tr>",
                            "<tr><td>40</td><td>NULL</td><td>4</td></tr>",
                            "<tr><td>41</td><td>2016</td><td>1</td></tr>",
                            "<tr><td>41</td><td>2016</td><td>1</td></tr>",
                            "<tr><td>41</td><td>NULL</td><td>2</td></tr>",
                            "<tr><td>42</td><td>2016</td><td>1</td></tr>",
                            "<tr><td>42</td><td>2016</td><td>1</td></tr>",
                            "<tr><td>42</td><td>2016</td><td>1</td></tr>",
                            "<tr><td>42</td><td>2016</td><td>1</td></tr>",
                            "<tr><td>42</td><td>2016</td><td>1</td></tr>",
                            "<tr><td>42</td><td>2017</td><td>1</td></tr>",
                            "<tr><td>42</td><td>NULL</td><td>6</td></tr>",
                            "<tr><td>43</td><td>2016</td><td>1</td></tr>",
                            "<tr><td>43</td><td>2016</td><td>1</td></tr>",
                            "<tr><td>43</td><td>2016</td><td>1</td></tr>",
                            "<tr><td>43</td><td>2016</td><td>1</td></tr>",
                            "<tr><td>43</td><td>2016</td><td>1</td></tr>",
                            "<tr><td>43</td><td>2016</td><td>1</td></tr>",
                            "<tr><td>43</td><td>2017</td><td>1</td></tr>",
                            "<tr><td>43</td><td>2017</td><td>1</td></tr>",
                            "<tr><td>43</td><td>NULL</td><td>8</td></tr>",
                            "<tr><td>44</td><td>2016</td><td>1</td></tr>",
                            "<tr><td>44</td><td>2016</td><td>1</td></tr>",
                            "<tr><td>44</td><td>2016</td><td>1</td></tr>",
                            "<tr><td>44</td><td>2016</td><td>1</td></tr>",
                            "<tr><td>44</td><td>2017</td><td>1</td></tr>",
                            "<tr><td>44</td><td>2017</td><td>1</td></tr>",
                            "<tr><td>44</td><td>NULL</td><td>6</td></tr>",
                            "<tr><td>45</td><td>2016</td><td>2</td></tr>",
                            "<tr><td>45</td><td>2016</td><td>1</td></tr>",
                            "<tr><td>45</td><td>2016</td><td>1</td></tr>",
                            "<tr><td>45</td><td>2016</td><td>1</td></tr>",
                            "<tr><td>45</td><td>NULL</td><td>5</td></tr>",
                            "<tr><td>46</td><td>2016</td><td>1</td></tr>",
                            "<tr><td>46</td><td>2016</td><td>1</td></tr>",
                            "<tr><td>46</td><td>2016</td><td>1</td></tr>",
                            "<tr><td>46</td><td>2017</td><td>1</td></tr>",
                            "<tr><td>46</td><td>NULL</td><td>4</td></tr>",
                            "<tr><td>47</td><td>2016</td><td>1</td></tr>",
                            "<tr><td>47</td><td>2016</td><td>1</td></tr>",
                            "<tr><td>47</td><td>NULL</td><td>2</td></tr>",
                            "<tr><td>48</td><td>2016</td><td>1</td></tr>",
                            "<tr><td>48</td><td>2016</td><td>1</td></tr>",
                            "<tr><td>48</td><td>2016</td><td>1</td></tr>",
                            "<tr><td>48</td><td>2016</td><td>1</td></tr>",
                            "<tr><td>48</td><td>2016</td><td>1</td></tr>",
                            "<tr><td>48</td><td>2016</td><td>1</td></tr>",
                            "<tr><td>48</td><td>2017</td><td>1</td></tr>",
                            "<tr><td>48</td><td>2017</td><td>1</td></tr>",
                            "<tr><td>48</td><td>2017</td><td>1</td></tr>",
                            "<tr><td>48</td><td>NULL</td><td>9</td></tr>",
                            "<tr><td>49</td><td>2016</td><td>1</td></tr>",
                            "<tr><td>49</td><td>2016</td><td>1</td></tr>",
                            "<tr><td>49</td><td>2016</td><td>1</td></tr>",
                            "<tr><td>49</td><td>2016</td><td>1</td></tr>",
                            "<tr><td>49</td><td>2016</td><td>1</td></tr>",
                            "<tr><td>49</td><td>2016</td><td>1</td></tr>",
                            "<tr><td>49</td><td>2017</td><td>1</td></tr>",
                            "<tr><td>49</td><td>NULL</td><td>7</td></tr>",
                            "<tr><td>50</td><td>2016</td><td>1</td></tr>",
                            "<tr><td>50</td><td>2016</td><td>1</td></tr>",
                            "<tr><td>50</td><td>2016</td><td>1</td></tr>",
                            "<tr><td>50</td><td>2016</td><td>1</td></tr>",
                            "<tr><td>50</td><td>NULL</td><td>4</td></tr>",
                            "<tr><td>51</td><td>2016</td><td>1</td></tr>",
                            "<tr><td>51</td><td>2016</td><td>1</td></tr>",
                            "<tr><td>51</td><td>2016</td><td>1</td></tr>",
                            "<tr><td>51</td><td>2017</td><td>1</td></tr>",
                            "<tr><td>51</td><td>2017</td><td>1</td></tr>",
                            "<tr><td>51</td><td>NULL</td><td>5</td></tr>",
                            "<tr><td>52</td><td>2016</td><td>1</td></tr>",
                            "<tr><td>52</td><td>2016</td><td>1</td></tr>",
                            "<tr><td>52</td><td>2016</td><td>1</td></tr>",
                            "<tr><td>52</td><td>2017</td><td>1</td></tr>",
                            "<tr><td>52</td><td>2017</td><td>1</td></tr>",
                            "<tr><td>52</td><td>NULL</td><td>5</td></tr>",
                            "<tr><td>53</td><td>2016</td><td>1</td></tr>",
                            "<tr><td>53</td><td>2016</td><td>1</td></tr>",
                            "<tr><td>53</td><td>NULL</td><td>2</td></tr>",
                            "<tr><td>54</td><td>2016</td><td>1</td></tr>",
                            "<tr><td>54</td><td>2016</td><td>1</td></tr>",
                            "<tr><td>54</td><td>2016</td><td>1</td></tr>",
                            "<tr><td>54</td><td>2016</td><td>1</td></tr>",
                            "<tr><td>54</td><td>2016</td><td>1</td></tr>",
                            "<tr><td>54</td><td>2016</td><td>1</td></tr>",
                            "<tr><td>54</td><td>NULL</td><td>6</td></tr>",
                            "<tr><td>55</td><td>2016</td><td>1</td></tr>",
                            "<tr><td>55</td><td>2016</td><td>1</td></tr>",
                            "<tr><td>55</td><td>2016</td><td>1</td></tr>",
                            "<tr><td>55</td><td>2016</td><td>1</td></tr>",
                            "<tr><td>55</td><td>2016</td><td>1</td></tr>",
                            "<tr><td>55</td><td>2016</td><td>1</td></tr>",
                            "<tr><td>55</td><td>2017</td><td>1</td></tr>",
                            "<tr><td>55</td><td>2017</td><td>1</td></tr>",
                            "<tr><td>55</td><td>NULL</td><td>8</td></tr>",
                            "<tr><td>56</td><td>2016</td><td>1</td></tr>",
                            "<tr><td>56</td><td>2016</td><td>1</td></tr>",
                            "<tr><td>56</td><td>NULL</td><td>2</td></tr>",
                            "<tr><td>57</td><td>2016</td><td>1</td></tr>",
                            "<tr><td>57</td><td>2016</td><td>1</td></tr>",
                            "<tr><td>57</td><td>2017</td><td>1</td></tr>",
                            "<tr><td>57</td><td>2017</td><td>1</td></tr>",
                            "<tr><td>57</td><td>NULL</td><td>4</td></tr>",
                            "<tr><td>58</td><td>2016</td><td>1</td></tr>",
                            "<tr><td>58</td><td>2016</td><td>1</td></tr>",
                            "<tr><td>58</td><td>2016</td><td>1</td></tr>",
                            "<tr><td>58</td><td>2016</td><td>1</td></tr>",
                            "<tr><td>58</td><td>2016</td><td>1</td></tr>",
                            "<tr><td>58</td><td>2016</td><td>1</td></tr>",
                            "<tr><td>58</td><td>2016</td><td>1</td></tr>",
                            "<tr><td>58</td><td>2016</td><td>1</td></tr>",
                            "<tr><td>58</td><td>2016</td><td>1</td></tr>",
                            "<tr><td>58</td><td>2016</td><td>1</td></tr>",
                            "<tr><td>58</td><td>2016</td><td>1</td></tr>",
                            "<tr><td>58</td><td>2016</td><td>1</td></tr>",
                            "<tr><td>58</td><td>2017</td><td>1</td></tr>",
                            "<tr><td>58</td><td>NULL</td><td>13</td></tr>",
                            "<tr><td>59</td><td>2016</td><td>1</td></tr>",
                            "<tr><td>59</td><td>2016</td><td>1</td></tr>",
                            "<tr><td>59</td><td>2016</td><td>1</td></tr>",
                            "<tr><td>59</td><td>2016</td><td>1</td></tr>",
                            "<tr><td>59</td><td>2016</td><td>1</td></tr>",
                            "<tr><td>59</td><td>2016</td><td>1</td></tr>",
                            "<tr><td>59</td><td>2017</td><td>1</td></tr>",
                            "<tr><td>59</td><td>NULL</td><td>7</td></tr>",
                            "<tr><td>60</td><td>2016</td><td>1</td></tr>",
                            "<tr><td>60</td><td>NULL</td><td>1</td></tr>",
                            "<tr><td>61</td><td>2016</td><td>1</td></tr>",
                            "<tr><td>61</td><td>2016</td><td>1</td></tr>",
                            "<tr><td>61</td><td>2016</td><td>1</td></tr>",
                            "<tr><td>61</td><td>2016</td><td>1</td></tr>",
                            "<tr><td>61</td><td>2017</td><td>1</td></tr>",
                            "<tr><td>61</td><td>NULL</td><td>5</td></tr>",
                            "<tr><td>62</td><td>2016</td><td>1</td></tr>",
                            "<tr><td>62</td><td>2016</td><td>1</td></tr>",
                            "<tr><td>62</td><td>2016</td><td>1</td></tr>",
                            "<tr><td>62</td><td>2016</td><td>1</td></tr>",
                            "<tr><td>62</td><td>2017</td><td>1</td></tr>",
                            "<tr><td>62</td><td>NULL</td><td>5</td></tr>",
                            "<tr><td>63</td><td>2016</td><td>1</td></tr>",
                            "<tr><td>63</td><td>2016</td><td>1</td></tr>",
                            "<tr><td>63</td><td>2016</td><td>1</td></tr>",
                            "<tr><td>63</td><td>2016</td><td>1</td></tr>",
                            "<tr><td>63</td><td>NULL</td><td>4</td></tr>",
                            "<tr><td>64</td><td>2016</td><td>1</td></tr>",
                            "<tr><td>64</td><td>2016</td><td>1</td></tr>",
                            "<tr><td>64</td><td>2016</td><td>1</td></tr>",
                            "<tr><td>64</td><td>2017</td><td>1</td></tr>",
                            "<tr><td>64</td><td>2017</td><td>1</td></tr>",
                            "<tr><td>64</td><td>2017</td><td>1</td></tr>",
                            "<tr><td>64</td><td>NULL</td><td>6</td></tr>",
                            "<tr><td>65</td><td>2016</td><td>1</td></tr>",
                            "<tr><td>65</td><td>NULL</td><td>1</td></tr>",
                            "<tr><td>66</td><td>2016</td><td>1</td></tr>",
                            "<tr><td>66</td><td>2016</td><td>1</td></tr>",
                            "<tr><td>66</td><td>2016</td><td>1</td></tr>",
                            "<tr><td>66</td><td>2016</td><td>1</td></tr>",
                            "<tr><td>66</td><td>NULL</td><td>4</td></tr>",
                            "<tr><td>67</td><td>2016</td><td>1</td></tr>",
                            "<tr><td>67</td><td>2016</td><td>1</td></tr>",
                            "<tr><td>67</td><td>2016</td><td>1</td></tr>",
                            "<tr><td>67</td><td>2016</td><td>1</td></tr>",
                            "<tr><td>67</td><td>2017</td><td>1</td></tr>",
                            "<tr><td>67</td><td>2017</td><td>1</td></tr>",
                            "<tr><td>67</td><td>NULL</td><td>6</td></tr>",
                            "<tr><td>68</td><td>2016</td><td>1</td></tr>",
                            "<tr><td>68</td><td>2016</td><td>1</td></tr>",
                            "<tr><td>68</td><td>2016</td><td>1</td></tr>",
                            "<tr><td>68</td><td>NULL</td><td>3</td></tr>",
                            "<tr><td>69</td><td>2016</td><td>1</td></tr>",
                            "<tr><td>69</td><td>2016</td><td>1</td></tr>",
                            "<tr><td>69</td><td>2016</td><td>1</td></tr>",
                            "<tr><td>69</td><td>2016</td><td>1</td></tr>",
                            "<tr><td>69</td><td>NULL</td><td>4</td></tr>",
                            "<tr><td>70</td><td>2016</td><td>1</td></tr>",
                            "<tr><td>70</td><td>2016</td><td>1</td></tr>",
                            "<tr><td>70</td><td>2016</td><td>1</td></tr>",
                            "<tr><td>70</td><td>2016</td><td>1</td></tr>",
                            "<tr><td>70</td><td>2016</td><td>1</td></tr>",
                            "<tr><td>70</td><td>2016</td><td>1</td></tr>",
                            "<tr><td>70</td><td>2016</td><td>1</td></tr>",
                            "<tr><td>70</td><td>2016</td><td>1</td></tr>",
                            "<tr><td>70</td><td>2016</td><td>1</td></tr>",
                            "<tr><td>70</td><td>2016</td><td>1</td></tr>",
                            "<tr><td>70</td><td>2017</td><td>1</td></tr>",
                            "<tr><td>70</td><td>NULL</td><td>11</td></tr>",
                            "<tr><td>71</td><td>2016</td><td>1</td></tr>",
                            "<tr><td>71</td><td>2016</td><td>1</td></tr>",
                            "<tr><td>71</td><td>2016</td><td>1</td></tr>",
                            "<tr><td>71</td><td>NULL</td><td>3</td></tr>",
                            "<tr><td>72</td><td>2016</td><td>1</td></tr>",
                            "<tr><td>72</td><td>2016</td><td>1</td></tr>",
                            "<tr><td>72</td><td>2016</td><td>1</td></tr>",
                            "<tr><td>72</td><td>2016</td><td>1</td></tr>",
                            "<tr><td>72</td><td>NULL</td><td>4</td></tr>",
                            "<tr><td>73</td><td>2016</td><td>1</td></tr>",
                            "<tr><td>73</td><td>2016</td><td>1</td></tr>",
                            "<tr><td>73</td><td>2016</td><td>1</td></tr>",
                            "<tr><td>73</td><td>2016</td><td>1</td></tr>",
                            "<tr><td>73</td><td>NULL</td><td>4</td></tr>",
                            "<tr><td>74</td><td>2016</td><td>1</td></tr>",
                            "<tr><td>74</td><td>2016</td><td>1</td></tr>",
                            "<tr><td>74</td><td>2016</td><td>1</td></tr>",
                            "<tr><td>74</td><td>2016</td><td>1</td></tr>",
                            "<tr><td>74</td><td>2016</td><td>1</td></tr>",
                            "<tr><td>74</td><td>2016</td><td>1</td></tr>",
                            "<tr><td>74</td><td>2016</td><td>1</td></tr>",
                            "<tr><td>74</td><td>2016</td><td>1</td></tr>",
                            "<tr><td>74</td><td>2016</td><td>1</td></tr>",
                            "<tr><td>74</td><td>NULL</td><td>9</td></tr>",
                            "<tr><td>75</td><td>2016</td><td>1</td></tr>",
                            "<tr><td>75</td><td>2017</td><td>1</td></tr>",
                            "<tr><td>75</td><td>2017</td><td>1</td></tr>",
                            "<tr><td>75</td><td>NULL</td><td>3</td></tr>",
                            "<tr><td>76</td><td>2016</td><td>1</td></tr>",
                            "<tr><td>76</td><td>2016</td><td>1</td></tr>",
                            "<tr><td>76</td><td>2017</td><td>1</td></tr>",
                            "<tr><td>76</td><td>NULL</td><td>3</td></tr>",
                            "<tr><td>77</td><td>2016</td><td>1</td></tr>",
                            "<tr><td>77</td><td>2016</td><td>1</td></tr>",
                            "<tr><td>77</td><td>2016</td><td>1</td></tr>",
                            "<tr><td>77</td><td>2016</td><td>1</td></tr>",
                            "<tr><td>77</td><td>2017</td><td>1</td></tr>",
                            "<tr><td>77</td><td>2017</td><td>1</td></tr>",
                            "<tr><td>77</td><td>NULL</td><td>6</td></tr>",
                            "<tr><td>78</td><td>2016</td><td>1</td></tr>",
                            "<tr><td>78</td><td>2016</td><td>1</td></tr>",
                            "<tr><td>78</td><td>2016</td><td>1</td></tr>",
                            "<tr><td>78</td><td>2016</td><td>1</td></tr>",
                            "<tr><td>78</td><td>2016</td><td>1</td></tr>",
                            "<tr><td>78</td><td>2017</td><td>1</td></tr>",
                            "<tr><td>78</td><td>NULL</td><td>6</td></tr>",
                            "<tr><td>79</td><td>2016</td><td>1</td></tr>",
                            "<tr><td>79</td><td>2016</td><td>1</td></tr>",
                            "<tr><td>79</td><td>2016</td><td>1</td></tr>",
                            "<tr><td>79</td><td>2016</td><td>1</td></tr>",
                            "<tr><td>79</td><td>2017</td><td>1</td></tr>",
                            "<tr><td>79</td><td>NULL</td><td>5</td></tr>",
                            "<tr><td>80</td><td>2016</td><td>1</td></tr>",
                            "<tr><td>80</td><td>2016</td><td>1</td></tr>",
                            "<tr><td>80</td><td>2016</td><td>1</td></tr>",
                            "<tr><td>80</td><td>2016</td><td>1</td></tr>",
                            "<tr><td>80</td><td>2016</td><td>1</td></tr>",
                            "<tr><td>80</td><td>2016</td><td>1</td></tr>",
                            "<tr><td>80</td><td>2016</td><td>1</td></tr>",
                            "<tr><td>80</td><td>NULL</td><td>7</td></tr>",
                            "<tr><td>81</td><td>2016</td><td>1</td></tr>",
                            "<tr><td>81</td><td>2017</td><td>1</td></tr>",
                            "<tr><td>81</td><td>2017</td><td>1</td></tr>",
                            "<tr><td>81</td><td>2017</td><td>1</td></tr>",
                            "<tr><td>81</td><td>2017</td><td>1</td></tr>",
                            "<tr><td>81</td><td>NULL</td><td>5</td></tr>",
                            "<tr><td>82</td><td>2016</td><td>1</td></tr>",
                            "<tr><td>82</td><td>2016</td><td>1</td></tr>",
                            "<tr><td>82</td><td>2016</td><td>1</td></tr>",
                            "<tr><td>82</td><td>2016</td><td>1</td></tr>",
                            "<tr><td>82</td><td>2016</td><td>1</td></tr>",
                            "<tr><td>82</td><td>2016</td><td>1</td></tr>",
                            "<tr><td>82</td><td>NULL</td><td>6</td></tr>",
                            "<tr><td>83</td><td>2016</td><td>1</td></tr>",
                            "<tr><td>83</td><td>2016</td><td>1</td></tr>",
                            "<tr><td>83</td><td>2016</td><td>1</td></tr>",
                            "<tr><td>83</td><td>2016</td><td>1</td></tr>",
                            "<tr><td>83</td><td>2016</td><td>1</td></tr>",
                            "<tr><td>83</td><td>2016</td><td>1</td></tr>",
                            "<tr><td>83</td><td>2016</td><td>1</td></tr>",
                            "<tr><td>83</td><td>2016</td><td>1</td></tr>",
                            "<tr><td>83</td><td>NULL</td><td>8</td></tr>",
                            "<tr><td>84</td><td>2016</td><td>1</td></tr>",
                            "<tr><td>84</td><td>2016</td><td>1</td></tr>",
                            "<tr><td>84</td><td>2016</td><td>1</td></tr>",
                            "<tr><td>84</td><td>2016</td><td>1</td></tr>",
                            "<tr><td>84</td><td>NULL</td><td>4</td></tr>",
                            "<tr><td>85</td><td>2016</td><td>1</td></tr>",
                            "<tr><td>85</td><td>2016</td><td>1</td></tr>",
                            "<tr><td>85</td><td>2016</td><td>1</td></tr>",
                            "<tr><td>85</td><td>2017</td><td>1</td></tr>",
                            "<tr><td>85</td><td>NULL</td><td>4</td></tr>",
                            "<tr><td>86</td><td>2016</td><td>1</td></tr>",
                            "<tr><td>86</td><td>2016</td><td>1</td></tr>",
                            "<tr><td>86</td><td>2016</td><td>1</td></tr>",
                            "<tr><td>86</td><td>2016</td><td>1</td></tr>",
                            "<tr><td>86</td><td>2017</td><td>1</td></tr>",
                            "<tr><td>86</td><td>NULL</td><td>5</td></tr>",
                            "<tr><td>87</td><td>2016</td><td>1</td></tr>",
                            "<tr><td>87</td><td>2016</td><td>1</td></tr>",
                            "<tr><td>87</td><td>2016</td><td>1</td></tr>",
                            "<tr><td>87</td><td>2016</td><td>1</td></tr>",
                            "<tr><td>87</td><td>2017</td><td>1</td></tr>",
                            "<tr><td>87</td><td>NULL</td><td>5</td></tr>",
                            "<tr><td>88</td><td>2016</td><td>1</td></tr>",
                            "<tr><td>88</td><td>2016</td><td>1</td></tr>",
                            "<tr><td>88</td><td>2016</td><td>1</td></tr>",
                            "<tr><td>88</td><td>2016</td><td>1</td></tr>",
                            "<tr><td>88</td><td>2016</td><td>1</td></tr>",
                            "<tr><td>88</td><td>2016</td><td>1</td></tr>",
                            "<tr><td>88</td><td>2017</td><td>1</td></tr>",
                            "<tr><td>88</td><td>2017</td><td>1</td></tr>",
                            "<tr><td>88</td><td>NULL</td><td>8</td></tr>",
                            "<tr><td>89</td><td>2016</td><td>1</td></tr>",
                            "<tr><td>89</td><td>2016</td><td>1</td></tr>",
                            "<tr><td>89</td><td>2016</td><td>1</td></tr>",
                            "<tr><td>89</td><td>2016</td><td>1</td></tr>",
                            "<tr><td>89</td><td>2016</td><td>1</td></tr>",
                            "<tr><td>89</td><td>2016</td><td>1</td></tr>",
                            "<tr><td>89</td><td>2016</td><td>1</td></tr>",
                            "<tr><td>89</td><td>2017</td><td>1</td></tr>",
                            "<tr><td>89</td><td>NULL</td><td>8</td></tr>",
                            "<tr><td>90</td><td>2016</td><td>1</td></tr>",
                            "<tr><td>90</td><td>2016</td><td>1</td></tr>",
                            "<tr><td>90</td><td>2016</td><td>1</td></tr>",
                            "<tr><td>90</td><td>2016</td><td>1</td></tr>",
                            "<tr><td>90</td><td>NULL</td><td>4</td></tr>",
                            "<tr><td>91</td><td>2016</td><td>1</td></tr>",
                            "<tr><td>91</td><td>2016</td><td>1</td></tr>",
                            "<tr><td>91</td><td>2016</td><td>1</td></tr>",
                            "<tr><td>91</td><td>2016</td><td>1</td></tr>",
                            "<tr><td>91</td><td>NULL</td><td>4</td></tr>",
                            "<tr><td>92</td><td>2016</td><td>1</td></tr>",
                            "<tr><td>92</td><td>2016</td><td>1</td></tr>",
                            "<tr><td>92</td><td>2016</td><td>1</td></tr>",
                            "<tr><td>92</td><td>2016</td><td>1</td></tr>",
                            "<tr><td>92</td><td>2017</td><td>1</td></tr>",
                            "<tr><td>92</td><td>2017</td><td>1</td></tr>",
                            "<tr><td>92</td><td>NULL</td><td>6</td></tr>",
                            "<tr><td>93</td><td>2016</td><td>1</td></tr>",
                            "<tr><td>93</td><td>2016</td><td>1</td></tr>",
                            "<tr><td>93</td><td>2016</td><td>1</td></tr>",
                            "<tr><td>93</td><td>2016</td><td>1</td></tr>",
                            "<tr><td>93</td><td>2016</td><td>1</td></tr>",
                            "<tr><td>93</td><td>NULL</td><td>5</td></tr>",
                            "<tr><td>94</td><td>2016</td><td>1</td></tr>",
                            "<tr><td>94</td><td>2016</td><td>1</td></tr>",
                            "<tr><td>94</td><td>2016</td><td>1</td></tr>",
                            "<tr><td>94</td><td>2016</td><td>1</td></tr>",
                            "<tr><td>94</td><td>2016</td><td>1</td></tr>",
                            "<tr><td>94</td><td>2016</td><td>1</td></tr>",
                            "<tr><td>94</td><td>2016</td><td>1</td></tr>",
                            "<tr><td>94</td><td>2016</td><td>1</td></tr>",
                            "<tr><td>94</td><td>2017</td><td>1</td></tr>",
                            "<tr><td>94</td><td>2017</td><td>1</td></tr>",
                            "<tr><td>94</td><td>NULL</td><td>10</td></tr>",
                            "<tr><td>95</td><td>2016</td><td>1</td></tr>",
                            "<tr><td>95</td><td>2016</td><td>1</td></tr>",
                            "<tr><td>95</td><td>2016</td><td>1</td></tr>",
                            "<tr><td>95</td><td>2017</td><td>1</td></tr>",
                            "<tr><td>95</td><td>NULL</td><td>4</td></tr>",
                            "<tr><td>96</td><td>2016</td><td>1</td></tr>",
                            "<tr><td>96</td><td>2016</td><td>1</td></tr>",
                            "<tr><td>96</td><td>2016</td><td>1</td></tr>",
                            "<tr><td>96</td><td>2016</td><td>1</td></tr>",
                            "<tr><td>96</td><td>2016</td><td>1</td></tr>",
                            "<tr><td>96</td><td>2017</td><td>1</td></tr>",
                            "<tr><td>96</td><td>2017</td><td>1</td></tr>",
                            "<tr><td>96</td><td>NULL</td><td>7</td></tr>",
                            "<tr><td>97</td><td>2016</td><td>1</td></tr>",
                            "<tr><td>97</td><td>2016</td><td>2</td></tr>",
                            "<tr><td>97</td><td>2016</td><td>1</td></tr>",
                            "<tr><td>97</td><td>2016</td><td>1</td></tr>",
                            "<tr><td>97</td><td>2017</td><td>1</td></tr>",
                            "<tr><td>97</td><td>2017</td><td>1</td></tr>",
                            "<tr><td>97</td><td>NULL</td><td>7</td></tr>",
                            "<tr><td>98</td><td>2016</td><td>1</td></tr>",
                            "<tr><td>98</td><td>2016</td><td>1</td></tr>",
                            "<tr><td>98</td><td>2016</td><td>1</td></tr>",
                            "<tr><td>98</td><td>2016</td><td>1</td></tr>",
                            "<tr><td>98</td><td>NULL</td><td>4</td></tr>",
                            "<tr><td>99</td><td>2016</td><td>1</td></tr>",
                            "<tr><td>99</td><td>2016</td><td>1</td></tr>",
                            "<tr><td>99</td><td>2016</td><td>1</td></tr>",
                            "<tr><td>99</td><td>2016</td><td>1</td></tr>",
                            "<tr><td>99</td><td>2017</td><td>1</td></tr>",
                            "<tr><td>99</td><td>NULL</td><td>5</td></tr>",
                            "<tr><td>100</td><td>2016</td><td>1</td></tr>",
                            "<tr><td>100</td><td>2016</td><td>1</td></tr>",
                            "<tr><td>100</td><td>2016</td><td>1</td></tr>",
                            "<tr><td>100</td><td>2017</td><td>1</td></tr>",
                            "<tr><td>100</td><td>NULL</td><td>4</td></tr>",
                            "<tr><td>101</td><td>2016</td><td>1</td></tr>",
                            "<tr><td>101</td><td>2016</td><td>1</td></tr>",
                            "<tr><td>101</td><td>2017</td><td>1</td></tr>",
                            "<tr><td>101</td><td>NULL</td><td>3</td></tr>",
                            "<tr><td>102</td><td>2016</td><td>1</td></tr>",
                            "<tr><td>102</td><td>2016</td><td>1</td></tr>",
                            "<tr><td>102</td><td>NULL</td><td>2</td></tr>",
                            "<tr><td>103</td><td>2016</td><td>1</td></tr>",
                            "<tr><td>103</td><td>2016</td><td>1</td></tr>",
                            "<tr><td>103</td><td>2016</td><td>1</td></tr>",
                            "<tr><td>103</td><td>2017</td><td>1</td></tr>",
                            "<tr><td>103</td><td>NULL</td><td>4</td></tr>",
                            "<tr><td>104</td><td>2016</td><td>1</td></tr>",
                            "<tr><td>104</td><td>2016</td><td>1</td></tr>",
                            "<tr><td>104</td><td>2017</td><td>1</td></tr>",
                            "<tr><td>104</td><td>2017</td><td>1</td></tr>",
                            "<tr><td>104</td><td>NULL</td><td>4</td></tr>",
                            "<tr><td>105</td><td>2016</td><td>1</td></tr>",
                            "<tr><td>105</td><td>2017</td><td>1</td></tr>",
                            "<tr><td>105</td><td>NULL</td><td>2</td></tr>",
                            "<tr><td>106</td><td>2016</td><td>1</td></tr>",
                            "<tr><td>106</td><td>2016</td><td>1</td></tr>",
                            "<tr><td>106</td><td>2016</td><td>1</td></tr>",
                            "<tr><td>106</td><td>2016</td><td>1</td></tr>",
                            "<tr><td>106</td><td>2016</td><td>1</td></tr>",
                            "<tr><td>106</td><td>2017</td><td>1</td></tr>",
                            "<tr><td>106</td><td>NULL</td><td>6</td></tr>",
                            "<tr><td>107</td><td>2016</td><td>1</td></tr>",
                            "<tr><td>107</td><td>2016</td><td>1</td></tr>",
                            "<tr><td>107</td><td>2016</td><td>1</td></tr>",
                            "<tr><td>107</td><td>2017</td><td>1</td></tr>",
                            "<tr><td>107</td><td>2017</td><td>1</td></tr>",
                            "<tr><td>107</td><td>NULL</td><td>5</td></tr>",
                            "<tr><td>108</td><td>2016</td><td>1</td></tr>",
                            "<tr><td>108</td><td>2016</td><td>1</td></tr>",
                            "<tr><td>108</td><td>NULL</td><td>2</td></tr>",
                            "<tr><td>109</td><td>2016</td><td>1</td></tr>",
                            "<tr><td>109</td><td>2016</td><td>1</td></tr>",
                            "<tr><td>109</td><td>2016</td><td>1</td></tr>",
                            "<tr><td>109</td><td>2016</td><td>1</td></tr>",
                            "<tr><td>109</td><td>2016</td><td>1</td></tr>",
                            "<tr><td>109</td><td>2016</td><td>1</td></tr>",
                            "<tr><td>109</td><td>2017</td><td>1</td></tr>",
                            "<tr><td>109</td><td>NULL</td><td>7</td></tr>",
                            "<tr><td>110</td><td>2016</td><td>1</td></tr>",
                            "<tr><td>110</td><td>2016</td><td>1</td></tr>",
                            "<tr><td>110</td><td>2016</td><td>1</td></tr>",
                            "<tr><td>110</td><td>2016</td><td>1</td></tr>",
                            "<tr><td>110</td><td>2016</td><td>1</td></tr>",
                            "<tr><td>110</td><td>2016</td><td>1</td></tr>",
                            "<tr><td>110</td><td>2017</td><td>1</td></tr>",
                            "<tr><td>110</td><td>2017</td><td>1</td></tr>",
                            "<tr><td>110</td><td>NULL</td><td>8</td></tr>",
                            "<tr><td>111</td><td>2016</td><td>1</td></tr>",
                            "<tr><td>111</td><td>2016</td><td>1</td></tr>",
                            "<tr><td>111</td><td>2016</td><td>1</td></tr>",
                            "<tr><td>111</td><td>2016</td><td>1</td></tr>",
                            "<tr><td>111</td><td>2016</td><td>1</td></tr>",
                            "<tr><td>111</td><td>NULL</td><td>5</td></tr>",
                            "<tr><td>112</td><td>2016</td><td>1</td></tr>",
                            "<tr><td>112</td><td>2016</td><td>1</td></tr>",
                            "<tr><td>112</td><td>2016</td><td>1</td></tr>",
                            "<tr><td>112</td><td>2016</td><td>1</td></tr>",
                            "<tr><td>112</td><td>2017</td><td>1</td></tr>",
                            "<tr><td>112</td><td>NULL</td><td>5</td></tr>",
                            "<tr><td>113</td><td>2016</td><td>1</td></tr>",
                            "<tr><td>113</td><td>2016</td><td>1</td></tr>",
                            "<tr><td>113</td><td>2016</td><td>1</td></tr>",
                            "<tr><td>113</td><td>2017</td><td>1</td></tr>",
                            "<tr><td>113</td><td>2017</td><td>1</td></tr>",
                            "<tr><td>113</td><td>NULL</td><td>5</td></tr>",
                            "<tr><td>114</td><td>2016</td><td>1</td></tr>",
                            "<tr><td>114</td><td>2016</td><td>1</td></tr>",
                            "<tr><td>114</td><td>2016</td><td>1</td></tr>",
                            "<tr><td>114</td><td>2017</td><td>1</td></tr>",
                            "<tr><td>114</td><td>NULL</td><td>4</td></tr>",
                            "<tr><td>115</td><td>2016</td><td>1</td></tr>",
                            "<tr><td>115</td><td>2016</td><td>1</td></tr>",
                            "<tr><td>115</td><td>2016</td><td>1</td></tr>",
                            "<tr><td>115</td><td>2016</td><td>1</td></tr>",
                            "<tr><td>115</td><td>2016</td><td>1</td></tr>",
                            "<tr><td>115</td><td>2017</td><td>1</td></tr>",
                            "<tr><td>115</td><td>2017</td><td>1</td></tr>",
                            "<tr><td>115</td><td>NULL</td><td>7</td></tr>",
                            "<tr><td>116</td><td>2017</td><td>1</td></tr>",
                            "<tr><td>116</td><td>2017</td><td>1</td></tr>",
                            "<tr><td>116</td><td>NULL</td><td>2</td></tr>",
                            "<tr><td>117</td><td>2016</td><td>1</td></tr>",
                            "<tr><td>117</td><td>2016</td><td>1</td></tr>",
                            "<tr><td>117</td><td>2016</td><td>1</td></tr>",
                            "<tr><td>117</td><td>2016</td><td>1</td></tr>",
                            "<tr><td>117</td><td>2016</td><td>1</td></tr>",
                            "<tr><td>117</td><td>2016</td><td>1</td></tr>",
                            "<tr><td>117</td><td>2016</td><td>1</td></tr>",
                            "<tr><td>117</td><td>2017</td><td>1</td></tr>",
                            "<tr><td>117</td><td>NULL</td><td>8</td></tr>",
                            "<tr><td>118</td><td>2016</td><td>1</td></tr>",
                            "<tr><td>118</td><td>2016</td><td>1</td></tr>",
                            "<tr><td>118</td><td>2016</td><td>1</td></tr>",
                            "<tr><td>118</td><td>2016</td><td>1</td></tr>",
                            "<tr><td>118</td><td>2016</td><td>1</td></tr>",
                            "<tr><td>118</td><td>2017</td><td>1</td></tr>",
                            "<tr><td>118</td><td>2017</td><td>1</td></tr>",
                            "<tr><td>118</td><td>NULL</td><td>7</td></tr>",
                            "<tr><td>119</td><td>2016</td><td>1</td></tr>",
                            "<tr><td>119</td><td>2016</td><td>1</td></tr>",
                            "<tr><td>119</td><td>2016</td><td>1</td></tr>",
                            "<tr><td>119</td><td>2017</td><td>1</td></tr>",
                            "<tr><td>119</td><td>2017</td><td>1</td></tr>",
                            "<tr><td>119</td><td>NULL</td><td>5</td></tr>",
                            "<tr><td>120</td><td>2016</td><td>1</td></tr>",
                            "<tr><td>120</td><td>2016</td><td>1</td></tr>",
                            "<tr><td>120</td><td>2016</td><td>1</td></tr>",
                            "<tr><td>120</td><td>2016</td><td>1</td></tr>",
                            "<tr><td>120</td><td>2017</td><td>1</td></tr>",
                            "<tr><td>120</td><td>2017</td><td>1</td></tr>",
                            "<tr><td>120</td><td>NULL</td><td>6</td></tr>",
                            "<tr><td>121</td><td>2016</td><td>1</td></tr>",
                            "<tr><td>121</td><td>2016</td><td>1</td></tr>",
                            "<tr><td>121</td><td>2016</td><td>1</td></tr>",
                            "<tr><td>121</td><td>2016</td><td>1</td></tr>",
                            "<tr><td>121</td><td>2016</td><td>1</td></tr>",
                            "<tr><td>121</td><td>2016</td><td>1</td></tr>",
                            "<tr><td>121</td><td>2016</td><td>1</td></tr>",
                            "<tr><td>121</td><td>2016</td><td>1</td></tr>",
                            "<tr><td>121</td><td>NULL</td><td>8</td></tr>",
                            "<tr><td>122</td><td>2016</td><td>1</td></tr>",
                            "<tr><td>122</td><td>2016</td><td>1</td></tr>",
                            "<tr><td>122</td><td>2016</td><td>1</td></tr>",
                            "<tr><td>122</td><td>2016</td><td>1</td></tr>",
                            "<tr><td>122</td><td>2016</td><td>1</td></tr>",
                            "<tr><td>122</td><td>2016</td><td>1</td></tr>",
                            "<tr><td>122</td><td>2016</td><td>1</td></tr>",
                            "<tr><td>122</td><td>2016</td><td>1</td></tr>",
                            "<tr><td>122</td><td>2017</td><td>1</td></tr>",
                            "<tr><td>122</td><td>NULL</td><td>9</td></tr>",
                            "<tr><td>123</td><td>2016</td><td>1</td></tr>",
                            "<tr><td>123</td><td>2016</td><td>1</td></tr>",
                            "<tr><td>123</td><td>2016</td><td>1</td></tr>",
                            "<tr><td>123</td><td>2016</td><td>1</td></tr>",
                            "<tr><td>123</td><td>2016</td><td>1</td></tr>",
                            "<tr><td>123</td><td>NULL</td><td>5</td></tr>",
                            "<tr><td>124</td><td>2016</td><td>1</td></tr>",
                            "<tr><td>124</td><td>2016</td><td>1</td></tr>",
                            "<tr><td>124</td><td>2016</td><td>1</td></tr>",
                            "<tr><td>124</td><td>2016</td><td>1</td></tr>",
                            "<tr><td>124</td><td>2017</td><td>1</td></tr>",
                            "<tr><td>124</td><td>2017</td><td>1</td></tr>",
                            "<tr><td>124</td><td>NULL</td><td>6</td></tr>",
                            "<tr><td>125</td><td>2016</td><td>1</td></tr>",
                            "<tr><td>125</td><td>NULL</td><td>1</td></tr>",
                            "<tr><td>126</td><td>2016</td><td>1</td></tr>",
                            "<tr><td>126</td><td>2016</td><td>1</td></tr>",
                            "<tr><td>126</td><td>2016</td><td>1</td></tr>",
                            "<tr><td>126</td><td>2016</td><td>1</td></tr>",
                            "<tr><td>126</td><td>2017</td><td>1</td></tr>",
                            "<tr><td>126</td><td>2017</td><td>1</td></tr>",
                            "<tr><td>126</td><td>NULL</td><td>6</td></tr>",
                            "<tr><td>127</td><td>2016</td><td>1</td></tr>",
                            "<tr><td>127</td><td>2016</td><td>1</td></tr>",
                            "<tr><td>127</td><td>2016</td><td>1</td></tr>",
                            "<tr><td>127</td><td>2016</td><td>1</td></tr>",
                            "<tr><td>127</td><td>2016</td><td>1</td></tr>",
                            "<tr><td>127</td><td>2016</td><td>1</td></tr>",
                            "<tr><td>127</td><td>2017</td><td>1</td></tr>",
                            "<tr><td>127</td><td>NULL</td><td>7</td></tr>",
                            "<tr><td>128</td><td>2016</td><td>1</td></tr>",
                            "<tr><td>128</td><td>2016</td><td>1</td></tr>",
                            "<tr><td>128</td><td>2016</td><td>1</td></tr>",
                            "<tr><td>128</td><td>2017</td><td>1</td></tr>",
                            "<tr><td>128</td><td>2017</td><td>1</td></tr>",
                            "<tr><td>128</td><td>NULL</td><td>5</td></tr>",
                            "<tr><td>129</td><td>2016</td><td>1</td></tr>",
                            "<tr><td>129</td><td>2016</td><td>1</td></tr>",
                            "<tr><td>129</td><td>2017</td><td>1</td></tr>",
                            "<tr><td>129</td><td>2017</td><td>1</td></tr>",
                            "<tr><td>129</td><td>NULL</td><td>4</td></tr>",
                            "<tr><td>130</td><td>2016</td><td>1</td></tr>",
                            "<tr><td>130</td><td>2016</td><td>1</td></tr>",
                            "<tr><td>130</td><td>2016</td><td>1</td></tr>",
                            "<tr><td>130</td><td>2016</td><td>1</td></tr>",
                            "<tr><td>130</td><td>2016</td><td>1</td></tr>",
                            "<tr><td>130</td><td>2017</td><td>1</td></tr>",
                            "<tr><td>130</td><td>NULL</td><td>6</td></tr>",
                            "<tr><td>131</td><td>2016</td><td>1</td></tr>",
                            "<tr><td>131</td><td>2016</td><td>1</td></tr>",
                            "<tr><td>131</td><td>2016</td><td>1</td></tr>",
                            "<tr><td>131</td><td>2016</td><td>1</td></tr>",
                            "<tr><td>131</td><td>2017</td><td>1</td></tr>",
                            "<tr><td>131</td><td>NULL</td><td>5</td></tr>",
                            "<tr><td>132</td><td>2016</td><td>1</td></tr>",
                            "<tr><td>132</td><td>2016</td><td>1</td></tr>",
                            "<tr><td>132</td><td>2016</td><td>1</td></tr>",
                            "<tr><td>132</td><td>2016</td><td>1</td></tr>",
                            "<tr><td>132</td><td>2016</td><td>1</td></tr>",
                            "<tr><td>132</td><td>2017</td><td>1</td></tr>",
                            "<tr><td>132</td><td>NULL</td><td>6</td></tr>",
                            "<tr><td>133</td><td>2016</td><td>1</td></tr>",
                            "<tr><td>133</td><td>2016</td><td>1</td></tr>",
                            "<tr><td>133</td><td>2016</td><td>1</td></tr>",
                            "<tr><td>133</td><td>2016</td><td>1</td></tr>",
                            "<tr><td>133</td><td>2016</td><td>1</td></tr>",
                            "<tr><td>133</td><td>2017</td><td>1</td></tr>",
                            "<tr><td>133</td><td>NULL</td><td>6</td></tr>",
                            "<tr><td>134</td><td>2016</td><td>1</td></tr>",
                            "<tr><td>134</td><td>2016</td><td>1</td></tr>",
                            "<tr><td>134</td><td>2016</td><td>1</td></tr>",
                            "<tr><td>134</td><td>2016</td><td>1</td></tr>",
                            "<tr><td>134</td><td>2016</td><td>1</td></tr>",
                            "<tr><td>134</td><td>2017</td><td>1</td></tr>",
                            "<tr><td>134</td><td>NULL</td><td>6</td></tr>",
                            "<tr><td>135</td><td>2016</td><td>1</td></tr>",
                            "<tr><td>135</td><td>2016</td><td>1</td></tr>",
                            "<tr><td>135</td><td>2016</td><td>1</td></tr>",
                            "<tr><td>135</td><td>NULL</td><td>3</td></tr>",
                            "<tr><td>136</td><td>2016</td><td>1</td></tr>",
                            "<tr><td>136</td><td>2016</td><td>1</td></tr>",
                            "<tr><td>136</td><td>2016</td><td>1</td></tr>",
                            "<tr><td>136</td><td>NULL</td><td>3</td></tr>",
                            "<tr><td>137</td><td>2016</td><td>1</td></tr>",
                            "<tr><td>137</td><td>2016</td><td>1</td></tr>",
                            "<tr><td>137</td><td>2016</td><td>1</td></tr>",
                            "<tr><td>137</td><td>2016</td><td>1</td></tr>",
                            "<tr><td>137</td><td>2016</td><td>1</td></tr>",
                            "<tr><td>137</td><td>2016</td><td>1</td></tr>",
                            "<tr><td>137</td><td>NULL</td><td>6</td></tr>",
                            "<tr><td>138</td><td>2016</td><td>1</td></tr>",
                            "<tr><td>138</td><td>2016</td><td>1</td></tr>",
                            "<tr><td>138</td><td>2016</td><td>1</td></tr>",
                            "<tr><td>138</td><td>2016</td><td>1</td></tr>",
                            "<tr><td>138</td><td>2016</td><td>1</td></tr>",
                            "<tr><td>138</td><td>2016</td><td>1</td></tr>",
                            "<tr><td>138</td><td>2016</td><td>1</td></tr>",
                            "<tr><td>138</td><td>NULL</td><td>7</td></tr>",
                            "<tr><td>139</td><td>2016</td><td>1</td></tr>",
                            "<tr><td>139</td><td>2016</td><td>1</td></tr>",
                            "<tr><td>139</td><td>2016</td><td>1</td></tr>",
                            "<tr><td>139</td><td>2016</td><td>1</td></tr>",
                            "<tr><td>139</td><td>2016</td><td>1</td></tr>",
                            "<tr><td>139</td><td>2017</td><td>1</td></tr>",
                            "<tr><td>139</td><td>2017</td><td>1</td></tr>",
                            "<tr><td>139</td><td>NULL</td><td>7</td></tr>",
                            "<tr><td>140</td><td>2016</td><td>1</td></tr>",
                            "<tr><td>140</td><td>2016</td><td>1</td></tr>",
                            "<tr><td>140</td><td>2016</td><td>1</td></tr>",
                            "<tr><td>140</td><td>2016</td><td>1</td></tr>",
                            "<tr><td>140</td><td>2016</td><td>1</td></tr>",
                            "<tr><td>140</td><td>2016</td><td>1</td></tr>",
                            "<tr><td>140</td><td>2016</td><td>1</td></tr>",
                            "<tr><td>140</td><td>2016</td><td>1</td></tr>",
                            "<tr><td>140</td><td>NULL</td><td>8</td></tr>",
                            "<tr><td>141</td><td>2016</td><td>1</td></tr>",
                            "<tr><td>141</td><td>2016</td><td>1</td></tr>",
                            "<tr><td>141</td><td>2016</td><td>1</td></tr>",
                            "<tr><td>141</td><td>2016</td><td>1</td></tr>",
                            "<tr><td>141</td><td>2016</td><td>1</td></tr>",
                            "<tr><td>141</td><td>2016</td><td>1</td></tr>",
                            "<tr><td>141</td><td>NULL</td><td>6</td></tr>",
                            "<tr><td>142</td><td>2016</td><td>1</td></tr>",
                            "<tr><td>142</td><td>2017</td><td>1</td></tr>",
                            "<tr><td>142</td><td>NULL</td><td>2</td></tr>",
                            "<tr><td>143</td><td>2016</td><td>1</td></tr>",
                            "<tr><td>143</td><td>2016</td><td>1</td></tr>",
                            "<tr><td>143</td><td>2016</td><td>1</td></tr>",
                            "<tr><td>143</td><td>2016</td><td>1</td></tr>",
                            "<tr><td>143</td><td>2016</td><td>1</td></tr>",
                            "<tr><td>143</td><td>2016</td><td>1</td></tr>",
                            "<tr><td>143</td><td>2017</td><td>1</td></tr>",
                            "<tr><td>143</td><td>NULL</td><td>7</td></tr>",
                            "<tr><td>144</td><td>2016</td><td>1</td></tr>",
                            "<tr><td>144</td><td>2016</td><td>1</td></tr>",
                            "<tr><td>144</td><td>2016</td><td>1</td></tr>",
                            "<tr><td>144</td><td>2016</td><td>1</td></tr>",
                            "<tr><td>144</td><td>2017</td><td>1</td></tr>",
                            "<tr><td>144</td><td>NULL</td><td>5</td></tr>",
                            "<tr><td>145</td><td>2016</td><td>1</td></tr>",
                            "<tr><td>145</td><td>2016</td><td>1</td></tr>",
                            "<tr><td>145</td><td>2016</td><td>1</td></tr>",
                            "<tr><td>145</td><td>2016</td><td>1</td></tr>",
                            "<tr><td>145</td><td>2016</td><td>1</td></tr>",
                            "<tr><td>145</td><td>2017</td><td>1</td></tr>",
                            "<tr><td>145</td><td>NULL</td><td>6</td></tr>",
                            "<tr><td>146</td><td>2016</td><td>1</td></tr>",
                            "<tr><td>146</td><td>2016</td><td>1</td></tr>",
                            "<tr><td>146</td><td>2016</td><td>1</td></tr>",
                            "<tr><td>146</td><td>2016</td><td>1</td></tr>",
                            "<tr><td>146</td><td>2016</td><td>1</td></tr>",
                            "<tr><td>146</td><td>2017</td><td>1</td></tr>",
                            "<tr><td>146</td><td>NULL</td><td>6</td></tr>",
                            "<tr><td>147</td><td>2016</td><td>1</td></tr>",
                            "<tr><td>147</td><td>NULL</td><td>1</td></tr>",
                            "<tr><td>148</td><td>2016</td><td>1</td></tr>",
                            "<tr><td>148</td><td>2016</td><td>1</td></tr>",
                            "<tr><td>148</td><td>2016</td><td>1</td></tr>",
                            "<tr><td>148</td><td>2016</td><td>2</td></tr>",
                            "<tr><td>148</td><td>2017</td><td>1</td></tr>",
                            "<tr><td>148</td><td>NULL</td><td>6</td></tr>",
                            "<tr><td>149</td><td>2016</td><td>1</td></tr>",
                            "<tr><td>149</td><td>2016</td><td>1</td></tr>",
                            "<tr><td>149</td><td>2016</td><td>1</td></tr>",
                            "<tr><td>149</td><td>2016</td><td>1</td></tr>",
                            "<tr><td>149</td><td>2016</td><td>1</td></tr>",
                            "<tr><td>149</td><td>2016</td><td>1</td></tr>",
                            "<tr><td>149</td><td>2017</td><td>1</td></tr>",
                            "<tr><td>149</td><td>NULL</td><td>7</td></tr>",
                            "<tr><td>150</td><td>2016</td><td>1</td></tr>",
                            "<tr><td>150</td><td>2016</td><td>2</td></tr>",
                            "<tr><td>150</td><td>2016</td><td>1</td></tr>",
                            "<tr><td>150</td><td>2016</td><td>1</td></tr>",
                            "<tr><td>150</td><td>2017</td><td>1</td></tr>",
                            "<tr><td>150</td><td>NULL</td><td>6</td></tr>",
                            "<tr><td>151</td><td>2016</td><td>1</td></tr>",
                            "<tr><td>151</td><td>2016</td><td>1</td></tr>",
                            "<tr><td>151</td><td>2016</td><td>1</td></tr>",
                            "<tr><td>151</td><td>NULL</td><td>3</td></tr>",
                            "<tr><td>152</td><td>2016</td><td>1</td></tr>",
                            "<tr><td>152</td><td>2016</td><td>1</td></tr>",
                            "<tr><td>152</td><td>2016</td><td>1</td></tr>",
                            "<tr><td>152</td><td>2017</td><td>1</td></tr>",
                            "<tr><td>152</td><td>NULL</td><td>4</td></tr>",
                            "<tr><td>153</td><td>2016</td><td>1</td></tr>",
                            "<tr><td>153</td><td>2016</td><td>1</td></tr>",
                            "<tr><td>153</td><td>2017</td><td>1</td></tr>",
                            "<tr><td>153</td><td>2017</td><td>1</td></tr>",
                            "<tr><td>153</td><td>2017</td><td>1</td></tr>",
                            "<tr><td>153</td><td>NULL</td><td>5</td></tr>",
                            "<tr><td>154</td><td>2016</td><td>1</td></tr>",
                            "<tr><td>154</td><td>2016</td><td>1</td></tr>",
                            "<tr><td>154</td><td>2016</td><td>1</td></tr>",
                            "<tr><td>154</td><td>2016</td><td>1</td></tr>",
                            "<tr><td>154</td><td>2017</td><td>1</td></tr>",
                            "<tr><td>154</td><td>NULL</td><td>5</td></tr>",
                            "<tr><td>155</td><td>2016</td><td>1</td></tr>",
                            "<tr><td>155</td><td>2016</td><td>1</td></tr>",
                            "<tr><td>155</td><td>2016</td><td>1</td></tr>",
                            "<tr><td>155</td><td>2016</td><td>1</td></tr>",
                            "<tr><td>155</td><td>2017</td><td>1</td></tr>",
                            "<tr><td>155</td><td>NULL</td><td>5</td></tr>",
                            "<tr><td>156</td><td>2016</td><td>1</td></tr>",
                            "<tr><td>156</td><td>2016</td><td>1</td></tr>",
                            "<tr><td>156</td><td>2016</td><td>1</td></tr>",
                            "<tr><td>156</td><td>2016</td><td>1</td></tr>",
                            "<tr><td>156</td><td>2017</td><td>1</td></tr>",
                            "<tr><td>156</td><td>2017</td><td>1</td></tr>",
                            "<tr><td>156</td><td>2017</td><td>1</td></tr>",
                            "<tr><td>156</td><td>NULL</td><td>7</td></tr>",
                            "<tr><td>157</td><td>2016</td><td>1</td></tr>",
                            "<tr><td>157</td><td>2016</td><td>1</td></tr>",
                            "<tr><td>157</td><td>2016</td><td>1</td></tr>",
                            "<tr><td>157</td><td>2016</td><td>1</td></tr>",
                            "<tr><td>157</td><td>2017</td><td>1</td></tr>",
                            "<tr><td>157</td><td>NULL</td><td>5</td></tr>",
                            "<tr><td>158</td><td>2016</td><td>1</td></tr>",
                            "<tr><td>158</td><td>2016</td><td>1</td></tr>",
                            "<tr><td>158</td><td>2016</td><td>1</td></tr>",
                            "<tr><td>158</td><td>NULL</td><td>3</td></tr>",
                            "<tr><td>160</td><td>2016</td><td>1</td></tr>",
                            "<tr><td>160</td><td>2016</td><td>2</td></tr>",
                            "<tr><td>160</td><td>2016</td><td>1</td></tr>",
                            "<tr><td>160</td><td>2017</td><td>1</td></tr>",
                            "<tr><td>160</td><td>NULL</td><td>5</td></tr>",
                            "<tr><td>161</td><td>2016</td><td>1</td></tr>",
                            "<tr><td>161</td><td>2016</td><td>1</td></tr>",
                            "<tr><td>161</td><td>2016</td><td>1</td></tr>",
                            "<tr><td>161</td><td>2016</td><td>1</td></tr>",
                            "<tr><td>161</td><td>2016</td><td>1</td></tr>",
                            "<tr><td>161</td><td>2017</td><td>1</td></tr>",
                            "<tr><td>161</td><td>NULL</td><td>6</td></tr>",
                            "<tr><td>162</td><td>2016</td><td>1</td></tr>",
                            "<tr><td>162</td><td>2016</td><td>1</td></tr>",
                            "<tr><td>162</td><td>2016</td><td>1</td></tr>",
                            "<tr><td>162</td><td>NULL</td><td>3</td></tr>",
                            "<tr><td>163</td><td>2016</td><td>1</td></tr>",
                            "<tr><td>163</td><td>2016</td><td>1</td></tr>",
                            "<tr><td>163</td><td>2016</td><td>1</td></tr>",
                            "<tr><td>163</td><td>2016</td><td>1</td></tr>",
                            "<tr><td>163</td><td>2016</td><td>1</td></tr>",
                            "<tr><td>163</td><td>2016</td><td>1</td></tr>",
                            "<tr><td>163</td><td>2017</td><td>1</td></tr>",
                            "<tr><td>163</td><td>NULL</td><td>7</td></tr>",
                            "<tr><td>164</td><td>2016</td><td>1</td></tr>",
                            "<tr><td>164</td><td>2016</td><td>1</td></tr>",
                            "<tr><td>164</td><td>2016</td><td>1</td></tr>",
                            "<tr><td>164</td><td>2016</td><td>1</td></tr>",
                            "<tr><td>164</td><td>2016</td><td>1</td></tr>",
                            "<tr><td>164</td><td>NULL</td><td>5</td></tr>",
                            "<tr><td>165</td><td>2016</td><td>1</td></tr>",
                            "<tr><td>165</td><td>2016</td><td>1</td></tr>",
                            "<tr><td>165</td><td>2016</td><td>3</td></tr>",
                            "<tr><td>165</td><td>2016</td><td>1</td></tr>",
                            "<tr><td>165</td><td>2016</td><td>1</td></tr>",
                            "<tr><td>165</td><td>NULL</td><td>7</td></tr>",
                            "<tr><td>166</td><td>2016</td><td>1</td></tr>",
                            "<tr><td>166</td><td>2016</td><td>1</td></tr>",
                            "<tr><td>166</td><td>2017</td><td>1</td></tr>",
                            "<tr><td>166</td><td>NULL</td><td>3</td></tr>",
                            "<tr><td>167</td><td>2016</td><td>1</td></tr>",
                            "<tr><td>167</td><td>2017</td><td>1</td></tr>",
                            "<tr><td>167</td><td>NULL</td><td>2</td></tr>",
                            "<tr><td>168</td><td>2016</td><td>1</td></tr>",
                            "<tr><td>168</td><td>2016</td><td>1</td></tr>",
                            "<tr><td>168</td><td>2016</td><td>1</td></tr>",
                            "<tr><td>168</td><td>2016</td><td>1</td></tr>",
                            "<tr><td>168</td><td>2016</td><td>1</td></tr>",
                            "<tr><td>168</td><td>NULL</td><td>5</td></tr>",
                            "<tr><td>169</td><td>2016</td><td>1</td></tr>",
                            "<tr><td>169</td><td>2016</td><td>1</td></tr>",
                            "<tr><td>169</td><td>2016</td><td>1</td></tr>",
                            "<tr><td>169</td><td>2016</td><td>1</td></tr>",
                            "<tr><td>169</td><td>2016</td><td>1</td></tr>",
                            "<tr><td>169</td><td>2017</td><td>1</td></tr>",
                            "<tr><td>169</td><td>NULL</td><td>6</td></tr>",
                            "<tr><td>170</td><td>2016</td><td>1</td></tr>",
                            "<tr><td>170</td><td>2016</td><td>1</td></tr>",
                            "<tr><td>170</td><td>2016</td><td>1</td></tr>",
                            "<tr><td>170</td><td>2016</td><td>1</td></tr>",
                            "<tr><td>170</td><td>2016</td><td>1</td></tr>",
                            "<tr><td>170</td><td>NULL</td><td>5</td></tr>",
                            "<tr><td>171</td><td>2016</td><td>1</td></tr>",
                            "<tr><td>171</td><td>2016</td><td>1</td></tr>",
                            "<tr><td>171</td><td>2016</td><td>1</td></tr>",
                            "<tr><td>171</td><td>2016</td><td>1</td></tr>",
                            "<tr><td>171</td><td>2017</td><td>1</td></tr>",
                            "<tr><td>171</td><td>NULL</td><td>5</td></tr>",
                            "<tr><td>172</td><td>2016</td><td>1</td></tr>",
                            "<tr><td>172</td><td>2016</td><td>1</td></tr>",
                            "<tr><td>172</td><td>2016</td><td>1</td></tr>",
                            "<tr><td>172</td><td>2016</td><td>1</td></tr>",
                            "<tr><td>172</td><td>2016</td><td>1</td></tr>",
                            "<tr><td>172</td><td>2016</td><td>1</td></tr>",
                            "<tr><td>172</td><td>2016</td><td>1</td></tr>",
                            "<tr><td>172</td><td>2017</td><td>1</td></tr>",
                            "<tr><td>172</td><td>2017</td><td>1</td></tr>",
                            "<tr><td>172</td><td>NULL</td><td>9</td></tr>",
                            "<tr><td>173</td><td>2016</td><td>1</td></tr>",
                            "<tr><td>173</td><td>2016</td><td>1</td></tr>",
                            "<tr><td>173</td><td>2016</td><td>1</td></tr>",
                            "<tr><td>173</td><td>2017</td><td>1</td></tr>",
                            "<tr><td>173</td><td>NULL</td><td>4</td></tr>",
                            "<tr><td>174</td><td>2016</td><td>1</td></tr>",
                            "<tr><td>174</td><td>2016</td><td>1</td></tr>",
                            "<tr><td>174</td><td>2016</td><td>1</td></tr>",
                            "<tr><td>174</td><td>2016</td><td>1</td></tr>",
                            "<tr><td>174</td><td>NULL</td><td>4</td></tr>",
                            "<tr><td>175</td><td>2016</td><td>1</td></tr>",
                            "<tr><td>175</td><td>2016</td><td>1</td></tr>",
                            "<tr><td>175</td><td>2016</td><td>1</td></tr>",
                            "<tr><td>175</td><td>2016</td><td>1</td></tr>",
                            "<tr><td>175</td><td>2016</td><td>1</td></tr>",
                            "<tr><td>175</td><td>NULL</td><td>5</td></tr>",
                            "<tr><td>176</td><td>2016</td><td>1</td></tr>",
                            "<tr><td>176</td><td>2016</td><td>1</td></tr>",
                            "<tr><td>176</td><td>2016</td><td>1</td></tr>",
                            "<tr><td>176</td><td>2016</td><td>1</td></tr>",
                            "<tr><td>176</td><td>2017</td><td>1</td></tr>",
                            "<tr><td>176</td><td>2017</td><td>1</td></tr>",
                            "<tr><td>176</td><td>NULL</td><td>6</td></tr>",
                            "<tr><td>177</td><td>2016</td><td>1</td></tr>",
                            "<tr><td>177</td><td>2016</td><td>1</td></tr>",
                            "<tr><td>177</td><td>2016</td><td>1</td></tr>",
                            "<tr><td>177</td><td>2017</td><td>1</td></tr>",
                            "<tr><td>177</td><td>NULL</td><td>4</td></tr>",
                            "<tr><td>178</td><td>2016</td><td>1</td></tr>",
                            "<tr><td>178</td><td>2016</td><td>1</td></tr>",
                            "<tr><td>178</td><td>2016</td><td>1</td></tr>",
                            "<tr><td>178</td><td>2016</td><td>1</td></tr>",
                            "<tr><td>178</td><td>NULL</td><td>4</td></tr>",
                            "<tr><td>179</td><td>2016</td><td>1</td></tr>",
                            "<tr><td>179</td><td>2016</td><td>1</td></tr>",
                            "<tr><td>179</td><td>2017</td><td>1</td></tr>",
                            "<tr><td>179</td><td>NULL</td><td>3</td></tr>",
                            "<tr><td>180</td><td>2016</td><td>1</td></tr>",
                            "<tr><td>180</td><td>2017</td><td>1</td></tr>",
                            "<tr><td>180</td><td>2017</td><td>1</td></tr>",
                            "<tr><td>180</td><td>NULL</td><td>3</td></tr>",
                            "<tr><td>181</td><td>2016</td><td>1</td></tr>",
                            "<tr><td>181</td><td>2016</td><td>1</td></tr>",
                            "<tr><td>181</td><td>2016</td><td>1</td></tr>",
                            "<tr><td>181</td><td>2016</td><td>1</td></tr>",
                            "<tr><td>181</td><td>2016</td><td>1</td></tr>",
                            "<tr><td>181</td><td>2016</td><td>1</td></tr>",
                            "<tr><td>181</td><td>NULL</td><td>6</td></tr>",
                            "<tr><td>182</td><td>2016</td><td>1</td></tr>",
                            "<tr><td>182</td><td>2016</td><td>1</td></tr>",
                            "<tr><td>182</td><td>2016</td><td>1</td></tr>",
                            "<tr><td>182</td><td>2016</td><td>1</td></tr>",
                            "<tr><td>182</td><td>2016</td><td>1</td></tr>",
                            "<tr><td>182</td><td>2016</td><td>2</td></tr>",
                            "<tr><td>182</td><td>2016</td><td>1</td></tr>",
                            "<tr><td>182</td><td>2016</td><td>1</td></tr>",
                            "<tr><td>182</td><td>2016</td><td>1</td></tr>",
                            "<tr><td>182</td><td>2017</td><td>1</td></tr>",
                            "<tr><td>182</td><td>2017</td><td>1</td></tr>",
                            "<tr><td>182</td><td>NULL</td><td>12</td></tr>",
                            "<tr><td>183</td><td>2016</td><td>1</td></tr>",
                            "<tr><td>183</td><td>2016</td><td>1</td></tr>",
                            "<tr><td>183</td><td>2016</td><td>1</td></tr>",
                            "<tr><td>183</td><td>2017</td><td>1</td></tr>",
                            "<tr><td>183</td><td>NULL</td><td>4</td></tr>",
                            "<tr><td>184</td><td>2016</td><td>1</td></tr>",
                            "<tr><td>184</td><td>2016</td><td>1</td></tr>",
                            "<tr><td>184</td><td>2016</td><td>1</td></tr>",
                            "<tr><td>184</td><td>2016</td><td>1</td></tr>",
                            "<tr><td>184</td><td>NULL</td><td>4</td></tr>",
                            "<tr><td>185</td><td>2016</td><td>1</td></tr>",
                            "<tr><td>185</td><td>2016</td><td>1</td></tr>",
                            "<tr><td>185</td><td>2016</td><td>1</td></tr>",
                            "<tr><td>185</td><td>2016</td><td>1</td></tr>",
                            "<tr><td>185</td><td>2016</td><td>1</td></tr>",
                            "<tr><td>185</td><td>2016</td><td>1</td></tr>",
                            "<tr><td>185</td><td>2016</td><td>1</td></tr>",
                            "<tr><td>185</td><td>2016</td><td>1</td></tr>",
                            "<tr><td>185</td><td>2016</td><td>1</td></tr>",
                            "<tr><td>185</td><td>2016</td><td>1</td></tr>",
                            "<tr><td>185</td><td>2017</td><td>1</td></tr>",
                            "<tr><td>185</td><td>2017</td><td>1</td></tr>",
                            "<tr><td>185</td><td>NULL</td><td>12</td></tr>",
                            "<tr><td>186</td><td>2016</td><td>1</td></tr>",
                            "<tr><td>186</td><td>2016</td><td>1</td></tr>",
                            "<tr><td>186</td><td>2016</td><td>1</td></tr>",
                            "<tr><td>186</td><td>2017</td><td>1</td></tr>",
                            "<tr><td>186</td><td>NULL</td><td>4</td></tr>",
                            "<tr><td>187</td><td>2016</td><td>1</td></tr>",
                            "<tr><td>187</td><td>2016</td><td>1</td></tr>",
                            "<tr><td>187</td><td>2016</td><td>1</td></tr>",
                            "<tr><td>187</td><td>2016</td><td>1</td></tr>",
                            "<tr><td>187</td><td>2016</td><td>1</td></tr>",
                            "<tr><td>187</td><td>2016</td><td>1</td></tr>",
                            "<tr><td>187</td><td>2016</td><td>1</td></tr>",
                            "<tr><td>187</td><td>NULL</td><td>7</td></tr>",
                            "<tr><td>188</td><td>2016</td><td>1</td></tr>",
                            "<tr><td>188</td><td>2016</td><td>1</td></tr>",
                            "<tr><td>188</td><td>2016</td><td>1</td></tr>",
                            "<tr><td>188</td><td>2016</td><td>1</td></tr>",
                            "<tr><td>188</td><td>2016</td><td>1</td></tr>",
                            "<tr><td>188</td><td>2016</td><td>1</td></tr>",
                            "<tr><td>188</td><td>NULL</td><td>6</td></tr>",
                            "<tr><td>189</td><td>2016</td><td>1</td></tr>",
                            "<tr><td>189</td><td>2016</td><td>1</td></tr>",
                            "<tr><td>189</td><td>2016</td><td>1</td></tr>",
                            "<tr><td>189</td><td>2017</td><td>1</td></tr>",
                            "<tr><td>189</td><td>2017</td><td>1</td></tr>",
                            "<tr><td>189</td><td>NULL</td><td>5</td></tr>",
                            "<tr><td>190</td><td>2016</td><td>1</td></tr>",
                            "<tr><td>190</td><td>2016</td><td>1</td></tr>",
                            "<tr><td>190</td><td>2016</td><td>1</td></tr>",
                            "<tr><td>190</td><td>2016</td><td>1</td></tr>",
                            "<tr><td>190</td><td>2017</td><td>1</td></tr>",
                            "<tr><td>190</td><td>NULL</td><td>5</td></tr>",
                            "<tr><td>191</td><td>2016</td><td>1</td></tr>",
                            "<tr><td>191</td><td>2016</td><td>1</td></tr>",
                            "<tr><td>191</td><td>2016</td><td>1</td></tr>",
                            "<tr><td>191</td><td>2017</td><td>1</td></tr>",
                            "<tr><td>191</td><td>2017</td><td>1</td></tr>",
                            "<tr><td>191</td><td>NULL</td><td>5</td></tr>",
                            "<tr><td>192</td><td>2016</td><td>1</td></tr>",
                            "<tr><td>192</td><td>2016</td><td>1</td></tr>",
                            "<tr><td>192</td><td>NULL</td><td>2</td></tr>",
                            "<tr><td>193</td><td>2016</td><td>1</td></tr>",
                            "<tr><td>193</td><td>2016</td><td>1</td></tr>",
                            "<tr><td>193</td><td>2016</td><td>1</td></tr>",
                            "<tr><td>193</td><td>2016</td><td>1</td></tr>",
                            "<tr><td>193</td><td>2016</td><td>1</td></tr>",
                            "<tr><td>193</td><td>2016</td><td>1</td></tr>",
                            "<tr><td>193</td><td>2016</td><td>1</td></tr>",
                            "<tr><td>193</td><td>NULL</td><td>7</td></tr>",
                            "<tr><td>194</td><td>2016</td><td>1</td></tr>",
                            "<tr><td>194</td><td>NULL</td><td>1</td></tr>",
                            "<tr><td>195</td><td>2016</td><td>1</td></tr>",
                            "<tr><td>195</td><td>2016</td><td>1</td></tr>",
                            "<tr><td>195</td><td>2016</td><td>1</td></tr>",
                            "<tr><td>195</td><td>2016</td><td>1</td></tr>",
                            "<tr><td>195</td><td>2017</td><td>1</td></tr>",
                            "<tr><td>195</td><td>2017</td><td>1</td></tr>",
                            "<tr><td>195</td><td>NULL</td><td>6</td></tr>",
                            "<tr><td>196</td><td>2016</td><td>1</td></tr>",
                            "<tr><td>196</td><td>2016</td><td>1</td></tr>",
                            "<tr><td>196</td><td>2016</td><td>1</td></tr>",
                            "<tr><td>196</td><td>2016</td><td>1</td></tr>",
                            "<tr><td>196</td><td>NULL</td><td>4</td></tr>",
                            "<tr><td>197</td><td>2016</td><td>1</td></tr>",
                            "<tr><td>197</td><td>2016</td><td>1</td></tr>",
                            "<tr><td>197</td><td>2016</td><td>1</td></tr>",
                            "<tr><td>197</td><td>2016</td><td>1</td></tr>",
                            "<tr><td>197</td><td>2016</td><td>1</td></tr>",
                            "<tr><td>197</td><td>2016</td><td>1</td></tr>",
                            "<tr><td>197</td><td>NULL</td><td>6</td></tr>",
                            "<tr><td>198</td><td>2016</td><td>1</td></tr>",
                            "<tr><td>198</td><td>2016</td><td>1</td></tr>",
                            "<tr><td>198</td><td>2016</td><td>1</td></tr>",
                            "<tr><td>198</td><td>2016</td><td>1</td></tr>",
                            "<tr><td>198</td><td>2016</td><td>1</td></tr>",
                            "<tr><td>198</td><td>2016</td><td>1</td></tr>",
                            "<tr><td>198</td><td>2016</td><td>1</td></tr>",
                            "<tr><td>198</td><td>2017</td><td>1</td></tr>",
                            "<tr><td>198</td><td>NULL</td><td>8</td></tr>",
                            "<tr><td>NULL</td><td>NULL</td><td>1027</td></tr>",
                            "</table>"
                        ]
                    }
                }
            ],
            "execution_count": 23
        },
        {
            "cell_type": "markdown",
            "source": [
                "2."
            ],
            "metadata": {
                "azdata_cell_guid": "9230baa3-b8af-4110-b9dd-e1713a734f3e"
            },
            "attachments": {}
        },
        {
            "cell_type": "code",
            "source": [
                "SELECT ROW_NUMBER() over(PARTITION BY count(f.foglalas_pk) order by count(f.foglalas_pk), sz.ferohely )\r\n",
                "FROM foglalas f join szoba sz on f.SZOBA_FK = sz.SZOBA_ID "
            ],
            "metadata": {
                "azdata_cell_guid": "00c2b5e0-6feb-4349-8a44-f5c7f962cfcd",
                "language": "sql",
                "tags": []
            },
            "outputs": [
                {
                    "output_type": "error",
                    "evalue": "Msg 8120, Level 16, State 1, Line 1\r\nColumn 'szoba.FEROHELY' is invalid in the select list because it is not contained in either an aggregate function or the GROUP BY clause.",
                    "ename": "",
                    "traceback": []
                },
                {
                    "output_type": "display_data",
                    "data": {
                        "text/html": "Total execution time: 00:00:00.002"
                    },
                    "metadata": {}
                }
            ],
            "execution_count": 27
        },
        {
            "cell_type": "markdown",
            "source": [
                "3."
            ],
            "metadata": {
                "azdata_cell_guid": "b15ba8c8-fe3e-47d2-ae4d-959143c0a0a9"
            },
            "attachments": {}
        },
        {
            "cell_type": "code",
            "source": [
                "SELECT szh.SZALLAS_NEV, COUNT(FOGLALAS_PK) OVER(PARTITION BY szh.szallas_id)\r\n",
                "FROM Foglalas f join szoba sz on f.SZOBA_FK = sz.SZOBA_ID \r\n",
                "join szallashely szh on sz.SZALLAS_FK = szh.SZALLAS_ID"
            ],
            "metadata": {
                "azdata_cell_guid": "ed4078c9-bd25-497a-9498-fe2b120bdeaa",
                "language": "sql",
                "tags": []
            },
            "outputs": [],
            "execution_count": null
        }
    ]
}