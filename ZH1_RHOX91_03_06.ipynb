{
    "metadata": {
        "kernelspec": {
            "name": "SQL",
            "display_name": "SQL",
            "language": "sql"
        },
        "language_info": {
            "name": "sql",
            "version": ""
        }
    },
    "nbformat_minor": 2,
    "nbformat": 4,
    "cells": [
        {
            "cell_type": "markdown",
            "source": [
                "**1\\. FELADAT**\n",
                "\n",
                "Listázzuk azon vendégek nevét és email-címét, akik az 1990-es év második felében születtek! \n",
                "\n",
                "a. Rendezzük a listát a születés hónapja szerint növekvő sorrendbe"
            ],
            "metadata": {
                "azdata_cell_guid": "cfa08a4d-2a45-41bd-a588-fe1745286155"
            },
            "attachments": {}
        },
        {
            "cell_type": "code",
            "source": [
                "SELECT NEV, EMAIL\r\n",
                "FROM Vendeg\r\n",
                "WHERE SZUL_DAT BETWEEN '1990.06.01' AND '1990.12.31'\r\n",
                "ORDER BY SZUL_DAT"
            ],
            "metadata": {
                "azdata_cell_guid": "b07c3784-c273-4a3e-a9e9-5a2fc59efa49",
                "language": "sql"
            },
            "outputs": [
                {
                    "output_type": "display_data",
                    "data": {
                        "text/html": "(5 rows affected)"
                    },
                    "metadata": {}
                },
                {
                    "output_type": "display_data",
                    "data": {
                        "text/html": "Total execution time: 00:00:00.007"
                    },
                    "metadata": {}
                },
                {
                    "output_type": "execute_result",
                    "metadata": {},
                    "execution_count": 5,
                    "data": {
                        "application/vnd.dataresource+json": {
                            "schema": {
                                "fields": [
                                    {
                                        "name": "NEV"
                                    },
                                    {
                                        "name": "EMAIL"
                                    }
                                ]
                            },
                            "data": [
                                {
                                    "NEV": "Ötvös Árpád",
                                    "EMAIL": "árpád.ötvös@mail.hu"
                                },
                                {
                                    "NEV": "Bodor Szabolcs",
                                    "EMAIL": "szabolcs.bodor@mail.hu"
                                },
                                {
                                    "NEV": "Bosnyák Ilona",
                                    "EMAIL": "ilona3@gmail.com"
                                },
                                {
                                    "NEV": "Szabó Julianna",
                                    "EMAIL": "julianna4@gmail.com"
                                },
                                {
                                    "NEV": "Berta Dávid",
                                    "EMAIL": "david4@gmail.com"
                                }
                            ]
                        },
                        "text/html": [
                            "<table>",
                            "<tr><th>NEV</th><th>EMAIL</th></tr>",
                            "<tr><td>Ötvös Árpád</td><td>árpád.ötvös@mail.hu</td></tr>",
                            "<tr><td>Bodor Szabolcs</td><td>szabolcs.bodor@mail.hu</td></tr>",
                            "<tr><td>Bosnyák Ilona</td><td>ilona3@gmail.com</td></tr>",
                            "<tr><td>Szabó Julianna</td><td>julianna4@gmail.com</td></tr>",
                            "<tr><td>Berta Dávid</td><td>david4@gmail.com</td></tr>",
                            "</table>"
                        ]
                    }
                }
            ],
            "execution_count": 5
        },
        {
            "cell_type": "markdown",
            "source": [
                "**2\\. FELADAT**\n",
                "\n",
                "Egészítse ki a megkezdett lekérdezést, amely megjeleníti, hogy szálláshely típusonként hány foglalás történt! \n",
                "\n",
                "a. A foglalásszámot minden esetben kerekítsük 100-ra! \n",
                "\n",
                "b. Az eredményt szűrjük azon szálláshely típusokra, ahol a kerekített foglalásszám 500 alatt van!"
            ],
            "metadata": {
                "language": "sql",
                "azdata_cell_guid": "5760676a-f5b9-45ab-967b-0b40cab7ab10"
            },
            "attachments": {}
        },
        {
            "cell_type": "code",
            "source": [
                "SELECT szh.TIPUS, round(count(f.FOGLALAS_PK),-2) AS 'fog.ker'\r\n",
                "FROM Foglalas f JOIN Szoba sz ON f.SZOBA_FK= sz.SZOBA_ID\r\n",
                "                JOIN Szallashely szh ON sz.SZALLAS_FK = szh.SZALLAS_ID\r\n",
                "GROUP BY szh.TIPUS \r\n",
                "HAVING round(count(f.FOGLALAS_PK),-2) < 500"
            ],
            "metadata": {
                "azdata_cell_guid": "67faac54-fb1f-4291-a679-f481498a3bda",
                "language": "sql",
                "tags": []
            },
            "outputs": [
                {
                    "output_type": "display_data",
                    "data": {
                        "text/html": "(3 rows affected)"
                    },
                    "metadata": {}
                },
                {
                    "output_type": "display_data",
                    "data": {
                        "text/html": "Total execution time: 00:00:00.015"
                    },
                    "metadata": {}
                },
                {
                    "output_type": "execute_result",
                    "metadata": {},
                    "execution_count": 8,
                    "data": {
                        "application/vnd.dataresource+json": {
                            "schema": {
                                "fields": [
                                    {
                                        "name": "TIPUS"
                                    },
                                    {
                                        "name": "fog.ker"
                                    }
                                ]
                            },
                            "data": [
                                {
                                    "TIPUS": "Apartman",
                                    "fog.ker": "100"
                                },
                                {
                                    "TIPUS": "vendégház",
                                    "fog.ker": "100"
                                },
                                {
                                    "TIPUS": "panzió",
                                    "fog.ker": "200"
                                }
                            ]
                        },
                        "text/html": [
                            "<table>",
                            "<tr><th>TIPUS</th><th>fog.ker</th></tr>",
                            "<tr><td>Apartman</td><td>100</td></tr>",
                            "<tr><td>vendégház</td><td>100</td></tr>",
                            "<tr><td>panzió</td><td>200</td></tr>",
                            "</table>"
                        ]
                    }
                }
            ],
            "execution_count": 8
        },
        {
            "cell_type": "markdown",
            "source": [
                "**3\\. FELADAT**\n",
                "\n",
                "Listázzuk azon szobák adatait, amelyeket még nem adtak ki (ha vannak olyanok).\n",
                "\n",
                "a. Jelenítsük meg a szobához tartozó szálláshely nevét is!\n",
                "\n",
                "b. Egy új oszlopban jelenítsük meg, hogy a szálláshely típusa panzió\\_e (Igen/Nem"
            ],
            "metadata": {
                "language": "sql",
                "azdata_cell_guid": "207dd791-c7f9-4fae-94b4-7fbcaaa74f89"
            },
            "attachments": {}
        },
        {
            "cell_type": "code",
            "source": [
                "SELECT szh.SZALLAS_NEV, sz.SZOBA_ID, sz.SZALLAS_FK, sz.SZOBA_SZAMA, sz.FEROHELY,\r\n",
                "        sz.POTAGY, sz.KLIMAS, IIF(szh.TIPUS = 'Panzió', 'Igen', 'Nem') AS 'panzió_e'\r\n",
                "FROM Foglalas f RIGHT JOIN Szoba sz ON f.SZOBA_FK = sz.SZOBA_ID\r\n",
                "                JOIN Szallashely szh ON sz.SZALLAS_FK = szh.SZALLAS_ID\r\n",
                "WHERE f.SZOBA_FK is NULL\r\n",
                ""
            ],
            "metadata": {
                "language": "sql",
                "azdata_cell_guid": "df1f7bba-0572-4fda-8d8e-9cc12b18e3df",
                "tags": []
            },
            "outputs": [
                {
                    "output_type": "display_data",
                    "data": {
                        "text/html": "(97 rows affected)"
                    },
                    "metadata": {}
                },
                {
                    "output_type": "display_data",
                    "data": {
                        "text/html": "Total execution time: 00:00:00.018"
                    },
                    "metadata": {}
                },
                {
                    "output_type": "execute_result",
                    "metadata": {},
                    "execution_count": 15,
                    "data": {
                        "application/vnd.dataresource+json": {
                            "schema": {
                                "fields": [
                                    {
                                        "name": "SZALLAS_NEV"
                                    },
                                    {
                                        "name": "SZOBA_ID"
                                    },
                                    {
                                        "name": "SZALLAS_FK"
                                    },
                                    {
                                        "name": "SZOBA_SZAMA"
                                    },
                                    {
                                        "name": "FEROHELY"
                                    },
                                    {
                                        "name": "POTAGY"
                                    },
                                    {
                                        "name": "KLIMAS"
                                    },
                                    {
                                        "name": "panzió_e"
                                    }
                                ]
                            },
                            "data": [
                                {
                                    "SZALLAS_NEV": "Lagúna Hotel",
                                    "SZOBA_ID": "159",
                                    "SZALLAS_FK": "10",
                                    "SZOBA_SZAMA": "25",
                                    "FEROHELY": "3",
                                    "POTAGY": "1",
                                    "KLIMAS": "n",
                                    "panzió_e": "Nem"
                                },
                                {
                                    "SZALLAS_NEV": "Gold Hotel",
                                    "SZOBA_ID": "199",
                                    "SZALLAS_FK": "12",
                                    "SZOBA_SZAMA": "35",
                                    "FEROHELY": "3",
                                    "POTAGY": "2",
                                    "KLIMAS": "i",
                                    "panzió_e": "Nem"
                                },
                                {
                                    "SZALLAS_NEV": "Gold Hotel",
                                    "SZOBA_ID": "200",
                                    "SZALLAS_FK": "12",
                                    "SZOBA_SZAMA": "36",
                                    "FEROHELY": "2",
                                    "POTAGY": "0",
                                    "KLIMAS": "i",
                                    "panzió_e": "Nem"
                                },
                                {
                                    "SZALLAS_NEV": "Gold Hotel",
                                    "SZOBA_ID": "201",
                                    "SZALLAS_FK": "12",
                                    "SZOBA_SZAMA": "37",
                                    "FEROHELY": "3",
                                    "POTAGY": "1",
                                    "KLIMAS": "n",
                                    "panzió_e": "Nem"
                                },
                                {
                                    "SZALLAS_NEV": "Gold Hotel",
                                    "SZOBA_ID": "202",
                                    "SZALLAS_FK": "12",
                                    "SZOBA_SZAMA": "38",
                                    "FEROHELY": "3",
                                    "POTAGY": "1",
                                    "KLIMAS": "i",
                                    "panzió_e": "Nem"
                                },
                                {
                                    "SZALLAS_NEV": "Gold Hotel",
                                    "SZOBA_ID": "203",
                                    "SZALLAS_FK": "12",
                                    "SZOBA_SZAMA": "39",
                                    "FEROHELY": "3",
                                    "POTAGY": "0",
                                    "KLIMAS": "i",
                                    "panzió_e": "Nem"
                                },
                                {
                                    "SZALLAS_NEV": "Gold Hotel",
                                    "SZOBA_ID": "204",
                                    "SZALLAS_FK": "12",
                                    "SZOBA_SZAMA": "40",
                                    "FEROHELY": "3",
                                    "POTAGY": "1",
                                    "KLIMAS": "i",
                                    "panzió_e": "Nem"
                                },
                                {
                                    "SZALLAS_NEV": "Gold Hotel",
                                    "SZOBA_ID": "205",
                                    "SZALLAS_FK": "12",
                                    "SZOBA_SZAMA": "41",
                                    "FEROHELY": "3",
                                    "POTAGY": "0",
                                    "KLIMAS": "i",
                                    "panzió_e": "Nem"
                                },
                                {
                                    "SZALLAS_NEV": "Gold Hotel",
                                    "SZOBA_ID": "206",
                                    "SZALLAS_FK": "12",
                                    "SZOBA_SZAMA": "42",
                                    "FEROHELY": "2",
                                    "POTAGY": "1",
                                    "KLIMAS": "i",
                                    "panzió_e": "Nem"
                                },
                                {
                                    "SZALLAS_NEV": "Gold Hotel",
                                    "SZOBA_ID": "207",
                                    "SZALLAS_FK": "12",
                                    "SZOBA_SZAMA": "43",
                                    "FEROHELY": "2",
                                    "POTAGY": "1",
                                    "KLIMAS": "i",
                                    "panzió_e": "Nem"
                                },
                                {
                                    "SZALLAS_NEV": "Gold Hotel",
                                    "SZOBA_ID": "208",
                                    "SZALLAS_FK": "12",
                                    "SZOBA_SZAMA": "44",
                                    "FEROHELY": "2",
                                    "POTAGY": "1",
                                    "KLIMAS": "i",
                                    "panzió_e": "Nem"
                                },
                                {
                                    "SZALLAS_NEV": "Gold Hotel",
                                    "SZOBA_ID": "209",
                                    "SZALLAS_FK": "12",
                                    "SZOBA_SZAMA": "45",
                                    "FEROHELY": "3",
                                    "POTAGY": "2",
                                    "KLIMAS": "n",
                                    "panzió_e": "Nem"
                                },
                                {
                                    "SZALLAS_NEV": "Gold Hotel",
                                    "SZOBA_ID": "210",
                                    "SZALLAS_FK": "12",
                                    "SZOBA_SZAMA": "46",
                                    "FEROHELY": "2",
                                    "POTAGY": "0",
                                    "KLIMAS": "i",
                                    "panzió_e": "Nem"
                                },
                                {
                                    "SZALLAS_NEV": "Gold Hotel",
                                    "SZOBA_ID": "211",
                                    "SZALLAS_FK": "12",
                                    "SZOBA_SZAMA": "47",
                                    "FEROHELY": "2",
                                    "POTAGY": "1",
                                    "KLIMAS": "i",
                                    "panzió_e": "Nem"
                                },
                                {
                                    "SZALLAS_NEV": "Gold Hotel",
                                    "SZOBA_ID": "212",
                                    "SZALLAS_FK": "12",
                                    "SZOBA_SZAMA": "48",
                                    "FEROHELY": "3",
                                    "POTAGY": "0",
                                    "KLIMAS": "n",
                                    "panzió_e": "Nem"
                                },
                                {
                                    "SZALLAS_NEV": "Gold Hotel",
                                    "SZOBA_ID": "213",
                                    "SZALLAS_FK": "12",
                                    "SZOBA_SZAMA": "49",
                                    "FEROHELY": "3",
                                    "POTAGY": "0",
                                    "KLIMAS": "i",
                                    "panzió_e": "Nem"
                                },
                                {
                                    "SZALLAS_NEV": "Gold Hotel",
                                    "SZOBA_ID": "214",
                                    "SZALLAS_FK": "12",
                                    "SZOBA_SZAMA": "50",
                                    "FEROHELY": "3",
                                    "POTAGY": "1",
                                    "KLIMAS": "i",
                                    "panzió_e": "Nem"
                                },
                                {
                                    "SZALLAS_NEV": "Riviéra Panzió",
                                    "SZOBA_ID": "215",
                                    "SZALLAS_FK": "13",
                                    "SZOBA_SZAMA": "1",
                                    "FEROHELY": "2",
                                    "POTAGY": "1",
                                    "KLIMAS": "i",
                                    "panzió_e": "Igen"
                                },
                                {
                                    "SZALLAS_NEV": "Riviéra Panzió",
                                    "SZOBA_ID": "216",
                                    "SZALLAS_FK": "13",
                                    "SZOBA_SZAMA": "2",
                                    "FEROHELY": "3",
                                    "POTAGY": "1",
                                    "KLIMAS": "i",
                                    "panzió_e": "Igen"
                                },
                                {
                                    "SZALLAS_NEV": "Riviéra Panzió",
                                    "SZOBA_ID": "217",
                                    "SZALLAS_FK": "13",
                                    "SZOBA_SZAMA": "3",
                                    "FEROHELY": "2",
                                    "POTAGY": "1",
                                    "KLIMAS": "n",
                                    "panzió_e": "Igen"
                                },
                                {
                                    "SZALLAS_NEV": "Riviéra Panzió",
                                    "SZOBA_ID": "218",
                                    "SZALLAS_FK": "13",
                                    "SZOBA_SZAMA": "4",
                                    "FEROHELY": "3",
                                    "POTAGY": "0",
                                    "KLIMAS": "i",
                                    "panzió_e": "Igen"
                                },
                                {
                                    "SZALLAS_NEV": "Riviéra Panzió",
                                    "SZOBA_ID": "219",
                                    "SZALLAS_FK": "13",
                                    "SZOBA_SZAMA": "5",
                                    "FEROHELY": "2",
                                    "POTAGY": "0",
                                    "KLIMAS": "n",
                                    "panzió_e": "Igen"
                                },
                                {
                                    "SZALLAS_NEV": "Riviéra Panzió",
                                    "SZOBA_ID": "220",
                                    "SZALLAS_FK": "13",
                                    "SZOBA_SZAMA": "6",
                                    "FEROHELY": "3",
                                    "POTAGY": "0",
                                    "KLIMAS": "i",
                                    "panzió_e": "Igen"
                                },
                                {
                                    "SZALLAS_NEV": "Riviéra Panzió",
                                    "SZOBA_ID": "221",
                                    "SZALLAS_FK": "13",
                                    "SZOBA_SZAMA": "7",
                                    "FEROHELY": "3",
                                    "POTAGY": "0",
                                    "KLIMAS": "i",
                                    "panzió_e": "Igen"
                                },
                                {
                                    "SZALLAS_NEV": "Riviéra Panzió",
                                    "SZOBA_ID": "222",
                                    "SZALLAS_FK": "13",
                                    "SZOBA_SZAMA": "8",
                                    "FEROHELY": "2",
                                    "POTAGY": "0",
                                    "KLIMAS": "n",
                                    "panzió_e": "Igen"
                                },
                                {
                                    "SZALLAS_NEV": "Riviéra Panzió",
                                    "SZOBA_ID": "223",
                                    "SZALLAS_FK": "13",
                                    "SZOBA_SZAMA": "9",
                                    "FEROHELY": "2",
                                    "POTAGY": "1",
                                    "KLIMAS": "i",
                                    "panzió_e": "Igen"
                                },
                                {
                                    "SZALLAS_NEV": "Riviéra Panzió",
                                    "SZOBA_ID": "224",
                                    "SZALLAS_FK": "13",
                                    "SZOBA_SZAMA": "10",
                                    "FEROHELY": "2",
                                    "POTAGY": "0",
                                    "KLIMAS": "i",
                                    "panzió_e": "Igen"
                                },
                                {
                                    "SZALLAS_NEV": "Riviéra Panzió",
                                    "SZOBA_ID": "225",
                                    "SZALLAS_FK": "13",
                                    "SZOBA_SZAMA": "11",
                                    "FEROHELY": "2",
                                    "POTAGY": "1",
                                    "KLIMAS": "i",
                                    "panzió_e": "Igen"
                                },
                                {
                                    "SZALLAS_NEV": "Riviéra Panzió",
                                    "SZOBA_ID": "226",
                                    "SZALLAS_FK": "13",
                                    "SZOBA_SZAMA": "12",
                                    "FEROHELY": "3",
                                    "POTAGY": "1",
                                    "KLIMAS": "n",
                                    "panzió_e": "Igen"
                                },
                                {
                                    "SZALLAS_NEV": "Nyárfás Vendégház",
                                    "SZOBA_ID": "227",
                                    "SZALLAS_FK": "14",
                                    "SZOBA_SZAMA": "1",
                                    "FEROHELY": "2",
                                    "POTAGY": "1",
                                    "KLIMAS": "i",
                                    "panzió_e": "Nem"
                                },
                                {
                                    "SZALLAS_NEV": "Nyárfás Vendégház",
                                    "SZOBA_ID": "228",
                                    "SZALLAS_FK": "14",
                                    "SZOBA_SZAMA": "2",
                                    "FEROHELY": "3",
                                    "POTAGY": "0",
                                    "KLIMAS": "i",
                                    "panzió_e": "Nem"
                                },
                                {
                                    "SZALLAS_NEV": "Nyárfás Vendégház",
                                    "SZOBA_ID": "229",
                                    "SZALLAS_FK": "14",
                                    "SZOBA_SZAMA": "3",
                                    "FEROHELY": "2",
                                    "POTAGY": "0",
                                    "KLIMAS": "i",
                                    "panzió_e": "Nem"
                                },
                                {
                                    "SZALLAS_NEV": "Nyárfás Vendégház",
                                    "SZOBA_ID": "230",
                                    "SZALLAS_FK": "14",
                                    "SZOBA_SZAMA": "4",
                                    "FEROHELY": "3",
                                    "POTAGY": "2",
                                    "KLIMAS": "i",
                                    "panzió_e": "Nem"
                                },
                                {
                                    "SZALLAS_NEV": "Tímárház Panzió",
                                    "SZOBA_ID": "231",
                                    "SZALLAS_FK": "15",
                                    "SZOBA_SZAMA": "1",
                                    "FEROHELY": "2",
                                    "POTAGY": "0",
                                    "KLIMAS": "i",
                                    "panzió_e": "Igen"
                                },
                                {
                                    "SZALLAS_NEV": "Tímárház Panzió",
                                    "SZOBA_ID": "232",
                                    "SZALLAS_FK": "15",
                                    "SZOBA_SZAMA": "2",
                                    "FEROHELY": "2",
                                    "POTAGY": "0",
                                    "KLIMAS": "i",
                                    "panzió_e": "Igen"
                                },
                                {
                                    "SZALLAS_NEV": "Tímárház Panzió",
                                    "SZOBA_ID": "233",
                                    "SZALLAS_FK": "15",
                                    "SZOBA_SZAMA": "3",
                                    "FEROHELY": "3",
                                    "POTAGY": "0",
                                    "KLIMAS": "n",
                                    "panzió_e": "Igen"
                                },
                                {
                                    "SZALLAS_NEV": "Tímárház Panzió",
                                    "SZOBA_ID": "234",
                                    "SZALLAS_FK": "15",
                                    "SZOBA_SZAMA": "4",
                                    "FEROHELY": "3",
                                    "POTAGY": "1",
                                    "KLIMAS": "i",
                                    "panzió_e": "Igen"
                                },
                                {
                                    "SZALLAS_NEV": "Tímárház Panzió",
                                    "SZOBA_ID": "235",
                                    "SZALLAS_FK": "15",
                                    "SZOBA_SZAMA": "5",
                                    "FEROHELY": "3",
                                    "POTAGY": "0",
                                    "KLIMAS": "i",
                                    "panzió_e": "Igen"
                                },
                                {
                                    "SZALLAS_NEV": "Tímárház Panzió",
                                    "SZOBA_ID": "236",
                                    "SZALLAS_FK": "15",
                                    "SZOBA_SZAMA": "6",
                                    "FEROHELY": "3",
                                    "POTAGY": "1",
                                    "KLIMAS": "n",
                                    "panzió_e": "Igen"
                                },
                                {
                                    "SZALLAS_NEV": "Tímárház Panzió",
                                    "SZOBA_ID": "237",
                                    "SZALLAS_FK": "15",
                                    "SZOBA_SZAMA": "7",
                                    "FEROHELY": "2",
                                    "POTAGY": "2",
                                    "KLIMAS": "n",
                                    "panzió_e": "Igen"
                                },
                                {
                                    "SZALLAS_NEV": "Tímárház Panzió",
                                    "SZOBA_ID": "238",
                                    "SZALLAS_FK": "15",
                                    "SZOBA_SZAMA": "8",
                                    "FEROHELY": "3",
                                    "POTAGY": "1",
                                    "KLIMAS": "i",
                                    "panzió_e": "Igen"
                                },
                                {
                                    "SZALLAS_NEV": "Tímárház Panzió",
                                    "SZOBA_ID": "239",
                                    "SZALLAS_FK": "15",
                                    "SZOBA_SZAMA": "9",
                                    "FEROHELY": "2",
                                    "POTAGY": "2",
                                    "KLIMAS": "i",
                                    "panzió_e": "Igen"
                                },
                                {
                                    "SZALLAS_NEV": "Tímárház Panzió",
                                    "SZOBA_ID": "240",
                                    "SZALLAS_FK": "15",
                                    "SZOBA_SZAMA": "10",
                                    "FEROHELY": "3",
                                    "POTAGY": "0",
                                    "KLIMAS": "i",
                                    "panzió_e": "Igen"
                                },
                                {
                                    "SZALLAS_NEV": "Tímárház Panzió",
                                    "SZOBA_ID": "241",
                                    "SZALLAS_FK": "15",
                                    "SZOBA_SZAMA": "11",
                                    "FEROHELY": "2",
                                    "POTAGY": "0",
                                    "KLIMAS": "i",
                                    "panzió_e": "Igen"
                                },
                                {
                                    "SZALLAS_NEV": "Tímárház Panzió",
                                    "SZOBA_ID": "242",
                                    "SZALLAS_FK": "15",
                                    "SZOBA_SZAMA": "12",
                                    "FEROHELY": "2",
                                    "POTAGY": "1",
                                    "KLIMAS": "i",
                                    "panzió_e": "Igen"
                                },
                                {
                                    "SZALLAS_NEV": "Bagoly Hotel",
                                    "SZOBA_ID": "243",
                                    "SZALLAS_FK": "16",
                                    "SZOBA_SZAMA": "1",
                                    "FEROHELY": "2",
                                    "POTAGY": "0",
                                    "KLIMAS": "i",
                                    "panzió_e": "Nem"
                                },
                                {
                                    "SZALLAS_NEV": "Bagoly Hotel",
                                    "SZOBA_ID": "244",
                                    "SZALLAS_FK": "16",
                                    "SZOBA_SZAMA": "2",
                                    "FEROHELY": "2",
                                    "POTAGY": "1",
                                    "KLIMAS": "i",
                                    "panzió_e": "Nem"
                                },
                                {
                                    "SZALLAS_NEV": "Bagoly Hotel",
                                    "SZOBA_ID": "245",
                                    "SZALLAS_FK": "16",
                                    "SZOBA_SZAMA": "3",
                                    "FEROHELY": "2",
                                    "POTAGY": "1",
                                    "KLIMAS": "i",
                                    "panzió_e": "Nem"
                                },
                                {
                                    "SZALLAS_NEV": "Bagoly Hotel",
                                    "SZOBA_ID": "246",
                                    "SZALLAS_FK": "16",
                                    "SZOBA_SZAMA": "4",
                                    "FEROHELY": "2",
                                    "POTAGY": "0",
                                    "KLIMAS": "i",
                                    "panzió_e": "Nem"
                                },
                                {
                                    "SZALLAS_NEV": "Bagoly Hotel",
                                    "SZOBA_ID": "247",
                                    "SZALLAS_FK": "16",
                                    "SZOBA_SZAMA": "5",
                                    "FEROHELY": "2",
                                    "POTAGY": "0",
                                    "KLIMAS": "i",
                                    "panzió_e": "Nem"
                                },
                                {
                                    "SZALLAS_NEV": "Bagoly Hotel",
                                    "SZOBA_ID": "248",
                                    "SZALLAS_FK": "16",
                                    "SZOBA_SZAMA": "6",
                                    "FEROHELY": "2",
                                    "POTAGY": "2",
                                    "KLIMAS": "i",
                                    "panzió_e": "Nem"
                                },
                                {
                                    "SZALLAS_NEV": "Bagoly Hotel",
                                    "SZOBA_ID": "249",
                                    "SZALLAS_FK": "16",
                                    "SZOBA_SZAMA": "7",
                                    "FEROHELY": "2",
                                    "POTAGY": "1",
                                    "KLIMAS": "n",
                                    "panzió_e": "Nem"
                                },
                                {
                                    "SZALLAS_NEV": "Bagoly Hotel",
                                    "SZOBA_ID": "250",
                                    "SZALLAS_FK": "16",
                                    "SZOBA_SZAMA": "8",
                                    "FEROHELY": "3",
                                    "POTAGY": "1",
                                    "KLIMAS": "n",
                                    "panzió_e": "Nem"
                                },
                                {
                                    "SZALLAS_NEV": "Bagoly Hotel",
                                    "SZOBA_ID": "251",
                                    "SZALLAS_FK": "16",
                                    "SZOBA_SZAMA": "9",
                                    "FEROHELY": "3",
                                    "POTAGY": "0",
                                    "KLIMAS": "n",
                                    "panzió_e": "Nem"
                                },
                                {
                                    "SZALLAS_NEV": "Bagoly Hotel",
                                    "SZOBA_ID": "252",
                                    "SZALLAS_FK": "16",
                                    "SZOBA_SZAMA": "10",
                                    "FEROHELY": "3",
                                    "POTAGY": "1",
                                    "KLIMAS": "i",
                                    "panzió_e": "Nem"
                                },
                                {
                                    "SZALLAS_NEV": "Bagoly Hotel",
                                    "SZOBA_ID": "253",
                                    "SZALLAS_FK": "16",
                                    "SZOBA_SZAMA": "11",
                                    "FEROHELY": "2",
                                    "POTAGY": "0",
                                    "KLIMAS": "i",
                                    "panzió_e": "Nem"
                                },
                                {
                                    "SZALLAS_NEV": "Bagoly Hotel",
                                    "SZOBA_ID": "254",
                                    "SZALLAS_FK": "16",
                                    "SZOBA_SZAMA": "12",
                                    "FEROHELY": "2",
                                    "POTAGY": "0",
                                    "KLIMAS": "i",
                                    "panzió_e": "Nem"
                                },
                                {
                                    "SZALLAS_NEV": "Bagoly Hotel",
                                    "SZOBA_ID": "255",
                                    "SZALLAS_FK": "16",
                                    "SZOBA_SZAMA": "13",
                                    "FEROHELY": "3",
                                    "POTAGY": "0",
                                    "KLIMAS": "n",
                                    "panzió_e": "Nem"
                                },
                                {
                                    "SZALLAS_NEV": "Bagoly Hotel",
                                    "SZOBA_ID": "256",
                                    "SZALLAS_FK": "16",
                                    "SZOBA_SZAMA": "14",
                                    "FEROHELY": "3",
                                    "POTAGY": "1",
                                    "KLIMAS": "i",
                                    "panzió_e": "Nem"
                                },
                                {
                                    "SZALLAS_NEV": "Bagoly Hotel",
                                    "SZOBA_ID": "257",
                                    "SZALLAS_FK": "16",
                                    "SZOBA_SZAMA": "15",
                                    "FEROHELY": "2",
                                    "POTAGY": "0",
                                    "KLIMAS": "i",
                                    "panzió_e": "Nem"
                                },
                                {
                                    "SZALLAS_NEV": "Bagoly Hotel",
                                    "SZOBA_ID": "258",
                                    "SZALLAS_FK": "16",
                                    "SZOBA_SZAMA": "16",
                                    "FEROHELY": "2",
                                    "POTAGY": "0",
                                    "KLIMAS": "i",
                                    "panzió_e": "Nem"
                                },
                                {
                                    "SZALLAS_NEV": "Bagoly Hotel",
                                    "SZOBA_ID": "259",
                                    "SZALLAS_FK": "16",
                                    "SZOBA_SZAMA": "17",
                                    "FEROHELY": "2",
                                    "POTAGY": "0",
                                    "KLIMAS": "i",
                                    "panzió_e": "Nem"
                                },
                                {
                                    "SZALLAS_NEV": "Bagoly Hotel",
                                    "SZOBA_ID": "260",
                                    "SZALLAS_FK": "16",
                                    "SZOBA_SZAMA": "18",
                                    "FEROHELY": "2",
                                    "POTAGY": "0",
                                    "KLIMAS": "i",
                                    "panzió_e": "Nem"
                                },
                                {
                                    "SZALLAS_NEV": "Bagoly Hotel",
                                    "SZOBA_ID": "261",
                                    "SZALLAS_FK": "16",
                                    "SZOBA_SZAMA": "19",
                                    "FEROHELY": "1",
                                    "POTAGY": "1",
                                    "KLIMAS": "n",
                                    "panzió_e": "Nem"
                                },
                                {
                                    "SZALLAS_NEV": "Bagoly Hotel",
                                    "SZOBA_ID": "262",
                                    "SZALLAS_FK": "16",
                                    "SZOBA_SZAMA": "20",
                                    "FEROHELY": "1",
                                    "POTAGY": "0",
                                    "KLIMAS": "n",
                                    "panzió_e": "Nem"
                                },
                                {
                                    "SZALLAS_NEV": "Szarvas Hotel",
                                    "SZOBA_ID": "263",
                                    "SZALLAS_FK": "17",
                                    "SZOBA_SZAMA": "1",
                                    "FEROHELY": "2",
                                    "POTAGY": "2",
                                    "KLIMAS": "i",
                                    "panzió_e": "Nem"
                                },
                                {
                                    "SZALLAS_NEV": "Szarvas Hotel",
                                    "SZOBA_ID": "264",
                                    "SZALLAS_FK": "17",
                                    "SZOBA_SZAMA": "2",
                                    "FEROHELY": "3",
                                    "POTAGY": "0",
                                    "KLIMAS": "i",
                                    "panzió_e": "Nem"
                                },
                                {
                                    "SZALLAS_NEV": "Szarvas Hotel",
                                    "SZOBA_ID": "265",
                                    "SZALLAS_FK": "17",
                                    "SZOBA_SZAMA": "3",
                                    "FEROHELY": "3",
                                    "POTAGY": "0",
                                    "KLIMAS": "i",
                                    "panzió_e": "Nem"
                                },
                                {
                                    "SZALLAS_NEV": "Szarvas Hotel",
                                    "SZOBA_ID": "266",
                                    "SZALLAS_FK": "17",
                                    "SZOBA_SZAMA": "4",
                                    "FEROHELY": "2",
                                    "POTAGY": "1",
                                    "KLIMAS": "i",
                                    "panzió_e": "Nem"
                                },
                                {
                                    "SZALLAS_NEV": "Szarvas Hotel",
                                    "SZOBA_ID": "267",
                                    "SZALLAS_FK": "17",
                                    "SZOBA_SZAMA": "5",
                                    "FEROHELY": "2",
                                    "POTAGY": "1",
                                    "KLIMAS": "n",
                                    "panzió_e": "Nem"
                                },
                                {
                                    "SZALLAS_NEV": "Szarvas Hotel",
                                    "SZOBA_ID": "268",
                                    "SZALLAS_FK": "17",
                                    "SZOBA_SZAMA": "6",
                                    "FEROHELY": "2",
                                    "POTAGY": "2",
                                    "KLIMAS": "n",
                                    "panzió_e": "Nem"
                                },
                                {
                                    "SZALLAS_NEV": "Szarvas Hotel",
                                    "SZOBA_ID": "269",
                                    "SZALLAS_FK": "17",
                                    "SZOBA_SZAMA": "7",
                                    "FEROHELY": "2",
                                    "POTAGY": "1",
                                    "KLIMAS": "i",
                                    "panzió_e": "Nem"
                                },
                                {
                                    "SZALLAS_NEV": "Szarvas Hotel",
                                    "SZOBA_ID": "270",
                                    "SZALLAS_FK": "17",
                                    "SZOBA_SZAMA": "8",
                                    "FEROHELY": "3",
                                    "POTAGY": "0",
                                    "KLIMAS": "n",
                                    "panzió_e": "Nem"
                                },
                                {
                                    "SZALLAS_NEV": "Szarvas Hotel",
                                    "SZOBA_ID": "271",
                                    "SZALLAS_FK": "17",
                                    "SZOBA_SZAMA": "9",
                                    "FEROHELY": "3",
                                    "POTAGY": "0",
                                    "KLIMAS": "i",
                                    "panzió_e": "Nem"
                                },
                                {
                                    "SZALLAS_NEV": "Szarvas Hotel",
                                    "SZOBA_ID": "272",
                                    "SZALLAS_FK": "17",
                                    "SZOBA_SZAMA": "10",
                                    "FEROHELY": "3",
                                    "POTAGY": "0",
                                    "KLIMAS": "i",
                                    "panzió_e": "Nem"
                                },
                                {
                                    "SZALLAS_NEV": "Szarvas Hotel",
                                    "SZOBA_ID": "273",
                                    "SZALLAS_FK": "17",
                                    "SZOBA_SZAMA": "11",
                                    "FEROHELY": "2",
                                    "POTAGY": "1",
                                    "KLIMAS": "i",
                                    "panzió_e": "Nem"
                                },
                                {
                                    "SZALLAS_NEV": "Szarvas Hotel",
                                    "SZOBA_ID": "274",
                                    "SZALLAS_FK": "17",
                                    "SZOBA_SZAMA": "12",
                                    "FEROHELY": "3",
                                    "POTAGY": "1",
                                    "KLIMAS": "i",
                                    "panzió_e": "Nem"
                                },
                                {
                                    "SZALLAS_NEV": "Szarvas Hotel",
                                    "SZOBA_ID": "275",
                                    "SZALLAS_FK": "17",
                                    "SZOBA_SZAMA": "13",
                                    "FEROHELY": "2",
                                    "POTAGY": "1",
                                    "KLIMAS": "n",
                                    "panzió_e": "Nem"
                                },
                                {
                                    "SZALLAS_NEV": "Szarvas Hotel",
                                    "SZOBA_ID": "276",
                                    "SZALLAS_FK": "17",
                                    "SZOBA_SZAMA": "14",
                                    "FEROHELY": "2",
                                    "POTAGY": "0",
                                    "KLIMAS": "i",
                                    "panzió_e": "Nem"
                                },
                                {
                                    "SZALLAS_NEV": "Szarvas Hotel",
                                    "SZOBA_ID": "277",
                                    "SZALLAS_FK": "17",
                                    "SZOBA_SZAMA": "15",
                                    "FEROHELY": "2",
                                    "POTAGY": "0",
                                    "KLIMAS": "i",
                                    "panzió_e": "Nem"
                                },
                                {
                                    "SZALLAS_NEV": "Fortuna Apartman",
                                    "SZOBA_ID": "278",
                                    "SZALLAS_FK": "18",
                                    "SZOBA_SZAMA": "1",
                                    "FEROHELY": "3",
                                    "POTAGY": "1",
                                    "KLIMAS": "i",
                                    "panzió_e": "Nem"
                                },
                                {
                                    "SZALLAS_NEV": "Fortuna Apartman",
                                    "SZOBA_ID": "279",
                                    "SZALLAS_FK": "18",
                                    "SZOBA_SZAMA": "2",
                                    "FEROHELY": "2",
                                    "POTAGY": "1",
                                    "KLIMAS": "i",
                                    "panzió_e": "Nem"
                                },
                                {
                                    "SZALLAS_NEV": "Fortuna Apartman",
                                    "SZOBA_ID": "280",
                                    "SZALLAS_FK": "18",
                                    "SZOBA_SZAMA": "3",
                                    "FEROHELY": "3",
                                    "POTAGY": "0",
                                    "KLIMAS": "n",
                                    "panzió_e": "Nem"
                                },
                                {
                                    "SZALLAS_NEV": "Nyárfás Vendégház",
                                    "SZOBA_ID": "281",
                                    "SZALLAS_FK": "19",
                                    "SZOBA_SZAMA": "1",
                                    "FEROHELY": "2",
                                    "POTAGY": "0",
                                    "KLIMAS": "n",
                                    "panzió_e": "Nem"
                                },
                                {
                                    "SZALLAS_NEV": "Nyárfás Vendégház",
                                    "SZOBA_ID": "282",
                                    "SZALLAS_FK": "19",
                                    "SZOBA_SZAMA": "2",
                                    "FEROHELY": "2",
                                    "POTAGY": "0",
                                    "KLIMAS": "i",
                                    "panzió_e": "Nem"
                                },
                                {
                                    "SZALLAS_NEV": "Nyárfás Vendégház",
                                    "SZOBA_ID": "283",
                                    "SZALLAS_FK": "19",
                                    "SZOBA_SZAMA": "3",
                                    "FEROHELY": "2",
                                    "POTAGY": "0",
                                    "KLIMAS": "n",
                                    "panzió_e": "Nem"
                                },
                                {
                                    "SZALLAS_NEV": "Nyárfás Vendégház",
                                    "SZOBA_ID": "284",
                                    "SZALLAS_FK": "19",
                                    "SZOBA_SZAMA": "4",
                                    "FEROHELY": "2",
                                    "POTAGY": "2",
                                    "KLIMAS": "i",
                                    "panzió_e": "Nem"
                                },
                                {
                                    "SZALLAS_NEV": "Kollégium",
                                    "SZOBA_ID": "285",
                                    "SZALLAS_FK": "20",
                                    "SZOBA_SZAMA": "1",
                                    "FEROHELY": "2",
                                    "POTAGY": "1",
                                    "KLIMAS": "i",
                                    "panzió_e": "Nem"
                                },
                                {
                                    "SZALLAS_NEV": "Kollégium",
                                    "SZOBA_ID": "286",
                                    "SZALLAS_FK": "20",
                                    "SZOBA_SZAMA": "2",
                                    "FEROHELY": "3",
                                    "POTAGY": "0",
                                    "KLIMAS": "i",
                                    "panzió_e": "Nem"
                                },
                                {
                                    "SZALLAS_NEV": "Kollégium",
                                    "SZOBA_ID": "287",
                                    "SZALLAS_FK": "20",
                                    "SZOBA_SZAMA": "3",
                                    "FEROHELY": "3",
                                    "POTAGY": "0",
                                    "KLIMAS": "n",
                                    "panzió_e": "Nem"
                                },
                                {
                                    "SZALLAS_NEV": "Kollégium",
                                    "SZOBA_ID": "288",
                                    "SZALLAS_FK": "20",
                                    "SZOBA_SZAMA": "4",
                                    "FEROHELY": "2",
                                    "POTAGY": "1",
                                    "KLIMAS": "i",
                                    "panzió_e": "Nem"
                                },
                                {
                                    "SZALLAS_NEV": "Kollégium",
                                    "SZOBA_ID": "289",
                                    "SZALLAS_FK": "20",
                                    "SZOBA_SZAMA": "5",
                                    "FEROHELY": "3",
                                    "POTAGY": "0",
                                    "KLIMAS": "i",
                                    "panzió_e": "Nem"
                                },
                                {
                                    "SZALLAS_NEV": "Kollégium",
                                    "SZOBA_ID": "290",
                                    "SZALLAS_FK": "20",
                                    "SZOBA_SZAMA": "6",
                                    "FEROHELY": "2",
                                    "POTAGY": "1",
                                    "KLIMAS": "i",
                                    "panzió_e": "Nem"
                                },
                                {
                                    "SZALLAS_NEV": "Kollégium",
                                    "SZOBA_ID": "291",
                                    "SZALLAS_FK": "20",
                                    "SZOBA_SZAMA": "7",
                                    "FEROHELY": "2",
                                    "POTAGY": "1",
                                    "KLIMAS": "i",
                                    "panzió_e": "Nem"
                                },
                                {
                                    "SZALLAS_NEV": "Kollégium",
                                    "SZOBA_ID": "292",
                                    "SZALLAS_FK": "20",
                                    "SZOBA_SZAMA": "8",
                                    "FEROHELY": "2",
                                    "POTAGY": "1",
                                    "KLIMAS": "i",
                                    "panzió_e": "Nem"
                                },
                                {
                                    "SZALLAS_NEV": "Kollégium",
                                    "SZOBA_ID": "293",
                                    "SZALLAS_FK": "20",
                                    "SZOBA_SZAMA": "9",
                                    "FEROHELY": "2",
                                    "POTAGY": "1",
                                    "KLIMAS": "i",
                                    "panzió_e": "Nem"
                                },
                                {
                                    "SZALLAS_NEV": "Kollégium",
                                    "SZOBA_ID": "294",
                                    "SZALLAS_FK": "20",
                                    "SZOBA_SZAMA": "10",
                                    "FEROHELY": "3",
                                    "POTAGY": "0",
                                    "KLIMAS": "i",
                                    "panzió_e": "Nem"
                                }
                            ]
                        },
                        "text/html": [
                            "<table>",
                            "<tr><th>SZALLAS_NEV</th><th>SZOBA_ID</th><th>SZALLAS_FK</th><th>SZOBA_SZAMA</th><th>FEROHELY</th><th>POTAGY</th><th>KLIMAS</th><th>panzió_e</th></tr>",
                            "<tr><td>Lagúna Hotel</td><td>159</td><td>10</td><td>25</td><td>3</td><td>1</td><td>n</td><td>Nem</td></tr>",
                            "<tr><td>Gold Hotel</td><td>199</td><td>12</td><td>35</td><td>3</td><td>2</td><td>i</td><td>Nem</td></tr>",
                            "<tr><td>Gold Hotel</td><td>200</td><td>12</td><td>36</td><td>2</td><td>0</td><td>i</td><td>Nem</td></tr>",
                            "<tr><td>Gold Hotel</td><td>201</td><td>12</td><td>37</td><td>3</td><td>1</td><td>n</td><td>Nem</td></tr>",
                            "<tr><td>Gold Hotel</td><td>202</td><td>12</td><td>38</td><td>3</td><td>1</td><td>i</td><td>Nem</td></tr>",
                            "<tr><td>Gold Hotel</td><td>203</td><td>12</td><td>39</td><td>3</td><td>0</td><td>i</td><td>Nem</td></tr>",
                            "<tr><td>Gold Hotel</td><td>204</td><td>12</td><td>40</td><td>3</td><td>1</td><td>i</td><td>Nem</td></tr>",
                            "<tr><td>Gold Hotel</td><td>205</td><td>12</td><td>41</td><td>3</td><td>0</td><td>i</td><td>Nem</td></tr>",
                            "<tr><td>Gold Hotel</td><td>206</td><td>12</td><td>42</td><td>2</td><td>1</td><td>i</td><td>Nem</td></tr>",
                            "<tr><td>Gold Hotel</td><td>207</td><td>12</td><td>43</td><td>2</td><td>1</td><td>i</td><td>Nem</td></tr>",
                            "<tr><td>Gold Hotel</td><td>208</td><td>12</td><td>44</td><td>2</td><td>1</td><td>i</td><td>Nem</td></tr>",
                            "<tr><td>Gold Hotel</td><td>209</td><td>12</td><td>45</td><td>3</td><td>2</td><td>n</td><td>Nem</td></tr>",
                            "<tr><td>Gold Hotel</td><td>210</td><td>12</td><td>46</td><td>2</td><td>0</td><td>i</td><td>Nem</td></tr>",
                            "<tr><td>Gold Hotel</td><td>211</td><td>12</td><td>47</td><td>2</td><td>1</td><td>i</td><td>Nem</td></tr>",
                            "<tr><td>Gold Hotel</td><td>212</td><td>12</td><td>48</td><td>3</td><td>0</td><td>n</td><td>Nem</td></tr>",
                            "<tr><td>Gold Hotel</td><td>213</td><td>12</td><td>49</td><td>3</td><td>0</td><td>i</td><td>Nem</td></tr>",
                            "<tr><td>Gold Hotel</td><td>214</td><td>12</td><td>50</td><td>3</td><td>1</td><td>i</td><td>Nem</td></tr>",
                            "<tr><td>Riviéra Panzió</td><td>215</td><td>13</td><td>1</td><td>2</td><td>1</td><td>i</td><td>Igen</td></tr>",
                            "<tr><td>Riviéra Panzió</td><td>216</td><td>13</td><td>2</td><td>3</td><td>1</td><td>i</td><td>Igen</td></tr>",
                            "<tr><td>Riviéra Panzió</td><td>217</td><td>13</td><td>3</td><td>2</td><td>1</td><td>n</td><td>Igen</td></tr>",
                            "<tr><td>Riviéra Panzió</td><td>218</td><td>13</td><td>4</td><td>3</td><td>0</td><td>i</td><td>Igen</td></tr>",
                            "<tr><td>Riviéra Panzió</td><td>219</td><td>13</td><td>5</td><td>2</td><td>0</td><td>n</td><td>Igen</td></tr>",
                            "<tr><td>Riviéra Panzió</td><td>220</td><td>13</td><td>6</td><td>3</td><td>0</td><td>i</td><td>Igen</td></tr>",
                            "<tr><td>Riviéra Panzió</td><td>221</td><td>13</td><td>7</td><td>3</td><td>0</td><td>i</td><td>Igen</td></tr>",
                            "<tr><td>Riviéra Panzió</td><td>222</td><td>13</td><td>8</td><td>2</td><td>0</td><td>n</td><td>Igen</td></tr>",
                            "<tr><td>Riviéra Panzió</td><td>223</td><td>13</td><td>9</td><td>2</td><td>1</td><td>i</td><td>Igen</td></tr>",
                            "<tr><td>Riviéra Panzió</td><td>224</td><td>13</td><td>10</td><td>2</td><td>0</td><td>i</td><td>Igen</td></tr>",
                            "<tr><td>Riviéra Panzió</td><td>225</td><td>13</td><td>11</td><td>2</td><td>1</td><td>i</td><td>Igen</td></tr>",
                            "<tr><td>Riviéra Panzió</td><td>226</td><td>13</td><td>12</td><td>3</td><td>1</td><td>n</td><td>Igen</td></tr>",
                            "<tr><td>Nyárfás Vendégház</td><td>227</td><td>14</td><td>1</td><td>2</td><td>1</td><td>i</td><td>Nem</td></tr>",
                            "<tr><td>Nyárfás Vendégház</td><td>228</td><td>14</td><td>2</td><td>3</td><td>0</td><td>i</td><td>Nem</td></tr>",
                            "<tr><td>Nyárfás Vendégház</td><td>229</td><td>14</td><td>3</td><td>2</td><td>0</td><td>i</td><td>Nem</td></tr>",
                            "<tr><td>Nyárfás Vendégház</td><td>230</td><td>14</td><td>4</td><td>3</td><td>2</td><td>i</td><td>Nem</td></tr>",
                            "<tr><td>Tímárház Panzió</td><td>231</td><td>15</td><td>1</td><td>2</td><td>0</td><td>i</td><td>Igen</td></tr>",
                            "<tr><td>Tímárház Panzió</td><td>232</td><td>15</td><td>2</td><td>2</td><td>0</td><td>i</td><td>Igen</td></tr>",
                            "<tr><td>Tímárház Panzió</td><td>233</td><td>15</td><td>3</td><td>3</td><td>0</td><td>n</td><td>Igen</td></tr>",
                            "<tr><td>Tímárház Panzió</td><td>234</td><td>15</td><td>4</td><td>3</td><td>1</td><td>i</td><td>Igen</td></tr>",
                            "<tr><td>Tímárház Panzió</td><td>235</td><td>15</td><td>5</td><td>3</td><td>0</td><td>i</td><td>Igen</td></tr>",
                            "<tr><td>Tímárház Panzió</td><td>236</td><td>15</td><td>6</td><td>3</td><td>1</td><td>n</td><td>Igen</td></tr>",
                            "<tr><td>Tímárház Panzió</td><td>237</td><td>15</td><td>7</td><td>2</td><td>2</td><td>n</td><td>Igen</td></tr>",
                            "<tr><td>Tímárház Panzió</td><td>238</td><td>15</td><td>8</td><td>3</td><td>1</td><td>i</td><td>Igen</td></tr>",
                            "<tr><td>Tímárház Panzió</td><td>239</td><td>15</td><td>9</td><td>2</td><td>2</td><td>i</td><td>Igen</td></tr>",
                            "<tr><td>Tímárház Panzió</td><td>240</td><td>15</td><td>10</td><td>3</td><td>0</td><td>i</td><td>Igen</td></tr>",
                            "<tr><td>Tímárház Panzió</td><td>241</td><td>15</td><td>11</td><td>2</td><td>0</td><td>i</td><td>Igen</td></tr>",
                            "<tr><td>Tímárház Panzió</td><td>242</td><td>15</td><td>12</td><td>2</td><td>1</td><td>i</td><td>Igen</td></tr>",
                            "<tr><td>Bagoly Hotel</td><td>243</td><td>16</td><td>1</td><td>2</td><td>0</td><td>i</td><td>Nem</td></tr>",
                            "<tr><td>Bagoly Hotel</td><td>244</td><td>16</td><td>2</td><td>2</td><td>1</td><td>i</td><td>Nem</td></tr>",
                            "<tr><td>Bagoly Hotel</td><td>245</td><td>16</td><td>3</td><td>2</td><td>1</td><td>i</td><td>Nem</td></tr>",
                            "<tr><td>Bagoly Hotel</td><td>246</td><td>16</td><td>4</td><td>2</td><td>0</td><td>i</td><td>Nem</td></tr>",
                            "<tr><td>Bagoly Hotel</td><td>247</td><td>16</td><td>5</td><td>2</td><td>0</td><td>i</td><td>Nem</td></tr>",
                            "<tr><td>Bagoly Hotel</td><td>248</td><td>16</td><td>6</td><td>2</td><td>2</td><td>i</td><td>Nem</td></tr>",
                            "<tr><td>Bagoly Hotel</td><td>249</td><td>16</td><td>7</td><td>2</td><td>1</td><td>n</td><td>Nem</td></tr>",
                            "<tr><td>Bagoly Hotel</td><td>250</td><td>16</td><td>8</td><td>3</td><td>1</td><td>n</td><td>Nem</td></tr>",
                            "<tr><td>Bagoly Hotel</td><td>251</td><td>16</td><td>9</td><td>3</td><td>0</td><td>n</td><td>Nem</td></tr>",
                            "<tr><td>Bagoly Hotel</td><td>252</td><td>16</td><td>10</td><td>3</td><td>1</td><td>i</td><td>Nem</td></tr>",
                            "<tr><td>Bagoly Hotel</td><td>253</td><td>16</td><td>11</td><td>2</td><td>0</td><td>i</td><td>Nem</td></tr>",
                            "<tr><td>Bagoly Hotel</td><td>254</td><td>16</td><td>12</td><td>2</td><td>0</td><td>i</td><td>Nem</td></tr>",
                            "<tr><td>Bagoly Hotel</td><td>255</td><td>16</td><td>13</td><td>3</td><td>0</td><td>n</td><td>Nem</td></tr>",
                            "<tr><td>Bagoly Hotel</td><td>256</td><td>16</td><td>14</td><td>3</td><td>1</td><td>i</td><td>Nem</td></tr>",
                            "<tr><td>Bagoly Hotel</td><td>257</td><td>16</td><td>15</td><td>2</td><td>0</td><td>i</td><td>Nem</td></tr>",
                            "<tr><td>Bagoly Hotel</td><td>258</td><td>16</td><td>16</td><td>2</td><td>0</td><td>i</td><td>Nem</td></tr>",
                            "<tr><td>Bagoly Hotel</td><td>259</td><td>16</td><td>17</td><td>2</td><td>0</td><td>i</td><td>Nem</td></tr>",
                            "<tr><td>Bagoly Hotel</td><td>260</td><td>16</td><td>18</td><td>2</td><td>0</td><td>i</td><td>Nem</td></tr>",
                            "<tr><td>Bagoly Hotel</td><td>261</td><td>16</td><td>19</td><td>1</td><td>1</td><td>n</td><td>Nem</td></tr>",
                            "<tr><td>Bagoly Hotel</td><td>262</td><td>16</td><td>20</td><td>1</td><td>0</td><td>n</td><td>Nem</td></tr>",
                            "<tr><td>Szarvas Hotel</td><td>263</td><td>17</td><td>1</td><td>2</td><td>2</td><td>i</td><td>Nem</td></tr>",
                            "<tr><td>Szarvas Hotel</td><td>264</td><td>17</td><td>2</td><td>3</td><td>0</td><td>i</td><td>Nem</td></tr>",
                            "<tr><td>Szarvas Hotel</td><td>265</td><td>17</td><td>3</td><td>3</td><td>0</td><td>i</td><td>Nem</td></tr>",
                            "<tr><td>Szarvas Hotel</td><td>266</td><td>17</td><td>4</td><td>2</td><td>1</td><td>i</td><td>Nem</td></tr>",
                            "<tr><td>Szarvas Hotel</td><td>267</td><td>17</td><td>5</td><td>2</td><td>1</td><td>n</td><td>Nem</td></tr>",
                            "<tr><td>Szarvas Hotel</td><td>268</td><td>17</td><td>6</td><td>2</td><td>2</td><td>n</td><td>Nem</td></tr>",
                            "<tr><td>Szarvas Hotel</td><td>269</td><td>17</td><td>7</td><td>2</td><td>1</td><td>i</td><td>Nem</td></tr>",
                            "<tr><td>Szarvas Hotel</td><td>270</td><td>17</td><td>8</td><td>3</td><td>0</td><td>n</td><td>Nem</td></tr>",
                            "<tr><td>Szarvas Hotel</td><td>271</td><td>17</td><td>9</td><td>3</td><td>0</td><td>i</td><td>Nem</td></tr>",
                            "<tr><td>Szarvas Hotel</td><td>272</td><td>17</td><td>10</td><td>3</td><td>0</td><td>i</td><td>Nem</td></tr>",
                            "<tr><td>Szarvas Hotel</td><td>273</td><td>17</td><td>11</td><td>2</td><td>1</td><td>i</td><td>Nem</td></tr>",
                            "<tr><td>Szarvas Hotel</td><td>274</td><td>17</td><td>12</td><td>3</td><td>1</td><td>i</td><td>Nem</td></tr>",
                            "<tr><td>Szarvas Hotel</td><td>275</td><td>17</td><td>13</td><td>2</td><td>1</td><td>n</td><td>Nem</td></tr>",
                            "<tr><td>Szarvas Hotel</td><td>276</td><td>17</td><td>14</td><td>2</td><td>0</td><td>i</td><td>Nem</td></tr>",
                            "<tr><td>Szarvas Hotel</td><td>277</td><td>17</td><td>15</td><td>2</td><td>0</td><td>i</td><td>Nem</td></tr>",
                            "<tr><td>Fortuna Apartman</td><td>278</td><td>18</td><td>1</td><td>3</td><td>1</td><td>i</td><td>Nem</td></tr>",
                            "<tr><td>Fortuna Apartman</td><td>279</td><td>18</td><td>2</td><td>2</td><td>1</td><td>i</td><td>Nem</td></tr>",
                            "<tr><td>Fortuna Apartman</td><td>280</td><td>18</td><td>3</td><td>3</td><td>0</td><td>n</td><td>Nem</td></tr>",
                            "<tr><td>Nyárfás Vendégház</td><td>281</td><td>19</td><td>1</td><td>2</td><td>0</td><td>n</td><td>Nem</td></tr>",
                            "<tr><td>Nyárfás Vendégház</td><td>282</td><td>19</td><td>2</td><td>2</td><td>0</td><td>i</td><td>Nem</td></tr>",
                            "<tr><td>Nyárfás Vendégház</td><td>283</td><td>19</td><td>3</td><td>2</td><td>0</td><td>n</td><td>Nem</td></tr>",
                            "<tr><td>Nyárfás Vendégház</td><td>284</td><td>19</td><td>4</td><td>2</td><td>2</td><td>i</td><td>Nem</td></tr>",
                            "<tr><td>Kollégium</td><td>285</td><td>20</td><td>1</td><td>2</td><td>1</td><td>i</td><td>Nem</td></tr>",
                            "<tr><td>Kollégium</td><td>286</td><td>20</td><td>2</td><td>3</td><td>0</td><td>i</td><td>Nem</td></tr>",
                            "<tr><td>Kollégium</td><td>287</td><td>20</td><td>3</td><td>3</td><td>0</td><td>n</td><td>Nem</td></tr>",
                            "<tr><td>Kollégium</td><td>288</td><td>20</td><td>4</td><td>2</td><td>1</td><td>i</td><td>Nem</td></tr>",
                            "<tr><td>Kollégium</td><td>289</td><td>20</td><td>5</td><td>3</td><td>0</td><td>i</td><td>Nem</td></tr>",
                            "<tr><td>Kollégium</td><td>290</td><td>20</td><td>6</td><td>2</td><td>1</td><td>i</td><td>Nem</td></tr>",
                            "<tr><td>Kollégium</td><td>291</td><td>20</td><td>7</td><td>2</td><td>1</td><td>i</td><td>Nem</td></tr>",
                            "<tr><td>Kollégium</td><td>292</td><td>20</td><td>8</td><td>2</td><td>1</td><td>i</td><td>Nem</td></tr>",
                            "<tr><td>Kollégium</td><td>293</td><td>20</td><td>9</td><td>2</td><td>1</td><td>i</td><td>Nem</td></tr>",
                            "<tr><td>Kollégium</td><td>294</td><td>20</td><td>10</td><td>3</td><td>0</td><td>i</td><td>Nem</td></tr>",
                            "</table>"
                        ]
                    }
                }
            ],
            "execution_count": 15
        }
    ]
}