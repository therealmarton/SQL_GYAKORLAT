{
    "metadata": {
        "kernelspec": {
            "name": "SQL",
            "display_name": "SQL",
            "language": "sql"
        },
        "language_info": {
            "name": "sql",
            "version": ""
        }
    },
    "nbformat_minor": 2,
    "nbformat": 4,
    "cells": [
        {
            "cell_type": "markdown",
            "source": [
                "**1\\. FELADAT**\n",
                "\n",
                "Listázzuk azon vendégek nevét és email-címét, akik az 1990-es év második felében születtek! \n",
                "\n",
                "a. Rendezzük a listát a születés hónapja szerint növekvő sorrendbe"
            ],
            "metadata": {
                "azdata_cell_guid": "cfa08a4d-2a45-41bd-a588-fe1745286155"
            },
            "attachments": {}
        },
        {
            "cell_type": "code",
            "source": [
                "SELECT NEV, EMAIL\r\n",
                "FROM Vendeg\r\n",
                "WHERE SZUL_DAT BETWEEN '1990.06.01' AND '1990.12.31'\r\n",
                "ORDER BY SZUL_DAT"
            ],
            "metadata": {
                "azdata_cell_guid": "b07c3784-c273-4a3e-a9e9-5a2fc59efa49",
                "language": "sql"
            },
            "outputs": [
                {
                    "output_type": "display_data",
                    "data": {
                        "text/html": "(5 rows affected)"
                    },
                    "metadata": {}
                },
                {
                    "output_type": "display_data",
                    "data": {
                        "text/html": "Total execution time: 00:00:00.007"
                    },
                    "metadata": {}
                },
                {
                    "output_type": "execute_result",
                    "metadata": {},
                    "execution_count": 5,
                    "data": {
                        "application/vnd.dataresource+json": {
                            "schema": {
                                "fields": [
                                    {
                                        "name": "NEV"
                                    },
                                    {
                                        "name": "EMAIL"
                                    }
                                ]
                            },
                            "data": [
                                {
                                    "NEV": "Ötvös Árpád",
                                    "EMAIL": "árpád.ötvös@mail.hu"
                                },
                                {
                                    "NEV": "Bodor Szabolcs",
                                    "EMAIL": "szabolcs.bodor@mail.hu"
                                },
                                {
                                    "NEV": "Bosnyák Ilona",
                                    "EMAIL": "ilona3@gmail.com"
                                },
                                {
                                    "NEV": "Szabó Julianna",
                                    "EMAIL": "julianna4@gmail.com"
                                },
                                {
                                    "NEV": "Berta Dávid",
                                    "EMAIL": "david4@gmail.com"
                                }
                            ]
                        },
                        "text/html": [
                            "<table>",
                            "<tr><th>NEV</th><th>EMAIL</th></tr>",
                            "<tr><td>Ötvös Árpád</td><td>árpád.ötvös@mail.hu</td></tr>",
                            "<tr><td>Bodor Szabolcs</td><td>szabolcs.bodor@mail.hu</td></tr>",
                            "<tr><td>Bosnyák Ilona</td><td>ilona3@gmail.com</td></tr>",
                            "<tr><td>Szabó Julianna</td><td>julianna4@gmail.com</td></tr>",
                            "<tr><td>Berta Dávid</td><td>david4@gmail.com</td></tr>",
                            "</table>"
                        ]
                    }
                }
            ],
            "execution_count": 5
        },
        {
            "cell_type": "markdown",
            "source": [
                "**2\\. FELADAT**\n",
                "\n",
                "Egészítse ki a megkezdett lekérdezést, amely megjeleníti, hogy szálláshely típusonként hány foglalás történt! \n",
                "\n",
                "a. A foglalásszámot minden esetben kerekítsük 100-ra! \n",
                "\n",
                "b. Az eredményt szűrjük azon szálláshely típusokra, ahol a kerekített foglalásszám 500 alatt van!"
            ],
            "metadata": {
                "language": "sql",
                "azdata_cell_guid": "5760676a-f5b9-45ab-967b-0b40cab7ab10"
            },
            "attachments": {}
        },
        {
            "cell_type": "code",
            "source": [
                "SELECT szh.TIPUS, round(count(f.FOGLALAS_PK),-2) AS 'fog.ker'\r\n",
                "FROM Foglalas f JOIN Szoba sz ON f.SZOBA_FK= sz.SZOBA_ID\r\n",
                "                JOIN Szallashely szh ON sz.SZALLAS_FK = szh.SZALLAS_ID\r\n",
                "GROUP BY szh.TIPUS \r\n",
                "HAVING round(count(f.FOGLALAS_PK),-2) < 500"
            ],
            "metadata": {
                "azdata_cell_guid": "67faac54-fb1f-4291-a679-f481498a3bda",
                "language": "sql",
                "tags": []
            },
            "outputs": [
{
    "output_type": "display_data",
    "data": {
        "text/html": "(3 rows affected)"
    },
    "metadata": {}
}, {
    "output_type": "display_data",
    "data": {
        "text/html": "Total execution time: 00:00:00.015"
    },
    "metadata": {}
}, {
    "output_type": "execute_result",
    "metadata": {},
    "execution_count": 8,
    "data": {
        "application/vnd.dataresource+json": {
            "schema": {
                "fields": [
                    {
                        "name": "TIPUS"
                    },
                    {
                        "name": "fog.ker"
                    }
                ]
            },
            "data": [
                {
                    "TIPUS": "Apartman",
                    "fog.ker": "100"
                },
                {
                    "TIPUS": "vendégház",
                    "fog.ker": "100"
                },
                {
                    "TIPUS": "panzió",
                    "fog.ker": "200"
                }
            ]
        },
        "text/html": [
            "<table>",
            "<tr><th>TIPUS</th><th>fog.ker</th></tr>",
            "<tr><td>Apartman</td><td>100</td></tr>",
            "<tr><td>vendégház</td><td>100</td></tr>",
            "<tr><td>panzió</td><td>200</td></tr>",
            "</table>"
        ]
    }
}
],
            "execution_count": 8
        },
        {
            "cell_type": "markdown",
            "source": [
                "**3\\. FELADAT**\n",
                "\n",
                "Listázzuk azon szobák adatait, amelyeket még nem adtak ki (ha vannak olyanok).\n",
                "\n",
                "a. Jelenítsük meg a szobához tartozó szálláshely nevét is!\n",
                "\n",
                "b. Egy új oszlopban jelenítsük meg, hogy a szálláshely típusa panzió\\_e (Igen/Nem"
            ],
            "metadata": {
                "language": "sql",
                "azdata_cell_guid": "207dd791-c7f9-4fae-94b4-7fbcaaa74f89"
            },
            "attachments": {}
        },
        {
            "cell_type": "code",
            "source": [
                ""
            ],
            "metadata": {
                "language": "sql",
                "azdata_cell_guid": "df1f7bba-0572-4fda-8d8e-9cc12b18e3df"
            },
            "outputs": [],
            "execution_count": null
        }
    ]
}