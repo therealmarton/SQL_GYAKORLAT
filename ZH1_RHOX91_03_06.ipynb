{
    "metadata": {
        "kernelspec": {
            "name": "SQL",
            "display_name": "SQL",
            "language": "sql"
        },
        "language_info": {
            "name": "sql",
            "version": ""
        }
    },
    "nbformat_minor": 2,
    "nbformat": 4,
    "cells": [
        {
            "cell_type": "markdown",
            "source": [
                "**1\\. FELADAT**"
            ],
            "metadata": {
                "azdata_cell_guid": "cfa08a4d-2a45-41bd-a588-fe1745286155"
            },
            "attachments": {}
        },
        {
            "cell_type": "code",
            "source": [
                ""
            ],
            "metadata": {
                "azdata_cell_guid": "b07c3784-c273-4a3e-a9e9-5a2fc59efa49",
                "language": "sql"
            },
            "outputs": [],
            "execution_count": null
        },
        {
            "cell_type": "markdown",
            "source": [
                "**2\\. FELADAT**"
            ],
            "metadata": {
                "language": "sql",
                "azdata_cell_guid": "5760676a-f5b9-45ab-967b-0b40cab7ab10"
            },
            "attachments": {}
        },
        {
            "cell_type": "code",
            "source": [
                ""
            ],
            "metadata": {
                "azdata_cell_guid": "67faac54-fb1f-4291-a679-f481498a3bda",
                "language": "sql"
            },
            "outputs": [],
            "execution_count": null
        },
        {
            "cell_type": "markdown",
            "source": [
                "**3\\. FELADAT**"
            ],
            "metadata": {
                "language": "sql",
                "azdata_cell_guid": "207dd791-c7f9-4fae-94b4-7fbcaaa74f89"
            },
            "attachments": {}
        },
        {
            "cell_type": "code",
            "source": [
                ""
            ],
            "metadata": {
                "language": "sql",
                "azdata_cell_guid": "df1f7bba-0572-4fda-8d8e-9cc12b18e3df"
            },
            "outputs": [],
            "execution_count": null
        }
    ]
}