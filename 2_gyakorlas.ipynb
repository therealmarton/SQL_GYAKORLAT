{
    "metadata": {
        "kernelspec": {
            "name": "SQL",
            "display_name": "SQL",
            "language": "sql"
        },
        "language_info": {
            "name": "sql",
            "version": ""
        },
        "extensions": {
            "azuredatastudio": {
                "version": 1,
                "views": []
            }
        }
    },
    "nbformat_minor": 2,
    "nbformat": 4,
    "cells": [
        {
            "cell_type": "markdown",
            "source": [
                "1. <span style=\"color:rgb(36, 41, 47);font-family:-apple-system, BlinkMacSystemFont, &quot;Segoe UI&quot;, Helvetica, Arial, sans-serif, &quot;Apple Color Emoji&quot;, &quot;Segoe UI Emoji&quot;;font-size:16px;\">Készítsünk lekérdezést, amely listázza, hogy mely napokon hány db kölcsönzés történt!</span>\n",
                "\n",
                "<span style=\"font-size: 16px;\">a.&nbsp;</span> Az oszlopok neve legyen 'Dátum' és 'Kölcsönzések száma'  \n",
                "b. A listát rendezzük a kölcsönzés dátuma szerint csökkenő sorrendbe!"
            ],
            "metadata": {
                "azdata_cell_guid": "77f2d5b3-38e9-41cc-893f-f5afd02b97ef"
            },
            "attachments": {}
        },
        {
            "cell_type": "code",
            "source": [
                "SELECT ki_datum AS 'DÁTUM', COUNT(ID) AS 'KOLCSONZESEK SZAMA DB'\r\n",
                "FROM kolcsonzesek\r\n",
                "GROUP BY ki_datum\r\n",
                "ORDER BY ki_datum DESC "
            ],
            "metadata": {
                "azdata_cell_guid": "bd3cef1a-4e6e-4ece-9dc3-aaa9d2b5d66d",
                "language": "sql"
            },
            "outputs": [
                {
                    "output_type": "display_data",
                    "data": {
                        "text/html": "(3 rows affected)"
                    },
                    "metadata": {}
                },
                {
                    "output_type": "display_data",
                    "data": {
                        "text/html": "Total execution time: 00:00:00.018"
                    },
                    "metadata": {}
                },
                {
                    "output_type": "execute_result",
                    "metadata": {},
                    "execution_count": 1,
                    "data": {
                        "application/vnd.dataresource+json": {
                            "schema": {
                                "fields": [
                                    {
                                        "name": "DÁTUM"
                                    },
                                    {
                                        "name": "KOLCSONZESEK SZAMA"
                                    }
                                ]
                            },
                            "data": [
                                {
                                    "DÁTUM": "2006-10-02",
                                    "KOLCSONZESEK SZAMA": "1"
                                },
                                {
                                    "DÁTUM": "2006-10-01",
                                    "KOLCSONZESEK SZAMA": "1"
                                },
                                {
                                    "DÁTUM": "2003-12-11",
                                    "KOLCSONZESEK SZAMA": "3"
                                }
                            ]
                        },
                        "text/html": [
                            "<table>",
                            "<tr><th>DÁTUM</th><th>KOLCSONZESEK SZAMA</th></tr>",
                            "<tr><td>2006-10-02</td><td>1</td></tr>",
                            "<tr><td>2006-10-01</td><td>1</td></tr>",
                            "<tr><td>2003-12-11</td><td>3</td></tr>",
                            "</table>"
                        ]
                    }
                }
            ],
            "execution_count": 1
        },
        {
            "cell_type": "markdown",
            "source": [
                "1/2 Diacuccok gyakorlása:"
            ],
            "metadata": {
                "azdata_cell_guid": "7ac52b5d-99e0-4538-8156-920782e2d67d"
            },
            "attachments": {}
        },
        {
            "cell_type": "code",
            "source": [
                "--gyakorlas ora\r\n",
                "SELECT stilus AS 'stilus', SUM([raktár készlet]) AS 'DB'\r\n",
                "FROM dvd\r\n",
                "GROUP BY stilus"
            ],
            "metadata": {
                "azdata_cell_guid": "af11cc3a-f1d1-476c-b4eb-f1efb2b56051",
                "language": "sql",
                "tags": []
            },
            "outputs": [
                {
                    "output_type": "display_data",
                    "data": {
                        "text/html": "(48 rows affected)"
                    },
                    "metadata": {}
                },
                {
                    "output_type": "display_data",
                    "data": {
                        "text/html": "Total execution time: 00:00:00.026"
                    },
                    "metadata": {}
                },
                {
                    "output_type": "execute_result",
                    "metadata": {},
                    "execution_count": 11,
                    "data": {
                        "application/vnd.dataresource+json": {
                            "schema": {
                                "fields": [
                                    {
                                        "name": "stilus"
                                    },
                                    {
                                        "name": "DB"
                                    }
                                ]
                            },
                            "data": [
                                {
                                    "stilus": "NULL",
                                    "DB": "10"
                                },
                                {
                                    "stilus": "állattan",
                                    "DB": "30"
                                },
                                {
                                    "stilus": "ásványtan",
                                    "DB": "10"
                                },
                                {
                                    "stilus": "betűtípusok",
                                    "DB": "10"
                                },
                                {
                                    "stilus": "biológia",
                                    "DB": "50"
                                },
                                {
                                    "stilus": "csillagászat",
                                    "DB": "70"
                                },
                                {
                                    "stilus": "felvételi",
                                    "DB": "60"
                                },
                                {
                                    "stilus": "festészet",
                                    "DB": "20"
                                },
                                {
                                    "stilus": "filmtörténet",
                                    "DB": "20"
                                },
                                {
                                    "stilus": "fizika",
                                    "DB": "30"
                                },
                                {
                                    "stilus": "fordító program",
                                    "DB": "10"
                                },
                                {
                                    "stilus": "földrajz",
                                    "DB": "160"
                                },
                                {
                                    "stilus": "gasztronómia",
                                    "DB": "40"
                                },
                                {
                                    "stilus": "gépírás",
                                    "DB": "10"
                                },
                                {
                                    "stilus": "hadtudomány",
                                    "DB": "10"
                                },
                                {
                                    "stilus": "humor",
                                    "DB": "10"
                                },
                                {
                                    "stilus": "irodalom",
                                    "DB": "160"
                                },
                                {
                                    "stilus": "irodalom, nyelv",
                                    "DB": "10"
                                },
                                {
                                    "stilus": "ismeretterjesztő",
                                    "DB": "460"
                                },
                                {
                                    "stilus": "ismeretterjesztő + játék",
                                    "DB": "10"
                                },
                                {
                                    "stilus": "játék",
                                    "DB": "600"
                                },
                                {
                                    "stilus": "játék - autós",
                                    "DB": "10"
                                },
                                {
                                    "stilus": "játék (autóverseny)",
                                    "DB": "40"
                                },
                                {
                                    "stilus": "játék (jégkorong)",
                                    "DB": "10"
                                },
                                {
                                    "stilus": "játék (labdarúgás)",
                                    "DB": "30"
                                },
                                {
                                    "stilus": "játék (repülős)",
                                    "DB": "10"
                                },
                                {
                                    "stilus": "játék (rodeó)",
                                    "DB": "10"
                                },
                                {
                                    "stilus": "játék (történelmi)",
                                    "DB": "10"
                                },
                                {
                                    "stilus": "játék, sakk",
                                    "DB": "10"
                                },
                                {
                                    "stilus": "kémia",
                                    "DB": "10"
                                },
                                {
                                    "stilus": "kerttervező",
                                    "DB": "10"
                                },
                                {
                                    "stilus": "környezetvédelem",
                                    "DB": "10"
                                },
                                {
                                    "stilus": "kresz",
                                    "DB": "10"
                                },
                                {
                                    "stilus": "lakástervező",
                                    "DB": "10"
                                },
                                {
                                    "stilus": "matematika",
                                    "DB": "90"
                                },
                                {
                                    "stilus": "matematika, nyelvtan",
                                    "DB": "10"
                                },
                                {
                                    "stilus": "múvészet",
                                    "DB": "10"
                                },
                                {
                                    "stilus": "művészet",
                                    "DB": "40"
                                },
                                {
                                    "stilus": "növénytan",
                                    "DB": "10"
                                },
                                {
                                    "stilus": "nyelvtan",
                                    "DB": "30"
                                },
                                {
                                    "stilus": "nyelvtanító",
                                    "DB": "420"
                                },
                                {
                                    "stilus": "régészet",
                                    "DB": "10"
                                },
                                {
                                    "stilus": "sport",
                                    "DB": "10"
                                },
                                {
                                    "stilus": "számítástechnika",
                                    "DB": "30"
                                },
                                {
                                    "stilus": "színház",
                                    "DB": "10"
                                },
                                {
                                    "stilus": "szótár",
                                    "DB": "70"
                                },
                                {
                                    "stilus": "történelem",
                                    "DB": "408"
                                },
                                {
                                    "stilus": "zene",
                                    "DB": "60"
                                }
                            ]
                        },
                        "text/html": [
                            "<table>",
                            "<tr><th>stilus</th><th>DB</th></tr>",
                            "<tr><td>NULL</td><td>10</td></tr>",
                            "<tr><td>állattan</td><td>30</td></tr>",
                            "<tr><td>ásványtan</td><td>10</td></tr>",
                            "<tr><td>betűtípusok</td><td>10</td></tr>",
                            "<tr><td>biológia</td><td>50</td></tr>",
                            "<tr><td>csillagászat</td><td>70</td></tr>",
                            "<tr><td>felvételi</td><td>60</td></tr>",
                            "<tr><td>festészet</td><td>20</td></tr>",
                            "<tr><td>filmtörténet</td><td>20</td></tr>",
                            "<tr><td>fizika</td><td>30</td></tr>",
                            "<tr><td>fordító program</td><td>10</td></tr>",
                            "<tr><td>földrajz</td><td>160</td></tr>",
                            "<tr><td>gasztronómia</td><td>40</td></tr>",
                            "<tr><td>gépírás</td><td>10</td></tr>",
                            "<tr><td>hadtudomány</td><td>10</td></tr>",
                            "<tr><td>humor</td><td>10</td></tr>",
                            "<tr><td>irodalom</td><td>160</td></tr>",
                            "<tr><td>irodalom, nyelv</td><td>10</td></tr>",
                            "<tr><td>ismeretterjesztő</td><td>460</td></tr>",
                            "<tr><td>ismeretterjesztő + játék</td><td>10</td></tr>",
                            "<tr><td>játék</td><td>600</td></tr>",
                            "<tr><td>játék - autós</td><td>10</td></tr>",
                            "<tr><td>játék (autóverseny)</td><td>40</td></tr>",
                            "<tr><td>játék (jégkorong)</td><td>10</td></tr>",
                            "<tr><td>játék (labdarúgás)</td><td>30</td></tr>",
                            "<tr><td>játék (repülős)</td><td>10</td></tr>",
                            "<tr><td>játék (rodeó)</td><td>10</td></tr>",
                            "<tr><td>játék (történelmi)</td><td>10</td></tr>",
                            "<tr><td>játék, sakk</td><td>10</td></tr>",
                            "<tr><td>kémia</td><td>10</td></tr>",
                            "<tr><td>kerttervező</td><td>10</td></tr>",
                            "<tr><td>környezetvédelem</td><td>10</td></tr>",
                            "<tr><td>kresz</td><td>10</td></tr>",
                            "<tr><td>lakástervező</td><td>10</td></tr>",
                            "<tr><td>matematika</td><td>90</td></tr>",
                            "<tr><td>matematika, nyelvtan</td><td>10</td></tr>",
                            "<tr><td>múvészet</td><td>10</td></tr>",
                            "<tr><td>művészet</td><td>40</td></tr>",
                            "<tr><td>növénytan</td><td>10</td></tr>",
                            "<tr><td>nyelvtan</td><td>30</td></tr>",
                            "<tr><td>nyelvtanító</td><td>420</td></tr>",
                            "<tr><td>régészet</td><td>10</td></tr>",
                            "<tr><td>sport</td><td>10</td></tr>",
                            "<tr><td>számítástechnika</td><td>30</td></tr>",
                            "<tr><td>színház</td><td>10</td></tr>",
                            "<tr><td>szótár</td><td>70</td></tr>",
                            "<tr><td>történelem</td><td>408</td></tr>",
                            "<tr><td>zene</td><td>60</td></tr>",
                            "</table>"
                        ]
                    }
                }
            ],
            "execution_count": 11
        },
        {
            "cell_type": "markdown",
            "source": [
                "2. <span style=\"font-weight: 600; color: rgb(36, 41, 47); font-family: -apple-system, BlinkMacSystemFont, &quot;Segoe UI&quot;, Helvetica, Arial, sans-serif, &quot;Apple Color Emoji&quot;, &quot;Segoe UI Emoji&quot;; font-size: 16px;\">Mennyi a dvd-k átlagos ára stílusonkénti bontásban?</span>\n",
                "\n",
                "1. Csak azokat a stílusokat vegyük figyelembe, ahol az átlagos ár 4500 Ft feletti!\n",
                "2. Az oszlopokat nevezzük el értelemszerűen!\n",
                "3. A listát rendezzük átlagos ár szerint csökkenő sorrendbe!"
            ],
            "metadata": {
                "azdata_cell_guid": "88f5b4bb-f4c1-4bad-a0c7-b2592687b422"
            },
            "attachments": {}
        },
        {
            "cell_type": "code",
            "source": [
                "SELECT stilus AS 'STILUS KATEGORIAK', AVG(nettoar) AS 'ATLAG'\r\n",
                "FROM dvd\r\n",
                "GROUP BY stilus \r\n",
                "HAVING AVG(nettoar)>4500\r\n",
                ""
            ],
            "metadata": {
                "azdata_cell_guid": "e9de5726-f036-4fb9-8c33-a873955ed886",
                "language": "sql",
                "tags": []
            },
            "outputs": [
                {
                    "output_type": "display_data",
                    "data": {
                        "text/html": "(30 rows affected)"
                    },
                    "metadata": {}
                },
                {
                    "output_type": "display_data",
                    "data": {
                        "text/html": "Total execution time: 00:00:00.042"
                    },
                    "metadata": {}
                },
                {
                    "output_type": "execute_result",
                    "metadata": {},
                    "execution_count": 12,
                    "data": {
                        "application/vnd.dataresource+json": {
                            "schema": {
                                "fields": [
                                    {
                                        "name": "STILUS KATEGORIAK"
                                    },
                                    {
                                        "name": "ATLAG"
                                    }
                                ]
                            },
                            "data": [
                                {
                                    "STILUS KATEGORIAK": "állattan",
                                    "ATLAG": "4783,666666666667"
                                },
                                {
                                    "STILUS KATEGORIAK": "ásványtan",
                                    "ATLAG": "5624"
                                },
                                {
                                    "STILUS KATEGORIAK": "csillagászat",
                                    "ATLAG": "4733,571428571428"
                                },
                                {
                                    "STILUS KATEGORIAK": "felvételi",
                                    "ATLAG": "4501,333333333333"
                                },
                                {
                                    "STILUS KATEGORIAK": "festészet",
                                    "ATLAG": "4901"
                                },
                                {
                                    "STILUS KATEGORIAK": "fizika",
                                    "ATLAG": "4769"
                                },
                                {
                                    "STILUS KATEGORIAK": "fordító program",
                                    "ATLAG": "5036"
                                },
                                {
                                    "STILUS KATEGORIAK": "földrajz",
                                    "ATLAG": "4580,0625"
                                },
                                {
                                    "STILUS KATEGORIAK": "gasztronómia",
                                    "ATLAG": "4691"
                                },
                                {
                                    "STILUS KATEGORIAK": "humor",
                                    "ATLAG": "5573"
                                },
                                {
                                    "STILUS KATEGORIAK": "irodalom, nyelv",
                                    "ATLAG": "4704"
                                },
                                {
                                    "STILUS KATEGORIAK": "ismeretterjesztő",
                                    "ATLAG": "4726,673913043478"
                                },
                                {
                                    "STILUS KATEGORIAK": "játék",
                                    "ATLAG": "4850,466666666666"
                                },
                                {
                                    "STILUS KATEGORIAK": "játék (jégkorong)",
                                    "ATLAG": "5242"
                                },
                                {
                                    "STILUS KATEGORIAK": "játék (labdarúgás)",
                                    "ATLAG": "4817,333333333333"
                                },
                                {
                                    "STILUS KATEGORIAK": "játék (rodeó)",
                                    "ATLAG": "5591"
                                },
                                {
                                    "STILUS KATEGORIAK": "kémia",
                                    "ATLAG": "5094"
                                },
                                {
                                    "STILUS KATEGORIAK": "kerttervező",
                                    "ATLAG": "4951"
                                },
                                {
                                    "STILUS KATEGORIAK": "környezetvédelem",
                                    "ATLAG": "5508"
                                },
                                {
                                    "STILUS KATEGORIAK": "kresz",
                                    "ATLAG": "5476"
                                },
                                {
                                    "STILUS KATEGORIAK": "matematika",
                                    "ATLAG": "4520,777777777777"
                                },
                                {
                                    "STILUS KATEGORIAK": "múvészet",
                                    "ATLAG": "5118"
                                },
                                {
                                    "STILUS KATEGORIAK": "művészet",
                                    "ATLAG": "4939,25"
                                },
                                {
                                    "STILUS KATEGORIAK": "nyelvtan",
                                    "ATLAG": "4770,666666666667"
                                },
                                {
                                    "STILUS KATEGORIAK": "nyelvtanító",
                                    "ATLAG": "4759,476190476191"
                                },
                                {
                                    "STILUS KATEGORIAK": "sport",
                                    "ATLAG": "4607"
                                },
                                {
                                    "STILUS KATEGORIAK": "színház",
                                    "ATLAG": "5158"
                                },
                                {
                                    "STILUS KATEGORIAK": "szótár",
                                    "ATLAG": "4624,428571428572"
                                },
                                {
                                    "STILUS KATEGORIAK": "történelem",
                                    "ATLAG": "4655,731707317073"
                                },
                                {
                                    "STILUS KATEGORIAK": "zene",
                                    "ATLAG": "4855,333333333333"
                                }
                            ]
                        },
                        "text/html": [
                            "<table>",
                            "<tr><th>STILUS KATEGORIAK</th><th>ATLAG</th></tr>",
                            "<tr><td>állattan</td><td>4783,666666666667</td></tr>",
                            "<tr><td>ásványtan</td><td>5624</td></tr>",
                            "<tr><td>csillagászat</td><td>4733,571428571428</td></tr>",
                            "<tr><td>felvételi</td><td>4501,333333333333</td></tr>",
                            "<tr><td>festészet</td><td>4901</td></tr>",
                            "<tr><td>fizika</td><td>4769</td></tr>",
                            "<tr><td>fordító program</td><td>5036</td></tr>",
                            "<tr><td>földrajz</td><td>4580,0625</td></tr>",
                            "<tr><td>gasztronómia</td><td>4691</td></tr>",
                            "<tr><td>humor</td><td>5573</td></tr>",
                            "<tr><td>irodalom, nyelv</td><td>4704</td></tr>",
                            "<tr><td>ismeretterjesztő</td><td>4726,673913043478</td></tr>",
                            "<tr><td>játék</td><td>4850,466666666666</td></tr>",
                            "<tr><td>játék (jégkorong)</td><td>5242</td></tr>",
                            "<tr><td>játék (labdarúgás)</td><td>4817,333333333333</td></tr>",
                            "<tr><td>játék (rodeó)</td><td>5591</td></tr>",
                            "<tr><td>kémia</td><td>5094</td></tr>",
                            "<tr><td>kerttervező</td><td>4951</td></tr>",
                            "<tr><td>környezetvédelem</td><td>5508</td></tr>",
                            "<tr><td>kresz</td><td>5476</td></tr>",
                            "<tr><td>matematika</td><td>4520,777777777777</td></tr>",
                            "<tr><td>múvészet</td><td>5118</td></tr>",
                            "<tr><td>művészet</td><td>4939,25</td></tr>",
                            "<tr><td>nyelvtan</td><td>4770,666666666667</td></tr>",
                            "<tr><td>nyelvtanító</td><td>4759,476190476191</td></tr>",
                            "<tr><td>sport</td><td>4607</td></tr>",
                            "<tr><td>színház</td><td>5158</td></tr>",
                            "<tr><td>szótár</td><td>4624,428571428572</td></tr>",
                            "<tr><td>történelem</td><td>4655,731707317073</td></tr>",
                            "<tr><td>zene</td><td>4855,333333333333</td></tr>",
                            "</table>"
                        ]
                    }
                }
            ],
            "execution_count": 12
        },
        {
            "cell_type": "markdown",
            "source": [
                "3. <span style=\"color:rgb(36, 41, 47);font-family:-apple-system, BlinkMacSystemFont, &quot;Segoe UI&quot;, Helvetica, Arial, sans-serif, &quot;Apple Color Emoji&quot;, &quot;Segoe UI Emoji&quot;;font-size:16px;\">Listázzuk nyelvenkénti, azon belül stílusonkénti bontásban, hogy mennyi a dvd-k legkisebb és legnagyobb ára!&nbsp;</span> \n",
                "\n",
                "<span style=\"font-size: 16px;\">a. Az oszlopok neve legyen 'Nyelv', 'Stílus', 'MinÁr' és 'MaxÁr'!<br>b.&nbsp;</span> A listából hagyjuk ki azokat a sorokat, ahol a nyelv vagy a stílus nincs megadva!  \n",
                "c. Szintén hagyjuk ki azokat a csoportokat, ahol a csoport elemszáma 3-nál kisebb!"
            ],
            "metadata": {
                "azdata_cell_guid": "9e7249de-1b59-43d8-84b1-26fa7d81fc5a"
            },
            "attachments": {}
        },
        {
            "cell_type": "code",
            "source": [
                "SELECT lang AS 'NYelv', \r\n",
                "       stilus AS 'Stílus',\r\n",
                "        MIN(nettoar) AS 'minár',\r\n",
                "        MAX(nettoar) AS 'maxár'\r\n",
                "From dvd\r\n",
                "WHERE lang IS NOT NULL AND stilus IS NOT NULL\r\n",
                "GROUP BY lang, stilus\r\n",
                "having COUNT(*) >=3"
            ],
            "metadata": {
                "azdata_cell_guid": "6405d3e8-a9b1-45d7-aa76-3b1e785ef6cc",
                "language": "sql"
            },
            "outputs": [
                {
                    "output_type": "display_data",
                    "data": {
                        "text/html": "(25 rows affected)"
                    },
                    "metadata": {}
                },
                {
                    "output_type": "display_data",
                    "data": {
                        "text/html": "Total execution time: 00:00:00.016"
                    },
                    "metadata": {}
                },
                {
                    "output_type": "execute_result",
                    "metadata": {},
                    "execution_count": 15,
                    "data": {
                        "application/vnd.dataresource+json": {
                            "schema": {
                                "fields": [
                                    {
                                        "name": "NYelv"
                                    },
                                    {
                                        "name": "Stílus"
                                    },
                                    {
                                        "name": "minár"
                                    },
                                    {
                                        "name": "maxár"
                                    }
                                ]
                            },
                            "data": [
                                {
                                    "NYelv": "1",
                                    "Stílus": "állattan",
                                    "minár": "4153",
                                    "maxár": "5235"
                                },
                                {
                                    "NYelv": "1",
                                    "Stílus": "biológia",
                                    "minár": "3482",
                                    "maxár": "5543"
                                },
                                {
                                    "NYelv": "1",
                                    "Stílus": "csillagászat",
                                    "minár": "3582",
                                    "maxár": "5992"
                                },
                                {
                                    "NYelv": "1",
                                    "Stílus": "felvételi",
                                    "minár": "3215",
                                    "maxár": "5955"
                                },
                                {
                                    "NYelv": "1",
                                    "Stílus": "fizika",
                                    "minár": "3734",
                                    "maxár": "5763"
                                },
                                {
                                    "NYelv": "1",
                                    "Stílus": "földrajz",
                                    "minár": "3123",
                                    "maxár": "6065"
                                },
                                {
                                    "NYelv": "1",
                                    "Stílus": "gasztronómia",
                                    "minár": "3258",
                                    "maxár": "5706"
                                },
                                {
                                    "NYelv": "1",
                                    "Stílus": "irodalom",
                                    "minár": "3391",
                                    "maxár": "5654"
                                },
                                {
                                    "NYelv": "1",
                                    "Stílus": "ismeretterjesztő",
                                    "minár": "3256",
                                    "maxár": "6072"
                                },
                                {
                                    "NYelv": "2",
                                    "Stílus": "ismeretterjesztő",
                                    "minár": "5334",
                                    "maxár": "5900"
                                },
                                {
                                    "NYelv": "1",
                                    "Stílus": "játék",
                                    "minár": "3110",
                                    "maxár": "6078"
                                },
                                {
                                    "NYelv": "2",
                                    "Stílus": "játék",
                                    "minár": "3144",
                                    "maxár": "6062"
                                },
                                {
                                    "NYelv": "2",
                                    "Stílus": "játék (autóverseny)",
                                    "minár": "3106",
                                    "maxár": "5005"
                                },
                                {
                                    "NYelv": "1",
                                    "Stílus": "matematika",
                                    "minár": "3105",
                                    "maxár": "5995"
                                },
                                {
                                    "NYelv": "1",
                                    "Stílus": "művészet",
                                    "minár": "3490",
                                    "maxár": "6098"
                                },
                                {
                                    "NYelv": "1",
                                    "Stílus": "nyelvtan",
                                    "minár": "3688",
                                    "maxár": "5845"
                                },
                                {
                                    "NYelv": "2",
                                    "Stílus": "nyelvtanító",
                                    "minár": "3115",
                                    "maxár": "6068"
                                },
                                {
                                    "NYelv": "3",
                                    "Stílus": "nyelvtanító",
                                    "minár": "3313",
                                    "maxár": "5990"
                                },
                                {
                                    "NYelv": "4",
                                    "Stílus": "nyelvtanító",
                                    "minár": "3419",
                                    "maxár": "6082"
                                },
                                {
                                    "NYelv": "6",
                                    "Stílus": "nyelvtanító",
                                    "minár": "3775",
                                    "maxár": "5882"
                                },
                                {
                                    "NYelv": "7",
                                    "Stílus": "nyelvtanító",
                                    "minár": "3770",
                                    "maxár": "5619"
                                },
                                {
                                    "NYelv": "1",
                                    "Stílus": "számítástechnika",
                                    "minár": "3277",
                                    "maxár": "5260"
                                },
                                {
                                    "NYelv": "2",
                                    "Stílus": "szótár",
                                    "minár": "3509",
                                    "maxár": "5638"
                                },
                                {
                                    "NYelv": "1",
                                    "Stílus": "történelem",
                                    "minár": "3122",
                                    "maxár": "6084"
                                },
                                {
                                    "NYelv": "1",
                                    "Stílus": "zene",
                                    "minár": "3391",
                                    "maxár": "5730"
                                }
                            ]
                        },
                        "text/html": [
                            "<table>",
                            "<tr><th>NYelv</th><th>Stílus</th><th>minár</th><th>maxár</th></tr>",
                            "<tr><td>1</td><td>állattan</td><td>4153</td><td>5235</td></tr>",
                            "<tr><td>1</td><td>biológia</td><td>3482</td><td>5543</td></tr>",
                            "<tr><td>1</td><td>csillagászat</td><td>3582</td><td>5992</td></tr>",
                            "<tr><td>1</td><td>felvételi</td><td>3215</td><td>5955</td></tr>",
                            "<tr><td>1</td><td>fizika</td><td>3734</td><td>5763</td></tr>",
                            "<tr><td>1</td><td>földrajz</td><td>3123</td><td>6065</td></tr>",
                            "<tr><td>1</td><td>gasztronómia</td><td>3258</td><td>5706</td></tr>",
                            "<tr><td>1</td><td>irodalom</td><td>3391</td><td>5654</td></tr>",
                            "<tr><td>1</td><td>ismeretterjesztő</td><td>3256</td><td>6072</td></tr>",
                            "<tr><td>2</td><td>ismeretterjesztő</td><td>5334</td><td>5900</td></tr>",
                            "<tr><td>1</td><td>játék</td><td>3110</td><td>6078</td></tr>",
                            "<tr><td>2</td><td>játék</td><td>3144</td><td>6062</td></tr>",
                            "<tr><td>2</td><td>játék (autóverseny)</td><td>3106</td><td>5005</td></tr>",
                            "<tr><td>1</td><td>matematika</td><td>3105</td><td>5995</td></tr>",
                            "<tr><td>1</td><td>művészet</td><td>3490</td><td>6098</td></tr>",
                            "<tr><td>1</td><td>nyelvtan</td><td>3688</td><td>5845</td></tr>",
                            "<tr><td>2</td><td>nyelvtanító</td><td>3115</td><td>6068</td></tr>",
                            "<tr><td>3</td><td>nyelvtanító</td><td>3313</td><td>5990</td></tr>",
                            "<tr><td>4</td><td>nyelvtanító</td><td>3419</td><td>6082</td></tr>",
                            "<tr><td>6</td><td>nyelvtanító</td><td>3775</td><td>5882</td></tr>",
                            "<tr><td>7</td><td>nyelvtanító</td><td>3770</td><td>5619</td></tr>",
                            "<tr><td>1</td><td>számítástechnika</td><td>3277</td><td>5260</td></tr>",
                            "<tr><td>2</td><td>szótár</td><td>3509</td><td>5638</td></tr>",
                            "<tr><td>1</td><td>történelem</td><td>3122</td><td>6084</td></tr>",
                            "<tr><td>1</td><td>zene</td><td>3391</td><td>5730</td></tr>",
                            "</table>"
                        ]
                    }
                }
            ],
            "execution_count": 15
        },
        {
            "cell_type": "markdown",
            "source": [
                "4. <span style=\"color: rgb(36, 41, 47); font-family: -apple-system, BlinkMacSystemFont, &quot;Segoe UI&quot;, Helvetica, Arial, sans-serif, &quot;Apple Color Emoji&quot;, &quot;Segoe UI Emoji&quot;; font-size: 16px;\">Készítsünk listát, amely a csoportokat hoz létre aszerint, hogy a mai naptól számítva hány nap telt el a kölcsönzés kezdete óta. A lista jelenítse meg csoportonkénti bontásban a kikölcsönzött dvd-k számát!</span>\n",
                "\n",
                "1. Az oszlopokat nevezzük el értelemszerűen!\n",
                "2. A listát rendezzük az eltelt napok száma szerint csökkenő sorrendbe!"
            ],
            "metadata": {
                "azdata_cell_guid": "6478e469-c094-472c-a772-ccd5b5c61516"
            },
            "attachments": {}
        },
        {
            "cell_type": "code",
            "source": [
                ""
            ],
            "metadata": {
                "azdata_cell_guid": "02031ea2-3838-458d-839c-228e3b362b61",
                "language": "sql"
            },
            "outputs": [],
            "execution_count": null
        },
        {
            "cell_type": "markdown",
            "source": [
                "5. <span style=\"color: rgb(36, 41, 47); font-family: -apple-system, BlinkMacSystemFont, &quot;Segoe UI&quot;, Helvetica, Arial, sans-serif, &quot;Apple Color Emoji&quot;, &quot;Segoe UI Emoji&quot;; font-size: 16px;\">A kölcsönző tulajdonosa elhatározza, hogy ezentúl kerekebb árakat alkalmaz. Ezért minden dvd árát 1000 Ft-ra kerekíti. Készítsünk lekérdezést, amely megmutatja, hogy melyik 1000 Ft-ra kerekített ár szerint, azon belül stílus szerint hány db dvd összesen raktáron! **</span>\n",
                "\n",
                "1. Csak olyan csoportokat listázzunk, ahol a raktárkészlet legalább 30!\n",
                "2. A listát rendezzük kerekített ár szerint, azon belül raktárkészlet szerint növekvő sorrendbe!"
            ],
            "metadata": {
                "azdata_cell_guid": "9edbbaf9-c276-4898-9a01-e1b2993c089f"
            },
            "attachments": {}
        },
        {
            "cell_type": "code",
            "source": [
                ""
            ],
            "metadata": {
                "azdata_cell_guid": "5ad5fdcb-2878-4111-861a-833bcd50e935",
                "language": "sql"
            },
            "outputs": [],
            "execution_count": null
        },
        {
            "cell_type": "markdown",
            "source": [
                "6. <span style=\"font-weight: 600; color: rgb(36, 41, 47); font-family: -apple-system, BlinkMacSystemFont, &quot;Segoe UI&quot;, Helvetica, Arial, sans-serif, &quot;Apple Color Emoji&quot;, &quot;Segoe UI Emoji&quot;; font-size: 16px;\">A dvd-ket csoportosíthatjuk aszerint, hogy milyen hosszú a címük. Amelyiknél a cím hosszúsága 10 karakter alatt van, az legyen Rövid, 10-20-ig Átlagos, 20 felett Hosszú. Hány Rövid, Átlagos, illetve Hosszú dvd-van összesen raktáron?</span>\n",
                "\n",
                "1. Az oszlopok neve legyen 'Cím hosszúság' és 'Darabszám"
            ],
            "metadata": {
                "azdata_cell_guid": "5fe65c1c-2479-45ac-ad03-ec99d12eae21"
            },
            "attachments": {}
        },
        {
            "cell_type": "code",
            "source": [
                ""
            ],
            "metadata": {
                "azdata_cell_guid": "924f2dde-f1c2-4def-a7f9-dbf4bace7735",
                "language": "sql"
            },
            "outputs": [],
            "execution_count": null
        },
        {
            "cell_type": "markdown",
            "source": [
                "7. <span style=\"color: rgb(36, 41, 47); font-family: -apple-system, BlinkMacSystemFont, &quot;Segoe UI&quot;, Helvetica, Arial, sans-serif, &quot;Apple Color Emoji&quot;, &quot;Segoe UI Emoji&quot;; font-size: 16px;\">Készítsünk listát arról, hogy melyik teremben hány óra van!</span>\n",
                "\n",
                "1. Jelenítsük meg a termek azonosítóit és a teremben tartott órák számát!\n",
                "2. Az oszlopokat nevezzük el értelemszerűen!\n",
                "3. Szűrjünk azokra a termekre, ahol az órák száma legalább 3!"
            ],
            "metadata": {
                "azdata_cell_guid": "3aeb6bf5-b111-40d5-92b2-9712ce335696"
            },
            "attachments": {}
        },
        {
            "cell_type": "code",
            "source": [
                ""
            ],
            "metadata": {
                "azdata_cell_guid": "3e89b651-f56f-4102-af52-30eb2bbe360d",
                "language": "sql"
            },
            "outputs": [],
            "execution_count": null
        },
        {
            "cell_type": "markdown",
            "source": [
                "8. <span style=\"color: rgb(36, 41, 47); font-family: -apple-system, BlinkMacSystemFont, &quot;Segoe UI&quot;, Helvetica, Arial, sans-serif, &quot;Apple Color Emoji&quot;, &quot;Segoe UI Emoji&quot;; font-size: 16px;\">Készítsünk lekérdezést, amely megadja, hogy minimálian és maximálisan hány kreditet ér egy tantárgy!</span>\n",
                "\n",
                "1. Az oszlopokat nevezzük el értelemszerűen!\n",
                "2. Ne vegyük figyelembe azokat a tantárgyakat, amelyek nevében az „alapjai” szó szerepel, vagy a tantárgy neve 10 karakternél rövidebb!"
            ],
            "metadata": {
                "azdata_cell_guid": "26a504dc-ff6a-439f-94c0-4580eca3eacf"
            },
            "attachments": {}
        },
        {
            "cell_type": "code",
            "source": [
                ""
            ],
            "metadata": {
                "azdata_cell_guid": "1cbb8aeb-78b5-4350-aa45-e3202fdab85b",
                "language": "sql"
            },
            "outputs": [],
            "execution_count": null
        },
        {
            "cell_type": "markdown",
            "source": [
                "9. <span style=\"color: rgb(36, 41, 47); font-family: -apple-system, BlinkMacSystemFont, &quot;Segoe UI&quot;, Helvetica, Arial, sans-serif, &quot;Apple Color Emoji&quot;, &quot;Segoe UI Emoji&quot;; font-size: 16px;\">A tapasztalat alapján a tanársegédeknek 8, az óraadóknak 10 órájuk van egy héten. A többiek annyi órát tartanak, amennyi az elvárt óraszámuk. Készítsünk lekérdezést, amely minden beosztáshoz megjeleníti, hogy hetente hány túlóra tartozik hozzá!</span>\n",
                "\n",
                "1. A lekérdezés csak a beosztások nevét és a heti túlórák számát jelenítse meg!"
            ],
            "metadata": {
                "azdata_cell_guid": "435e2860-2dd5-4877-90f4-34a43baeb53c"
            },
            "attachments": {}
        },
        {
            "cell_type": "code",
            "source": [
                ""
            ],
            "metadata": {
                "azdata_cell_guid": "ce846351-ddbe-4d8e-b8fb-2a92c73ac80b",
                "language": "sql"
            },
            "outputs": [],
            "execution_count": null
        },
        {
            "cell_type": "markdown",
            "source": [
                "10. <span style=\"font-weight: 600; color: rgb(36, 41, 47); font-family: -apple-system, BlinkMacSystemFont, &quot;Segoe UI&quot;, Helvetica, Arial, sans-serif, &quot;Apple Color Emoji&quot;, &quot;Segoe UI Emoji&quot;; font-size: 16px;\">Melyek azok az oktatók, akiknek nincs órájuk?</span>\n",
                "\n",
                "1. Csak az oktatók neve jelenjen meg!\n",
                "2. ÖTLET: használjunk LEFT JOIN-t, és szűrjünk azokra a rekordokra, ahol NULL érték van a JOIN utáni feltétel jobb oldalán!"
            ],
            "metadata": {
                "azdata_cell_guid": "217c5772-afe2-4a7c-b913-e3a3e09d6411"
            },
            "attachments": {}
        },
        {
            "cell_type": "code",
            "source": [
                ""
            ],
            "metadata": {
                "azdata_cell_guid": "a9cc0926-3dbd-4ed8-8179-1c39d64a0762",
                "language": "sql"
            },
            "outputs": [],
            "execution_count": null
        },
        {
            "cell_type": "markdown",
            "source": [
                "11. <span style=\"font-weight: 600; color: rgb(36, 41, 47); font-family: -apple-system, BlinkMacSystemFont, &quot;Segoe UI&quot;, Helvetica, Arial, sans-serif, &quot;Apple Color Emoji&quot;, &quot;Segoe UI Emoji&quot;; font-size: 16px;\">Készítsünk lekérdezést, amely részletesen megjeleníti az egyes órák fontosabb adatait, azaz</span>\n",
                "\n",
                "1. Az órák azonosítóit, a tanár nevét, a tantárgy nevét, a terem nevét és a kezdési időpontot!\n",
                "2. Az oszlopokat nevezzük el értelemszerűen!"
            ],
            "metadata": {
                "azdata_cell_guid": "d2340f5f-1614-473c-b937-85740d67f7c1"
            },
            "attachments": {}
        },
        {
            "cell_type": "code",
            "source": [
                ""
            ],
            "metadata": {
                "azdata_cell_guid": "e99c2c53-898f-4787-b0e6-182d106dc16f",
                "language": "sql"
            },
            "outputs": [],
            "execution_count": null
        },
        {
            "cell_type": "markdown",
            "source": [
                "12. <span style=\"color: rgb(36, 41, 47); font-family: -apple-system, BlinkMacSystemFont, &quot;Segoe UI&quot;, Helvetica, Arial, sans-serif, &quot;Apple Color Emoji&quot;, &quot;Segoe UI Emoji&quot;; font-size: 16px;\">Készítsünk listát, amely tartalmazza az egyes órák azonosítóit, és az órán oktatott tantárgy felelősének nevét!</span>\n",
                "\n",
                "1. Rendezzük a listát a tantárgyfelelős neve szerint csökkenő sorrendbe!"
            ],
            "metadata": {
                "azdata_cell_guid": "a765e9d6-58b3-4171-872a-78f3118fd6e3"
            },
            "attachments": {}
        },
        {
            "cell_type": "code",
            "source": [
                ""
            ],
            "metadata": {
                "azdata_cell_guid": "422e8127-b652-4d3a-bfd7-9b1637b5781e",
                "language": "sql"
            },
            "outputs": [],
            "execution_count": null
        },
        {
            "cell_type": "markdown",
            "source": [
                "13. <span style=\"color: rgb(36, 41, 47); font-family: -apple-system, BlinkMacSystemFont, &quot;Segoe UI&quot;, Helvetica, Arial, sans-serif, &quot;Apple Color Emoji&quot;, &quot;Segoe UI Emoji&quot;; font-size: 16px;\">Készítsünk listát, amely megjeleníti, hogy az Orak táblában lévő órák közül hányat tart Dr., illetve nem Dr. titulusú tanár!</span>\n",
                "\n",
                "1. Az oszlopokat nevezzük el értelemszerűen!"
            ],
            "metadata": {
                "azdata_cell_guid": "3f9237ae-f109-401c-acb9-31d75e73331b"
            },
            "attachments": {}
        },
        {
            "cell_type": "code",
            "source": [
                ""
            ],
            "metadata": {
                "azdata_cell_guid": "4b31bb89-cfbc-46b1-8639-85c462877786",
                "language": "sql"
            },
            "outputs": [],
            "execution_count": null
        },
        {
            "cell_type": "markdown",
            "source": [
                "14. <span style=\"color: rgb(36, 41, 47); font-family: -apple-system, BlinkMacSystemFont, &quot;Segoe UI&quot;, Helvetica, Arial, sans-serif, &quot;Apple Color Emoji&quot;, &quot;Segoe UI Emoji&quot;; font-size: 16px;\">Készítsünk listát arról, hogy beosztásonként hány óra szerepel az Orak táblában!</span>\n",
                "\n",
                "1. Jelenítsük meg a beosztások nevét és az órák számát!\n",
                "2. A listát szűrjük azokra a beosztásokra, ahol ez az óraszám 10 feletti!"
            ],
            "metadata": {
                "azdata_cell_guid": "f634e09a-85ef-4e70-8ec6-ef355dfddaa7"
            },
            "attachments": {}
        },
        {
            "cell_type": "code",
            "source": [
                ""
            ],
            "metadata": {
                "azdata_cell_guid": "88abc55b-2c78-495b-a72f-3f8f4eb5fe70",
                "language": "sql"
            },
            "outputs": [],
            "execution_count": null
        },
        {
            "cell_type": "markdown",
            "source": [
                "15. <span style=\"color: rgb(36, 41, 47); font-family: -apple-system, BlinkMacSystemFont, &quot;Segoe UI&quot;, Helvetica, Arial, sans-serif, &quot;Apple Color Emoji&quot;, &quot;Segoe UI Emoji&quot;; font-size: 16px;\">Melyek azok az órák, amelyek kezdési időpontja olyan sávba esik, amely a mostani időpont (óra:perc) után van?</span>\n",
                "\n",
                "1. Listázzuk az órák azonosítóit, valamint az órakezdés napját és időpontját!\n",
                "2. A listát rendezzük az időpont szerint növekvő sorrendbe!"
            ],
            "metadata": {
                "azdata_cell_guid": "4cbf2f0d-a65d-480a-8186-ccdb24498443"
            },
            "attachments": {}
        },
        {
            "cell_type": "code",
            "source": [
                ""
            ],
            "metadata": {
                "azdata_cell_guid": "c148aee8-bc85-40bf-b80a-a4898a6c05cb",
                "language": "sql"
            },
            "outputs": [],
            "execution_count": null
        }
    ]
}