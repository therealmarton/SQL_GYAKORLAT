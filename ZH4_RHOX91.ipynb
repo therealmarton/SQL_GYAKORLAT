{
    "metadata": {
        "kernelspec": {
            "name": "SQL",
            "display_name": "SQL",
            "language": "sql"
        },
        "language_info": {
            "name": "sql",
            "version": ""
        }
    },
    "nbformat_minor": 2,
    "nbformat": 4,
    "cells": [
        {
            "cell_type": "markdown",
            "source": [
                "1. Listázzuk azon vendégek nevét, email-címét és felhasználói nevét, akik egynél többször foglaltak!\n",
                "    \n",
                "    - Hagyjuk ki azokat a vendégeket, akik május hónapban születtek!"
            ],
            "metadata": {
                "azdata_cell_guid": "c327fe84-56c0-48a6-9ca5-bb4902a9ffcd"
            },
            "attachments": {}
        },
        {
            "cell_type": "code",
            "source": [
                "SELECT v.nev, v.email, v.usernev\r\n",
                "FROM Vendeg v\r\n",
                "JOIN Foglalas f ON v.usernev = f.ugyfel_fk\r\n",
                "WHERE MONTH(v.szul_dat) <> 5\r\n",
                "GROUP BY v.nev, v.email, v.usernev\r\n",
                "HAVING COUNT(f.foglalas_pk) > 1;"
            ],
            "metadata": {
                "azdata_cell_guid": "f2112f55-577f-4c79-9f32-856ccbc225ef",
                "language": "sql"
            },
            "outputs": [
                {
                    "output_type": "display_data",
                    "data": {
                        "text/html": "(169 rows affected)"
                    },
                    "metadata": {}
                },
                {
                    "output_type": "display_data",
                    "data": {
                        "text/html": "Total execution time: 00:00:00.054"
                    },
                    "metadata": {}
                },
                {
                    "output_type": "execute_result",
                    "metadata": {},
                    "execution_count": 1,
                    "data": {
                        "application/vnd.dataresource+json": {
                            "schema": {
                                "fields": [
                                    {
                                        "name": "nev"
                                    },
                                    {
                                        "name": "email"
                                    },
                                    {
                                        "name": "usernev"
                                    }
                                ]
                            },
                            "data": [
                                {
                                    "nev": "Kiss Ádám",
                                    "email": "ádám.kiss@mail.hu",
                                    "usernev": "adam1"
                                },
                                {
                                    "nev": "Barkóci Ádám",
                                    "email": "adam3@gmail.com",
                                    "usernev": "adam3"
                                },
                                {
                                    "nev": "Bieniek Ádám",
                                    "email": "ádám.bieniek@mail.hu",
                                    "usernev": "adam4"
                                },
                                {
                                    "nev": "Lengyel Ágnes",
                                    "email": "agnes@gmail.com",
                                    "usernev": "agnes"
                                },
                                {
                                    "nev": "Hartyánszky Ágnes",
                                    "email": "agnes3@gmail.com",
                                    "usernev": "agnes3"
                                },
                                {
                                    "nev": "Horváth Ágnes",
                                    "email": "AGNESH@gmail.com",
                                    "usernev": "AGNESH"
                                },
                                {
                                    "nev": "Kovács Ágnes",
                                    "email": "AGNESK@gmail.com",
                                    "usernev": "AGNESK"
                                },
                                {
                                    "nev": "Bíró Ákos",
                                    "email": "ákos.bíró@mail.hu",
                                    "usernev": "akos"
                                },
                                {
                                    "nev": "Dunai Aladár",
                                    "email": "aladár.dunai@mail.hu",
                                    "usernev": "aladar"
                                },
                                {
                                    "nev": "Bagóczki Alexandra",
                                    "email": "alexandra.bagóczki@mail.hu",
                                    "usernev": "alexandra"
                                },
                                {
                                    "nev": "Tóth András",
                                    "email": "andrás.tóth@mail.hu",
                                    "usernev": "andras2"
                                },
                                {
                                    "nev": "Molnár András",
                                    "email": "andrás.molnár@mail.hu",
                                    "usernev": "andras21"
                                },
                                {
                                    "nev": "Vígh András",
                                    "email": "andrás.vígh@mail.hu",
                                    "usernev": "andras3"
                                },
                                {
                                    "nev": "Back András",
                                    "email": "andras4@gmail.com",
                                    "usernev": "andras4"
                                },
                                {
                                    "nev": "Komjáti András",
                                    "email": "andras41@gmail.com",
                                    "usernev": "andras41"
                                },
                                {
                                    "nev": "Kiss Andrea",
                                    "email": "andrea.kiss@mail.hu",
                                    "usernev": "andrea"
                                },
                                {
                                    "nev": "Tornyos Andrea",
                                    "email": "ANDREAT@gmail.com",
                                    "usernev": "ANDREAT"
                                },
                                {
                                    "nev": "Pivarcsi Anett",
                                    "email": "anett.pivarcsi@mail.hu",
                                    "usernev": "anett3"
                                },
                                {
                                    "nev": "Tóth Anikó",
                                    "email": "aniko@gmail.com",
                                    "usernev": "aniko"
                                },
                                {
                                    "nev": "Böröcz Anikó",
                                    "email": "aniko4@gmail.com",
                                    "usernev": "aniko4"
                                },
                                {
                                    "nev": "Simon Anikó",
                                    "email": "ANIKOS@gmail.com",
                                    "usernev": "ANIKOS"
                                },
                                {
                                    "nev": "Hamvay-Kovács Anita",
                                    "email": "anita.hamvay-kovács@mail.hu",
                                    "usernev": "anita"
                                },
                                {
                                    "nev": "Szűcs Annamária",
                                    "email": "annamária.szűcs@mail.hu",
                                    "usernev": "annamaria1"
                                },
                                {
                                    "nev": "Regős Annamária",
                                    "email": "ANNAMARIAR@gmail.com",
                                    "usernev": "ANNAMARIAR"
                                },
                                {
                                    "nev": "Jakab Áron",
                                    "email": "aron2@gmail.com",
                                    "usernev": "aron2"
                                },
                                {
                                    "nev": "Kelemen Áron",
                                    "email": "áron.kelemen@mail.hu",
                                    "usernev": "ARONK"
                                },
                                {
                                    "nev": "Ötvös Árpád",
                                    "email": "árpád.ötvös@mail.hu",
                                    "usernev": "arpad2"
                                },
                                {
                                    "nev": "Móricz Árpád",
                                    "email": "árpád.móricz@mail.hu",
                                    "usernev": "ARPADM"
                                },
                                {
                                    "nev": "Csóti Attila",
                                    "email": "attila@gmail.com",
                                    "usernev": "attila"
                                },
                                {
                                    "nev": "Gulyás Attila",
                                    "email": "attila.gulyás@mail.hu",
                                    "usernev": "attila1"
                                },
                                {
                                    "nev": "Baróti Attila",
                                    "email": "attila.baróti@mail.hu",
                                    "usernev": "attila4"
                                },
                                {
                                    "nev": "Bozsik Balázs",
                                    "email": "balázs.bozsik@mail.hu",
                                    "usernev": "balazs1"
                                },
                                {
                                    "nev": "Szűcs Balázs",
                                    "email": "balázs.szűcs@mail.hu",
                                    "usernev": "balazs2"
                                },
                                {
                                    "nev": "Bakódy Balázs",
                                    "email": "balazs3@gmail.com",
                                    "usernev": "balazs3"
                                },
                                {
                                    "nev": "Horváth Bálint",
                                    "email": "balint@gmail.com",
                                    "usernev": "balint"
                                },
                                {
                                    "nev": "Molnár Bálint",
                                    "email": "balint1@gmail.com",
                                    "usernev": "balint1"
                                },
                                {
                                    "nev": "Vukasinovity Bálint",
                                    "email": "balint2@gmail.com",
                                    "usernev": "balint2"
                                },
                                {
                                    "nev": "Endresz Bálint",
                                    "email": "bálint.endresz@mail.hu",
                                    "usernev": "balu"
                                },
                                {
                                    "nev": "Bagi Beáta",
                                    "email": "beáta.bagi@mail.hu",
                                    "usernev": "beata4"
                                },
                                {
                                    "nev": "Kerényi Beatrix",
                                    "email": "beatrix.kerényi@mail.hu",
                                    "usernev": "BEATRIXK"
                                },
                                {
                                    "nev": "Szekendi Beatrix",
                                    "email": "beatrix.szekendi@mail.hu",
                                    "usernev": "BEATRIXS"
                                },
                                {
                                    "nev": "Farkas Béla",
                                    "email": "BELAF@gmail.com",
                                    "usernev": "BELAF"
                                },
                                {
                                    "nev": "Győrffy Bence",
                                    "email": "bence@gmail.com",
                                    "usernev": "bence"
                                },
                                {
                                    "nev": "Bajusz Bence",
                                    "email": "bence.bajusz@mail.hu",
                                    "usernev": "BENCEB"
                                },
                                {
                                    "nev": "Simon Bernadett",
                                    "email": "bernadett1@gmail.com",
                                    "usernev": "bernadett1"
                                },
                                {
                                    "nev": "Kovács Bernadett",
                                    "email": "bernadett.kovács@mail.hu",
                                    "usernev": "bernadett2"
                                },
                                {
                                    "nev": "Orbán Bernadett",
                                    "email": "bernadett.orbán@mail.hu",
                                    "usernev": "BERNADETTO"
                                },
                                {
                                    "nev": "Csiger Bertalan",
                                    "email": "bertalan@gmail.com",
                                    "usernev": "bertalan"
                                },
                                {
                                    "nev": "Székely Brigitta",
                                    "email": "brigitta.székely@mail.hu",
                                    "usernev": "brigitta"
                                },
                                {
                                    "nev": "Nagymihály Csongor",
                                    "email": "csongor.nagymihály@mail.hu",
                                    "usernev": "csongor3"
                                },
                                {
                                    "nev": "Vörös Dániel",
                                    "email": "daniel@gmail.com",
                                    "usernev": "dani"
                                },
                                {
                                    "nev": "Rácz Dániel",
                                    "email": "dániel.rácz@mail.hu",
                                    "usernev": "daniel"
                                },
                                {
                                    "nev": "Keszler Dániel",
                                    "email": "dániel.keszler@mail.hu",
                                    "usernev": "daniel1"
                                },
                                {
                                    "nev": "Ambrus Dávid",
                                    "email": "david@gmail.com",
                                    "usernev": "david"
                                },
                                {
                                    "nev": "Sobják Dávid",
                                    "email": "david1@gmail.com",
                                    "usernev": "david1"
                                },
                                {
                                    "nev": "Barna Debóra",
                                    "email": "debóra.barna@mail.hu",
                                    "usernev": "debora"
                                },
                                {
                                    "nev": "Tömböly Dénes",
                                    "email": "denes@gmail.com",
                                    "usernev": "denes"
                                },
                                {
                                    "nev": "Bittmann Edit",
                                    "email": "edit.bittmann@mail.hu",
                                    "usernev": "edit"
                                },
                                {
                                    "nev": "Kuruc Emese",
                                    "email": "emese.kuruc@mail.hu",
                                    "usernev": "emese"
                                },
                                {
                                    "nev": "Balogh Eszter",
                                    "email": "eszter.balogh@mail.hu",
                                    "usernev": "eszter2"
                                },
                                {
                                    "nev": "Fülöp Eszter",
                                    "email": "eszter.fülöp@mail.hu",
                                    "usernev": "eszter4"
                                },
                                {
                                    "nev": "Érsek Eszter",
                                    "email": "eszter.érsek@mail.hu",
                                    "usernev": "ESZTERE"
                                },
                                {
                                    "nev": "Enyedi Éva",
                                    "email": "eva@gmail.com",
                                    "usernev": "eva"
                                },
                                {
                                    "nev": "Perlinger Éva",
                                    "email": "eva2@gmail.com",
                                    "usernev": "eva2"
                                },
                                {
                                    "nev": "Viktor Éva",
                                    "email": "EVAV@gmail.com",
                                    "usernev": "EVAV"
                                },
                                {
                                    "nev": "Orosz Ferenc",
                                    "email": "ferenc.orosz@mail.hu",
                                    "usernev": "ferenc1"
                                },
                                {
                                    "nev": "Frank Fruzsina",
                                    "email": "fruzsina4@gmail.com",
                                    "usernev": "fruzsina4"
                                },
                                {
                                    "nev": "Köves Gábor",
                                    "email": "gabor1@gmail.com",
                                    "usernev": "gabor1"
                                },
                                {
                                    "nev": "Telek Gábor",
                                    "email": "gábor.telek@mail.hu",
                                    "usernev": "gabor4"
                                },
                                {
                                    "nev": "Nagy Gabriella",
                                    "email": "gabriella1@gmail.com",
                                    "usernev": "gabriella1"
                                },
                                {
                                    "nev": "Nyíri Georgij",
                                    "email": "georgij.nyíri@mail.hu",
                                    "usernev": "georgij"
                                },
                                {
                                    "nev": "Bárci Gusztáv",
                                    "email": "gusztav@gmail.com",
                                    "usernev": "gusztav"
                                },
                                {
                                    "nev": "Kornseé Gyöngyi",
                                    "email": "gyöngyi.kornseé@mail.hu",
                                    "usernev": "GYONGYIK"
                                },
                                {
                                    "nev": "Oroszi György",
                                    "email": "GYORGYO@gmail.com",
                                    "usernev": "GYORGYO"
                                },
                                {
                                    "nev": "Nádudvari Henrik",
                                    "email": "henrik.nádudvari@mail.hu",
                                    "usernev": "henrik3"
                                },
                                {
                                    "nev": "Andor Ibolya",
                                    "email": "ibolya.andor@mail.hu",
                                    "usernev": "IBOLYAA"
                                },
                                {
                                    "nev": "Bosnyák Ilona",
                                    "email": "ilona3@gmail.com",
                                    "usernev": "ilona3"
                                },
                                {
                                    "nev": "Búza Imre",
                                    "email": "imre.búza@mail.hu",
                                    "usernev": "imre"
                                },
                                {
                                    "nev": "Papp Imre",
                                    "email": "imre.papp@mail.hu",
                                    "usernev": "imre1"
                                },
                                {
                                    "nev": "Soós István",
                                    "email": "istvan@gmail.com",
                                    "usernev": "istvan"
                                },
                                {
                                    "nev": "Vizi István",
                                    "email": "istván.vizi@mail.hu",
                                    "usernev": "istvan1"
                                },
                                {
                                    "nev": "Varga István",
                                    "email": "ISTVANV@gmail.com",
                                    "usernev": "ISTVANV"
                                },
                                {
                                    "nev": "Harangozó János",
                                    "email": "janos3@gmail.com",
                                    "usernev": "janos3"
                                },
                                {
                                    "nev": "Giliga János",
                                    "email": "JANOSG@gmail.com",
                                    "usernev": "JANOSG"
                                },
                                {
                                    "nev": "Pálinkás János",
                                    "email": "JANOSP@gmail.com",
                                    "usernev": "JANOSP"
                                },
                                {
                                    "nev": "Gergely József",
                                    "email": "jozsef@gmail.com",
                                    "usernev": "jozsef"
                                },
                                {
                                    "nev": "Vajda József",
                                    "email": "józsef.vajda@mail.hu",
                                    "usernev": "jozsef2"
                                },
                                {
                                    "nev": "Hídasi Judit",
                                    "email": "JUDITH@gmail.com",
                                    "usernev": "JUDITH"
                                },
                                {
                                    "nev": "Tóth Júlia",
                                    "email": "julia@gmail.com",
                                    "usernev": "julia"
                                },
                                {
                                    "nev": "Nagy Júlia",
                                    "email": "julia4@gmail.com",
                                    "usernev": "julia4"
                                },
                                {
                                    "nev": "Szabó Julianna",
                                    "email": "julianna4@gmail.com",
                                    "usernev": "julianna4"
                                },
                                {
                                    "nev": "Gondos Katalin",
                                    "email": "katalin.gondos@mail.hu",
                                    "usernev": "kata"
                                },
                                {
                                    "nev": "Horváth Katalin",
                                    "email": "katalin.horváth@mail.hu",
                                    "usernev": "katalin"
                                },
                                {
                                    "nev": "Kertész Katalin",
                                    "email": "katalin4@gmail.com",
                                    "usernev": "katalin4"
                                },
                                {
                                    "nev": "Kovács Katalin",
                                    "email": "katalin.kovács@mail.hu",
                                    "usernev": "katka"
                                },
                                {
                                    "nev": "Bakó Klaudia",
                                    "email": "klaudia.bakó@mail.hu",
                                    "usernev": "klaudia2"
                                },
                                {
                                    "nev": "Lukács Kornél",
                                    "email": "kornél.lukács@mail.hu",
                                    "usernev": "kornel4"
                                },
                                {
                                    "nev": "Poprádi Kristóf",
                                    "email": "kristof4@gmail.com",
                                    "usernev": "kristof4"
                                },
                                {
                                    "nev": "Horváth Krisztina",
                                    "email": "kriszti@gmail.com",
                                    "usernev": "kriszti"
                                },
                                {
                                    "nev": "Czérna Krisztián",
                                    "email": "krisztián.czérna@mail.hu",
                                    "usernev": "krisztian4"
                                },
                                {
                                    "nev": "Bori Krisztina",
                                    "email": "krisztina.bori@mail.hu",
                                    "usernev": "krisztina1"
                                },
                                {
                                    "nev": "Gyárfás Krisztina",
                                    "email": "KRISZTINAG@gmail.com",
                                    "usernev": "KRISZTINAG"
                                },
                                {
                                    "nev": "Kiss Lajos",
                                    "email": "lajos.kiss@mail.hu",
                                    "usernev": "lajos"
                                },
                                {
                                    "nev": "Nagymihály Lajos",
                                    "email": "lajos.nagymihály@mail.hu",
                                    "usernev": "lala"
                                },
                                {
                                    "nev": "Móra László",
                                    "email": "lászló.móra@mail.hu",
                                    "usernev": "laszlo2"
                                },
                                {
                                    "nev": "Antal László",
                                    "email": "lászló.antal@mail.hu",
                                    "usernev": "LASZLOA"
                                },
                                {
                                    "nev": "Nagy László",
                                    "email": "lászló.nagy@mail.hu",
                                    "usernev": "LASZLON"
                                },
                                {
                                    "nev": "Baráth Mária",
                                    "email": "mária.baráth@mail.hu",
                                    "usernev": "maria1"
                                },
                                {
                                    "nev": "Kispál Márk",
                                    "email": "márk.kispál@mail.hu",
                                    "usernev": "mark"
                                },
                                {
                                    "nev": "Horváth Márk",
                                    "email": "márk.horváth@mail.hu",
                                    "usernev": "MARKH"
                                },
                                {
                                    "nev": "Kalacsi Márton",
                                    "email": "marton@gmail.com",
                                    "usernev": "marton"
                                },
                                {
                                    "nev": "Koza Máté",
                                    "email": "máté.koza@mail.hu",
                                    "usernev": "MATEK"
                                },
                                {
                                    "nev": "Botka Mátyás",
                                    "email": "matyas2@gmail.com",
                                    "usernev": "matyas2"
                                },
                                {
                                    "nev": "Szilágyi Mátyás",
                                    "email": "mátyás.szilágyi@mail.hu",
                                    "usernev": "MATYASS"
                                },
                                {
                                    "nev": "Juhász Mihály",
                                    "email": "mihály.juhász@mail.hu",
                                    "usernev": "MIHALYJ"
                                },
                                {
                                    "nev": "Gondos Miklós",
                                    "email": "miklos2@gmail.com",
                                    "usernev": "miklos2"
                                },
                                {
                                    "nev": "Balla Miklós",
                                    "email": "miklós.balla@mail.hu",
                                    "usernev": "MIKLOSB"
                                },
                                {
                                    "nev": "Mohos Mónika",
                                    "email": "mónika.mohos@mail.hu",
                                    "usernev": "MONIKAM"
                                },
                                {
                                    "nev": "Fő Nándor",
                                    "email": "nándor.fő@mail.hu",
                                    "usernev": "NANDORF"
                                },
                                {
                                    "nev": "Horváth Nikolett",
                                    "email": "nikolett3@gmail.com",
                                    "usernev": "nikolett3"
                                },
                                {
                                    "nev": "Kő Nikoletta",
                                    "email": "nikoletta4@gmail.com",
                                    "usernev": "nikoletta4"
                                },
                                {
                                    "nev": "Tatár Nikoletta",
                                    "email": "nikoletta.tatár@mail.hu",
                                    "usernev": "NIKOLETTAT"
                                },
                                {
                                    "nev": "Szűcs Norbert",
                                    "email": "norbert@gmail.com",
                                    "usernev": "norbert"
                                },
                                {
                                    "nev": "Hegedűs Norbert",
                                    "email": "norbert.hegedűs@mail.hu",
                                    "usernev": "norbert2"
                                },
                                {
                                    "nev": "Mile Norbert",
                                    "email": "norbert4@gmail.com",
                                    "usernev": "norbert4"
                                },
                                {
                                    "nev": "Béres Norbert",
                                    "email": "norbert5@gmail.com",
                                    "usernev": "norbert5"
                                },
                                {
                                    "nev": "Barabás Pál",
                                    "email": "pál.barabás@mail.hu",
                                    "usernev": "pal"
                                },
                                {
                                    "nev": "Kozma Péter",
                                    "email": "peter1@gmail.com",
                                    "usernev": "peter1"
                                },
                                {
                                    "nev": "Bozsó Péter",
                                    "email": "peter2@gmail.com",
                                    "usernev": "peter2"
                                },
                                {
                                    "nev": "Szalai Péter",
                                    "email": "peter3@gmail.com",
                                    "usernev": "peter3"
                                },
                                {
                                    "nev": "Bíró Péter",
                                    "email": "péter.bíró@mail.hu",
                                    "usernev": "peter4"
                                },
                                {
                                    "nev": "Berendi Péter",
                                    "email": "péter.berendi@mail.hu",
                                    "usernev": "PETERB"
                                },
                                {
                                    "nev": "Palágyi Polla",
                                    "email": "polla@gmail.com",
                                    "usernev": "polla"
                                },
                                {
                                    "nev": "Rácz Rajmond",
                                    "email": "rajmond.rácz@mail.hu",
                                    "usernev": "rajmond4"
                                },
                                {
                                    "nev": "Szikszai Réka",
                                    "email": "réka.szikszai@mail.hu",
                                    "usernev": "reka4"
                                },
                                {
                                    "nev": "Szirmai Renáta",
                                    "email": "RENATAS@gmail.com",
                                    "usernev": "RENATAS"
                                },
                                {
                                    "nev": "Patay Róbert",
                                    "email": "robert2@gmail.com",
                                    "usernev": "robert2"
                                },
                                {
                                    "nev": "Iván Róbert",
                                    "email": "róbert.iván@mail.hu",
                                    "usernev": "ROBERTI"
                                },
                                {
                                    "nev": "Tóth Roland",
                                    "email": "roland@gmail.com",
                                    "usernev": "roland"
                                },
                                {
                                    "nev": "Ferencz Roland",
                                    "email": "roland.ferencz@mail.hu",
                                    "usernev": "roland1"
                                },
                                {
                                    "nev": "Bucskó Róza",
                                    "email": "roza2@gmail.com",
                                    "usernev": "roza2"
                                },
                                {
                                    "nev": "Karasz Sándor",
                                    "email": "sandor@gmail.com",
                                    "usernev": "sandor"
                                },
                                {
                                    "nev": "Farkas Sándor",
                                    "email": "sándor.farkas@mail.hu",
                                    "usernev": "sandor3"
                                },
                                {
                                    "nev": "Nagy Sándor",
                                    "email": "sandor4@gmail.com",
                                    "usernev": "sandor4"
                                },
                                {
                                    "nev": "Farkas Sára",
                                    "email": "sára.farkas@mail.hu",
                                    "usernev": "sara"
                                },
                                {
                                    "nev": "Foltényi Sebastián",
                                    "email": "SEBASTIANF@gmail.com",
                                    "usernev": "SEBASTIANF"
                                },
                                {
                                    "nev": "Rab Sebestyén",
                                    "email": "sebestyen@gmail.com",
                                    "usernev": "sebestyen"
                                },
                                {
                                    "nev": "Miklós Szabolcs",
                                    "email": "szabolcs.miklós@mail.hu",
                                    "usernev": "SZABOLCSM"
                                },
                                {
                                    "nev": "Szalai Szilárd",
                                    "email": "szilárd.szalai@mail.hu",
                                    "usernev": "SZILARDS"
                                },
                                {
                                    "nev": "Tari Szilvia",
                                    "email": "szilvia.tari@mail.hu",
                                    "usernev": "szilvia1"
                                },
                                {
                                    "nev": "Miklós Tamara",
                                    "email": "tamara.miklós@mail.hu",
                                    "usernev": "tamara2"
                                },
                                {
                                    "nev": "Antal Tamás",
                                    "email": "tamás.antal@mail.hu",
                                    "usernev": "tamas"
                                },
                                {
                                    "nev": "Fényes Tamás",
                                    "email": "TAMASF@gmail.com",
                                    "usernev": "TAMASF"
                                },
                                {
                                    "nev": "Gombos Tibor",
                                    "email": "tibor.gombos@mail.hu",
                                    "usernev": "tibor"
                                },
                                {
                                    "nev": "Kazy Tihamér",
                                    "email": "tihamér.kazy@mail.hu",
                                    "usernev": "tihamer"
                                },
                                {
                                    "nev": "Dusha Tímea",
                                    "email": "tímea.dusha@mail.hu",
                                    "usernev": "timea2"
                                },
                                {
                                    "nev": "Turcsik Tünde",
                                    "email": "tunde@gmail.com",
                                    "usernev": "tunde"
                                },
                                {
                                    "nev": "Feró Valentin",
                                    "email": "valentin.feró@mail.hu",
                                    "usernev": "valentin"
                                },
                                {
                                    "nev": "Tankó Veronika",
                                    "email": "veronika4@gmail.com",
                                    "usernev": "veronika4"
                                },
                                {
                                    "nev": "Boros Vivien",
                                    "email": "vivien3@gmail.com",
                                    "usernev": "vivien3"
                                },
                                {
                                    "nev": "Fodor Zoltán",
                                    "email": "zoltán.fodor@mail.hu",
                                    "usernev": "zoltan"
                                },
                                {
                                    "nev": "Pintér Zoltán",
                                    "email": "zoltán.pintér@mail.hu",
                                    "usernev": "ZOLTANP"
                                },
                                {
                                    "nev": "Tóth Zoltán",
                                    "email": "zoltán.tóth@mail.hu",
                                    "usernev": "ZOLTANT"
                                },
                                {
                                    "nev": "Molnár Zsófi",
                                    "email": "zsofi1@gmail.com",
                                    "usernev": "zsofi1"
                                },
                                {
                                    "nev": "Józsa Zsolt",
                                    "email": "ZSOLTJ@gmail.com",
                                    "usernev": "ZSOLTJ"
                                },
                                {
                                    "nev": "Pusztai Zsuzsanna",
                                    "email": "zsuzsanna@gmail.com",
                                    "usernev": "zsuzsa"
                                },
                                {
                                    "nev": "Varsányi Zsuzsa",
                                    "email": "zsuzsa.varsányi@mail.hu",
                                    "usernev": "zsuzsa3"
                                },
                                {
                                    "nev": "Barta Zsuzsanna",
                                    "email": "zsuzsanna.barta@mail.hu",
                                    "usernev": "zsuzsanna"
                                },
                                {
                                    "nev": "Vajda Zsuzsa",
                                    "email": "zsuzsa.vajda@mail.hu",
                                    "usernev": "ZSUZSAV"
                                }
                            ]
                        },
                        "text/html": [
                            "<table>",
                            "<tr><th>nev</th><th>email</th><th>usernev</th></tr>",
                            "<tr><td>Kiss Ádám</td><td>ádám.kiss@mail.hu</td><td>adam1</td></tr>",
                            "<tr><td>Barkóci Ádám</td><td>adam3@gmail.com</td><td>adam3</td></tr>",
                            "<tr><td>Bieniek Ádám</td><td>ádám.bieniek@mail.hu</td><td>adam4</td></tr>",
                            "<tr><td>Lengyel Ágnes</td><td>agnes@gmail.com</td><td>agnes</td></tr>",
                            "<tr><td>Hartyánszky Ágnes</td><td>agnes3@gmail.com</td><td>agnes3</td></tr>",
                            "<tr><td>Horváth Ágnes</td><td>AGNESH@gmail.com</td><td>AGNESH</td></tr>",
                            "<tr><td>Kovács Ágnes</td><td>AGNESK@gmail.com</td><td>AGNESK</td></tr>",
                            "<tr><td>Bíró Ákos</td><td>ákos.bíró@mail.hu</td><td>akos</td></tr>",
                            "<tr><td>Dunai Aladár</td><td>aladár.dunai@mail.hu</td><td>aladar</td></tr>",
                            "<tr><td>Bagóczki Alexandra</td><td>alexandra.bagóczki@mail.hu</td><td>alexandra</td></tr>",
                            "<tr><td>Tóth András</td><td>andrás.tóth@mail.hu</td><td>andras2</td></tr>",
                            "<tr><td>Molnár András</td><td>andrás.molnár@mail.hu</td><td>andras21</td></tr>",
                            "<tr><td>Vígh András</td><td>andrás.vígh@mail.hu</td><td>andras3</td></tr>",
                            "<tr><td>Back András</td><td>andras4@gmail.com</td><td>andras4</td></tr>",
                            "<tr><td>Komjáti András</td><td>andras41@gmail.com</td><td>andras41</td></tr>",
                            "<tr><td>Kiss Andrea</td><td>andrea.kiss@mail.hu</td><td>andrea</td></tr>",
                            "<tr><td>Tornyos Andrea</td><td>ANDREAT@gmail.com</td><td>ANDREAT</td></tr>",
                            "<tr><td>Pivarcsi Anett</td><td>anett.pivarcsi@mail.hu</td><td>anett3</td></tr>",
                            "<tr><td>Tóth Anikó</td><td>aniko@gmail.com</td><td>aniko</td></tr>",
                            "<tr><td>Böröcz Anikó</td><td>aniko4@gmail.com</td><td>aniko4</td></tr>",
                            "<tr><td>Simon Anikó</td><td>ANIKOS@gmail.com</td><td>ANIKOS</td></tr>",
                            "<tr><td>Hamvay-Kovács Anita</td><td>anita.hamvay-kovács@mail.hu</td><td>anita</td></tr>",
                            "<tr><td>Szűcs Annamária</td><td>annamária.szűcs@mail.hu</td><td>annamaria1</td></tr>",
                            "<tr><td>Regős Annamária</td><td>ANNAMARIAR@gmail.com</td><td>ANNAMARIAR</td></tr>",
                            "<tr><td>Jakab Áron</td><td>aron2@gmail.com</td><td>aron2</td></tr>",
                            "<tr><td>Kelemen Áron</td><td>áron.kelemen@mail.hu</td><td>ARONK</td></tr>",
                            "<tr><td>Ötvös Árpád</td><td>árpád.ötvös@mail.hu</td><td>arpad2</td></tr>",
                            "<tr><td>Móricz Árpád</td><td>árpád.móricz@mail.hu</td><td>ARPADM</td></tr>",
                            "<tr><td>Csóti Attila</td><td>attila@gmail.com</td><td>attila</td></tr>",
                            "<tr><td>Gulyás Attila</td><td>attila.gulyás@mail.hu</td><td>attila1</td></tr>",
                            "<tr><td>Baróti Attila</td><td>attila.baróti@mail.hu</td><td>attila4</td></tr>",
                            "<tr><td>Bozsik Balázs</td><td>balázs.bozsik@mail.hu</td><td>balazs1</td></tr>",
                            "<tr><td>Szűcs Balázs</td><td>balázs.szűcs@mail.hu</td><td>balazs2</td></tr>",
                            "<tr><td>Bakódy Balázs</td><td>balazs3@gmail.com</td><td>balazs3</td></tr>",
                            "<tr><td>Horváth Bálint</td><td>balint@gmail.com</td><td>balint</td></tr>",
                            "<tr><td>Molnár Bálint</td><td>balint1@gmail.com</td><td>balint1</td></tr>",
                            "<tr><td>Vukasinovity Bálint</td><td>balint2@gmail.com</td><td>balint2</td></tr>",
                            "<tr><td>Endresz Bálint</td><td>bálint.endresz@mail.hu</td><td>balu</td></tr>",
                            "<tr><td>Bagi Beáta</td><td>beáta.bagi@mail.hu</td><td>beata4</td></tr>",
                            "<tr><td>Kerényi Beatrix</td><td>beatrix.kerényi@mail.hu</td><td>BEATRIXK</td></tr>",
                            "<tr><td>Szekendi Beatrix</td><td>beatrix.szekendi@mail.hu</td><td>BEATRIXS</td></tr>",
                            "<tr><td>Farkas Béla</td><td>BELAF@gmail.com</td><td>BELAF</td></tr>",
                            "<tr><td>Győrffy Bence</td><td>bence@gmail.com</td><td>bence</td></tr>",
                            "<tr><td>Bajusz Bence</td><td>bence.bajusz@mail.hu</td><td>BENCEB</td></tr>",
                            "<tr><td>Simon Bernadett</td><td>bernadett1@gmail.com</td><td>bernadett1</td></tr>",
                            "<tr><td>Kovács Bernadett</td><td>bernadett.kovács@mail.hu</td><td>bernadett2</td></tr>",
                            "<tr><td>Orbán Bernadett</td><td>bernadett.orbán@mail.hu</td><td>BERNADETTO</td></tr>",
                            "<tr><td>Csiger Bertalan</td><td>bertalan@gmail.com</td><td>bertalan</td></tr>",
                            "<tr><td>Székely Brigitta</td><td>brigitta.székely@mail.hu</td><td>brigitta</td></tr>",
                            "<tr><td>Nagymihály Csongor</td><td>csongor.nagymihály@mail.hu</td><td>csongor3</td></tr>",
                            "<tr><td>Vörös Dániel</td><td>daniel@gmail.com</td><td>dani</td></tr>",
                            "<tr><td>Rácz Dániel</td><td>dániel.rácz@mail.hu</td><td>daniel</td></tr>",
                            "<tr><td>Keszler Dániel</td><td>dániel.keszler@mail.hu</td><td>daniel1</td></tr>",
                            "<tr><td>Ambrus Dávid</td><td>david@gmail.com</td><td>david</td></tr>",
                            "<tr><td>Sobják Dávid</td><td>david1@gmail.com</td><td>david1</td></tr>",
                            "<tr><td>Barna Debóra</td><td>debóra.barna@mail.hu</td><td>debora</td></tr>",
                            "<tr><td>Tömböly Dénes</td><td>denes@gmail.com</td><td>denes</td></tr>",
                            "<tr><td>Bittmann Edit</td><td>edit.bittmann@mail.hu</td><td>edit</td></tr>",
                            "<tr><td>Kuruc Emese</td><td>emese.kuruc@mail.hu</td><td>emese</td></tr>",
                            "<tr><td>Balogh Eszter</td><td>eszter.balogh@mail.hu</td><td>eszter2</td></tr>",
                            "<tr><td>Fülöp Eszter</td><td>eszter.fülöp@mail.hu</td><td>eszter4</td></tr>",
                            "<tr><td>Érsek Eszter</td><td>eszter.érsek@mail.hu</td><td>ESZTERE</td></tr>",
                            "<tr><td>Enyedi Éva</td><td>eva@gmail.com</td><td>eva</td></tr>",
                            "<tr><td>Perlinger Éva</td><td>eva2@gmail.com</td><td>eva2</td></tr>",
                            "<tr><td>Viktor Éva</td><td>EVAV@gmail.com</td><td>EVAV</td></tr>",
                            "<tr><td>Orosz Ferenc</td><td>ferenc.orosz@mail.hu</td><td>ferenc1</td></tr>",
                            "<tr><td>Frank Fruzsina</td><td>fruzsina4@gmail.com</td><td>fruzsina4</td></tr>",
                            "<tr><td>Köves Gábor</td><td>gabor1@gmail.com</td><td>gabor1</td></tr>",
                            "<tr><td>Telek Gábor</td><td>gábor.telek@mail.hu</td><td>gabor4</td></tr>",
                            "<tr><td>Nagy Gabriella</td><td>gabriella1@gmail.com</td><td>gabriella1</td></tr>",
                            "<tr><td>Nyíri Georgij</td><td>georgij.nyíri@mail.hu</td><td>georgij</td></tr>",
                            "<tr><td>Bárci Gusztáv</td><td>gusztav@gmail.com</td><td>gusztav</td></tr>",
                            "<tr><td>Kornseé Gyöngyi</td><td>gyöngyi.kornseé@mail.hu</td><td>GYONGYIK</td></tr>",
                            "<tr><td>Oroszi György</td><td>GYORGYO@gmail.com</td><td>GYORGYO</td></tr>",
                            "<tr><td>Nádudvari Henrik</td><td>henrik.nádudvari@mail.hu</td><td>henrik3</td></tr>",
                            "<tr><td>Andor Ibolya</td><td>ibolya.andor@mail.hu</td><td>IBOLYAA</td></tr>",
                            "<tr><td>Bosnyák Ilona</td><td>ilona3@gmail.com</td><td>ilona3</td></tr>",
                            "<tr><td>Búza Imre</td><td>imre.búza@mail.hu</td><td>imre</td></tr>",
                            "<tr><td>Papp Imre</td><td>imre.papp@mail.hu</td><td>imre1</td></tr>",
                            "<tr><td>Soós István</td><td>istvan@gmail.com</td><td>istvan</td></tr>",
                            "<tr><td>Vizi István</td><td>istván.vizi@mail.hu</td><td>istvan1</td></tr>",
                            "<tr><td>Varga István</td><td>ISTVANV@gmail.com</td><td>ISTVANV</td></tr>",
                            "<tr><td>Harangozó János</td><td>janos3@gmail.com</td><td>janos3</td></tr>",
                            "<tr><td>Giliga János</td><td>JANOSG@gmail.com</td><td>JANOSG</td></tr>",
                            "<tr><td>Pálinkás János</td><td>JANOSP@gmail.com</td><td>JANOSP</td></tr>",
                            "<tr><td>Gergely József</td><td>jozsef@gmail.com</td><td>jozsef</td></tr>",
                            "<tr><td>Vajda József</td><td>józsef.vajda@mail.hu</td><td>jozsef2</td></tr>",
                            "<tr><td>Hídasi Judit</td><td>JUDITH@gmail.com</td><td>JUDITH</td></tr>",
                            "<tr><td>Tóth Júlia</td><td>julia@gmail.com</td><td>julia</td></tr>",
                            "<tr><td>Nagy Júlia</td><td>julia4@gmail.com</td><td>julia4</td></tr>",
                            "<tr><td>Szabó Julianna</td><td>julianna4@gmail.com</td><td>julianna4</td></tr>",
                            "<tr><td>Gondos Katalin</td><td>katalin.gondos@mail.hu</td><td>kata</td></tr>",
                            "<tr><td>Horváth Katalin</td><td>katalin.horváth@mail.hu</td><td>katalin</td></tr>",
                            "<tr><td>Kertész Katalin</td><td>katalin4@gmail.com</td><td>katalin4</td></tr>",
                            "<tr><td>Kovács Katalin</td><td>katalin.kovács@mail.hu</td><td>katka</td></tr>",
                            "<tr><td>Bakó Klaudia</td><td>klaudia.bakó@mail.hu</td><td>klaudia2</td></tr>",
                            "<tr><td>Lukács Kornél</td><td>kornél.lukács@mail.hu</td><td>kornel4</td></tr>",
                            "<tr><td>Poprádi Kristóf</td><td>kristof4@gmail.com</td><td>kristof4</td></tr>",
                            "<tr><td>Horváth Krisztina</td><td>kriszti@gmail.com</td><td>kriszti</td></tr>",
                            "<tr><td>Czérna Krisztián</td><td>krisztián.czérna@mail.hu</td><td>krisztian4</td></tr>",
                            "<tr><td>Bori Krisztina</td><td>krisztina.bori@mail.hu</td><td>krisztina1</td></tr>",
                            "<tr><td>Gyárfás Krisztina</td><td>KRISZTINAG@gmail.com</td><td>KRISZTINAG</td></tr>",
                            "<tr><td>Kiss Lajos</td><td>lajos.kiss@mail.hu</td><td>lajos</td></tr>",
                            "<tr><td>Nagymihály Lajos</td><td>lajos.nagymihály@mail.hu</td><td>lala</td></tr>",
                            "<tr><td>Móra László</td><td>lászló.móra@mail.hu</td><td>laszlo2</td></tr>",
                            "<tr><td>Antal László</td><td>lászló.antal@mail.hu</td><td>LASZLOA</td></tr>",
                            "<tr><td>Nagy László</td><td>lászló.nagy@mail.hu</td><td>LASZLON</td></tr>",
                            "<tr><td>Baráth Mária</td><td>mária.baráth@mail.hu</td><td>maria1</td></tr>",
                            "<tr><td>Kispál Márk</td><td>márk.kispál@mail.hu</td><td>mark</td></tr>",
                            "<tr><td>Horváth Márk</td><td>márk.horváth@mail.hu</td><td>MARKH</td></tr>",
                            "<tr><td>Kalacsi Márton</td><td>marton@gmail.com</td><td>marton</td></tr>",
                            "<tr><td>Koza Máté</td><td>máté.koza@mail.hu</td><td>MATEK</td></tr>",
                            "<tr><td>Botka Mátyás</td><td>matyas2@gmail.com</td><td>matyas2</td></tr>",
                            "<tr><td>Szilágyi Mátyás</td><td>mátyás.szilágyi@mail.hu</td><td>MATYASS</td></tr>",
                            "<tr><td>Juhász Mihály</td><td>mihály.juhász@mail.hu</td><td>MIHALYJ</td></tr>",
                            "<tr><td>Gondos Miklós</td><td>miklos2@gmail.com</td><td>miklos2</td></tr>",
                            "<tr><td>Balla Miklós</td><td>miklós.balla@mail.hu</td><td>MIKLOSB</td></tr>",
                            "<tr><td>Mohos Mónika</td><td>mónika.mohos@mail.hu</td><td>MONIKAM</td></tr>",
                            "<tr><td>Fő Nándor</td><td>nándor.fő@mail.hu</td><td>NANDORF</td></tr>",
                            "<tr><td>Horváth Nikolett</td><td>nikolett3@gmail.com</td><td>nikolett3</td></tr>",
                            "<tr><td>Kő Nikoletta</td><td>nikoletta4@gmail.com</td><td>nikoletta4</td></tr>",
                            "<tr><td>Tatár Nikoletta</td><td>nikoletta.tatár@mail.hu</td><td>NIKOLETTAT</td></tr>",
                            "<tr><td>Szűcs Norbert</td><td>norbert@gmail.com</td><td>norbert</td></tr>",
                            "<tr><td>Hegedűs Norbert</td><td>norbert.hegedűs@mail.hu</td><td>norbert2</td></tr>",
                            "<tr><td>Mile Norbert</td><td>norbert4@gmail.com</td><td>norbert4</td></tr>",
                            "<tr><td>Béres Norbert</td><td>norbert5@gmail.com</td><td>norbert5</td></tr>",
                            "<tr><td>Barabás Pál</td><td>pál.barabás@mail.hu</td><td>pal</td></tr>",
                            "<tr><td>Kozma Péter</td><td>peter1@gmail.com</td><td>peter1</td></tr>",
                            "<tr><td>Bozsó Péter</td><td>peter2@gmail.com</td><td>peter2</td></tr>",
                            "<tr><td>Szalai Péter</td><td>peter3@gmail.com</td><td>peter3</td></tr>",
                            "<tr><td>Bíró Péter</td><td>péter.bíró@mail.hu</td><td>peter4</td></tr>",
                            "<tr><td>Berendi Péter</td><td>péter.berendi@mail.hu</td><td>PETERB</td></tr>",
                            "<tr><td>Palágyi Polla</td><td>polla@gmail.com</td><td>polla</td></tr>",
                            "<tr><td>Rácz Rajmond</td><td>rajmond.rácz@mail.hu</td><td>rajmond4</td></tr>",
                            "<tr><td>Szikszai Réka</td><td>réka.szikszai@mail.hu</td><td>reka4</td></tr>",
                            "<tr><td>Szirmai Renáta</td><td>RENATAS@gmail.com</td><td>RENATAS</td></tr>",
                            "<tr><td>Patay Róbert</td><td>robert2@gmail.com</td><td>robert2</td></tr>",
                            "<tr><td>Iván Róbert</td><td>róbert.iván@mail.hu</td><td>ROBERTI</td></tr>",
                            "<tr><td>Tóth Roland</td><td>roland@gmail.com</td><td>roland</td></tr>",
                            "<tr><td>Ferencz Roland</td><td>roland.ferencz@mail.hu</td><td>roland1</td></tr>",
                            "<tr><td>Bucskó Róza</td><td>roza2@gmail.com</td><td>roza2</td></tr>",
                            "<tr><td>Karasz Sándor</td><td>sandor@gmail.com</td><td>sandor</td></tr>",
                            "<tr><td>Farkas Sándor</td><td>sándor.farkas@mail.hu</td><td>sandor3</td></tr>",
                            "<tr><td>Nagy Sándor</td><td>sandor4@gmail.com</td><td>sandor4</td></tr>",
                            "<tr><td>Farkas Sára</td><td>sára.farkas@mail.hu</td><td>sara</td></tr>",
                            "<tr><td>Foltényi Sebastián</td><td>SEBASTIANF@gmail.com</td><td>SEBASTIANF</td></tr>",
                            "<tr><td>Rab Sebestyén</td><td>sebestyen@gmail.com</td><td>sebestyen</td></tr>",
                            "<tr><td>Miklós Szabolcs</td><td>szabolcs.miklós@mail.hu</td><td>SZABOLCSM</td></tr>",
                            "<tr><td>Szalai Szilárd</td><td>szilárd.szalai@mail.hu</td><td>SZILARDS</td></tr>",
                            "<tr><td>Tari Szilvia</td><td>szilvia.tari@mail.hu</td><td>szilvia1</td></tr>",
                            "<tr><td>Miklós Tamara</td><td>tamara.miklós@mail.hu</td><td>tamara2</td></tr>",
                            "<tr><td>Antal Tamás</td><td>tamás.antal@mail.hu</td><td>tamas</td></tr>",
                            "<tr><td>Fényes Tamás</td><td>TAMASF@gmail.com</td><td>TAMASF</td></tr>",
                            "<tr><td>Gombos Tibor</td><td>tibor.gombos@mail.hu</td><td>tibor</td></tr>",
                            "<tr><td>Kazy Tihamér</td><td>tihamér.kazy@mail.hu</td><td>tihamer</td></tr>",
                            "<tr><td>Dusha Tímea</td><td>tímea.dusha@mail.hu</td><td>timea2</td></tr>",
                            "<tr><td>Turcsik Tünde</td><td>tunde@gmail.com</td><td>tunde</td></tr>",
                            "<tr><td>Feró Valentin</td><td>valentin.feró@mail.hu</td><td>valentin</td></tr>",
                            "<tr><td>Tankó Veronika</td><td>veronika4@gmail.com</td><td>veronika4</td></tr>",
                            "<tr><td>Boros Vivien</td><td>vivien3@gmail.com</td><td>vivien3</td></tr>",
                            "<tr><td>Fodor Zoltán</td><td>zoltán.fodor@mail.hu</td><td>zoltan</td></tr>",
                            "<tr><td>Pintér Zoltán</td><td>zoltán.pintér@mail.hu</td><td>ZOLTANP</td></tr>",
                            "<tr><td>Tóth Zoltán</td><td>zoltán.tóth@mail.hu</td><td>ZOLTANT</td></tr>",
                            "<tr><td>Molnár Zsófi</td><td>zsofi1@gmail.com</td><td>zsofi1</td></tr>",
                            "<tr><td>Józsa Zsolt</td><td>ZSOLTJ@gmail.com</td><td>ZSOLTJ</td></tr>",
                            "<tr><td>Pusztai Zsuzsanna</td><td>zsuzsanna@gmail.com</td><td>zsuzsa</td></tr>",
                            "<tr><td>Varsányi Zsuzsa</td><td>zsuzsa.varsányi@mail.hu</td><td>zsuzsa3</td></tr>",
                            "<tr><td>Barta Zsuzsanna</td><td>zsuzsanna.barta@mail.hu</td><td>zsuzsanna</td></tr>",
                            "<tr><td>Vajda Zsuzsa</td><td>zsuzsa.vajda@mail.hu</td><td>ZSUZSAV</td></tr>",
                            "</table>"
                        ]
                    }
                }
            ],
            "execution_count": 1
        },
        {
            "cell_type": "markdown",
            "source": [
                "2. Listázzuk azon szálláshelyek azonosítóját és nevét, amelyek a saját helyükön (HELY) a legtöbb csillaggal rendelkeznek!"
            ],
            "metadata": {
                "azdata_cell_guid": "305e2fea-c4e5-439d-9af1-9e74075cc149"
            },
            "attachments": {}
        },
        {
            "cell_type": "code",
            "source": [
                "SELECT szallas_id, szallas_nev\r\n",
                "FROM Szallashely\r\n",
                "WHERE csillagok_szama = (\r\n",
                "SELECT MAX(csillagok_szama) FROM Szallashely as sz WHERE sz.hely = Szallashely.hely);"
            ],
            "metadata": {
                "azdata_cell_guid": "cec65950-90a6-4048-bd83-99cb35d6d007",
                "language": "sql",
                "tags": []
            },
            "outputs": [
                {
                    "output_type": "display_data",
                    "data": {
                        "text/html": "(11 rows affected)"
                    },
                    "metadata": {}
                },
                {
                    "output_type": "display_data",
                    "data": {
                        "text/html": "Total execution time: 00:00:00.008"
                    },
                    "metadata": {}
                },
                {
                    "output_type": "execute_result",
                    "metadata": {},
                    "execution_count": 9,
                    "data": {
                        "application/vnd.dataresource+json": {
                            "schema": {
                                "fields": [
                                    {
                                        "name": "szallas_id"
                                    },
                                    {
                                        "name": "szallas_nev"
                                    }
                                ]
                            },
                            "data": [
                                {
                                    "szallas_id": "17",
                                    "szallas_nev": "Szarvas Hotel"
                                },
                                {
                                    "szallas_id": "16",
                                    "szallas_nev": "Bagoly Hotel"
                                },
                                {
                                    "szallas_id": "3",
                                    "szallas_nev": "Fortuna Apartman"
                                },
                                {
                                    "szallas_id": "18",
                                    "szallas_nev": "Fortuna Apartman"
                                },
                                {
                                    "szallas_id": "19",
                                    "szallas_nev": "Nyárfás Vendégház"
                                },
                                {
                                    "szallas_id": "21",
                                    "szallas_nev": "Müller Vendégház"
                                },
                                {
                                    "szallas_id": "13",
                                    "szallas_nev": "Riviéra Panzió"
                                },
                                {
                                    "szallas_id": "10",
                                    "szallas_nev": "Lagúna Hotel"
                                },
                                {
                                    "szallas_id": "5",
                                    "szallas_nev": "Fortuna Panzió"
                                },
                                {
                                    "szallas_id": "11",
                                    "szallas_nev": "Partiszél Vendégház"
                                },
                                {
                                    "szallas_id": "8",
                                    "szallas_nev": "Hotel Három Hattyú"
                                }
                            ]
                        },
                        "text/html": [
                            "<table>",
                            "<tr><th>szallas_id</th><th>szallas_nev</th></tr>",
                            "<tr><td>17</td><td>Szarvas Hotel</td></tr>",
                            "<tr><td>16</td><td>Bagoly Hotel</td></tr>",
                            "<tr><td>3</td><td>Fortuna Apartman</td></tr>",
                            "<tr><td>18</td><td>Fortuna Apartman</td></tr>",
                            "<tr><td>19</td><td>Nyárfás Vendégház</td></tr>",
                            "<tr><td>21</td><td>Müller Vendégház</td></tr>",
                            "<tr><td>13</td><td>Riviéra Panzió</td></tr>",
                            "<tr><td>10</td><td>Lagúna Hotel</td></tr>",
                            "<tr><td>5</td><td>Fortuna Panzió</td></tr>",
                            "<tr><td>11</td><td>Partiszél Vendégház</td></tr>",
                            "<tr><td>8</td><td>Hotel Három Hattyú</td></tr>",
                            "</table>"
                        ]
                    }
                }
            ],
            "execution_count": 9
        },
        {
            "cell_type": "markdown",
            "source": [
                "3. Listázzuk a vendégek azonosítóját, nevét és születési dátumát!\n",
                "    \n",
                "    - Vegyünk fel két új oszlopot, amelyben a vendég legelső, illetve legutolsó foglalásának dátuma szerepel\n",
                "    - A foglalás dátumánál a METTOL oszlopot használjuk"
            ],
            "metadata": {
                "azdata_cell_guid": "9b6391d2-c2c4-441e-b7b1-c7865fb75308"
            },
            "attachments": {}
        },
        {
            "cell_type": "code",
            "source": [
                "SELECT v.usernev,v.nev,v.szul_dat,\r\n",
                "MIN(f.mettol) AS \"ELSO FOGLALAS\", MAX(f.mettol) AS \"UTOLSO FOGLALAS\"\r\n",
                "FROM  Vendeg v\r\n",
                "LEFT JOIN  Foglalas f ON v.usernev = f.ugyfel_fk\r\n",
                "GROUP BY  v.usernev, v.nev, v.szul_dat;"
            ],
            "metadata": {
                "azdata_cell_guid": "b5a32167-8fbe-4979-ad8a-3b70a8d7f827",
                "language": "sql",
                "tags": []
            },
            "outputs": [
                {
                    "output_type": "display_data",
                    "data": {
                        "text/html": "(196 rows affected)"
                    },
                    "metadata": {}
                },
                {
                    "output_type": "display_data",
                    "data": {
                        "text/html": "Total execution time: 00:00:00.010"
                    },
                    "metadata": {}
                },
                {
                    "output_type": "execute_result",
                    "metadata": {},
                    "execution_count": 8,
                    "data": {
                        "application/vnd.dataresource+json": {
                            "schema": {
                                "fields": [
                                    {
                                        "name": "usernev"
                                    },
                                    {
                                        "name": "nev"
                                    },
                                    {
                                        "name": "szul_dat"
                                    },
                                    {
                                        "name": "ELSO FOGLALAS"
                                    },
                                    {
                                        "name": "UTOLSO FOGLALAS"
                                    }
                                ]
                            },
                            "data": [
                                {
                                    "usernev": "adam1",
                                    "nev": "Kiss Ádám",
                                    "szul_dat": "1991-12-28",
                                    "ELSO FOGLALAS": "2016-05-28",
                                    "UTOLSO FOGLALAS": "2016-10-19"
                                },
                                {
                                    "usernev": "adam3",
                                    "nev": "Barkóci Ádám",
                                    "szul_dat": "1970-06-07",
                                    "ELSO FOGLALAS": "2016-09-12",
                                    "UTOLSO FOGLALAS": "2017-02-06"
                                },
                                {
                                    "usernev": "adam4",
                                    "nev": "Bieniek Ádám",
                                    "szul_dat": "1976-08-01",
                                    "ELSO FOGLALAS": "2016-08-28",
                                    "UTOLSO FOGLALAS": "2017-02-23"
                                },
                                {
                                    "usernev": "agnes",
                                    "nev": "Lengyel Ágnes",
                                    "szul_dat": "1979-12-10",
                                    "ELSO FOGLALAS": "2016-05-09",
                                    "UTOLSO FOGLALAS": "2016-11-07"
                                },
                                {
                                    "usernev": "agnes3",
                                    "nev": "Hartyánszky Ágnes",
                                    "szul_dat": "1967-04-11",
                                    "ELSO FOGLALAS": "2016-08-04",
                                    "UTOLSO FOGLALAS": "2017-02-16"
                                },
                                {
                                    "usernev": "AGNESH",
                                    "nev": "Horváth Ágnes",
                                    "szul_dat": "1981-12-24",
                                    "ELSO FOGLALAS": "2016-04-10",
                                    "UTOLSO FOGLALAS": "2017-01-16"
                                },
                                {
                                    "usernev": "AGNESK",
                                    "nev": "Kovács Ágnes",
                                    "szul_dat": "1988-10-02",
                                    "ELSO FOGLALAS": "2016-07-29",
                                    "UTOLSO FOGLALAS": "2016-12-17"
                                },
                                {
                                    "usernev": "akos",
                                    "nev": "Bíró Ákos",
                                    "szul_dat": "1982-04-24",
                                    "ELSO FOGLALAS": "2016-05-18",
                                    "UTOLSO FOGLALAS": "2016-12-29"
                                },
                                {
                                    "usernev": "aladar",
                                    "nev": "Dunai Aladár",
                                    "szul_dat": "1980-11-01",
                                    "ELSO FOGLALAS": "2016-05-17",
                                    "UTOLSO FOGLALAS": "2016-11-22"
                                },
                                {
                                    "usernev": "alexandra",
                                    "nev": "Bagóczki Alexandra",
                                    "szul_dat": "1992-03-25",
                                    "ELSO FOGLALAS": "2016-05-21",
                                    "UTOLSO FOGLALAS": "2017-01-19"
                                },
                                {
                                    "usernev": "andi",
                                    "nev": "Maródi Andrea",
                                    "szul_dat": "1968-05-07",
                                    "ELSO FOGLALAS": "2016-05-08",
                                    "UTOLSO FOGLALAS": "2017-01-13"
                                },
                                {
                                    "usernev": "andras2",
                                    "nev": "Tóth András",
                                    "szul_dat": "1997-10-31",
                                    "ELSO FOGLALAS": "2016-05-30",
                                    "UTOLSO FOGLALAS": "2017-02-08"
                                },
                                {
                                    "usernev": "andras21",
                                    "nev": "Molnár András",
                                    "szul_dat": "1977-11-16",
                                    "ELSO FOGLALAS": "2016-06-21",
                                    "UTOLSO FOGLALAS": "2017-01-28"
                                },
                                {
                                    "usernev": "andras3",
                                    "nev": "Vígh András",
                                    "szul_dat": "1971-04-02",
                                    "ELSO FOGLALAS": "2016-05-01",
                                    "UTOLSO FOGLALAS": "2017-02-02"
                                },
                                {
                                    "usernev": "andras4",
                                    "nev": "Back András",
                                    "szul_dat": "1984-04-07",
                                    "ELSO FOGLALAS": "2016-09-17",
                                    "UTOLSO FOGLALAS": "2017-01-09"
                                },
                                {
                                    "usernev": "andras41",
                                    "nev": "Komjáti András",
                                    "szul_dat": "1997-10-25",
                                    "ELSO FOGLALAS": "2016-05-14",
                                    "UTOLSO FOGLALAS": "2016-11-23"
                                },
                                {
                                    "usernev": "ANDRASE",
                                    "nev": "Erdei András",
                                    "szul_dat": "1997-05-29",
                                    "ELSO FOGLALAS": "2016-04-24",
                                    "UTOLSO FOGLALAS": "2016-11-29"
                                },
                                {
                                    "usernev": "ANDRASN",
                                    "nev": "Nagy András",
                                    "szul_dat": "1980-09-05",
                                    "ELSO FOGLALAS": "2016-11-25",
                                    "UTOLSO FOGLALAS": "2016-11-25"
                                },
                                {
                                    "usernev": "andrea",
                                    "nev": "Kiss Andrea",
                                    "szul_dat": "1993-03-25",
                                    "ELSO FOGLALAS": "2016-07-27",
                                    "UTOLSO FOGLALAS": "2017-02-09"
                                },
                                {
                                    "usernev": "andrea3",
                                    "nev": "Szomor Andrea",
                                    "szul_dat": "1996-05-10",
                                    "ELSO FOGLALAS": "2016-11-19",
                                    "UTOLSO FOGLALAS": "2016-11-19"
                                },
                                {
                                    "usernev": "andrea4",
                                    "nev": "Neizer Andrea",
                                    "szul_dat": "1981-05-17",
                                    "ELSO FOGLALAS": "2016-05-27",
                                    "UTOLSO FOGLALAS": "2017-01-22"
                                },
                                {
                                    "usernev": "ANDREAT",
                                    "nev": "Tornyos Andrea",
                                    "szul_dat": "1986-11-14",
                                    "ELSO FOGLALAS": "2016-07-27",
                                    "UTOLSO FOGLALAS": "2016-10-08"
                                },
                                {
                                    "usernev": "anett3",
                                    "nev": "Pivarcsi Anett",
                                    "szul_dat": "1967-01-03",
                                    "ELSO FOGLALAS": "2016-04-10",
                                    "UTOLSO FOGLALAS": "2016-10-16"
                                },
                                {
                                    "usernev": "aniko",
                                    "nev": "Tóth Anikó",
                                    "szul_dat": "1973-06-03",
                                    "ELSO FOGLALAS": "2016-06-25",
                                    "UTOLSO FOGLALAS": "2017-02-23"
                                },
                                {
                                    "usernev": "aniko4",
                                    "nev": "Böröcz Anikó",
                                    "szul_dat": "1978-03-26",
                                    "ELSO FOGLALAS": "2016-07-02",
                                    "UTOLSO FOGLALAS": "2016-10-16"
                                },
                                {
                                    "usernev": "ANIKOS",
                                    "nev": "Simon Anikó",
                                    "szul_dat": "1988-12-14",
                                    "ELSO FOGLALAS": "2016-04-19",
                                    "UTOLSO FOGLALAS": "2016-11-10"
                                },
                                {
                                    "usernev": "anita",
                                    "nev": "Hamvay-Kovács Anita",
                                    "szul_dat": "1971-03-20",
                                    "ELSO FOGLALAS": "2016-09-28",
                                    "UTOLSO FOGLALAS": "2017-02-20"
                                },
                                {
                                    "usernev": "annamaria1",
                                    "nev": "Szűcs Annamária",
                                    "szul_dat": "1990-04-27",
                                    "ELSO FOGLALAS": "2016-06-06",
                                    "UTOLSO FOGLALAS": "2017-01-30"
                                },
                                {
                                    "usernev": "ANNAMARIAR",
                                    "nev": "Regős Annamária",
                                    "szul_dat": "1977-09-26",
                                    "ELSO FOGLALAS": "2016-06-08",
                                    "UTOLSO FOGLALAS": "2017-02-16"
                                },
                                {
                                    "usernev": "aron2",
                                    "nev": "Jakab Áron",
                                    "szul_dat": "1971-04-26",
                                    "ELSO FOGLALAS": "2016-04-11",
                                    "UTOLSO FOGLALAS": "2017-02-26"
                                },
                                {
                                    "usernev": "ARONK",
                                    "nev": "Kelemen Áron",
                                    "szul_dat": "1989-08-10",
                                    "ELSO FOGLALAS": "2016-04-06",
                                    "UTOLSO FOGLALAS": "2017-02-21"
                                },
                                {
                                    "usernev": "arpad2",
                                    "nev": "Ötvös Árpád",
                                    "szul_dat": "1990-06-08",
                                    "ELSO FOGLALAS": "2016-06-05",
                                    "UTOLSO FOGLALAS": "2017-02-18"
                                },
                                {
                                    "usernev": "ARPADH",
                                    "nev": "Horváth Árpád",
                                    "szul_dat": "1990-05-18",
                                    "ELSO FOGLALAS": "2016-06-06",
                                    "UTOLSO FOGLALAS": "2017-02-16"
                                },
                                {
                                    "usernev": "ARPADM",
                                    "nev": "Móricz Árpád",
                                    "szul_dat": "1986-04-20",
                                    "ELSO FOGLALAS": "2016-05-29",
                                    "UTOLSO FOGLALAS": "2017-02-12"
                                },
                                {
                                    "usernev": "attila",
                                    "nev": "Csóti Attila",
                                    "szul_dat": "1979-12-25",
                                    "ELSO FOGLALAS": "2016-09-30",
                                    "UTOLSO FOGLALAS": "2016-12-22"
                                },
                                {
                                    "usernev": "attila1",
                                    "nev": "Gulyás Attila",
                                    "szul_dat": "1982-08-16",
                                    "ELSO FOGLALAS": "2016-05-20",
                                    "UTOLSO FOGLALAS": "2017-01-23"
                                },
                                {
                                    "usernev": "attila4",
                                    "nev": "Baróti Attila",
                                    "szul_dat": "1975-11-06",
                                    "ELSO FOGLALAS": "2016-08-18",
                                    "UTOLSO FOGLALAS": "2017-02-15"
                                },
                                {
                                    "usernev": "ATTILAO",
                                    "nev": "Opra Attila",
                                    "szul_dat": "1995-05-08",
                                    "ELSO FOGLALAS": "2016-05-21",
                                    "UTOLSO FOGLALAS": "2017-02-22"
                                },
                                {
                                    "usernev": "balazs1",
                                    "nev": "Bozsik Balázs",
                                    "szul_dat": "1992-11-03",
                                    "ELSO FOGLALAS": "2016-05-07",
                                    "UTOLSO FOGLALAS": "2017-02-12"
                                },
                                {
                                    "usernev": "balazs2",
                                    "nev": "Szűcs Balázs",
                                    "szul_dat": "1984-10-31",
                                    "ELSO FOGLALAS": "2016-04-16",
                                    "UTOLSO FOGLALAS": "2017-02-27"
                                },
                                {
                                    "usernev": "balazs3",
                                    "nev": "Bakódy Balázs",
                                    "szul_dat": "1986-09-09",
                                    "ELSO FOGLALAS": "2016-07-17",
                                    "UTOLSO FOGLALAS": "2017-01-20"
                                },
                                {
                                    "usernev": "balint",
                                    "nev": "Horváth Bálint",
                                    "szul_dat": "1996-03-17",
                                    "ELSO FOGLALAS": "2016-04-22",
                                    "UTOLSO FOGLALAS": "2016-11-24"
                                },
                                {
                                    "usernev": "balint1",
                                    "nev": "Molnár Bálint",
                                    "szul_dat": "1989-08-24",
                                    "ELSO FOGLALAS": "2016-06-07",
                                    "UTOLSO FOGLALAS": "2017-01-03"
                                },
                                {
                                    "usernev": "balint2",
                                    "nev": "Vukasinovity Bálint",
                                    "szul_dat": "1997-09-03",
                                    "ELSO FOGLALAS": "2016-07-21",
                                    "UTOLSO FOGLALAS": "2016-12-04"
                                },
                                {
                                    "usernev": "balu",
                                    "nev": "Endresz Bálint",
                                    "szul_dat": "1976-08-01",
                                    "ELSO FOGLALAS": "2016-08-06",
                                    "UTOLSO FOGLALAS": "2016-12-22"
                                },
                                {
                                    "usernev": "beata4",
                                    "nev": "Bagi Beáta",
                                    "szul_dat": "1994-03-19",
                                    "ELSO FOGLALAS": "2016-04-20",
                                    "UTOLSO FOGLALAS": "2016-10-03"
                                },
                                {
                                    "usernev": "BEATRIXK",
                                    "nev": "Kerényi Beatrix",
                                    "szul_dat": "1972-04-06",
                                    "ELSO FOGLALAS": "2016-06-10",
                                    "UTOLSO FOGLALAS": "2017-02-08"
                                },
                                {
                                    "usernev": "BEATRIXS",
                                    "nev": "Szekendi Beatrix",
                                    "szul_dat": "1981-04-06",
                                    "ELSO FOGLALAS": "2016-04-18",
                                    "UTOLSO FOGLALAS": "2017-02-03"
                                },
                                {
                                    "usernev": "BELAF",
                                    "nev": "Farkas Béla",
                                    "szul_dat": "1995-02-24",
                                    "ELSO FOGLALAS": "2016-07-27",
                                    "UTOLSO FOGLALAS": "2016-12-06"
                                },
                                {
                                    "usernev": "bence",
                                    "nev": "Győrffy Bence",
                                    "szul_dat": "1987-07-09",
                                    "ELSO FOGLALAS": "2016-05-08",
                                    "UTOLSO FOGLALAS": "2017-02-05"
                                },
                                {
                                    "usernev": "BENCEB",
                                    "nev": "Bajusz Bence",
                                    "szul_dat": "1973-06-21",
                                    "ELSO FOGLALAS": "2016-05-14",
                                    "UTOLSO FOGLALAS": "2017-02-12"
                                },
                                {
                                    "usernev": "bernadett1",
                                    "nev": "Simon Bernadett",
                                    "szul_dat": "1984-10-13",
                                    "ELSO FOGLALAS": "2016-06-12",
                                    "UTOLSO FOGLALAS": "2017-02-24"
                                },
                                {
                                    "usernev": "bernadett2",
                                    "nev": "Kovács Bernadett",
                                    "szul_dat": "1996-08-20",
                                    "ELSO FOGLALAS": "2016-05-01",
                                    "UTOLSO FOGLALAS": "2017-01-24"
                                },
                                {
                                    "usernev": "BERNADETTO",
                                    "nev": "Orbán Bernadett",
                                    "szul_dat": "1987-12-07",
                                    "ELSO FOGLALAS": "2016-04-10",
                                    "UTOLSO FOGLALAS": "2017-01-28"
                                },
                                {
                                    "usernev": "bertalan",
                                    "nev": "Csiger Bertalan",
                                    "szul_dat": "1977-10-15",
                                    "ELSO FOGLALAS": "2016-05-18",
                                    "UTOLSO FOGLALAS": "2017-02-20"
                                },
                                {
                                    "usernev": "brigitta",
                                    "nev": "Székely Brigitta",
                                    "szul_dat": "1978-09-13",
                                    "ELSO FOGLALAS": "2016-05-30",
                                    "UTOLSO FOGLALAS": "2017-01-23"
                                },
                                {
                                    "usernev": "brigitta3",
                                    "nev": "Pataki Brigitta",
                                    "szul_dat": "1991-05-23",
                                    "ELSO FOGLALAS": "2016-06-01",
                                    "UTOLSO FOGLALAS": "2017-02-09"
                                },
                                {
                                    "usernev": "csongor3",
                                    "nev": "Nagymihály Csongor",
                                    "szul_dat": "1984-03-05",
                                    "ELSO FOGLALAS": "2016-05-01",
                                    "UTOLSO FOGLALAS": "2017-02-13"
                                },
                                {
                                    "usernev": "dani",
                                    "nev": "Vörös Dániel",
                                    "szul_dat": "1986-10-14",
                                    "ELSO FOGLALAS": "2016-06-06",
                                    "UTOLSO FOGLALAS": "2017-02-25"
                                },
                                {
                                    "usernev": "daniel",
                                    "nev": "Rácz Dániel",
                                    "szul_dat": "1978-11-28",
                                    "ELSO FOGLALAS": "2016-04-10",
                                    "UTOLSO FOGLALAS": "2017-02-20"
                                },
                                {
                                    "usernev": "daniel1",
                                    "nev": "Keszler Dániel",
                                    "szul_dat": "1969-07-16",
                                    "ELSO FOGLALAS": "2016-04-10",
                                    "UTOLSO FOGLALAS": "2017-03-01"
                                },
                                {
                                    "usernev": "david",
                                    "nev": "Ambrus Dávid",
                                    "szul_dat": "1974-02-11",
                                    "ELSO FOGLALAS": "2016-05-18",
                                    "UTOLSO FOGLALAS": "2017-01-18"
                                },
                                {
                                    "usernev": "david1",
                                    "nev": "Sobják Dávid",
                                    "szul_dat": "1970-08-16",
                                    "ELSO FOGLALAS": "2016-09-20",
                                    "UTOLSO FOGLALAS": "2017-02-25"
                                },
                                {
                                    "usernev": "david4",
                                    "nev": "Berta Dávid",
                                    "szul_dat": "1990-10-08",
                                    "ELSO FOGLALAS": "2017-02-16",
                                    "UTOLSO FOGLALAS": "2017-02-16"
                                },
                                {
                                    "usernev": "debora",
                                    "nev": "Barna Debóra",
                                    "szul_dat": "1976-10-14",
                                    "ELSO FOGLALAS": "2016-06-22",
                                    "UTOLSO FOGLALAS": "2017-02-04"
                                },
                                {
                                    "usernev": "denes",
                                    "nev": "Tömböly Dénes",
                                    "szul_dat": "1975-03-14",
                                    "ELSO FOGLALAS": "2016-05-27",
                                    "UTOLSO FOGLALAS": "2016-11-06"
                                },
                                {
                                    "usernev": "dora3",
                                    "nev": "Sarodi Dóra",
                                    "szul_dat": "1995-05-18",
                                    "ELSO FOGLALAS": "2016-08-16",
                                    "UTOLSO FOGLALAS": "2016-11-22"
                                },
                                {
                                    "usernev": "edit",
                                    "nev": "Bittmann Edit",
                                    "szul_dat": "1984-04-20",
                                    "ELSO FOGLALAS": "2016-07-14",
                                    "UTOLSO FOGLALAS": "2017-02-08"
                                },
                                {
                                    "usernev": "emese",
                                    "nev": "Kuruc Emese",
                                    "szul_dat": "1989-08-10",
                                    "ELSO FOGLALAS": "2016-07-22",
                                    "UTOLSO FOGLALAS": "2017-01-30"
                                },
                                {
                                    "usernev": "eszter",
                                    "nev": "Molnár Eszter",
                                    "szul_dat": "1987-05-10",
                                    "ELSO FOGLALAS": "2016-08-12",
                                    "UTOLSO FOGLALAS": "2016-12-23"
                                },
                                {
                                    "usernev": "eszter2",
                                    "nev": "Balogh Eszter",
                                    "szul_dat": "1998-01-31",
                                    "ELSO FOGLALAS": "2016-06-30",
                                    "UTOLSO FOGLALAS": "2016-12-29"
                                },
                                {
                                    "usernev": "eszter4",
                                    "nev": "Fülöp Eszter",
                                    "szul_dat": "1993-06-28",
                                    "ELSO FOGLALAS": "2017-01-05",
                                    "UTOLSO FOGLALAS": "2017-02-26"
                                },
                                {
                                    "usernev": "ESZTERE",
                                    "nev": "Érsek Eszter",
                                    "szul_dat": "1978-08-28",
                                    "ELSO FOGLALAS": "2016-05-30",
                                    "UTOLSO FOGLALAS": "2017-02-10"
                                },
                                {
                                    "usernev": "eva",
                                    "nev": "Enyedi Éva",
                                    "szul_dat": "1967-06-30",
                                    "ELSO FOGLALAS": "2016-10-06",
                                    "UTOLSO FOGLALAS": "2017-01-14"
                                },
                                {
                                    "usernev": "eva2",
                                    "nev": "Perlinger Éva",
                                    "szul_dat": "1971-08-19",
                                    "ELSO FOGLALAS": "2016-09-02",
                                    "UTOLSO FOGLALAS": "2017-01-06"
                                },
                                {
                                    "usernev": "EVAV",
                                    "nev": "Viktor Éva",
                                    "szul_dat": "1980-12-26",
                                    "ELSO FOGLALAS": "2016-05-01",
                                    "UTOLSO FOGLALAS": "2017-02-04"
                                },
                                {
                                    "usernev": "ferenc1",
                                    "nev": "Orosz Ferenc",
                                    "szul_dat": "1983-10-08",
                                    "ELSO FOGLALAS": "2016-05-08",
                                    "UTOLSO FOGLALAS": "2016-11-07"
                                },
                                {
                                    "usernev": "fruzsina4",
                                    "nev": "Frank Fruzsina",
                                    "szul_dat": "1996-08-16",
                                    "ELSO FOGLALAS": "2016-06-02",
                                    "UTOLSO FOGLALAS": "2017-01-22"
                                },
                                {
                                    "usernev": "gabor1",
                                    "nev": "Köves Gábor",
                                    "szul_dat": "1973-07-15",
                                    "ELSO FOGLALAS": "2016-06-20",
                                    "UTOLSO FOGLALAS": "2016-11-19"
                                },
                                {
                                    "usernev": "gabor4",
                                    "nev": "Telek Gábor",
                                    "szul_dat": "1987-03-15",
                                    "ELSO FOGLALAS": "2016-04-26",
                                    "UTOLSO FOGLALAS": "2016-11-07"
                                },
                                {
                                    "usernev": "GABORS",
                                    "nev": "Szöllősi Gábor",
                                    "szul_dat": "1990-05-31",
                                    "ELSO FOGLALAS": "NULL",
                                    "UTOLSO FOGLALAS": "NULL"
                                },
                                {
                                    "usernev": "gabriella1",
                                    "nev": "Nagy Gabriella",
                                    "szul_dat": "1982-11-01",
                                    "ELSO FOGLALAS": "2016-04-21",
                                    "UTOLSO FOGLALAS": "2017-02-21"
                                },
                                {
                                    "usernev": "gabriella10",
                                    "nev": "Vida Gabriella",
                                    "szul_dat": "1969-06-18",
                                    "ELSO FOGLALAS": "2016-10-01",
                                    "UTOLSO FOGLALAS": "2016-10-01"
                                },
                                {
                                    "usernev": "georgij",
                                    "nev": "Nyíri Georgij",
                                    "szul_dat": "1983-02-23",
                                    "ELSO FOGLALAS": "2016-06-16",
                                    "UTOLSO FOGLALAS": "2016-09-18"
                                },
                                {
                                    "usernev": "gusztav",
                                    "nev": "Bárci Gusztáv",
                                    "szul_dat": "1967-02-25",
                                    "ELSO FOGLALAS": "2016-05-06",
                                    "UTOLSO FOGLALAS": "2017-02-23"
                                },
                                {
                                    "usernev": "GYONGYIK",
                                    "nev": "Kornseé Gyöngyi",
                                    "szul_dat": "1974-06-07",
                                    "ELSO FOGLALAS": "2016-06-02",
                                    "UTOLSO FOGLALAS": "2017-01-22"
                                },
                                {
                                    "usernev": "GYORGYO",
                                    "nev": "Oroszi György",
                                    "szul_dat": "1980-03-23",
                                    "ELSO FOGLALAS": "2016-05-27",
                                    "UTOLSO FOGLALAS": "2017-02-24"
                                },
                                {
                                    "usernev": "henrik3",
                                    "nev": "Nádudvari Henrik",
                                    "szul_dat": "1986-12-05",
                                    "ELSO FOGLALAS": "2016-08-24",
                                    "UTOLSO FOGLALAS": "2017-01-27"
                                },
                                {
                                    "usernev": "IBOLYAA",
                                    "nev": "Andor Ibolya",
                                    "szul_dat": "1983-11-27",
                                    "ELSO FOGLALAS": "2016-08-29",
                                    "UTOLSO FOGLALAS": "2017-01-17"
                                },
                                {
                                    "usernev": "ilona3",
                                    "nev": "Bosnyák Ilona",
                                    "szul_dat": "1990-08-06",
                                    "ELSO FOGLALAS": "2016-07-31",
                                    "UTOLSO FOGLALAS": "2016-12-25"
                                },
                                {
                                    "usernev": "imre",
                                    "nev": "Búza Imre",
                                    "szul_dat": "1988-09-30",
                                    "ELSO FOGLALAS": "2016-09-17",
                                    "UTOLSO FOGLALAS": "2016-10-28"
                                },
                                {
                                    "usernev": "imre1",
                                    "nev": "Papp Imre",
                                    "szul_dat": "1976-06-25",
                                    "ELSO FOGLALAS": "2016-06-23",
                                    "UTOLSO FOGLALAS": "2017-02-05"
                                },
                                {
                                    "usernev": "istvan",
                                    "nev": "Soós István",
                                    "szul_dat": "1986-06-28",
                                    "ELSO FOGLALAS": "2016-10-07",
                                    "UTOLSO FOGLALAS": "2017-01-02"
                                },
                                {
                                    "usernev": "istvan1",
                                    "nev": "Vizi István",
                                    "szul_dat": "1997-12-01",
                                    "ELSO FOGLALAS": "2016-04-16",
                                    "UTOLSO FOGLALAS": "2017-02-07"
                                },
                                {
                                    "usernev": "ISTVANV",
                                    "nev": "Varga István",
                                    "szul_dat": "1989-04-09",
                                    "ELSO FOGLALAS": "2016-07-01",
                                    "UTOLSO FOGLALAS": "2016-09-29"
                                },
                                {
                                    "usernev": "janos3",
                                    "nev": "Harangozó János",
                                    "szul_dat": "1967-11-02",
                                    "ELSO FOGLALAS": "2016-06-04",
                                    "UTOLSO FOGLALAS": "2017-02-12"
                                },
                                {
                                    "usernev": "JANOSG",
                                    "nev": "Giliga János",
                                    "szul_dat": "1975-01-03",
                                    "ELSO FOGLALAS": "2016-05-09",
                                    "UTOLSO FOGLALAS": "2017-01-31"
                                },
                                {
                                    "usernev": "JANOSP",
                                    "nev": "Pálinkás János",
                                    "szul_dat": "1984-10-12",
                                    "ELSO FOGLALAS": "2016-07-04",
                                    "UTOLSO FOGLALAS": "2016-12-18"
                                },
                                {
                                    "usernev": "jozsef",
                                    "nev": "Gergely József",
                                    "szul_dat": "1985-11-01",
                                    "ELSO FOGLALAS": "2016-09-13",
                                    "UTOLSO FOGLALAS": "2016-12-06"
                                },
                                {
                                    "usernev": "jozsef2",
                                    "nev": "Vajda József",
                                    "szul_dat": "1978-09-04",
                                    "ELSO FOGLALAS": "2016-07-06",
                                    "UTOLSO FOGLALAS": "2016-11-25"
                                },
                                {
                                    "usernev": "JOZSEFG",
                                    "nev": "Gyuris József",
                                    "szul_dat": "1975-05-26",
                                    "ELSO FOGLALAS": "2016-05-02",
                                    "UTOLSO FOGLALAS": "2017-02-24"
                                },
                                {
                                    "usernev": "JUDITH",
                                    "nev": "Hídasi Judit",
                                    "szul_dat": "1997-07-12",
                                    "ELSO FOGLALAS": "2016-06-06",
                                    "UTOLSO FOGLALAS": "2016-12-19"
                                },
                                {
                                    "usernev": "julia",
                                    "nev": "Tóth Júlia",
                                    "szul_dat": "1993-03-02",
                                    "ELSO FOGLALAS": "2016-04-21",
                                    "UTOLSO FOGLALAS": "2017-02-27"
                                },
                                {
                                    "usernev": "julia4",
                                    "nev": "Nagy Júlia",
                                    "szul_dat": "1985-08-11",
                                    "ELSO FOGLALAS": "2016-11-07",
                                    "UTOLSO FOGLALAS": "2017-02-04"
                                },
                                {
                                    "usernev": "julianna4",
                                    "nev": "Szabó Julianna",
                                    "szul_dat": "1990-09-29",
                                    "ELSO FOGLALAS": "2016-07-20",
                                    "UTOLSO FOGLALAS": "2016-11-27"
                                },
                                {
                                    "usernev": "kata",
                                    "nev": "Gondos Katalin",
                                    "szul_dat": "1968-06-22",
                                    "ELSO FOGLALAS": "2016-04-10",
                                    "UTOLSO FOGLALAS": "2017-01-15"
                                },
                                {
                                    "usernev": "katalin",
                                    "nev": "Horváth Katalin",
                                    "szul_dat": "1968-01-01",
                                    "ELSO FOGLALAS": "2016-04-10",
                                    "UTOLSO FOGLALAS": "2017-02-24"
                                },
                                {
                                    "usernev": "katalin4",
                                    "nev": "Kertész Katalin",
                                    "szul_dat": "1986-04-13",
                                    "ELSO FOGLALAS": "2016-07-01",
                                    "UTOLSO FOGLALAS": "2017-01-24"
                                },
                                {
                                    "usernev": "kati",
                                    "nev": "Zatykó Katalin",
                                    "szul_dat": "1995-05-01",
                                    "ELSO FOGLALAS": "2016-06-06",
                                    "UTOLSO FOGLALAS": "2016-10-30"
                                },
                                {
                                    "usernev": "katka",
                                    "nev": "Kovács Katalin",
                                    "szul_dat": "1975-03-31",
                                    "ELSO FOGLALAS": "2016-04-10",
                                    "UTOLSO FOGLALAS": "2017-01-19"
                                },
                                {
                                    "usernev": "klaudia2",
                                    "nev": "Bakó Klaudia",
                                    "szul_dat": "1982-04-16",
                                    "ELSO FOGLALAS": "2016-06-06",
                                    "UTOLSO FOGLALAS": "2016-10-02"
                                },
                                {
                                    "usernev": "kornel4",
                                    "nev": "Lukács Kornél",
                                    "szul_dat": "1975-09-30",
                                    "ELSO FOGLALAS": "2016-05-08",
                                    "UTOLSO FOGLALAS": "2016-09-23"
                                },
                                {
                                    "usernev": "kristof4",
                                    "nev": "Poprádi Kristóf",
                                    "szul_dat": "1984-01-15",
                                    "ELSO FOGLALAS": "2016-04-08",
                                    "UTOLSO FOGLALAS": "2016-09-30"
                                },
                                {
                                    "usernev": "kriszti",
                                    "nev": "Horváth Krisztina",
                                    "szul_dat": "1978-06-12",
                                    "ELSO FOGLALAS": "2016-05-19",
                                    "UTOLSO FOGLALAS": "2017-03-03"
                                },
                                {
                                    "usernev": "krisztian4",
                                    "nev": "Czérna Krisztián",
                                    "szul_dat": "1970-08-01",
                                    "ELSO FOGLALAS": "2016-06-03",
                                    "UTOLSO FOGLALAS": "2017-02-23"
                                },
                                {
                                    "usernev": "KRISZTIANM",
                                    "nev": "Mogyródi Krisztián",
                                    "szul_dat": "1968-05-27",
                                    "ELSO FOGLALAS": "2016-04-09",
                                    "UTOLSO FOGLALAS": "2017-01-16"
                                },
                                {
                                    "usernev": "krisztina",
                                    "nev": "Szedlár Krisztina",
                                    "szul_dat": "1979-05-10",
                                    "ELSO FOGLALAS": "2016-05-21",
                                    "UTOLSO FOGLALAS": "2017-02-16"
                                },
                                {
                                    "usernev": "krisztina1",
                                    "nev": "Bori Krisztina",
                                    "szul_dat": "1969-10-13",
                                    "ELSO FOGLALAS": "2016-04-28",
                                    "UTOLSO FOGLALAS": "2017-01-21"
                                },
                                {
                                    "usernev": "KRISZTINAG",
                                    "nev": "Gyárfás Krisztina",
                                    "szul_dat": "1987-09-19",
                                    "ELSO FOGLALAS": "2016-04-23",
                                    "UTOLSO FOGLALAS": "2017-01-25"
                                },
                                {
                                    "usernev": "lajos",
                                    "nev": "Kiss Lajos",
                                    "szul_dat": "1978-10-31",
                                    "ELSO FOGLALAS": "2016-07-18",
                                    "UTOLSO FOGLALAS": "2017-02-12"
                                },
                                {
                                    "usernev": "lala",
                                    "nev": "Nagymihály Lajos",
                                    "szul_dat": "1997-02-24",
                                    "ELSO FOGLALAS": "2016-06-16",
                                    "UTOLSO FOGLALAS": "2017-01-17"
                                },
                                {
                                    "usernev": "laszlo1",
                                    "nev": "Farkas László",
                                    "szul_dat": "1967-10-30",
                                    "ELSO FOGLALAS": "2016-09-23",
                                    "UTOLSO FOGLALAS": "2016-09-23"
                                },
                                {
                                    "usernev": "laszlo2",
                                    "nev": "Móra László",
                                    "szul_dat": "1975-02-19",
                                    "ELSO FOGLALAS": "2016-04-06",
                                    "UTOLSO FOGLALAS": "2016-11-25"
                                },
                                {
                                    "usernev": "LASZLOA",
                                    "nev": "Antal László",
                                    "szul_dat": "1969-06-29",
                                    "ELSO FOGLALAS": "2016-06-03",
                                    "UTOLSO FOGLALAS": "2017-02-08"
                                },
                                {
                                    "usernev": "LASZLON",
                                    "nev": "Nagy László",
                                    "szul_dat": "1969-04-12",
                                    "ELSO FOGLALAS": "2016-06-03",
                                    "UTOLSO FOGLALAS": "2017-02-18"
                                },
                                {
                                    "usernev": "maria1",
                                    "nev": "Baráth Mária",
                                    "szul_dat": "1995-11-19",
                                    "ELSO FOGLALAS": "2016-05-13",
                                    "UTOLSO FOGLALAS": "2017-02-24"
                                },
                                {
                                    "usernev": "mark",
                                    "nev": "Kispál Márk",
                                    "szul_dat": "1996-01-23",
                                    "ELSO FOGLALAS": "2016-04-19",
                                    "UTOLSO FOGLALAS": "2016-11-19"
                                },
                                {
                                    "usernev": "MARKH",
                                    "nev": "Horváth Márk",
                                    "szul_dat": "1997-09-23",
                                    "ELSO FOGLALAS": "2016-09-14",
                                    "UTOLSO FOGLALAS": "2017-01-22"
                                },
                                {
                                    "usernev": "marton",
                                    "nev": "Kalacsi Márton",
                                    "szul_dat": "1989-06-24",
                                    "ELSO FOGLALAS": "2016-04-27",
                                    "UTOLSO FOGLALAS": "2017-03-02"
                                },
                                {
                                    "usernev": "MATEK",
                                    "nev": "Koza Máté",
                                    "szul_dat": "1997-02-28",
                                    "ELSO FOGLALAS": "2016-08-17",
                                    "UTOLSO FOGLALAS": "2017-01-16"
                                },
                                {
                                    "usernev": "matyas2",
                                    "nev": "Botka Mátyás",
                                    "szul_dat": "1972-07-07",
                                    "ELSO FOGLALAS": "2016-07-13",
                                    "UTOLSO FOGLALAS": "2016-12-09"
                                },
                                {
                                    "usernev": "MATYASS",
                                    "nev": "Szilágyi Mátyás",
                                    "szul_dat": "1975-03-22",
                                    "ELSO FOGLALAS": "2016-05-10",
                                    "UTOLSO FOGLALAS": "2017-01-09"
                                },
                                {
                                    "usernev": "MIHALYJ",
                                    "nev": "Juhász Mihály",
                                    "szul_dat": "1979-10-12",
                                    "ELSO FOGLALAS": "2016-05-30",
                                    "UTOLSO FOGLALAS": "2017-02-06"
                                },
                                {
                                    "usernev": "miklos2",
                                    "nev": "Gondos Miklós",
                                    "szul_dat": "1995-10-07",
                                    "ELSO FOGLALAS": "2016-04-19",
                                    "UTOLSO FOGLALAS": "2016-11-16"
                                },
                                {
                                    "usernev": "MIKLOSB",
                                    "nev": "Balla Miklós",
                                    "szul_dat": "1979-02-16",
                                    "ELSO FOGLALAS": "2016-06-26",
                                    "UTOLSO FOGLALAS": "2016-12-05"
                                },
                                {
                                    "usernev": "MONIKAM",
                                    "nev": "Mohos Mónika",
                                    "szul_dat": "1974-10-01",
                                    "ELSO FOGLALAS": "2016-04-29",
                                    "UTOLSO FOGLALAS": "2017-02-23"
                                },
                                {
                                    "usernev": "NANDORF",
                                    "nev": "Fő Nándor",
                                    "szul_dat": "1968-11-12",
                                    "ELSO FOGLALAS": "2016-04-06",
                                    "UTOLSO FOGLALAS": "2017-02-05"
                                },
                                {
                                    "usernev": "nikolett3",
                                    "nev": "Horváth Nikolett",
                                    "szul_dat": "1981-09-29",
                                    "ELSO FOGLALAS": "2016-05-24",
                                    "UTOLSO FOGLALAS": "2016-10-22"
                                },
                                {
                                    "usernev": "nikoletta4",
                                    "nev": "Kő Nikoletta",
                                    "szul_dat": "1972-01-10",
                                    "ELSO FOGLALAS": "2016-04-08",
                                    "UTOLSO FOGLALAS": "2017-02-01"
                                },
                                {
                                    "usernev": "NIKOLETTAT",
                                    "nev": "Tatár Nikoletta",
                                    "szul_dat": "1997-10-19",
                                    "ELSO FOGLALAS": "2016-05-22",
                                    "UTOLSO FOGLALAS": "2016-09-21"
                                },
                                {
                                    "usernev": "norbert",
                                    "nev": "Szűcs Norbert",
                                    "szul_dat": "1969-07-17",
                                    "ELSO FOGLALAS": "2016-07-08",
                                    "UTOLSO FOGLALAS": "2017-02-26"
                                },
                                {
                                    "usernev": "norbert2",
                                    "nev": "Hegedűs Norbert",
                                    "szul_dat": "1991-07-17",
                                    "ELSO FOGLALAS": "2016-04-19",
                                    "UTOLSO FOGLALAS": "2017-01-29"
                                },
                                {
                                    "usernev": "norbert4",
                                    "nev": "Mile Norbert",
                                    "szul_dat": "1983-06-15",
                                    "ELSO FOGLALAS": "2016-04-10",
                                    "UTOLSO FOGLALAS": "2017-03-03"
                                },
                                {
                                    "usernev": "norbert5",
                                    "nev": "Béres Norbert",
                                    "szul_dat": "1975-07-27",
                                    "ELSO FOGLALAS": "2016-06-24",
                                    "UTOLSO FOGLALAS": "2016-11-05"
                                },
                                {
                                    "usernev": "pal",
                                    "nev": "Barabás Pál",
                                    "szul_dat": "1968-02-06",
                                    "ELSO FOGLALAS": "2016-08-14",
                                    "UTOLSO FOGLALAS": "2017-02-20"
                                },
                                {
                                    "usernev": "peter1",
                                    "nev": "Kozma Péter",
                                    "szul_dat": "1976-03-18",
                                    "ELSO FOGLALAS": "2016-07-14",
                                    "UTOLSO FOGLALAS": "2017-02-28"
                                },
                                {
                                    "usernev": "peter2",
                                    "nev": "Bozsó Péter",
                                    "szul_dat": "1976-01-26",
                                    "ELSO FOGLALAS": "2016-07-03",
                                    "UTOLSO FOGLALAS": "2016-11-15"
                                },
                                {
                                    "usernev": "peter3",
                                    "nev": "Szalai Péter",
                                    "szul_dat": "1983-07-18",
                                    "ELSO FOGLALAS": "2016-06-30",
                                    "UTOLSO FOGLALAS": "2017-02-21"
                                },
                                {
                                    "usernev": "peter4",
                                    "nev": "Bíró Péter",
                                    "szul_dat": "1985-09-01",
                                    "ELSO FOGLALAS": "2016-04-12",
                                    "UTOLSO FOGLALAS": "2017-02-05"
                                },
                                {
                                    "usernev": "PETERB",
                                    "nev": "Berendi Péter",
                                    "szul_dat": "1969-01-01",
                                    "ELSO FOGLALAS": "2016-04-06",
                                    "UTOLSO FOGLALAS": "2016-11-17"
                                },
                                {
                                    "usernev": "polla",
                                    "nev": "Palágyi Polla",
                                    "szul_dat": "1994-02-04",
                                    "ELSO FOGLALAS": "2016-04-17",
                                    "UTOLSO FOGLALAS": "2017-02-11"
                                },
                                {
                                    "usernev": "rajmond4",
                                    "nev": "Rácz Rajmond",
                                    "szul_dat": "1993-09-25",
                                    "ELSO FOGLALAS": "2016-09-05",
                                    "UTOLSO FOGLALAS": "2016-11-16"
                                },
                                {
                                    "usernev": "reka4",
                                    "nev": "Szikszai Réka",
                                    "szul_dat": "1969-11-27",
                                    "ELSO FOGLALAS": "2016-07-27",
                                    "UTOLSO FOGLALAS": "2017-02-26"
                                },
                                {
                                    "usernev": "RENATAK",
                                    "nev": "Kardos Renáta",
                                    "szul_dat": "1988-05-17",
                                    "ELSO FOGLALAS": "2016-10-27",
                                    "UTOLSO FOGLALAS": "2017-03-01"
                                },
                                {
                                    "usernev": "RENATAS",
                                    "nev": "Szirmai Renáta",
                                    "szul_dat": "1991-03-26",
                                    "ELSO FOGLALAS": "2016-05-04",
                                    "UTOLSO FOGLALAS": "2017-02-14"
                                },
                                {
                                    "usernev": "robert2",
                                    "nev": "Patay Róbert",
                                    "szul_dat": "1977-01-08",
                                    "ELSO FOGLALAS": "2016-05-15",
                                    "UTOLSO FOGLALAS": "2016-12-17"
                                },
                                {
                                    "usernev": "ROBERTI",
                                    "nev": "Iván Róbert",
                                    "szul_dat": "1967-07-02",
                                    "ELSO FOGLALAS": "2016-07-12",
                                    "UTOLSO FOGLALAS": "2017-02-17"
                                },
                                {
                                    "usernev": "ROBERTP",
                                    "nev": "Pásztor Róbert",
                                    "szul_dat": "1972-05-16",
                                    "ELSO FOGLALAS": "2016-07-30",
                                    "UTOLSO FOGLALAS": "2016-09-08"
                                },
                                {
                                    "usernev": "roland",
                                    "nev": "Tóth Roland",
                                    "szul_dat": "1968-03-21",
                                    "ELSO FOGLALAS": "2016-06-09",
                                    "UTOLSO FOGLALAS": "2016-11-19"
                                },
                                {
                                    "usernev": "roland1",
                                    "nev": "Ferencz Roland",
                                    "szul_dat": "1985-12-31",
                                    "ELSO FOGLALAS": "2016-11-05",
                                    "UTOLSO FOGLALAS": "2017-01-16"
                                },
                                {
                                    "usernev": "roza2",
                                    "nev": "Bucskó Róza",
                                    "szul_dat": "1988-12-26",
                                    "ELSO FOGLALAS": "2016-09-10",
                                    "UTOLSO FOGLALAS": "2017-02-18"
                                },
                                {
                                    "usernev": "sandor",
                                    "nev": "Karasz Sándor",
                                    "szul_dat": "1970-01-27",
                                    "ELSO FOGLALAS": "2016-07-04",
                                    "UTOLSO FOGLALAS": "2016-09-19"
                                },
                                {
                                    "usernev": "sandor3",
                                    "nev": "Farkas Sándor",
                                    "szul_dat": "1989-01-27",
                                    "ELSO FOGLALAS": "2016-05-12",
                                    "UTOLSO FOGLALAS": "2016-11-10"
                                },
                                {
                                    "usernev": "sandor4",
                                    "nev": "Nagy Sándor",
                                    "szul_dat": "1997-06-11",
                                    "ELSO FOGLALAS": "2016-10-15",
                                    "UTOLSO FOGLALAS": "2017-01-22"
                                },
                                {
                                    "usernev": "sara",
                                    "nev": "Farkas Sára",
                                    "szul_dat": "1973-04-05",
                                    "ELSO FOGLALAS": "2016-05-28",
                                    "UTOLSO FOGLALAS": "2016-12-25"
                                },
                                {
                                    "usernev": "SEBASTIANF",
                                    "nev": "Foltényi Sebastián",
                                    "szul_dat": "1992-09-09",
                                    "ELSO FOGLALAS": "2016-04-06",
                                    "UTOLSO FOGLALAS": "2016-09-17"
                                },
                                {
                                    "usernev": "sebestyen",
                                    "nev": "Rab Sebestyén",
                                    "szul_dat": "1992-03-03",
                                    "ELSO FOGLALAS": "2016-04-07",
                                    "UTOLSO FOGLALAS": "2016-10-26"
                                },
                                {
                                    "usernev": "szabolcs",
                                    "nev": "Bodor Szabolcs",
                                    "szul_dat": "1990-07-16",
                                    "ELSO FOGLALAS": "2016-12-05",
                                    "UTOLSO FOGLALAS": "2016-12-05"
                                },
                                {
                                    "usernev": "SZABOLCSM",
                                    "nev": "Miklós Szabolcs",
                                    "szul_dat": "1980-08-11",
                                    "ELSO FOGLALAS": "2016-06-18",
                                    "UTOLSO FOGLALAS": "2017-02-04"
                                },
                                {
                                    "usernev": "SZILARDS",
                                    "nev": "Szalai Szilárd",
                                    "szul_dat": "1967-09-28",
                                    "ELSO FOGLALAS": "2016-04-23",
                                    "UTOLSO FOGLALAS": "2017-02-08"
                                },
                                {
                                    "usernev": "szilvia1",
                                    "nev": "Tari Szilvia",
                                    "szul_dat": "1971-03-09",
                                    "ELSO FOGLALAS": "2016-05-14",
                                    "UTOLSO FOGLALAS": "2017-01-28"
                                },
                                {
                                    "usernev": "tamara2",
                                    "nev": "Miklós Tamara",
                                    "szul_dat": "1980-08-11",
                                    "ELSO FOGLALAS": "2016-08-12",
                                    "UTOLSO FOGLALAS": "2016-11-15"
                                },
                                {
                                    "usernev": "tamas",
                                    "nev": "Antal Tamás",
                                    "szul_dat": "1984-09-05",
                                    "ELSO FOGLALAS": "2016-05-17",
                                    "UTOLSO FOGLALAS": "2017-02-14"
                                },
                                {
                                    "usernev": "TAMASF",
                                    "nev": "Fényes Tamás",
                                    "szul_dat": "1997-11-06",
                                    "ELSO FOGLALAS": "2016-05-03",
                                    "UTOLSO FOGLALAS": "2017-02-16"
                                },
                                {
                                    "usernev": "tibor",
                                    "nev": "Gombos Tibor",
                                    "szul_dat": "1993-11-28",
                                    "ELSO FOGLALAS": "2016-10-09",
                                    "UTOLSO FOGLALAS": "2016-11-05"
                                },
                                {
                                    "usernev": "tibor2",
                                    "nev": "Dániel Tibor",
                                    "szul_dat": "1985-02-02",
                                    "ELSO FOGLALAS": "2016-10-20",
                                    "UTOLSO FOGLALAS": "2016-10-20"
                                },
                                {
                                    "usernev": "tihamer",
                                    "nev": "Kazy Tihamér",
                                    "szul_dat": "1991-07-05",
                                    "ELSO FOGLALAS": "2016-05-30",
                                    "UTOLSO FOGLALAS": "2016-12-25"
                                },
                                {
                                    "usernev": "timea",
                                    "nev": "Papós Tímea",
                                    "szul_dat": "1996-01-08",
                                    "ELSO FOGLALAS": "2016-12-26",
                                    "UTOLSO FOGLALAS": "2016-12-26"
                                },
                                {
                                    "usernev": "timea2",
                                    "nev": "Dusha Tímea",
                                    "szul_dat": "1975-08-22",
                                    "ELSO FOGLALAS": "2016-06-06",
                                    "UTOLSO FOGLALAS": "2016-12-14"
                                },
                                {
                                    "usernev": "tunde",
                                    "nev": "Turcsik Tünde",
                                    "szul_dat": "1974-02-12",
                                    "ELSO FOGLALAS": "2016-06-03",
                                    "UTOLSO FOGLALAS": "2017-01-03"
                                },
                                {
                                    "usernev": "valentin",
                                    "nev": "Feró Valentin",
                                    "szul_dat": "1986-01-09",
                                    "ELSO FOGLALAS": "2016-05-24",
                                    "UTOLSO FOGLALAS": "2016-12-01"
                                },
                                {
                                    "usernev": "veronika4",
                                    "nev": "Tankó Veronika",
                                    "szul_dat": "1983-08-28",
                                    "ELSO FOGLALAS": "2016-05-30",
                                    "UTOLSO FOGLALAS": "2017-02-03"
                                },
                                {
                                    "usernev": "VIKTORIAU",
                                    "nev": "Urbán Viktoria",
                                    "szul_dat": "1996-05-03",
                                    "ELSO FOGLALAS": "2016-04-30",
                                    "UTOLSO FOGLALAS": "2016-10-26"
                                },
                                {
                                    "usernev": "VIKTORK",
                                    "nev": "Keresztúri Viktor",
                                    "szul_dat": "1989-05-05",
                                    "ELSO FOGLALAS": "2016-05-30",
                                    "UTOLSO FOGLALAS": "2016-06-06"
                                },
                                {
                                    "usernev": "vivien3",
                                    "nev": "Boros Vivien",
                                    "szul_dat": "1991-07-01",
                                    "ELSO FOGLALAS": "2016-05-02",
                                    "UTOLSO FOGLALAS": "2016-12-24"
                                },
                                {
                                    "usernev": "zoltan",
                                    "nev": "Fodor Zoltán",
                                    "szul_dat": "1979-11-25",
                                    "ELSO FOGLALAS": "2016-08-24",
                                    "UTOLSO FOGLALAS": "2016-09-05"
                                },
                                {
                                    "usernev": "zoltan4",
                                    "nev": "Barna Zoltán",
                                    "szul_dat": "1986-05-20",
                                    "ELSO FOGLALAS": "2016-05-12",
                                    "UTOLSO FOGLALAS": "2017-01-01"
                                },
                                {
                                    "usernev": "ZOLTANP",
                                    "nev": "Pintér Zoltán",
                                    "szul_dat": "1977-06-07",
                                    "ELSO FOGLALAS": "2016-06-05",
                                    "UTOLSO FOGLALAS": "2016-12-25"
                                },
                                {
                                    "usernev": "ZOLTANT",
                                    "nev": "Tóth Zoltán",
                                    "szul_dat": "1985-12-14",
                                    "ELSO FOGLALAS": "2016-05-01",
                                    "UTOLSO FOGLALAS": "2017-01-16"
                                },
                                {
                                    "usernev": "zsofi1",
                                    "nev": "Molnár Zsófi",
                                    "szul_dat": "1983-11-17",
                                    "ELSO FOGLALAS": "2016-06-16",
                                    "UTOLSO FOGLALAS": "2017-02-18"
                                },
                                {
                                    "usernev": "zsolt1",
                                    "nev": "Pulai Zsolt",
                                    "szul_dat": "1988-05-27",
                                    "ELSO FOGLALAS": "2016-04-14",
                                    "UTOLSO FOGLALAS": "2016-07-31"
                                },
                                {
                                    "usernev": "ZSOLTJ",
                                    "nev": "Józsa Zsolt",
                                    "szul_dat": "1983-09-29",
                                    "ELSO FOGLALAS": "2016-04-24",
                                    "UTOLSO FOGLALAS": "2016-10-01"
                                },
                                {
                                    "usernev": "zsuzsa",
                                    "nev": "Pusztai Zsuzsanna",
                                    "szul_dat": "1980-09-17",
                                    "ELSO FOGLALAS": "2016-07-24",
                                    "UTOLSO FOGLALAS": "2016-11-28"
                                },
                                {
                                    "usernev": "zsuzsa3",
                                    "nev": "Varsányi Zsuzsa",
                                    "szul_dat": "1979-03-06",
                                    "ELSO FOGLALAS": "2016-07-30",
                                    "UTOLSO FOGLALAS": "2016-10-27"
                                },
                                {
                                    "usernev": "zsuzsanna",
                                    "nev": "Barta Zsuzsanna",
                                    "szul_dat": "1994-10-07",
                                    "ELSO FOGLALAS": "2016-05-17",
                                    "UTOLSO FOGLALAS": "2017-01-16"
                                },
                                {
                                    "usernev": "ZSUZSAV",
                                    "nev": "Vajda Zsuzsa",
                                    "szul_dat": "1976-12-11",
                                    "ELSO FOGLALAS": "2016-04-14",
                                    "UTOLSO FOGLALAS": "2016-11-21"
                                }
                            ]
                        },
                        "text/html": [
                            "<table>",
                            "<tr><th>usernev</th><th>nev</th><th>szul_dat</th><th>ELSO FOGLALAS</th><th>UTOLSO FOGLALAS</th></tr>",
                            "<tr><td>adam1</td><td>Kiss Ádám</td><td>1991-12-28</td><td>2016-05-28</td><td>2016-10-19</td></tr>",
                            "<tr><td>adam3</td><td>Barkóci Ádám</td><td>1970-06-07</td><td>2016-09-12</td><td>2017-02-06</td></tr>",
                            "<tr><td>adam4</td><td>Bieniek Ádám</td><td>1976-08-01</td><td>2016-08-28</td><td>2017-02-23</td></tr>",
                            "<tr><td>agnes</td><td>Lengyel Ágnes</td><td>1979-12-10</td><td>2016-05-09</td><td>2016-11-07</td></tr>",
                            "<tr><td>agnes3</td><td>Hartyánszky Ágnes</td><td>1967-04-11</td><td>2016-08-04</td><td>2017-02-16</td></tr>",
                            "<tr><td>AGNESH</td><td>Horváth Ágnes</td><td>1981-12-24</td><td>2016-04-10</td><td>2017-01-16</td></tr>",
                            "<tr><td>AGNESK</td><td>Kovács Ágnes</td><td>1988-10-02</td><td>2016-07-29</td><td>2016-12-17</td></tr>",
                            "<tr><td>akos</td><td>Bíró Ákos</td><td>1982-04-24</td><td>2016-05-18</td><td>2016-12-29</td></tr>",
                            "<tr><td>aladar</td><td>Dunai Aladár</td><td>1980-11-01</td><td>2016-05-17</td><td>2016-11-22</td></tr>",
                            "<tr><td>alexandra</td><td>Bagóczki Alexandra</td><td>1992-03-25</td><td>2016-05-21</td><td>2017-01-19</td></tr>",
                            "<tr><td>andi</td><td>Maródi Andrea</td><td>1968-05-07</td><td>2016-05-08</td><td>2017-01-13</td></tr>",
                            "<tr><td>andras2</td><td>Tóth András</td><td>1997-10-31</td><td>2016-05-30</td><td>2017-02-08</td></tr>",
                            "<tr><td>andras21</td><td>Molnár András</td><td>1977-11-16</td><td>2016-06-21</td><td>2017-01-28</td></tr>",
                            "<tr><td>andras3</td><td>Vígh András</td><td>1971-04-02</td><td>2016-05-01</td><td>2017-02-02</td></tr>",
                            "<tr><td>andras4</td><td>Back András</td><td>1984-04-07</td><td>2016-09-17</td><td>2017-01-09</td></tr>",
                            "<tr><td>andras41</td><td>Komjáti András</td><td>1997-10-25</td><td>2016-05-14</td><td>2016-11-23</td></tr>",
                            "<tr><td>ANDRASE</td><td>Erdei András</td><td>1997-05-29</td><td>2016-04-24</td><td>2016-11-29</td></tr>",
                            "<tr><td>ANDRASN</td><td>Nagy András</td><td>1980-09-05</td><td>2016-11-25</td><td>2016-11-25</td></tr>",
                            "<tr><td>andrea</td><td>Kiss Andrea</td><td>1993-03-25</td><td>2016-07-27</td><td>2017-02-09</td></tr>",
                            "<tr><td>andrea3</td><td>Szomor Andrea</td><td>1996-05-10</td><td>2016-11-19</td><td>2016-11-19</td></tr>",
                            "<tr><td>andrea4</td><td>Neizer Andrea</td><td>1981-05-17</td><td>2016-05-27</td><td>2017-01-22</td></tr>",
                            "<tr><td>ANDREAT</td><td>Tornyos Andrea</td><td>1986-11-14</td><td>2016-07-27</td><td>2016-10-08</td></tr>",
                            "<tr><td>anett3</td><td>Pivarcsi Anett</td><td>1967-01-03</td><td>2016-04-10</td><td>2016-10-16</td></tr>",
                            "<tr><td>aniko</td><td>Tóth Anikó</td><td>1973-06-03</td><td>2016-06-25</td><td>2017-02-23</td></tr>",
                            "<tr><td>aniko4</td><td>Böröcz Anikó</td><td>1978-03-26</td><td>2016-07-02</td><td>2016-10-16</td></tr>",
                            "<tr><td>ANIKOS</td><td>Simon Anikó</td><td>1988-12-14</td><td>2016-04-19</td><td>2016-11-10</td></tr>",
                            "<tr><td>anita</td><td>Hamvay-Kovács Anita</td><td>1971-03-20</td><td>2016-09-28</td><td>2017-02-20</td></tr>",
                            "<tr><td>annamaria1</td><td>Szűcs Annamária</td><td>1990-04-27</td><td>2016-06-06</td><td>2017-01-30</td></tr>",
                            "<tr><td>ANNAMARIAR</td><td>Regős Annamária</td><td>1977-09-26</td><td>2016-06-08</td><td>2017-02-16</td></tr>",
                            "<tr><td>aron2</td><td>Jakab Áron</td><td>1971-04-26</td><td>2016-04-11</td><td>2017-02-26</td></tr>",
                            "<tr><td>ARONK</td><td>Kelemen Áron</td><td>1989-08-10</td><td>2016-04-06</td><td>2017-02-21</td></tr>",
                            "<tr><td>arpad2</td><td>Ötvös Árpád</td><td>1990-06-08</td><td>2016-06-05</td><td>2017-02-18</td></tr>",
                            "<tr><td>ARPADH</td><td>Horváth Árpád</td><td>1990-05-18</td><td>2016-06-06</td><td>2017-02-16</td></tr>",
                            "<tr><td>ARPADM</td><td>Móricz Árpád</td><td>1986-04-20</td><td>2016-05-29</td><td>2017-02-12</td></tr>",
                            "<tr><td>attila</td><td>Csóti Attila</td><td>1979-12-25</td><td>2016-09-30</td><td>2016-12-22</td></tr>",
                            "<tr><td>attila1</td><td>Gulyás Attila</td><td>1982-08-16</td><td>2016-05-20</td><td>2017-01-23</td></tr>",
                            "<tr><td>attila4</td><td>Baróti Attila</td><td>1975-11-06</td><td>2016-08-18</td><td>2017-02-15</td></tr>",
                            "<tr><td>ATTILAO</td><td>Opra Attila</td><td>1995-05-08</td><td>2016-05-21</td><td>2017-02-22</td></tr>",
                            "<tr><td>balazs1</td><td>Bozsik Balázs</td><td>1992-11-03</td><td>2016-05-07</td><td>2017-02-12</td></tr>",
                            "<tr><td>balazs2</td><td>Szűcs Balázs</td><td>1984-10-31</td><td>2016-04-16</td><td>2017-02-27</td></tr>",
                            "<tr><td>balazs3</td><td>Bakódy Balázs</td><td>1986-09-09</td><td>2016-07-17</td><td>2017-01-20</td></tr>",
                            "<tr><td>balint</td><td>Horváth Bálint</td><td>1996-03-17</td><td>2016-04-22</td><td>2016-11-24</td></tr>",
                            "<tr><td>balint1</td><td>Molnár Bálint</td><td>1989-08-24</td><td>2016-06-07</td><td>2017-01-03</td></tr>",
                            "<tr><td>balint2</td><td>Vukasinovity Bálint</td><td>1997-09-03</td><td>2016-07-21</td><td>2016-12-04</td></tr>",
                            "<tr><td>balu</td><td>Endresz Bálint</td><td>1976-08-01</td><td>2016-08-06</td><td>2016-12-22</td></tr>",
                            "<tr><td>beata4</td><td>Bagi Beáta</td><td>1994-03-19</td><td>2016-04-20</td><td>2016-10-03</td></tr>",
                            "<tr><td>BEATRIXK</td><td>Kerényi Beatrix</td><td>1972-04-06</td><td>2016-06-10</td><td>2017-02-08</td></tr>",
                            "<tr><td>BEATRIXS</td><td>Szekendi Beatrix</td><td>1981-04-06</td><td>2016-04-18</td><td>2017-02-03</td></tr>",
                            "<tr><td>BELAF</td><td>Farkas Béla</td><td>1995-02-24</td><td>2016-07-27</td><td>2016-12-06</td></tr>",
                            "<tr><td>bence</td><td>Győrffy Bence</td><td>1987-07-09</td><td>2016-05-08</td><td>2017-02-05</td></tr>",
                            "<tr><td>BENCEB</td><td>Bajusz Bence</td><td>1973-06-21</td><td>2016-05-14</td><td>2017-02-12</td></tr>",
                            "<tr><td>bernadett1</td><td>Simon Bernadett</td><td>1984-10-13</td><td>2016-06-12</td><td>2017-02-24</td></tr>",
                            "<tr><td>bernadett2</td><td>Kovács Bernadett</td><td>1996-08-20</td><td>2016-05-01</td><td>2017-01-24</td></tr>",
                            "<tr><td>BERNADETTO</td><td>Orbán Bernadett</td><td>1987-12-07</td><td>2016-04-10</td><td>2017-01-28</td></tr>",
                            "<tr><td>bertalan</td><td>Csiger Bertalan</td><td>1977-10-15</td><td>2016-05-18</td><td>2017-02-20</td></tr>",
                            "<tr><td>brigitta</td><td>Székely Brigitta</td><td>1978-09-13</td><td>2016-05-30</td><td>2017-01-23</td></tr>",
                            "<tr><td>brigitta3</td><td>Pataki Brigitta</td><td>1991-05-23</td><td>2016-06-01</td><td>2017-02-09</td></tr>",
                            "<tr><td>csongor3</td><td>Nagymihály Csongor</td><td>1984-03-05</td><td>2016-05-01</td><td>2017-02-13</td></tr>",
                            "<tr><td>dani</td><td>Vörös Dániel</td><td>1986-10-14</td><td>2016-06-06</td><td>2017-02-25</td></tr>",
                            "<tr><td>daniel</td><td>Rácz Dániel</td><td>1978-11-28</td><td>2016-04-10</td><td>2017-02-20</td></tr>",
                            "<tr><td>daniel1</td><td>Keszler Dániel</td><td>1969-07-16</td><td>2016-04-10</td><td>2017-03-01</td></tr>",
                            "<tr><td>david</td><td>Ambrus Dávid</td><td>1974-02-11</td><td>2016-05-18</td><td>2017-01-18</td></tr>",
                            "<tr><td>david1</td><td>Sobják Dávid</td><td>1970-08-16</td><td>2016-09-20</td><td>2017-02-25</td></tr>",
                            "<tr><td>david4</td><td>Berta Dávid</td><td>1990-10-08</td><td>2017-02-16</td><td>2017-02-16</td></tr>",
                            "<tr><td>debora</td><td>Barna Debóra</td><td>1976-10-14</td><td>2016-06-22</td><td>2017-02-04</td></tr>",
                            "<tr><td>denes</td><td>Tömböly Dénes</td><td>1975-03-14</td><td>2016-05-27</td><td>2016-11-06</td></tr>",
                            "<tr><td>dora3</td><td>Sarodi Dóra</td><td>1995-05-18</td><td>2016-08-16</td><td>2016-11-22</td></tr>",
                            "<tr><td>edit</td><td>Bittmann Edit</td><td>1984-04-20</td><td>2016-07-14</td><td>2017-02-08</td></tr>",
                            "<tr><td>emese</td><td>Kuruc Emese</td><td>1989-08-10</td><td>2016-07-22</td><td>2017-01-30</td></tr>",
                            "<tr><td>eszter</td><td>Molnár Eszter</td><td>1987-05-10</td><td>2016-08-12</td><td>2016-12-23</td></tr>",
                            "<tr><td>eszter2</td><td>Balogh Eszter</td><td>1998-01-31</td><td>2016-06-30</td><td>2016-12-29</td></tr>",
                            "<tr><td>eszter4</td><td>Fülöp Eszter</td><td>1993-06-28</td><td>2017-01-05</td><td>2017-02-26</td></tr>",
                            "<tr><td>ESZTERE</td><td>Érsek Eszter</td><td>1978-08-28</td><td>2016-05-30</td><td>2017-02-10</td></tr>",
                            "<tr><td>eva</td><td>Enyedi Éva</td><td>1967-06-30</td><td>2016-10-06</td><td>2017-01-14</td></tr>",
                            "<tr><td>eva2</td><td>Perlinger Éva</td><td>1971-08-19</td><td>2016-09-02</td><td>2017-01-06</td></tr>",
                            "<tr><td>EVAV</td><td>Viktor Éva</td><td>1980-12-26</td><td>2016-05-01</td><td>2017-02-04</td></tr>",
                            "<tr><td>ferenc1</td><td>Orosz Ferenc</td><td>1983-10-08</td><td>2016-05-08</td><td>2016-11-07</td></tr>",
                            "<tr><td>fruzsina4</td><td>Frank Fruzsina</td><td>1996-08-16</td><td>2016-06-02</td><td>2017-01-22</td></tr>",
                            "<tr><td>gabor1</td><td>Köves Gábor</td><td>1973-07-15</td><td>2016-06-20</td><td>2016-11-19</td></tr>",
                            "<tr><td>gabor4</td><td>Telek Gábor</td><td>1987-03-15</td><td>2016-04-26</td><td>2016-11-07</td></tr>",
                            "<tr><td>GABORS</td><td>Szöllősi Gábor</td><td>1990-05-31</td><td>NULL</td><td>NULL</td></tr>",
                            "<tr><td>gabriella1</td><td>Nagy Gabriella</td><td>1982-11-01</td><td>2016-04-21</td><td>2017-02-21</td></tr>",
                            "<tr><td>gabriella10</td><td>Vida Gabriella</td><td>1969-06-18</td><td>2016-10-01</td><td>2016-10-01</td></tr>",
                            "<tr><td>georgij</td><td>Nyíri Georgij</td><td>1983-02-23</td><td>2016-06-16</td><td>2016-09-18</td></tr>",
                            "<tr><td>gusztav</td><td>Bárci Gusztáv</td><td>1967-02-25</td><td>2016-05-06</td><td>2017-02-23</td></tr>",
                            "<tr><td>GYONGYIK</td><td>Kornseé Gyöngyi</td><td>1974-06-07</td><td>2016-06-02</td><td>2017-01-22</td></tr>",
                            "<tr><td>GYORGYO</td><td>Oroszi György</td><td>1980-03-23</td><td>2016-05-27</td><td>2017-02-24</td></tr>",
                            "<tr><td>henrik3</td><td>Nádudvari Henrik</td><td>1986-12-05</td><td>2016-08-24</td><td>2017-01-27</td></tr>",
                            "<tr><td>IBOLYAA</td><td>Andor Ibolya</td><td>1983-11-27</td><td>2016-08-29</td><td>2017-01-17</td></tr>",
                            "<tr><td>ilona3</td><td>Bosnyák Ilona</td><td>1990-08-06</td><td>2016-07-31</td><td>2016-12-25</td></tr>",
                            "<tr><td>imre</td><td>Búza Imre</td><td>1988-09-30</td><td>2016-09-17</td><td>2016-10-28</td></tr>",
                            "<tr><td>imre1</td><td>Papp Imre</td><td>1976-06-25</td><td>2016-06-23</td><td>2017-02-05</td></tr>",
                            "<tr><td>istvan</td><td>Soós István</td><td>1986-06-28</td><td>2016-10-07</td><td>2017-01-02</td></tr>",
                            "<tr><td>istvan1</td><td>Vizi István</td><td>1997-12-01</td><td>2016-04-16</td><td>2017-02-07</td></tr>",
                            "<tr><td>ISTVANV</td><td>Varga István</td><td>1989-04-09</td><td>2016-07-01</td><td>2016-09-29</td></tr>",
                            "<tr><td>janos3</td><td>Harangozó János</td><td>1967-11-02</td><td>2016-06-04</td><td>2017-02-12</td></tr>",
                            "<tr><td>JANOSG</td><td>Giliga János</td><td>1975-01-03</td><td>2016-05-09</td><td>2017-01-31</td></tr>",
                            "<tr><td>JANOSP</td><td>Pálinkás János</td><td>1984-10-12</td><td>2016-07-04</td><td>2016-12-18</td></tr>",
                            "<tr><td>jozsef</td><td>Gergely József</td><td>1985-11-01</td><td>2016-09-13</td><td>2016-12-06</td></tr>",
                            "<tr><td>jozsef2</td><td>Vajda József</td><td>1978-09-04</td><td>2016-07-06</td><td>2016-11-25</td></tr>",
                            "<tr><td>JOZSEFG</td><td>Gyuris József</td><td>1975-05-26</td><td>2016-05-02</td><td>2017-02-24</td></tr>",
                            "<tr><td>JUDITH</td><td>Hídasi Judit</td><td>1997-07-12</td><td>2016-06-06</td><td>2016-12-19</td></tr>",
                            "<tr><td>julia</td><td>Tóth Júlia</td><td>1993-03-02</td><td>2016-04-21</td><td>2017-02-27</td></tr>",
                            "<tr><td>julia4</td><td>Nagy Júlia</td><td>1985-08-11</td><td>2016-11-07</td><td>2017-02-04</td></tr>",
                            "<tr><td>julianna4</td><td>Szabó Julianna</td><td>1990-09-29</td><td>2016-07-20</td><td>2016-11-27</td></tr>",
                            "<tr><td>kata</td><td>Gondos Katalin</td><td>1968-06-22</td><td>2016-04-10</td><td>2017-01-15</td></tr>",
                            "<tr><td>katalin</td><td>Horváth Katalin</td><td>1968-01-01</td><td>2016-04-10</td><td>2017-02-24</td></tr>",
                            "<tr><td>katalin4</td><td>Kertész Katalin</td><td>1986-04-13</td><td>2016-07-01</td><td>2017-01-24</td></tr>",
                            "<tr><td>kati</td><td>Zatykó Katalin</td><td>1995-05-01</td><td>2016-06-06</td><td>2016-10-30</td></tr>",
                            "<tr><td>katka</td><td>Kovács Katalin</td><td>1975-03-31</td><td>2016-04-10</td><td>2017-01-19</td></tr>",
                            "<tr><td>klaudia2</td><td>Bakó Klaudia</td><td>1982-04-16</td><td>2016-06-06</td><td>2016-10-02</td></tr>",
                            "<tr><td>kornel4</td><td>Lukács Kornél</td><td>1975-09-30</td><td>2016-05-08</td><td>2016-09-23</td></tr>",
                            "<tr><td>kristof4</td><td>Poprádi Kristóf</td><td>1984-01-15</td><td>2016-04-08</td><td>2016-09-30</td></tr>",
                            "<tr><td>kriszti</td><td>Horváth Krisztina</td><td>1978-06-12</td><td>2016-05-19</td><td>2017-03-03</td></tr>",
                            "<tr><td>krisztian4</td><td>Czérna Krisztián</td><td>1970-08-01</td><td>2016-06-03</td><td>2017-02-23</td></tr>",
                            "<tr><td>KRISZTIANM</td><td>Mogyródi Krisztián</td><td>1968-05-27</td><td>2016-04-09</td><td>2017-01-16</td></tr>",
                            "<tr><td>krisztina</td><td>Szedlár Krisztina</td><td>1979-05-10</td><td>2016-05-21</td><td>2017-02-16</td></tr>",
                            "<tr><td>krisztina1</td><td>Bori Krisztina</td><td>1969-10-13</td><td>2016-04-28</td><td>2017-01-21</td></tr>",
                            "<tr><td>KRISZTINAG</td><td>Gyárfás Krisztina</td><td>1987-09-19</td><td>2016-04-23</td><td>2017-01-25</td></tr>",
                            "<tr><td>lajos</td><td>Kiss Lajos</td><td>1978-10-31</td><td>2016-07-18</td><td>2017-02-12</td></tr>",
                            "<tr><td>lala</td><td>Nagymihály Lajos</td><td>1997-02-24</td><td>2016-06-16</td><td>2017-01-17</td></tr>",
                            "<tr><td>laszlo1</td><td>Farkas László</td><td>1967-10-30</td><td>2016-09-23</td><td>2016-09-23</td></tr>",
                            "<tr><td>laszlo2</td><td>Móra László</td><td>1975-02-19</td><td>2016-04-06</td><td>2016-11-25</td></tr>",
                            "<tr><td>LASZLOA</td><td>Antal László</td><td>1969-06-29</td><td>2016-06-03</td><td>2017-02-08</td></tr>",
                            "<tr><td>LASZLON</td><td>Nagy László</td><td>1969-04-12</td><td>2016-06-03</td><td>2017-02-18</td></tr>",
                            "<tr><td>maria1</td><td>Baráth Mária</td><td>1995-11-19</td><td>2016-05-13</td><td>2017-02-24</td></tr>",
                            "<tr><td>mark</td><td>Kispál Márk</td><td>1996-01-23</td><td>2016-04-19</td><td>2016-11-19</td></tr>",
                            "<tr><td>MARKH</td><td>Horváth Márk</td><td>1997-09-23</td><td>2016-09-14</td><td>2017-01-22</td></tr>",
                            "<tr><td>marton</td><td>Kalacsi Márton</td><td>1989-06-24</td><td>2016-04-27</td><td>2017-03-02</td></tr>",
                            "<tr><td>MATEK</td><td>Koza Máté</td><td>1997-02-28</td><td>2016-08-17</td><td>2017-01-16</td></tr>",
                            "<tr><td>matyas2</td><td>Botka Mátyás</td><td>1972-07-07</td><td>2016-07-13</td><td>2016-12-09</td></tr>",
                            "<tr><td>MATYASS</td><td>Szilágyi Mátyás</td><td>1975-03-22</td><td>2016-05-10</td><td>2017-01-09</td></tr>",
                            "<tr><td>MIHALYJ</td><td>Juhász Mihály</td><td>1979-10-12</td><td>2016-05-30</td><td>2017-02-06</td></tr>",
                            "<tr><td>miklos2</td><td>Gondos Miklós</td><td>1995-10-07</td><td>2016-04-19</td><td>2016-11-16</td></tr>",
                            "<tr><td>MIKLOSB</td><td>Balla Miklós</td><td>1979-02-16</td><td>2016-06-26</td><td>2016-12-05</td></tr>",
                            "<tr><td>MONIKAM</td><td>Mohos Mónika</td><td>1974-10-01</td><td>2016-04-29</td><td>2017-02-23</td></tr>",
                            "<tr><td>NANDORF</td><td>Fő Nándor</td><td>1968-11-12</td><td>2016-04-06</td><td>2017-02-05</td></tr>",
                            "<tr><td>nikolett3</td><td>Horváth Nikolett</td><td>1981-09-29</td><td>2016-05-24</td><td>2016-10-22</td></tr>",
                            "<tr><td>nikoletta4</td><td>Kő Nikoletta</td><td>1972-01-10</td><td>2016-04-08</td><td>2017-02-01</td></tr>",
                            "<tr><td>NIKOLETTAT</td><td>Tatár Nikoletta</td><td>1997-10-19</td><td>2016-05-22</td><td>2016-09-21</td></tr>",
                            "<tr><td>norbert</td><td>Szűcs Norbert</td><td>1969-07-17</td><td>2016-07-08</td><td>2017-02-26</td></tr>",
                            "<tr><td>norbert2</td><td>Hegedűs Norbert</td><td>1991-07-17</td><td>2016-04-19</td><td>2017-01-29</td></tr>",
                            "<tr><td>norbert4</td><td>Mile Norbert</td><td>1983-06-15</td><td>2016-04-10</td><td>2017-03-03</td></tr>",
                            "<tr><td>norbert5</td><td>Béres Norbert</td><td>1975-07-27</td><td>2016-06-24</td><td>2016-11-05</td></tr>",
                            "<tr><td>pal</td><td>Barabás Pál</td><td>1968-02-06</td><td>2016-08-14</td><td>2017-02-20</td></tr>",
                            "<tr><td>peter1</td><td>Kozma Péter</td><td>1976-03-18</td><td>2016-07-14</td><td>2017-02-28</td></tr>",
                            "<tr><td>peter2</td><td>Bozsó Péter</td><td>1976-01-26</td><td>2016-07-03</td><td>2016-11-15</td></tr>",
                            "<tr><td>peter3</td><td>Szalai Péter</td><td>1983-07-18</td><td>2016-06-30</td><td>2017-02-21</td></tr>",
                            "<tr><td>peter4</td><td>Bíró Péter</td><td>1985-09-01</td><td>2016-04-12</td><td>2017-02-05</td></tr>",
                            "<tr><td>PETERB</td><td>Berendi Péter</td><td>1969-01-01</td><td>2016-04-06</td><td>2016-11-17</td></tr>",
                            "<tr><td>polla</td><td>Palágyi Polla</td><td>1994-02-04</td><td>2016-04-17</td><td>2017-02-11</td></tr>",
                            "<tr><td>rajmond4</td><td>Rácz Rajmond</td><td>1993-09-25</td><td>2016-09-05</td><td>2016-11-16</td></tr>",
                            "<tr><td>reka4</td><td>Szikszai Réka</td><td>1969-11-27</td><td>2016-07-27</td><td>2017-02-26</td></tr>",
                            "<tr><td>RENATAK</td><td>Kardos Renáta</td><td>1988-05-17</td><td>2016-10-27</td><td>2017-03-01</td></tr>",
                            "<tr><td>RENATAS</td><td>Szirmai Renáta</td><td>1991-03-26</td><td>2016-05-04</td><td>2017-02-14</td></tr>",
                            "<tr><td>robert2</td><td>Patay Róbert</td><td>1977-01-08</td><td>2016-05-15</td><td>2016-12-17</td></tr>",
                            "<tr><td>ROBERTI</td><td>Iván Róbert</td><td>1967-07-02</td><td>2016-07-12</td><td>2017-02-17</td></tr>",
                            "<tr><td>ROBERTP</td><td>Pásztor Róbert</td><td>1972-05-16</td><td>2016-07-30</td><td>2016-09-08</td></tr>",
                            "<tr><td>roland</td><td>Tóth Roland</td><td>1968-03-21</td><td>2016-06-09</td><td>2016-11-19</td></tr>",
                            "<tr><td>roland1</td><td>Ferencz Roland</td><td>1985-12-31</td><td>2016-11-05</td><td>2017-01-16</td></tr>",
                            "<tr><td>roza2</td><td>Bucskó Róza</td><td>1988-12-26</td><td>2016-09-10</td><td>2017-02-18</td></tr>",
                            "<tr><td>sandor</td><td>Karasz Sándor</td><td>1970-01-27</td><td>2016-07-04</td><td>2016-09-19</td></tr>",
                            "<tr><td>sandor3</td><td>Farkas Sándor</td><td>1989-01-27</td><td>2016-05-12</td><td>2016-11-10</td></tr>",
                            "<tr><td>sandor4</td><td>Nagy Sándor</td><td>1997-06-11</td><td>2016-10-15</td><td>2017-01-22</td></tr>",
                            "<tr><td>sara</td><td>Farkas Sára</td><td>1973-04-05</td><td>2016-05-28</td><td>2016-12-25</td></tr>",
                            "<tr><td>SEBASTIANF</td><td>Foltényi Sebastián</td><td>1992-09-09</td><td>2016-04-06</td><td>2016-09-17</td></tr>",
                            "<tr><td>sebestyen</td><td>Rab Sebestyén</td><td>1992-03-03</td><td>2016-04-07</td><td>2016-10-26</td></tr>",
                            "<tr><td>szabolcs</td><td>Bodor Szabolcs</td><td>1990-07-16</td><td>2016-12-05</td><td>2016-12-05</td></tr>",
                            "<tr><td>SZABOLCSM</td><td>Miklós Szabolcs</td><td>1980-08-11</td><td>2016-06-18</td><td>2017-02-04</td></tr>",
                            "<tr><td>SZILARDS</td><td>Szalai Szilárd</td><td>1967-09-28</td><td>2016-04-23</td><td>2017-02-08</td></tr>",
                            "<tr><td>szilvia1</td><td>Tari Szilvia</td><td>1971-03-09</td><td>2016-05-14</td><td>2017-01-28</td></tr>",
                            "<tr><td>tamara2</td><td>Miklós Tamara</td><td>1980-08-11</td><td>2016-08-12</td><td>2016-11-15</td></tr>",
                            "<tr><td>tamas</td><td>Antal Tamás</td><td>1984-09-05</td><td>2016-05-17</td><td>2017-02-14</td></tr>",
                            "<tr><td>TAMASF</td><td>Fényes Tamás</td><td>1997-11-06</td><td>2016-05-03</td><td>2017-02-16</td></tr>",
                            "<tr><td>tibor</td><td>Gombos Tibor</td><td>1993-11-28</td><td>2016-10-09</td><td>2016-11-05</td></tr>",
                            "<tr><td>tibor2</td><td>Dániel Tibor</td><td>1985-02-02</td><td>2016-10-20</td><td>2016-10-20</td></tr>",
                            "<tr><td>tihamer</td><td>Kazy Tihamér</td><td>1991-07-05</td><td>2016-05-30</td><td>2016-12-25</td></tr>",
                            "<tr><td>timea</td><td>Papós Tímea</td><td>1996-01-08</td><td>2016-12-26</td><td>2016-12-26</td></tr>",
                            "<tr><td>timea2</td><td>Dusha Tímea</td><td>1975-08-22</td><td>2016-06-06</td><td>2016-12-14</td></tr>",
                            "<tr><td>tunde</td><td>Turcsik Tünde</td><td>1974-02-12</td><td>2016-06-03</td><td>2017-01-03</td></tr>",
                            "<tr><td>valentin</td><td>Feró Valentin</td><td>1986-01-09</td><td>2016-05-24</td><td>2016-12-01</td></tr>",
                            "<tr><td>veronika4</td><td>Tankó Veronika</td><td>1983-08-28</td><td>2016-05-30</td><td>2017-02-03</td></tr>",
                            "<tr><td>VIKTORIAU</td><td>Urbán Viktoria</td><td>1996-05-03</td><td>2016-04-30</td><td>2016-10-26</td></tr>",
                            "<tr><td>VIKTORK</td><td>Keresztúri Viktor</td><td>1989-05-05</td><td>2016-05-30</td><td>2016-06-06</td></tr>",
                            "<tr><td>vivien3</td><td>Boros Vivien</td><td>1991-07-01</td><td>2016-05-02</td><td>2016-12-24</td></tr>",
                            "<tr><td>zoltan</td><td>Fodor Zoltán</td><td>1979-11-25</td><td>2016-08-24</td><td>2016-09-05</td></tr>",
                            "<tr><td>zoltan4</td><td>Barna Zoltán</td><td>1986-05-20</td><td>2016-05-12</td><td>2017-01-01</td></tr>",
                            "<tr><td>ZOLTANP</td><td>Pintér Zoltán</td><td>1977-06-07</td><td>2016-06-05</td><td>2016-12-25</td></tr>",
                            "<tr><td>ZOLTANT</td><td>Tóth Zoltán</td><td>1985-12-14</td><td>2016-05-01</td><td>2017-01-16</td></tr>",
                            "<tr><td>zsofi1</td><td>Molnár Zsófi</td><td>1983-11-17</td><td>2016-06-16</td><td>2017-02-18</td></tr>",
                            "<tr><td>zsolt1</td><td>Pulai Zsolt</td><td>1988-05-27</td><td>2016-04-14</td><td>2016-07-31</td></tr>",
                            "<tr><td>ZSOLTJ</td><td>Józsa Zsolt</td><td>1983-09-29</td><td>2016-04-24</td><td>2016-10-01</td></tr>",
                            "<tr><td>zsuzsa</td><td>Pusztai Zsuzsanna</td><td>1980-09-17</td><td>2016-07-24</td><td>2016-11-28</td></tr>",
                            "<tr><td>zsuzsa3</td><td>Varsányi Zsuzsa</td><td>1979-03-06</td><td>2016-07-30</td><td>2016-10-27</td></tr>",
                            "<tr><td>zsuzsanna</td><td>Barta Zsuzsanna</td><td>1994-10-07</td><td>2016-05-17</td><td>2017-01-16</td></tr>",
                            "<tr><td>ZSUZSAV</td><td>Vajda Zsuzsa</td><td>1976-12-11</td><td>2016-04-14</td><td>2016-11-21</td></tr>",
                            "</table>"
                        ]
                    }
                }
            ],
            "execution_count": 8
        },
        {
            "cell_type": "markdown",
            "source": [
                "5. <span style=\"background-color: rgb(255, 255, 255); color: rgb(0, 0, 0); font-family: &quot;Open Sans&quot;, sans-serif; font-size: 14.44px;\">Készítsünk ideiglenes táblát #MASKED_GUEST néven, ahol&nbsp;</span>   \n",
                "\n",
                "- a tábla felépítése megegyezik a vendég tábláéval, DE\n",
                "- a vendégek nevének csak az első 2, és az utolsó 3 karaktere jelenjen meg, közötte X-ek legyenek!"
            ],
            "metadata": {
                "azdata_cell_guid": "cab81be7-3c52-47d6-8c8f-f76f1ef40bd6"
            },
            "attachments": {}
        },
        {
            "cell_type": "code",
            "source": [
                "CREATE TABLE #MASKED_GUEST(\r\n",
                "\tUSERNEV nvarchar(20) MASKED WITH (Function = 'partial(2,\"XXX\",3)') NOT NULL,\r\n",
                "\tNEV nvarchar(50) NOT NULL,\r\n",
                "    EMAIL nvarchar(60) NOT NULL,\r\n",
                "\tSZAML_CIM nvarchar(100) NULL,\r\n",
                "\tSZUL_DAT date NULL,\r\n",
                ")"
            ],
            "metadata": {
                "azdata_cell_guid": "a68370d2-8982-4da0-8ea2-76d662477903",
                "language": "sql",
                "tags": []
            },
            "outputs": [],
            "execution_count": null
        },
        {
            "cell_type": "markdown",
            "source": [
                "6. <span style=\"background-color: rgb(255, 255, 255); color: rgb(0, 0, 0); font-family: &quot;Open Sans&quot;, sans-serif; font-size: 14.44px;\">Valósítsa meg REDIS-ben a következő táblákat:</span>\n",
                "\n",
                "- <span style=\"box-sizing: border-box; font-size: 0.9375rem;\">IRO(ID, nev, nemzetiseg)</span>\n",
                "- KONYV(ID, cim, mufaj, IRO\\_ID)\n",
                "\n",
                "Vigyen fel táblánként legalább 2-2 sornyi adatot!"
            ],
            "metadata": {
                "language": "sql",
                "azdata_cell_guid": "037c66c4-2466-40cf-b5a6-257541369aaa"
            },
            "attachments": {}
        },
        {
            "cell_type": "code",
            "source": [
                "HSET IRO:1 nev \"Galambos Gabor\" nemzetiseg Magyar\r\n",
                "HSET IRO:2 nev \"Biro Istvan\" nemzetiseg szlovák\r\n",
                "\r\n",
                "HSET KONYV:1 cim Malacmesek mufaj akcio IRO_ID 1\r\n",
                "HSET KONYV:2 cim \"Bobek és a lángos\" mufaj thriller IRO_ID 2"
            ],
            "metadata": {
                "language": "sql",
                "azdata_cell_guid": "a49bd9f6-a795-4c98-a652-1002fb2cbd68",
                "tags": []
            },
            "outputs": [],
            "execution_count": null
        },
        {
            "cell_type": "markdown",
            "source": [
                "7. <span style=\"background-color: rgb(255, 255, 255); color: rgb(0, 0, 0); font-family: &quot;Open Sans&quot;, sans-serif; font-size: 14.44px;\">Cassandra CQL Shellben hozza létre a következő táblát:</span>\n",
                "\n",
                "STUDENT(ID, Nev, Teljesitett\\_felevek, Eredmenyek, Nyelvtudas)\n",
                "\n",
                "- Az ID legyen az elsődleges kulcs\n",
                "- A Teljesitett félévek legyen LIST, tartalma egész számok, pl: 1, 2, 3\n",
                "- Az Eredmenyek legyen MAP, tartalma, hogy melyik félévben mennyi volt az átlag, pl: 1: 3,00, 2: 4.55, 3: 4,10\n",
                "- A Nyelvtudas legyen SET, tartalma a nyelvek megnevezése\n",
                "\n",
                "Vigyen fel legalább 2 rekordot!"
            ],
            "metadata": {
                "language": "sql",
                "azdata_cell_guid": "88f13d2f-5f62-4007-bf6b-7e1b93955d7d"
            },
            "attachments": {}
        },
        {
            "cell_type": "code",
            "source": [
                "create table STUDENT\r\n",
                "   ... (ID int,\r\n",
                "   ... Teljesitett_felevek list<int>,\r\n",
                "   ... Eredmenyek map<int, text>,\r\n",
                "   ... Nyelvtudas set<text>,\r\n",
                "   ... PRIMARY KEY (ID));\r\n",
                "\r\n",
                "insert into STUDENT(ID, Teljesitett_felevek, Eredmenyek, Nyelvtudas)\r\n",
                "values (1, [1, 2, 3], { 1: '3,11', 2: '2,75', 3: '4,00'}, { 'francia', 'angol'});\r\n",
                "\r\n",
                "insert into STUDENT(ID, Teljesitett_felevek, Eredmenyek, Nyelvtudas)\r\n",
                "values (2, [1, 2, 3, 4], { 1: '4,14', 2: '2,52', 3: '4,10', 4:'5,00'}, { 'spanyol', 'nemet'});\r\n",
                "\r\n",
                ""
            ],
            "metadata": {
                "language": "sql",
                "azdata_cell_guid": "0fcede26-a542-4624-a844-6c34d9cb793a"
            },
            "outputs": [],
            "execution_count": null
        }
    ]
}