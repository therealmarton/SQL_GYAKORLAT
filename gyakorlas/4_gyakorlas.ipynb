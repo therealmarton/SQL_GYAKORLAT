{
    "metadata": {
        "kernelspec": {
            "name": "SQL",
            "display_name": "SQL",
            "language": "sql"
        },
        "language_info": {
            "name": "sql",
            "version": ""
        }
    },
    "nbformat_minor": 2,
    "nbformat": 4,
    "cells": [
        {
            "cell_type": "markdown",
            "source": [
                "1. <span style=\"background-color: rgb(255, 255, 255); color: rgb(0, 0, 0); font-family: &quot;Open Sans&quot;, sans-serif; font-size: 14.44px;\">Készítsünk listát arról, hogy ügyfelenként (LOGIN), azon belül szállítási módonként hány megrendelés történt!&nbsp;</span> \n",
                "\n",
                "a. A lista tartalmazza a részösszegeket és a végösszeget is!  \n",
                "b. Használjuk a ROLLUP záradékot!"
            ],
            "metadata": {
                "azdata_cell_guid": "363cd270-6577-449b-9c89-d4b7c7972d52"
            },
            "attachments": {}
        },
        {
            "cell_type": "code",
            "source": [
                "SELECT [LOGIN], count(SORSZAM)\r\n",
                "FROM RENDELES\r\n",
                "GROUP BY \r\n",
                "ROLLUP(LOGIN, SZALL_MOD)\r\n",
                ""
            ],
            "metadata": {
                "azdata_cell_guid": "6ab9f633-a3b5-48c9-a1dc-4fb8235ae85b",
                "language": "sql"
            },
            "outputs": [
                {
                    "output_type": "display_data",
                    "data": {
                        "text/html": "(763 rows affected)"
                    },
                    "metadata": {}
                },
                {
                    "output_type": "display_data",
                    "data": {
                        "text/html": "Total execution time: 00:00:00.118"
                    },
                    "metadata": {}
                },
                {
                    "output_type": "execute_result",
                    "metadata": {},
                    "execution_count": 5,
                    "data": {
                        "application/vnd.dataresource+json": {
                            "schema": {
                                "fields": [
                                    {
                                        "name": "LOGIN"
                                    },
                                    {
                                        "name": "(No column name)"
                                    }
                                ]
                            },
                            "data": [
                                {
                                    "LOGIN": "adam1",
                                    "(No column name)": "129"
                                },
                                {
                                    "LOGIN": "adam1",
                                    "(No column name)": "132"
                                },
                                {
                                    "LOGIN": "adam1",
                                    "(No column name)": "131"
                                },
                                {
                                    "LOGIN": "adam1",
                                    "(No column name)": "392"
                                },
                                {
                                    "LOGIN": "adam3",
                                    "(No column name)": "10"
                                },
                                {
                                    "LOGIN": "adam3",
                                    "(No column name)": "3"
                                },
                                {
                                    "LOGIN": "adam3",
                                    "(No column name)": "2"
                                },
                                {
                                    "LOGIN": "adam3",
                                    "(No column name)": "15"
                                },
                                {
                                    "LOGIN": "adam4",
                                    "(No column name)": "12"
                                },
                                {
                                    "LOGIN": "adam4",
                                    "(No column name)": "6"
                                },
                                {
                                    "LOGIN": "adam4",
                                    "(No column name)": "11"
                                },
                                {
                                    "LOGIN": "adam4",
                                    "(No column name)": "29"
                                },
                                {
                                    "LOGIN": "agnes",
                                    "(No column name)": "144"
                                },
                                {
                                    "LOGIN": "agnes",
                                    "(No column name)": "130"
                                },
                                {
                                    "LOGIN": "agnes",
                                    "(No column name)": "144"
                                },
                                {
                                    "LOGIN": "agnes",
                                    "(No column name)": "418"
                                },
                                {
                                    "LOGIN": "agnes3",
                                    "(No column name)": "148"
                                },
                                {
                                    "LOGIN": "agnes3",
                                    "(No column name)": "146"
                                },
                                {
                                    "LOGIN": "agnes3",
                                    "(No column name)": "136"
                                },
                                {
                                    "LOGIN": "agnes3",
                                    "(No column name)": "430"
                                },
                                {
                                    "LOGIN": "AGNESH",
                                    "(No column name)": "2"
                                },
                                {
                                    "LOGIN": "AGNESH",
                                    "(No column name)": "3"
                                },
                                {
                                    "LOGIN": "AGNESH",
                                    "(No column name)": "6"
                                },
                                {
                                    "LOGIN": "AGNESH",
                                    "(No column name)": "11"
                                },
                                {
                                    "LOGIN": "AGNESK",
                                    "(No column name)": "1"
                                },
                                {
                                    "LOGIN": "AGNESK",
                                    "(No column name)": "7"
                                },
                                {
                                    "LOGIN": "AGNESK",
                                    "(No column name)": "7"
                                },
                                {
                                    "LOGIN": "AGNESK",
                                    "(No column name)": "15"
                                },
                                {
                                    "LOGIN": "akos",
                                    "(No column name)": "146"
                                },
                                {
                                    "LOGIN": "akos",
                                    "(No column name)": "143"
                                },
                                {
                                    "LOGIN": "akos",
                                    "(No column name)": "140"
                                },
                                {
                                    "LOGIN": "akos",
                                    "(No column name)": "429"
                                },
                                {
                                    "LOGIN": "aladar",
                                    "(No column name)": "156"
                                },
                                {
                                    "LOGIN": "aladar",
                                    "(No column name)": "134"
                                },
                                {
                                    "LOGIN": "aladar",
                                    "(No column name)": "118"
                                },
                                {
                                    "LOGIN": "aladar",
                                    "(No column name)": "408"
                                },
                                {
                                    "LOGIN": "alexandra",
                                    "(No column name)": "5"
                                },
                                {
                                    "LOGIN": "alexandra",
                                    "(No column name)": "9"
                                },
                                {
                                    "LOGIN": "alexandra",
                                    "(No column name)": "5"
                                },
                                {
                                    "LOGIN": "alexandra",
                                    "(No column name)": "19"
                                },
                                {
                                    "LOGIN": "andi",
                                    "(No column name)": "7"
                                },
                                {
                                    "LOGIN": "andi",
                                    "(No column name)": "4"
                                },
                                {
                                    "LOGIN": "andi",
                                    "(No column name)": "7"
                                },
                                {
                                    "LOGIN": "andi",
                                    "(No column name)": "18"
                                },
                                {
                                    "LOGIN": "andras2",
                                    "(No column name)": "4"
                                },
                                {
                                    "LOGIN": "andras2",
                                    "(No column name)": "7"
                                },
                                {
                                    "LOGIN": "andras2",
                                    "(No column name)": "11"
                                },
                                {
                                    "LOGIN": "andras2",
                                    "(No column name)": "22"
                                },
                                {
                                    "LOGIN": "andras21",
                                    "(No column name)": "140"
                                },
                                {
                                    "LOGIN": "andras21",
                                    "(No column name)": "124"
                                },
                                {
                                    "LOGIN": "andras21",
                                    "(No column name)": "126"
                                },
                                {
                                    "LOGIN": "andras21",
                                    "(No column name)": "390"
                                },
                                {
                                    "LOGIN": "andras3",
                                    "(No column name)": "3"
                                },
                                {
                                    "LOGIN": "andras3",
                                    "(No column name)": "1"
                                },
                                {
                                    "LOGIN": "andras3",
                                    "(No column name)": "5"
                                },
                                {
                                    "LOGIN": "andras3",
                                    "(No column name)": "9"
                                },
                                {
                                    "LOGIN": "andras4",
                                    "(No column name)": "4"
                                },
                                {
                                    "LOGIN": "andras4",
                                    "(No column name)": "4"
                                },
                                {
                                    "LOGIN": "andras4",
                                    "(No column name)": "4"
                                },
                                {
                                    "LOGIN": "andras4",
                                    "(No column name)": "12"
                                },
                                {
                                    "LOGIN": "andras41",
                                    "(No column name)": "149"
                                },
                                {
                                    "LOGIN": "andras41",
                                    "(No column name)": "137"
                                },
                                {
                                    "LOGIN": "andras41",
                                    "(No column name)": "133"
                                },
                                {
                                    "LOGIN": "andras41",
                                    "(No column name)": "419"
                                },
                                {
                                    "LOGIN": "ANDRASE",
                                    "(No column name)": "159"
                                },
                                {
                                    "LOGIN": "ANDRASE",
                                    "(No column name)": "141"
                                },
                                {
                                    "LOGIN": "ANDRASE",
                                    "(No column name)": "136"
                                },
                                {
                                    "LOGIN": "ANDRASE",
                                    "(No column name)": "436"
                                },
                                {
                                    "LOGIN": "ANDRASN",
                                    "(No column name)": "10"
                                },
                                {
                                    "LOGIN": "ANDRASN",
                                    "(No column name)": "9"
                                },
                                {
                                    "LOGIN": "ANDRASN",
                                    "(No column name)": "5"
                                },
                                {
                                    "LOGIN": "ANDRASN",
                                    "(No column name)": "24"
                                },
                                {
                                    "LOGIN": "andrea",
                                    "(No column name)": "12"
                                },
                                {
                                    "LOGIN": "andrea",
                                    "(No column name)": "4"
                                },
                                {
                                    "LOGIN": "andrea",
                                    "(No column name)": "8"
                                },
                                {
                                    "LOGIN": "andrea",
                                    "(No column name)": "24"
                                },
                                {
                                    "LOGIN": "andrea3",
                                    "(No column name)": "131"
                                },
                                {
                                    "LOGIN": "andrea3",
                                    "(No column name)": "136"
                                },
                                {
                                    "LOGIN": "andrea3",
                                    "(No column name)": "146"
                                },
                                {
                                    "LOGIN": "andrea3",
                                    "(No column name)": "413"
                                },
                                {
                                    "LOGIN": "andrea4",
                                    "(No column name)": "7"
                                },
                                {
                                    "LOGIN": "andrea4",
                                    "(No column name)": "4"
                                },
                                {
                                    "LOGIN": "andrea4",
                                    "(No column name)": "7"
                                },
                                {
                                    "LOGIN": "andrea4",
                                    "(No column name)": "18"
                                },
                                {
                                    "LOGIN": "ANDREAT",
                                    "(No column name)": "3"
                                },
                                {
                                    "LOGIN": "ANDREAT",
                                    "(No column name)": "6"
                                },
                                {
                                    "LOGIN": "ANDREAT",
                                    "(No column name)": "12"
                                },
                                {
                                    "LOGIN": "ANDREAT",
                                    "(No column name)": "21"
                                },
                                {
                                    "LOGIN": "anett3",
                                    "(No column name)": "3"
                                },
                                {
                                    "LOGIN": "anett3",
                                    "(No column name)": "6"
                                },
                                {
                                    "LOGIN": "anett3",
                                    "(No column name)": "9"
                                },
                                {
                                    "LOGIN": "anett3",
                                    "(No column name)": "18"
                                },
                                {
                                    "LOGIN": "aniko",
                                    "(No column name)": "128"
                                },
                                {
                                    "LOGIN": "aniko",
                                    "(No column name)": "137"
                                },
                                {
                                    "LOGIN": "aniko",
                                    "(No column name)": "138"
                                },
                                {
                                    "LOGIN": "aniko",
                                    "(No column name)": "403"
                                },
                                {
                                    "LOGIN": "aniko4",
                                    "(No column name)": "6"
                                },
                                {
                                    "LOGIN": "aniko4",
                                    "(No column name)": "6"
                                },
                                {
                                    "LOGIN": "aniko4",
                                    "(No column name)": "3"
                                },
                                {
                                    "LOGIN": "aniko4",
                                    "(No column name)": "15"
                                },
                                {
                                    "LOGIN": "ANIKOS",
                                    "(No column name)": "128"
                                },
                                {
                                    "LOGIN": "ANIKOS",
                                    "(No column name)": "126"
                                },
                                {
                                    "LOGIN": "ANIKOS",
                                    "(No column name)": "150"
                                },
                                {
                                    "LOGIN": "ANIKOS",
                                    "(No column name)": "404"
                                },
                                {
                                    "LOGIN": "anita",
                                    "(No column name)": "5"
                                },
                                {
                                    "LOGIN": "anita",
                                    "(No column name)": "2"
                                },
                                {
                                    "LOGIN": "anita",
                                    "(No column name)": "5"
                                },
                                {
                                    "LOGIN": "anita",
                                    "(No column name)": "12"
                                },
                                {
                                    "LOGIN": "annamaria1",
                                    "(No column name)": "5"
                                },
                                {
                                    "LOGIN": "annamaria1",
                                    "(No column name)": "4"
                                },
                                {
                                    "LOGIN": "annamaria1",
                                    "(No column name)": "7"
                                },
                                {
                                    "LOGIN": "annamaria1",
                                    "(No column name)": "16"
                                },
                                {
                                    "LOGIN": "ANNAMARIAR",
                                    "(No column name)": "8"
                                },
                                {
                                    "LOGIN": "ANNAMARIAR",
                                    "(No column name)": "2"
                                },
                                {
                                    "LOGIN": "ANNAMARIAR",
                                    "(No column name)": "3"
                                },
                                {
                                    "LOGIN": "ANNAMARIAR",
                                    "(No column name)": "13"
                                },
                                {
                                    "LOGIN": "aron2",
                                    "(No column name)": "132"
                                },
                                {
                                    "LOGIN": "aron2",
                                    "(No column name)": "133"
                                },
                                {
                                    "LOGIN": "aron2",
                                    "(No column name)": "144"
                                },
                                {
                                    "LOGIN": "aron2",
                                    "(No column name)": "409"
                                },
                                {
                                    "LOGIN": "ARONK",
                                    "(No column name)": "155"
                                },
                                {
                                    "LOGIN": "ARONK",
                                    "(No column name)": "120"
                                },
                                {
                                    "LOGIN": "ARONK",
                                    "(No column name)": "155"
                                },
                                {
                                    "LOGIN": "ARONK",
                                    "(No column name)": "430"
                                },
                                {
                                    "LOGIN": "arpad2",
                                    "(No column name)": "6"
                                },
                                {
                                    "LOGIN": "arpad2",
                                    "(No column name)": "1"
                                },
                                {
                                    "LOGIN": "arpad2",
                                    "(No column name)": "10"
                                },
                                {
                                    "LOGIN": "arpad2",
                                    "(No column name)": "17"
                                },
                                {
                                    "LOGIN": "ARPADH",
                                    "(No column name)": "6"
                                },
                                {
                                    "LOGIN": "ARPADH",
                                    "(No column name)": "3"
                                },
                                {
                                    "LOGIN": "ARPADH",
                                    "(No column name)": "5"
                                },
                                {
                                    "LOGIN": "ARPADH",
                                    "(No column name)": "14"
                                },
                                {
                                    "LOGIN": "ARPADM",
                                    "(No column name)": "6"
                                },
                                {
                                    "LOGIN": "ARPADM",
                                    "(No column name)": "3"
                                },
                                {
                                    "LOGIN": "ARPADM",
                                    "(No column name)": "7"
                                },
                                {
                                    "LOGIN": "ARPADM",
                                    "(No column name)": "16"
                                },
                                {
                                    "LOGIN": "attila1",
                                    "(No column name)": "5"
                                },
                                {
                                    "LOGIN": "attila1",
                                    "(No column name)": "7"
                                },
                                {
                                    "LOGIN": "attila1",
                                    "(No column name)": "6"
                                },
                                {
                                    "LOGIN": "attila1",
                                    "(No column name)": "18"
                                },
                                {
                                    "LOGIN": "attila4",
                                    "(No column name)": "135"
                                },
                                {
                                    "LOGIN": "attila4",
                                    "(No column name)": "125"
                                },
                                {
                                    "LOGIN": "attila4",
                                    "(No column name)": "141"
                                },
                                {
                                    "LOGIN": "attila4",
                                    "(No column name)": "401"
                                },
                                {
                                    "LOGIN": "ATTILAO",
                                    "(No column name)": "4"
                                },
                                {
                                    "LOGIN": "ATTILAO",
                                    "(No column name)": "4"
                                },
                                {
                                    "LOGIN": "ATTILAO",
                                    "(No column name)": "6"
                                },
                                {
                                    "LOGIN": "ATTILAO",
                                    "(No column name)": "14"
                                },
                                {
                                    "LOGIN": "balazs1",
                                    "(No column name)": "128"
                                },
                                {
                                    "LOGIN": "balazs1",
                                    "(No column name)": "136"
                                },
                                {
                                    "LOGIN": "balazs1",
                                    "(No column name)": "155"
                                },
                                {
                                    "LOGIN": "balazs1",
                                    "(No column name)": "419"
                                },
                                {
                                    "LOGIN": "balazs2",
                                    "(No column name)": "5"
                                },
                                {
                                    "LOGIN": "balazs2",
                                    "(No column name)": "7"
                                },
                                {
                                    "LOGIN": "balazs2",
                                    "(No column name)": "5"
                                },
                                {
                                    "LOGIN": "balazs2",
                                    "(No column name)": "17"
                                },
                                {
                                    "LOGIN": "balazs3",
                                    "(No column name)": "6"
                                },
                                {
                                    "LOGIN": "balazs3",
                                    "(No column name)": "6"
                                },
                                {
                                    "LOGIN": "balazs3",
                                    "(No column name)": "3"
                                },
                                {
                                    "LOGIN": "balazs3",
                                    "(No column name)": "15"
                                },
                                {
                                    "LOGIN": "balint",
                                    "(No column name)": "10"
                                },
                                {
                                    "LOGIN": "balint",
                                    "(No column name)": "4"
                                },
                                {
                                    "LOGIN": "balint",
                                    "(No column name)": "2"
                                },
                                {
                                    "LOGIN": "balint",
                                    "(No column name)": "16"
                                },
                                {
                                    "LOGIN": "balint1",
                                    "(No column name)": "158"
                                },
                                {
                                    "LOGIN": "balint1",
                                    "(No column name)": "152"
                                },
                                {
                                    "LOGIN": "balint1",
                                    "(No column name)": "152"
                                },
                                {
                                    "LOGIN": "balint1",
                                    "(No column name)": "462"
                                },
                                {
                                    "LOGIN": "balint2",
                                    "(No column name)": "8"
                                },
                                {
                                    "LOGIN": "balint2",
                                    "(No column name)": "6"
                                },
                                {
                                    "LOGIN": "balint2",
                                    "(No column name)": "3"
                                },
                                {
                                    "LOGIN": "balint2",
                                    "(No column name)": "17"
                                },
                                {
                                    "LOGIN": "balu",
                                    "(No column name)": "127"
                                },
                                {
                                    "LOGIN": "balu",
                                    "(No column name)": "137"
                                },
                                {
                                    "LOGIN": "balu",
                                    "(No column name)": "123"
                                },
                                {
                                    "LOGIN": "balu",
                                    "(No column name)": "387"
                                },
                                {
                                    "LOGIN": "BEATRIXK",
                                    "(No column name)": "135"
                                },
                                {
                                    "LOGIN": "BEATRIXK",
                                    "(No column name)": "155"
                                },
                                {
                                    "LOGIN": "BEATRIXK",
                                    "(No column name)": "145"
                                },
                                {
                                    "LOGIN": "BEATRIXK",
                                    "(No column name)": "435"
                                },
                                {
                                    "LOGIN": "BEATRIXS",
                                    "(No column name)": "146"
                                },
                                {
                                    "LOGIN": "BEATRIXS",
                                    "(No column name)": "141"
                                },
                                {
                                    "LOGIN": "BEATRIXS",
                                    "(No column name)": "133"
                                },
                                {
                                    "LOGIN": "BEATRIXS",
                                    "(No column name)": "420"
                                },
                                {
                                    "LOGIN": "BELAF",
                                    "(No column name)": "11"
                                },
                                {
                                    "LOGIN": "BELAF",
                                    "(No column name)": "2"
                                },
                                {
                                    "LOGIN": "BELAF",
                                    "(No column name)": "5"
                                },
                                {
                                    "LOGIN": "BELAF",
                                    "(No column name)": "18"
                                },
                                {
                                    "LOGIN": "bence",
                                    "(No column name)": "4"
                                },
                                {
                                    "LOGIN": "bence",
                                    "(No column name)": "6"
                                },
                                {
                                    "LOGIN": "bence",
                                    "(No column name)": "8"
                                },
                                {
                                    "LOGIN": "bence",
                                    "(No column name)": "18"
                                },
                                {
                                    "LOGIN": "BENCEB",
                                    "(No column name)": "5"
                                },
                                {
                                    "LOGIN": "BENCEB",
                                    "(No column name)": "7"
                                },
                                {
                                    "LOGIN": "BENCEB",
                                    "(No column name)": "5"
                                },
                                {
                                    "LOGIN": "BENCEB",
                                    "(No column name)": "17"
                                },
                                {
                                    "LOGIN": "bernadett1",
                                    "(No column name)": "10"
                                },
                                {
                                    "LOGIN": "bernadett1",
                                    "(No column name)": "5"
                                },
                                {
                                    "LOGIN": "bernadett1",
                                    "(No column name)": "5"
                                },
                                {
                                    "LOGIN": "bernadett1",
                                    "(No column name)": "20"
                                },
                                {
                                    "LOGIN": "bernadett2",
                                    "(No column name)": "6"
                                },
                                {
                                    "LOGIN": "bernadett2",
                                    "(No column name)": "2"
                                },
                                {
                                    "LOGIN": "bernadett2",
                                    "(No column name)": "7"
                                },
                                {
                                    "LOGIN": "bernadett2",
                                    "(No column name)": "15"
                                },
                                {
                                    "LOGIN": "BERNADETTO",
                                    "(No column name)": "7"
                                },
                                {
                                    "LOGIN": "BERNADETTO",
                                    "(No column name)": "2"
                                },
                                {
                                    "LOGIN": "BERNADETTO",
                                    "(No column name)": "7"
                                },
                                {
                                    "LOGIN": "BERNADETTO",
                                    "(No column name)": "16"
                                },
                                {
                                    "LOGIN": "bertalan",
                                    "(No column name)": "128"
                                },
                                {
                                    "LOGIN": "bertalan",
                                    "(No column name)": "124"
                                },
                                {
                                    "LOGIN": "bertalan",
                                    "(No column name)": "101"
                                },
                                {
                                    "LOGIN": "bertalan",
                                    "(No column name)": "353"
                                },
                                {
                                    "LOGIN": "brigitta",
                                    "(No column name)": "137"
                                },
                                {
                                    "LOGIN": "brigitta",
                                    "(No column name)": "137"
                                },
                                {
                                    "LOGIN": "brigitta",
                                    "(No column name)": "119"
                                },
                                {
                                    "LOGIN": "brigitta",
                                    "(No column name)": "393"
                                },
                                {
                                    "LOGIN": "brigitta3",
                                    "(No column name)": "144"
                                },
                                {
                                    "LOGIN": "brigitta3",
                                    "(No column name)": "130"
                                },
                                {
                                    "LOGIN": "brigitta3",
                                    "(No column name)": "139"
                                },
                                {
                                    "LOGIN": "brigitta3",
                                    "(No column name)": "413"
                                },
                                {
                                    "LOGIN": "csongor3",
                                    "(No column name)": "5"
                                },
                                {
                                    "LOGIN": "csongor3",
                                    "(No column name)": "2"
                                },
                                {
                                    "LOGIN": "csongor3",
                                    "(No column name)": "8"
                                },
                                {
                                    "LOGIN": "csongor3",
                                    "(No column name)": "15"
                                },
                                {
                                    "LOGIN": "dani",
                                    "(No column name)": "5"
                                },
                                {
                                    "LOGIN": "dani",
                                    "(No column name)": "8"
                                },
                                {
                                    "LOGIN": "dani",
                                    "(No column name)": "13"
                                },
                                {
                                    "LOGIN": "daniel",
                                    "(No column name)": "7"
                                },
                                {
                                    "LOGIN": "daniel",
                                    "(No column name)": "2"
                                },
                                {
                                    "LOGIN": "daniel",
                                    "(No column name)": "4"
                                },
                                {
                                    "LOGIN": "daniel",
                                    "(No column name)": "13"
                                },
                                {
                                    "LOGIN": "daniel1",
                                    "(No column name)": "156"
                                },
                                {
                                    "LOGIN": "daniel1",
                                    "(No column name)": "131"
                                },
                                {
                                    "LOGIN": "daniel1",
                                    "(No column name)": "132"
                                },
                                {
                                    "LOGIN": "daniel1",
                                    "(No column name)": "419"
                                },
                                {
                                    "LOGIN": "david",
                                    "(No column name)": "161"
                                },
                                {
                                    "LOGIN": "david",
                                    "(No column name)": "144"
                                },
                                {
                                    "LOGIN": "david",
                                    "(No column name)": "146"
                                },
                                {
                                    "LOGIN": "david",
                                    "(No column name)": "451"
                                },
                                {
                                    "LOGIN": "david1",
                                    "(No column name)": "8"
                                },
                                {
                                    "LOGIN": "david1",
                                    "(No column name)": "1"
                                },
                                {
                                    "LOGIN": "david1",
                                    "(No column name)": "8"
                                },
                                {
                                    "LOGIN": "david1",
                                    "(No column name)": "17"
                                },
                                {
                                    "LOGIN": "david4",
                                    "(No column name)": "3"
                                },
                                {
                                    "LOGIN": "david4",
                                    "(No column name)": "8"
                                },
                                {
                                    "LOGIN": "david4",
                                    "(No column name)": "10"
                                },
                                {
                                    "LOGIN": "david4",
                                    "(No column name)": "21"
                                },
                                {
                                    "LOGIN": "debora",
                                    "(No column name)": "7"
                                },
                                {
                                    "LOGIN": "debora",
                                    "(No column name)": "6"
                                },
                                {
                                    "LOGIN": "debora",
                                    "(No column name)": "3"
                                },
                                {
                                    "LOGIN": "debora",
                                    "(No column name)": "16"
                                },
                                {
                                    "LOGIN": "denes",
                                    "(No column name)": "3"
                                },
                                {
                                    "LOGIN": "denes",
                                    "(No column name)": "2"
                                },
                                {
                                    "LOGIN": "denes",
                                    "(No column name)": "4"
                                },
                                {
                                    "LOGIN": "denes",
                                    "(No column name)": "9"
                                },
                                {
                                    "LOGIN": "dora3",
                                    "(No column name)": "144"
                                },
                                {
                                    "LOGIN": "dora3",
                                    "(No column name)": "124"
                                },
                                {
                                    "LOGIN": "dora3",
                                    "(No column name)": "164"
                                },
                                {
                                    "LOGIN": "dora3",
                                    "(No column name)": "432"
                                },
                                {
                                    "LOGIN": "edit",
                                    "(No column name)": "7"
                                },
                                {
                                    "LOGIN": "edit",
                                    "(No column name)": "2"
                                },
                                {
                                    "LOGIN": "edit",
                                    "(No column name)": "4"
                                },
                                {
                                    "LOGIN": "edit",
                                    "(No column name)": "13"
                                },
                                {
                                    "LOGIN": "emese",
                                    "(No column name)": "128"
                                },
                                {
                                    "LOGIN": "emese",
                                    "(No column name)": "136"
                                },
                                {
                                    "LOGIN": "emese",
                                    "(No column name)": "142"
                                },
                                {
                                    "LOGIN": "emese",
                                    "(No column name)": "406"
                                },
                                {
                                    "LOGIN": "eszter2",
                                    "(No column name)": "127"
                                },
                                {
                                    "LOGIN": "eszter2",
                                    "(No column name)": "136"
                                },
                                {
                                    "LOGIN": "eszter2",
                                    "(No column name)": "152"
                                },
                                {
                                    "LOGIN": "eszter2",
                                    "(No column name)": "415"
                                },
                                {
                                    "LOGIN": "eszter4",
                                    "(No column name)": "141"
                                },
                                {
                                    "LOGIN": "eszter4",
                                    "(No column name)": "134"
                                },
                                {
                                    "LOGIN": "eszter4",
                                    "(No column name)": "149"
                                },
                                {
                                    "LOGIN": "eszter4",
                                    "(No column name)": "424"
                                },
                                {
                                    "LOGIN": "ESZTERE",
                                    "(No column name)": "6"
                                },
                                {
                                    "LOGIN": "ESZTERE",
                                    "(No column name)": "9"
                                },
                                {
                                    "LOGIN": "ESZTERE",
                                    "(No column name)": "7"
                                },
                                {
                                    "LOGIN": "ESZTERE",
                                    "(No column name)": "22"
                                },
                                {
                                    "LOGIN": "eva",
                                    "(No column name)": "125"
                                },
                                {
                                    "LOGIN": "eva",
                                    "(No column name)": "140"
                                },
                                {
                                    "LOGIN": "eva",
                                    "(No column name)": "139"
                                },
                                {
                                    "LOGIN": "eva",
                                    "(No column name)": "404"
                                },
                                {
                                    "LOGIN": "eva2",
                                    "(No column name)": "154"
                                },
                                {
                                    "LOGIN": "eva2",
                                    "(No column name)": "138"
                                },
                                {
                                    "LOGIN": "eva2",
                                    "(No column name)": "170"
                                },
                                {
                                    "LOGIN": "eva2",
                                    "(No column name)": "462"
                                },
                                {
                                    "LOGIN": "EVAV",
                                    "(No column name)": "2"
                                },
                                {
                                    "LOGIN": "EVAV",
                                    "(No column name)": "1"
                                },
                                {
                                    "LOGIN": "EVAV",
                                    "(No column name)": "4"
                                },
                                {
                                    "LOGIN": "EVAV",
                                    "(No column name)": "7"
                                },
                                {
                                    "LOGIN": "ferenc1",
                                    "(No column name)": "144"
                                },
                                {
                                    "LOGIN": "ferenc1",
                                    "(No column name)": "158"
                                },
                                {
                                    "LOGIN": "ferenc1",
                                    "(No column name)": "135"
                                },
                                {
                                    "LOGIN": "ferenc1",
                                    "(No column name)": "437"
                                },
                                {
                                    "LOGIN": "fruzsina4",
                                    "(No column name)": "8"
                                },
                                {
                                    "LOGIN": "fruzsina4",
                                    "(No column name)": "3"
                                },
                                {
                                    "LOGIN": "fruzsina4",
                                    "(No column name)": "7"
                                },
                                {
                                    "LOGIN": "fruzsina4",
                                    "(No column name)": "18"
                                },
                                {
                                    "LOGIN": "gabor1",
                                    "(No column name)": "9"
                                },
                                {
                                    "LOGIN": "gabor1",
                                    "(No column name)": "5"
                                },
                                {
                                    "LOGIN": "gabor1",
                                    "(No column name)": "5"
                                },
                                {
                                    "LOGIN": "gabor1",
                                    "(No column name)": "19"
                                },
                                {
                                    "LOGIN": "gabor4",
                                    "(No column name)": "7"
                                },
                                {
                                    "LOGIN": "gabor4",
                                    "(No column name)": "9"
                                },
                                {
                                    "LOGIN": "gabor4",
                                    "(No column name)": "4"
                                },
                                {
                                    "LOGIN": "gabor4",
                                    "(No column name)": "20"
                                },
                                {
                                    "LOGIN": "GABORS",
                                    "(No column name)": "5"
                                },
                                {
                                    "LOGIN": "GABORS",
                                    "(No column name)": "6"
                                },
                                {
                                    "LOGIN": "GABORS",
                                    "(No column name)": "4"
                                },
                                {
                                    "LOGIN": "GABORS",
                                    "(No column name)": "15"
                                },
                                {
                                    "LOGIN": "gabriella1",
                                    "(No column name)": "5"
                                },
                                {
                                    "LOGIN": "gabriella1",
                                    "(No column name)": "4"
                                },
                                {
                                    "LOGIN": "gabriella1",
                                    "(No column name)": "5"
                                },
                                {
                                    "LOGIN": "gabriella1",
                                    "(No column name)": "14"
                                },
                                {
                                    "LOGIN": "gabriella10",
                                    "(No column name)": "4"
                                },
                                {
                                    "LOGIN": "gabriella10",
                                    "(No column name)": "5"
                                },
                                {
                                    "LOGIN": "gabriella10",
                                    "(No column name)": "7"
                                },
                                {
                                    "LOGIN": "gabriella10",
                                    "(No column name)": "16"
                                },
                                {
                                    "LOGIN": "georgij",
                                    "(No column name)": "9"
                                },
                                {
                                    "LOGIN": "georgij",
                                    "(No column name)": "2"
                                },
                                {
                                    "LOGIN": "georgij",
                                    "(No column name)": "10"
                                },
                                {
                                    "LOGIN": "georgij",
                                    "(No column name)": "21"
                                },
                                {
                                    "LOGIN": "gusztav",
                                    "(No column name)": "5"
                                },
                                {
                                    "LOGIN": "gusztav",
                                    "(No column name)": "4"
                                },
                                {
                                    "LOGIN": "gusztav",
                                    "(No column name)": "5"
                                },
                                {
                                    "LOGIN": "gusztav",
                                    "(No column name)": "14"
                                },
                                {
                                    "LOGIN": "GYONGYIK",
                                    "(No column name)": "6"
                                },
                                {
                                    "LOGIN": "GYONGYIK",
                                    "(No column name)": "6"
                                },
                                {
                                    "LOGIN": "GYONGYIK",
                                    "(No column name)": "3"
                                },
                                {
                                    "LOGIN": "GYONGYIK",
                                    "(No column name)": "15"
                                },
                                {
                                    "LOGIN": "GYORGYO",
                                    "(No column name)": "7"
                                },
                                {
                                    "LOGIN": "GYORGYO",
                                    "(No column name)": "4"
                                },
                                {
                                    "LOGIN": "GYORGYO",
                                    "(No column name)": "5"
                                },
                                {
                                    "LOGIN": "GYORGYO",
                                    "(No column name)": "16"
                                },
                                {
                                    "LOGIN": "henrik3",
                                    "(No column name)": "7"
                                },
                                {
                                    "LOGIN": "henrik3",
                                    "(No column name)": "4"
                                },
                                {
                                    "LOGIN": "henrik3",
                                    "(No column name)": "5"
                                },
                                {
                                    "LOGIN": "henrik3",
                                    "(No column name)": "16"
                                },
                                {
                                    "LOGIN": "IBOLYAA",
                                    "(No column name)": "140"
                                },
                                {
                                    "LOGIN": "IBOLYAA",
                                    "(No column name)": "125"
                                },
                                {
                                    "LOGIN": "IBOLYAA",
                                    "(No column name)": "157"
                                },
                                {
                                    "LOGIN": "IBOLYAA",
                                    "(No column name)": "422"
                                },
                                {
                                    "LOGIN": "ilona3",
                                    "(No column name)": "9"
                                },
                                {
                                    "LOGIN": "ilona3",
                                    "(No column name)": "2"
                                },
                                {
                                    "LOGIN": "ilona3",
                                    "(No column name)": "7"
                                },
                                {
                                    "LOGIN": "ilona3",
                                    "(No column name)": "18"
                                },
                                {
                                    "LOGIN": "imre",
                                    "(No column name)": "5"
                                },
                                {
                                    "LOGIN": "imre",
                                    "(No column name)": "4"
                                },
                                {
                                    "LOGIN": "imre",
                                    "(No column name)": "6"
                                },
                                {
                                    "LOGIN": "imre",
                                    "(No column name)": "15"
                                },
                                {
                                    "LOGIN": "imre1",
                                    "(No column name)": "8"
                                },
                                {
                                    "LOGIN": "imre1",
                                    "(No column name)": "4"
                                },
                                {
                                    "LOGIN": "imre1",
                                    "(No column name)": "3"
                                },
                                {
                                    "LOGIN": "imre1",
                                    "(No column name)": "15"
                                },
                                {
                                    "LOGIN": "istvan",
                                    "(No column name)": "3"
                                },
                                {
                                    "LOGIN": "istvan",
                                    "(No column name)": "4"
                                },
                                {
                                    "LOGIN": "istvan",
                                    "(No column name)": "4"
                                },
                                {
                                    "LOGIN": "istvan",
                                    "(No column name)": "11"
                                },
                                {
                                    "LOGIN": "istvan1",
                                    "(No column name)": "8"
                                },
                                {
                                    "LOGIN": "istvan1",
                                    "(No column name)": "4"
                                },
                                {
                                    "LOGIN": "istvan1",
                                    "(No column name)": "7"
                                },
                                {
                                    "LOGIN": "istvan1",
                                    "(No column name)": "19"
                                },
                                {
                                    "LOGIN": "ISTVANV",
                                    "(No column name)": "4"
                                },
                                {
                                    "LOGIN": "ISTVANV",
                                    "(No column name)": "9"
                                },
                                {
                                    "LOGIN": "ISTVANV",
                                    "(No column name)": "8"
                                },
                                {
                                    "LOGIN": "ISTVANV",
                                    "(No column name)": "21"
                                },
                                {
                                    "LOGIN": "janos3",
                                    "(No column name)": "5"
                                },
                                {
                                    "LOGIN": "janos3",
                                    "(No column name)": "2"
                                },
                                {
                                    "LOGIN": "janos3",
                                    "(No column name)": "6"
                                },
                                {
                                    "LOGIN": "janos3",
                                    "(No column name)": "13"
                                },
                                {
                                    "LOGIN": "JANOSG",
                                    "(No column name)": "3"
                                },
                                {
                                    "LOGIN": "JANOSG",
                                    "(No column name)": "3"
                                },
                                {
                                    "LOGIN": "JANOSG",
                                    "(No column name)": "4"
                                },
                                {
                                    "LOGIN": "JANOSG",
                                    "(No column name)": "10"
                                },
                                {
                                    "LOGIN": "JANOSP",
                                    "(No column name)": "7"
                                },
                                {
                                    "LOGIN": "JANOSP",
                                    "(No column name)": "7"
                                },
                                {
                                    "LOGIN": "JANOSP",
                                    "(No column name)": "3"
                                },
                                {
                                    "LOGIN": "JANOSP",
                                    "(No column name)": "17"
                                },
                                {
                                    "LOGIN": "jozsef",
                                    "(No column name)": "116"
                                },
                                {
                                    "LOGIN": "jozsef",
                                    "(No column name)": "132"
                                },
                                {
                                    "LOGIN": "jozsef",
                                    "(No column name)": "134"
                                },
                                {
                                    "LOGIN": "jozsef",
                                    "(No column name)": "382"
                                },
                                {
                                    "LOGIN": "jozsef2",
                                    "(No column name)": "7"
                                },
                                {
                                    "LOGIN": "jozsef2",
                                    "(No column name)": "2"
                                },
                                {
                                    "LOGIN": "jozsef2",
                                    "(No column name)": "4"
                                },
                                {
                                    "LOGIN": "jozsef2",
                                    "(No column name)": "13"
                                },
                                {
                                    "LOGIN": "JOZSEFG",
                                    "(No column name)": "11"
                                },
                                {
                                    "LOGIN": "JOZSEFG",
                                    "(No column name)": "1"
                                },
                                {
                                    "LOGIN": "JOZSEFG",
                                    "(No column name)": "9"
                                },
                                {
                                    "LOGIN": "JOZSEFG",
                                    "(No column name)": "21"
                                },
                                {
                                    "LOGIN": "JUDITH",
                                    "(No column name)": "170"
                                },
                                {
                                    "LOGIN": "JUDITH",
                                    "(No column name)": "130"
                                },
                                {
                                    "LOGIN": "JUDITH",
                                    "(No column name)": "150"
                                },
                                {
                                    "LOGIN": "JUDITH",
                                    "(No column name)": "450"
                                },
                                {
                                    "LOGIN": "julia",
                                    "(No column name)": "137"
                                },
                                {
                                    "LOGIN": "julia",
                                    "(No column name)": "160"
                                },
                                {
                                    "LOGIN": "julia",
                                    "(No column name)": "138"
                                },
                                {
                                    "LOGIN": "julia",
                                    "(No column name)": "435"
                                },
                                {
                                    "LOGIN": "julia4",
                                    "(No column name)": "2"
                                },
                                {
                                    "LOGIN": "julia4",
                                    "(No column name)": "4"
                                },
                                {
                                    "LOGIN": "julia4",
                                    "(No column name)": "8"
                                },
                                {
                                    "LOGIN": "julia4",
                                    "(No column name)": "14"
                                },
                                {
                                    "LOGIN": "julianna4",
                                    "(No column name)": "8"
                                },
                                {
                                    "LOGIN": "julianna4",
                                    "(No column name)": "12"
                                },
                                {
                                    "LOGIN": "julianna4",
                                    "(No column name)": "7"
                                },
                                {
                                    "LOGIN": "julianna4",
                                    "(No column name)": "27"
                                },
                                {
                                    "LOGIN": "kata",
                                    "(No column name)": "5"
                                },
                                {
                                    "LOGIN": "kata",
                                    "(No column name)": "4"
                                },
                                {
                                    "LOGIN": "kata",
                                    "(No column name)": "3"
                                },
                                {
                                    "LOGIN": "kata",
                                    "(No column name)": "12"
                                },
                                {
                                    "LOGIN": "katalin",
                                    "(No column name)": "7"
                                },
                                {
                                    "LOGIN": "katalin",
                                    "(No column name)": "7"
                                },
                                {
                                    "LOGIN": "katalin",
                                    "(No column name)": "5"
                                },
                                {
                                    "LOGIN": "katalin",
                                    "(No column name)": "19"
                                },
                                {
                                    "LOGIN": "katalin4",
                                    "(No column name)": "7"
                                },
                                {
                                    "LOGIN": "katalin4",
                                    "(No column name)": "5"
                                },
                                {
                                    "LOGIN": "katalin4",
                                    "(No column name)": "11"
                                },
                                {
                                    "LOGIN": "katalin4",
                                    "(No column name)": "23"
                                },
                                {
                                    "LOGIN": "kati",
                                    "(No column name)": "4"
                                },
                                {
                                    "LOGIN": "kati",
                                    "(No column name)": "5"
                                },
                                {
                                    "LOGIN": "kati",
                                    "(No column name)": "4"
                                },
                                {
                                    "LOGIN": "kati",
                                    "(No column name)": "13"
                                },
                                {
                                    "LOGIN": "katka",
                                    "(No column name)": "6"
                                },
                                {
                                    "LOGIN": "katka",
                                    "(No column name)": "6"
                                },
                                {
                                    "LOGIN": "katka",
                                    "(No column name)": "10"
                                },
                                {
                                    "LOGIN": "katka",
                                    "(No column name)": "22"
                                },
                                {
                                    "LOGIN": "klaudia2",
                                    "(No column name)": "3"
                                },
                                {
                                    "LOGIN": "klaudia2",
                                    "(No column name)": "9"
                                },
                                {
                                    "LOGIN": "klaudia2",
                                    "(No column name)": "5"
                                },
                                {
                                    "LOGIN": "klaudia2",
                                    "(No column name)": "17"
                                },
                                {
                                    "LOGIN": "kornel4",
                                    "(No column name)": "3"
                                },
                                {
                                    "LOGIN": "kornel4",
                                    "(No column name)": "1"
                                },
                                {
                                    "LOGIN": "kornel4",
                                    "(No column name)": "7"
                                },
                                {
                                    "LOGIN": "kornel4",
                                    "(No column name)": "11"
                                },
                                {
                                    "LOGIN": "kristof4",
                                    "(No column name)": "9"
                                },
                                {
                                    "LOGIN": "kristof4",
                                    "(No column name)": "4"
                                },
                                {
                                    "LOGIN": "kristof4",
                                    "(No column name)": "8"
                                },
                                {
                                    "LOGIN": "kristof4",
                                    "(No column name)": "21"
                                },
                                {
                                    "LOGIN": "kriszti",
                                    "(No column name)": "3"
                                },
                                {
                                    "LOGIN": "kriszti",
                                    "(No column name)": "5"
                                },
                                {
                                    "LOGIN": "kriszti",
                                    "(No column name)": "5"
                                },
                                {
                                    "LOGIN": "kriszti",
                                    "(No column name)": "13"
                                },
                                {
                                    "LOGIN": "krisztian4",
                                    "(No column name)": "5"
                                },
                                {
                                    "LOGIN": "krisztian4",
                                    "(No column name)": "6"
                                },
                                {
                                    "LOGIN": "krisztian4",
                                    "(No column name)": "6"
                                },
                                {
                                    "LOGIN": "krisztian4",
                                    "(No column name)": "17"
                                },
                                {
                                    "LOGIN": "KRISZTIANM",
                                    "(No column name)": "118"
                                },
                                {
                                    "LOGIN": "KRISZTIANM",
                                    "(No column name)": "136"
                                },
                                {
                                    "LOGIN": "KRISZTIANM",
                                    "(No column name)": "130"
                                },
                                {
                                    "LOGIN": "KRISZTIANM",
                                    "(No column name)": "384"
                                },
                                {
                                    "LOGIN": "krisztina",
                                    "(No column name)": "149"
                                },
                                {
                                    "LOGIN": "krisztina",
                                    "(No column name)": "150"
                                },
                                {
                                    "LOGIN": "krisztina",
                                    "(No column name)": "157"
                                },
                                {
                                    "LOGIN": "krisztina",
                                    "(No column name)": "456"
                                },
                                {
                                    "LOGIN": "krisztina1",
                                    "(No column name)": "10"
                                },
                                {
                                    "LOGIN": "krisztina1",
                                    "(No column name)": "4"
                                },
                                {
                                    "LOGIN": "krisztina1",
                                    "(No column name)": "8"
                                },
                                {
                                    "LOGIN": "krisztina1",
                                    "(No column name)": "22"
                                },
                                {
                                    "LOGIN": "KRISZTINAG",
                                    "(No column name)": "6"
                                },
                                {
                                    "LOGIN": "KRISZTINAG",
                                    "(No column name)": "6"
                                },
                                {
                                    "LOGIN": "KRISZTINAG",
                                    "(No column name)": "10"
                                },
                                {
                                    "LOGIN": "KRISZTINAG",
                                    "(No column name)": "22"
                                },
                                {
                                    "LOGIN": "lajos",
                                    "(No column name)": "5"
                                },
                                {
                                    "LOGIN": "lajos",
                                    "(No column name)": "2"
                                },
                                {
                                    "LOGIN": "lajos",
                                    "(No column name)": "9"
                                },
                                {
                                    "LOGIN": "lajos",
                                    "(No column name)": "16"
                                },
                                {
                                    "LOGIN": "lala",
                                    "(No column name)": "5"
                                },
                                {
                                    "LOGIN": "lala",
                                    "(No column name)": "3"
                                },
                                {
                                    "LOGIN": "lala",
                                    "(No column name)": "9"
                                },
                                {
                                    "LOGIN": "lala",
                                    "(No column name)": "17"
                                },
                                {
                                    "LOGIN": "laszlo1",
                                    "(No column name)": "130"
                                },
                                {
                                    "LOGIN": "laszlo1",
                                    "(No column name)": "129"
                                },
                                {
                                    "LOGIN": "laszlo1",
                                    "(No column name)": "135"
                                },
                                {
                                    "LOGIN": "laszlo1",
                                    "(No column name)": "394"
                                },
                                {
                                    "LOGIN": "laszlo2",
                                    "(No column name)": "12"
                                },
                                {
                                    "LOGIN": "laszlo2",
                                    "(No column name)": "6"
                                },
                                {
                                    "LOGIN": "laszlo2",
                                    "(No column name)": "7"
                                },
                                {
                                    "LOGIN": "laszlo2",
                                    "(No column name)": "25"
                                },
                                {
                                    "LOGIN": "LASZLOA",
                                    "(No column name)": "156"
                                },
                                {
                                    "LOGIN": "LASZLOA",
                                    "(No column name)": "136"
                                },
                                {
                                    "LOGIN": "LASZLOA",
                                    "(No column name)": "154"
                                },
                                {
                                    "LOGIN": "LASZLOA",
                                    "(No column name)": "446"
                                },
                                {
                                    "LOGIN": "LASZLON",
                                    "(No column name)": "126"
                                },
                                {
                                    "LOGIN": "LASZLON",
                                    "(No column name)": "131"
                                },
                                {
                                    "LOGIN": "LASZLON",
                                    "(No column name)": "143"
                                },
                                {
                                    "LOGIN": "LASZLON",
                                    "(No column name)": "400"
                                },
                                {
                                    "LOGIN": "maria1",
                                    "(No column name)": "4"
                                },
                                {
                                    "LOGIN": "maria1",
                                    "(No column name)": "5"
                                },
                                {
                                    "LOGIN": "maria1",
                                    "(No column name)": "1"
                                },
                                {
                                    "LOGIN": "maria1",
                                    "(No column name)": "10"
                                },
                                {
                                    "LOGIN": "MARKH",
                                    "(No column name)": "128"
                                },
                                {
                                    "LOGIN": "MARKH",
                                    "(No column name)": "142"
                                },
                                {
                                    "LOGIN": "MARKH",
                                    "(No column name)": "142"
                                },
                                {
                                    "LOGIN": "MARKH",
                                    "(No column name)": "412"
                                },
                                {
                                    "LOGIN": "marton",
                                    "(No column name)": "5"
                                },
                                {
                                    "LOGIN": "marton",
                                    "(No column name)": "4"
                                },
                                {
                                    "LOGIN": "marton",
                                    "(No column name)": "5"
                                },
                                {
                                    "LOGIN": "marton",
                                    "(No column name)": "14"
                                },
                                {
                                    "LOGIN": "MATEK",
                                    "(No column name)": "6"
                                },
                                {
                                    "LOGIN": "MATEK",
                                    "(No column name)": "10"
                                },
                                {
                                    "LOGIN": "MATEK",
                                    "(No column name)": "9"
                                },
                                {
                                    "LOGIN": "MATEK",
                                    "(No column name)": "25"
                                },
                                {
                                    "LOGIN": "matyas2",
                                    "(No column name)": "138"
                                },
                                {
                                    "LOGIN": "matyas2",
                                    "(No column name)": "131"
                                },
                                {
                                    "LOGIN": "matyas2",
                                    "(No column name)": "164"
                                },
                                {
                                    "LOGIN": "matyas2",
                                    "(No column name)": "433"
                                },
                                {
                                    "LOGIN": "MATYASS",
                                    "(No column name)": "4"
                                },
                                {
                                    "LOGIN": "MATYASS",
                                    "(No column name)": "5"
                                },
                                {
                                    "LOGIN": "MATYASS",
                                    "(No column name)": "3"
                                },
                                {
                                    "LOGIN": "MATYASS",
                                    "(No column name)": "12"
                                },
                                {
                                    "LOGIN": "MIHALYJ",
                                    "(No column name)": "3"
                                },
                                {
                                    "LOGIN": "MIHALYJ",
                                    "(No column name)": "4"
                                },
                                {
                                    "LOGIN": "MIHALYJ",
                                    "(No column name)": "6"
                                },
                                {
                                    "LOGIN": "MIHALYJ",
                                    "(No column name)": "13"
                                },
                                {
                                    "LOGIN": "miklos2",
                                    "(No column name)": "7"
                                },
                                {
                                    "LOGIN": "miklos2",
                                    "(No column name)": "4"
                                },
                                {
                                    "LOGIN": "miklos2",
                                    "(No column name)": "2"
                                },
                                {
                                    "LOGIN": "miklos2",
                                    "(No column name)": "13"
                                },
                                {
                                    "LOGIN": "MIKLOSB",
                                    "(No column name)": "6"
                                },
                                {
                                    "LOGIN": "MIKLOSB",
                                    "(No column name)": "1"
                                },
                                {
                                    "LOGIN": "MIKLOSB",
                                    "(No column name)": "8"
                                },
                                {
                                    "LOGIN": "MIKLOSB",
                                    "(No column name)": "15"
                                },
                                {
                                    "LOGIN": "MONIKAM",
                                    "(No column name)": "133"
                                },
                                {
                                    "LOGIN": "MONIKAM",
                                    "(No column name)": "151"
                                },
                                {
                                    "LOGIN": "MONIKAM",
                                    "(No column name)": "123"
                                },
                                {
                                    "LOGIN": "MONIKAM",
                                    "(No column name)": "407"
                                },
                                {
                                    "LOGIN": "NANDORF",
                                    "(No column name)": "147"
                                },
                                {
                                    "LOGIN": "NANDORF",
                                    "(No column name)": "139"
                                },
                                {
                                    "LOGIN": "NANDORF",
                                    "(No column name)": "134"
                                },
                                {
                                    "LOGIN": "NANDORF",
                                    "(No column name)": "420"
                                },
                                {
                                    "LOGIN": "nikolett3",
                                    "(No column name)": "4"
                                },
                                {
                                    "LOGIN": "nikolett3",
                                    "(No column name)": "3"
                                },
                                {
                                    "LOGIN": "nikolett3",
                                    "(No column name)": "10"
                                },
                                {
                                    "LOGIN": "nikolett3",
                                    "(No column name)": "17"
                                },
                                {
                                    "LOGIN": "nikoletta4",
                                    "(No column name)": "137"
                                },
                                {
                                    "LOGIN": "nikoletta4",
                                    "(No column name)": "158"
                                },
                                {
                                    "LOGIN": "nikoletta4",
                                    "(No column name)": "119"
                                },
                                {
                                    "LOGIN": "nikoletta4",
                                    "(No column name)": "414"
                                },
                                {
                                    "LOGIN": "NIKOLETTAT",
                                    "(No column name)": "13"
                                },
                                {
                                    "LOGIN": "NIKOLETTAT",
                                    "(No column name)": "7"
                                },
                                {
                                    "LOGIN": "NIKOLETTAT",
                                    "(No column name)": "5"
                                },
                                {
                                    "LOGIN": "NIKOLETTAT",
                                    "(No column name)": "25"
                                },
                                {
                                    "LOGIN": "norbert2",
                                    "(No column name)": "7"
                                },
                                {
                                    "LOGIN": "norbert2",
                                    "(No column name)": "4"
                                },
                                {
                                    "LOGIN": "norbert2",
                                    "(No column name)": "11"
                                },
                                {
                                    "LOGIN": "norbert4",
                                    "(No column name)": "1"
                                },
                                {
                                    "LOGIN": "norbert4",
                                    "(No column name)": "3"
                                },
                                {
                                    "LOGIN": "norbert4",
                                    "(No column name)": "9"
                                },
                                {
                                    "LOGIN": "norbert4",
                                    "(No column name)": "13"
                                },
                                {
                                    "LOGIN": "norbert5",
                                    "(No column name)": "1"
                                },
                                {
                                    "LOGIN": "norbert5",
                                    "(No column name)": "6"
                                },
                                {
                                    "LOGIN": "norbert5",
                                    "(No column name)": "9"
                                },
                                {
                                    "LOGIN": "norbert5",
                                    "(No column name)": "16"
                                },
                                {
                                    "LOGIN": "pal",
                                    "(No column name)": "152"
                                },
                                {
                                    "LOGIN": "pal",
                                    "(No column name)": "132"
                                },
                                {
                                    "LOGIN": "pal",
                                    "(No column name)": "154"
                                },
                                {
                                    "LOGIN": "pal",
                                    "(No column name)": "438"
                                },
                                {
                                    "LOGIN": "peter1",
                                    "(No column name)": "151"
                                },
                                {
                                    "LOGIN": "peter1",
                                    "(No column name)": "135"
                                },
                                {
                                    "LOGIN": "peter1",
                                    "(No column name)": "126"
                                },
                                {
                                    "LOGIN": "peter1",
                                    "(No column name)": "412"
                                },
                                {
                                    "LOGIN": "peter2",
                                    "(No column name)": "7"
                                },
                                {
                                    "LOGIN": "peter2",
                                    "(No column name)": "4"
                                },
                                {
                                    "LOGIN": "peter2",
                                    "(No column name)": "7"
                                },
                                {
                                    "LOGIN": "peter2",
                                    "(No column name)": "18"
                                },
                                {
                                    "LOGIN": "peter3",
                                    "(No column name)": "8"
                                },
                                {
                                    "LOGIN": "peter3",
                                    "(No column name)": "7"
                                },
                                {
                                    "LOGIN": "peter3",
                                    "(No column name)": "10"
                                },
                                {
                                    "LOGIN": "peter3",
                                    "(No column name)": "25"
                                },
                                {
                                    "LOGIN": "peter4",
                                    "(No column name)": "266"
                                },
                                {
                                    "LOGIN": "peter4",
                                    "(No column name)": "293"
                                },
                                {
                                    "LOGIN": "peter4",
                                    "(No column name)": "293"
                                },
                                {
                                    "LOGIN": "peter4",
                                    "(No column name)": "852"
                                },
                                {
                                    "LOGIN": "PETERB",
                                    "(No column name)": "2"
                                },
                                {
                                    "LOGIN": "PETERB",
                                    "(No column name)": "4"
                                },
                                {
                                    "LOGIN": "PETERB",
                                    "(No column name)": "9"
                                },
                                {
                                    "LOGIN": "PETERB",
                                    "(No column name)": "15"
                                },
                                {
                                    "LOGIN": "polla",
                                    "(No column name)": "9"
                                },
                                {
                                    "LOGIN": "polla",
                                    "(No column name)": "6"
                                },
                                {
                                    "LOGIN": "polla",
                                    "(No column name)": "7"
                                },
                                {
                                    "LOGIN": "polla",
                                    "(No column name)": "22"
                                },
                                {
                                    "LOGIN": "rajmond4",
                                    "(No column name)": "6"
                                },
                                {
                                    "LOGIN": "rajmond4",
                                    "(No column name)": "5"
                                },
                                {
                                    "LOGIN": "rajmond4",
                                    "(No column name)": "6"
                                },
                                {
                                    "LOGIN": "rajmond4",
                                    "(No column name)": "17"
                                },
                                {
                                    "LOGIN": "reka4",
                                    "(No column name)": "5"
                                },
                                {
                                    "LOGIN": "reka4",
                                    "(No column name)": "4"
                                },
                                {
                                    "LOGIN": "reka4",
                                    "(No column name)": "11"
                                },
                                {
                                    "LOGIN": "reka4",
                                    "(No column name)": "20"
                                },
                                {
                                    "LOGIN": "RENATAK",
                                    "(No column name)": "135"
                                },
                                {
                                    "LOGIN": "RENATAK",
                                    "(No column name)": "140"
                                },
                                {
                                    "LOGIN": "RENATAK",
                                    "(No column name)": "147"
                                },
                                {
                                    "LOGIN": "RENATAK",
                                    "(No column name)": "422"
                                },
                                {
                                    "LOGIN": "RENATAS",
                                    "(No column name)": "6"
                                },
                                {
                                    "LOGIN": "RENATAS",
                                    "(No column name)": "5"
                                },
                                {
                                    "LOGIN": "RENATAS",
                                    "(No column name)": "5"
                                },
                                {
                                    "LOGIN": "RENATAS",
                                    "(No column name)": "16"
                                },
                                {
                                    "LOGIN": "robert2",
                                    "(No column name)": "5"
                                },
                                {
                                    "LOGIN": "robert2",
                                    "(No column name)": "1"
                                },
                                {
                                    "LOGIN": "robert2",
                                    "(No column name)": "7"
                                },
                                {
                                    "LOGIN": "robert2",
                                    "(No column name)": "13"
                                },
                                {
                                    "LOGIN": "ROBERTI",
                                    "(No column name)": "5"
                                },
                                {
                                    "LOGIN": "ROBERTI",
                                    "(No column name)": "3"
                                },
                                {
                                    "LOGIN": "ROBERTI",
                                    "(No column name)": "5"
                                },
                                {
                                    "LOGIN": "ROBERTI",
                                    "(No column name)": "13"
                                },
                                {
                                    "LOGIN": "ROBERTP",
                                    "(No column name)": "8"
                                },
                                {
                                    "LOGIN": "ROBERTP",
                                    "(No column name)": "8"
                                },
                                {
                                    "LOGIN": "ROBERTP",
                                    "(No column name)": "10"
                                },
                                {
                                    "LOGIN": "ROBERTP",
                                    "(No column name)": "26"
                                },
                                {
                                    "LOGIN": "roland",
                                    "(No column name)": "132"
                                },
                                {
                                    "LOGIN": "roland",
                                    "(No column name)": "157"
                                },
                                {
                                    "LOGIN": "roland",
                                    "(No column name)": "125"
                                },
                                {
                                    "LOGIN": "roland",
                                    "(No column name)": "414"
                                },
                                {
                                    "LOGIN": "roland1",
                                    "(No column name)": "142"
                                },
                                {
                                    "LOGIN": "roland1",
                                    "(No column name)": "155"
                                },
                                {
                                    "LOGIN": "roland1",
                                    "(No column name)": "135"
                                },
                                {
                                    "LOGIN": "roland1",
                                    "(No column name)": "432"
                                },
                                {
                                    "LOGIN": "roza2",
                                    "(No column name)": "3"
                                },
                                {
                                    "LOGIN": "roza2",
                                    "(No column name)": "2"
                                },
                                {
                                    "LOGIN": "roza2",
                                    "(No column name)": "3"
                                },
                                {
                                    "LOGIN": "roza2",
                                    "(No column name)": "8"
                                },
                                {
                                    "LOGIN": "sandor",
                                    "(No column name)": "4"
                                },
                                {
                                    "LOGIN": "sandor",
                                    "(No column name)": "6"
                                },
                                {
                                    "LOGIN": "sandor",
                                    "(No column name)": "7"
                                },
                                {
                                    "LOGIN": "sandor",
                                    "(No column name)": "17"
                                },
                                {
                                    "LOGIN": "sandor3",
                                    "(No column name)": "4"
                                },
                                {
                                    "LOGIN": "sandor3",
                                    "(No column name)": "4"
                                },
                                {
                                    "LOGIN": "sandor3",
                                    "(No column name)": "6"
                                },
                                {
                                    "LOGIN": "sandor3",
                                    "(No column name)": "14"
                                },
                                {
                                    "LOGIN": "sandor4",
                                    "(No column name)": "4"
                                },
                                {
                                    "LOGIN": "sandor4",
                                    "(No column name)": "2"
                                },
                                {
                                    "LOGIN": "sandor4",
                                    "(No column name)": "5"
                                },
                                {
                                    "LOGIN": "sandor4",
                                    "(No column name)": "11"
                                },
                                {
                                    "LOGIN": "sara",
                                    "(No column name)": "4"
                                },
                                {
                                    "LOGIN": "sara",
                                    "(No column name)": "7"
                                },
                                {
                                    "LOGIN": "sara",
                                    "(No column name)": "9"
                                },
                                {
                                    "LOGIN": "sara",
                                    "(No column name)": "20"
                                },
                                {
                                    "LOGIN": "SEBASTIANF",
                                    "(No column name)": "6"
                                },
                                {
                                    "LOGIN": "SEBASTIANF",
                                    "(No column name)": "3"
                                },
                                {
                                    "LOGIN": "SEBASTIANF",
                                    "(No column name)": "6"
                                },
                                {
                                    "LOGIN": "SEBASTIANF",
                                    "(No column name)": "15"
                                },
                                {
                                    "LOGIN": "sebestyen",
                                    "(No column name)": "4"
                                },
                                {
                                    "LOGIN": "sebestyen",
                                    "(No column name)": "6"
                                },
                                {
                                    "LOGIN": "sebestyen",
                                    "(No column name)": "6"
                                },
                                {
                                    "LOGIN": "sebestyen",
                                    "(No column name)": "16"
                                },
                                {
                                    "LOGIN": "szabolcs",
                                    "(No column name)": "145"
                                },
                                {
                                    "LOGIN": "szabolcs",
                                    "(No column name)": "157"
                                },
                                {
                                    "LOGIN": "szabolcs",
                                    "(No column name)": "169"
                                },
                                {
                                    "LOGIN": "szabolcs",
                                    "(No column name)": "471"
                                },
                                {
                                    "LOGIN": "SZABOLCSM",
                                    "(No column name)": "126"
                                },
                                {
                                    "LOGIN": "SZABOLCSM",
                                    "(No column name)": "153"
                                },
                                {
                                    "LOGIN": "SZABOLCSM",
                                    "(No column name)": "129"
                                },
                                {
                                    "LOGIN": "SZABOLCSM",
                                    "(No column name)": "408"
                                },
                                {
                                    "LOGIN": "SZILARDS",
                                    "(No column name)": "144"
                                },
                                {
                                    "LOGIN": "SZILARDS",
                                    "(No column name)": "131"
                                },
                                {
                                    "LOGIN": "SZILARDS",
                                    "(No column name)": "111"
                                },
                                {
                                    "LOGIN": "SZILARDS",
                                    "(No column name)": "386"
                                },
                                {
                                    "LOGIN": "szilvia1",
                                    "(No column name)": "156"
                                },
                                {
                                    "LOGIN": "szilvia1",
                                    "(No column name)": "151"
                                },
                                {
                                    "LOGIN": "szilvia1",
                                    "(No column name)": "138"
                                },
                                {
                                    "LOGIN": "szilvia1",
                                    "(No column name)": "445"
                                },
                                {
                                    "LOGIN": "tamara2",
                                    "(No column name)": "6"
                                },
                                {
                                    "LOGIN": "tamara2",
                                    "(No column name)": "4"
                                },
                                {
                                    "LOGIN": "tamara2",
                                    "(No column name)": "3"
                                },
                                {
                                    "LOGIN": "tamara2",
                                    "(No column name)": "13"
                                },
                                {
                                    "LOGIN": "tamas",
                                    "(No column name)": "143"
                                },
                                {
                                    "LOGIN": "tamas",
                                    "(No column name)": "156"
                                },
                                {
                                    "LOGIN": "tamas",
                                    "(No column name)": "122"
                                },
                                {
                                    "LOGIN": "tamas",
                                    "(No column name)": "421"
                                },
                                {
                                    "LOGIN": "TAMASF",
                                    "(No column name)": "159"
                                },
                                {
                                    "LOGIN": "TAMASF",
                                    "(No column name)": "145"
                                },
                                {
                                    "LOGIN": "TAMASF",
                                    "(No column name)": "129"
                                },
                                {
                                    "LOGIN": "TAMASF",
                                    "(No column name)": "433"
                                },
                                {
                                    "LOGIN": "tibor",
                                    "(No column name)": "115"
                                },
                                {
                                    "LOGIN": "tibor",
                                    "(No column name)": "129"
                                },
                                {
                                    "LOGIN": "tibor",
                                    "(No column name)": "130"
                                },
                                {
                                    "LOGIN": "tibor",
                                    "(No column name)": "374"
                                },
                                {
                                    "LOGIN": "tibor2",
                                    "(No column name)": "7"
                                },
                                {
                                    "LOGIN": "tibor2",
                                    "(No column name)": "7"
                                },
                                {
                                    "LOGIN": "tibor2",
                                    "(No column name)": "11"
                                },
                                {
                                    "LOGIN": "tibor2",
                                    "(No column name)": "25"
                                },
                                {
                                    "LOGIN": "tihamer",
                                    "(No column name)": "9"
                                },
                                {
                                    "LOGIN": "tihamer",
                                    "(No column name)": "6"
                                },
                                {
                                    "LOGIN": "tihamer",
                                    "(No column name)": "5"
                                },
                                {
                                    "LOGIN": "tihamer",
                                    "(No column name)": "20"
                                },
                                {
                                    "LOGIN": "timea",
                                    "(No column name)": "14"
                                },
                                {
                                    "LOGIN": "timea",
                                    "(No column name)": "23"
                                },
                                {
                                    "LOGIN": "timea",
                                    "(No column name)": "18"
                                },
                                {
                                    "LOGIN": "timea",
                                    "(No column name)": "55"
                                },
                                {
                                    "LOGIN": "timea2",
                                    "(No column name)": "1"
                                },
                                {
                                    "LOGIN": "timea2",
                                    "(No column name)": "5"
                                },
                                {
                                    "LOGIN": "timea2",
                                    "(No column name)": "10"
                                },
                                {
                                    "LOGIN": "timea2",
                                    "(No column name)": "16"
                                },
                                {
                                    "LOGIN": "tunde",
                                    "(No column name)": "6"
                                },
                                {
                                    "LOGIN": "tunde",
                                    "(No column name)": "6"
                                },
                                {
                                    "LOGIN": "tunde",
                                    "(No column name)": "4"
                                },
                                {
                                    "LOGIN": "tunde",
                                    "(No column name)": "16"
                                },
                                {
                                    "LOGIN": "valentin",
                                    "(No column name)": "5"
                                },
                                {
                                    "LOGIN": "valentin",
                                    "(No column name)": "5"
                                },
                                {
                                    "LOGIN": "valentin",
                                    "(No column name)": "3"
                                },
                                {
                                    "LOGIN": "valentin",
                                    "(No column name)": "13"
                                },
                                {
                                    "LOGIN": "veronika4",
                                    "(No column name)": "5"
                                },
                                {
                                    "LOGIN": "veronika4",
                                    "(No column name)": "6"
                                },
                                {
                                    "LOGIN": "veronika4",
                                    "(No column name)": "7"
                                },
                                {
                                    "LOGIN": "veronika4",
                                    "(No column name)": "18"
                                },
                                {
                                    "LOGIN": "VIKTORIAU",
                                    "(No column name)": "5"
                                },
                                {
                                    "LOGIN": "VIKTORIAU",
                                    "(No column name)": "4"
                                },
                                {
                                    "LOGIN": "VIKTORIAU",
                                    "(No column name)": "5"
                                },
                                {
                                    "LOGIN": "VIKTORIAU",
                                    "(No column name)": "14"
                                },
                                {
                                    "LOGIN": "VIKTORK",
                                    "(No column name)": "8"
                                },
                                {
                                    "LOGIN": "VIKTORK",
                                    "(No column name)": "6"
                                },
                                {
                                    "LOGIN": "VIKTORK",
                                    "(No column name)": "6"
                                },
                                {
                                    "LOGIN": "VIKTORK",
                                    "(No column name)": "20"
                                },
                                {
                                    "LOGIN": "vivien3",
                                    "(No column name)": "9"
                                },
                                {
                                    "LOGIN": "vivien3",
                                    "(No column name)": "6"
                                },
                                {
                                    "LOGIN": "vivien3",
                                    "(No column name)": "7"
                                },
                                {
                                    "LOGIN": "vivien3",
                                    "(No column name)": "22"
                                },
                                {
                                    "LOGIN": "zoltan",
                                    "(No column name)": "5"
                                },
                                {
                                    "LOGIN": "zoltan",
                                    "(No column name)": "3"
                                },
                                {
                                    "LOGIN": "zoltan",
                                    "(No column name)": "7"
                                },
                                {
                                    "LOGIN": "zoltan",
                                    "(No column name)": "15"
                                },
                                {
                                    "LOGIN": "zoltan4",
                                    "(No column name)": "129"
                                },
                                {
                                    "LOGIN": "zoltan4",
                                    "(No column name)": "124"
                                },
                                {
                                    "LOGIN": "zoltan4",
                                    "(No column name)": "171"
                                },
                                {
                                    "LOGIN": "zoltan4",
                                    "(No column name)": "424"
                                },
                                {
                                    "LOGIN": "ZOLTANP",
                                    "(No column name)": "6"
                                },
                                {
                                    "LOGIN": "ZOLTANP",
                                    "(No column name)": "3"
                                },
                                {
                                    "LOGIN": "ZOLTANP",
                                    "(No column name)": "4"
                                },
                                {
                                    "LOGIN": "ZOLTANP",
                                    "(No column name)": "13"
                                },
                                {
                                    "LOGIN": "ZOLTANT",
                                    "(No column name)": "127"
                                },
                                {
                                    "LOGIN": "ZOLTANT",
                                    "(No column name)": "107"
                                },
                                {
                                    "LOGIN": "ZOLTANT",
                                    "(No column name)": "123"
                                },
                                {
                                    "LOGIN": "ZOLTANT",
                                    "(No column name)": "357"
                                },
                                {
                                    "LOGIN": "zsofi1",
                                    "(No column name)": "7"
                                },
                                {
                                    "LOGIN": "zsofi1",
                                    "(No column name)": "6"
                                },
                                {
                                    "LOGIN": "zsofi1",
                                    "(No column name)": "6"
                                },
                                {
                                    "LOGIN": "zsofi1",
                                    "(No column name)": "19"
                                },
                                {
                                    "LOGIN": "zsolt1",
                                    "(No column name)": "11"
                                },
                                {
                                    "LOGIN": "zsolt1",
                                    "(No column name)": "6"
                                },
                                {
                                    "LOGIN": "zsolt1",
                                    "(No column name)": "3"
                                },
                                {
                                    "LOGIN": "zsolt1",
                                    "(No column name)": "20"
                                },
                                {
                                    "LOGIN": "ZSOLTJ",
                                    "(No column name)": "1"
                                },
                                {
                                    "LOGIN": "ZSOLTJ",
                                    "(No column name)": "8"
                                },
                                {
                                    "LOGIN": "ZSOLTJ",
                                    "(No column name)": "9"
                                },
                                {
                                    "LOGIN": "ZSOLTJ",
                                    "(No column name)": "18"
                                },
                                {
                                    "LOGIN": "zsuzsa",
                                    "(No column name)": "8"
                                },
                                {
                                    "LOGIN": "zsuzsa",
                                    "(No column name)": "5"
                                },
                                {
                                    "LOGIN": "zsuzsa",
                                    "(No column name)": "3"
                                },
                                {
                                    "LOGIN": "zsuzsa",
                                    "(No column name)": "16"
                                },
                                {
                                    "LOGIN": "zsuzsa3",
                                    "(No column name)": "5"
                                },
                                {
                                    "LOGIN": "zsuzsa3",
                                    "(No column name)": "5"
                                },
                                {
                                    "LOGIN": "zsuzsa3",
                                    "(No column name)": "6"
                                },
                                {
                                    "LOGIN": "zsuzsa3",
                                    "(No column name)": "16"
                                },
                                {
                                    "LOGIN": "zsuzsanna",
                                    "(No column name)": "7"
                                },
                                {
                                    "LOGIN": "zsuzsanna",
                                    "(No column name)": "5"
                                },
                                {
                                    "LOGIN": "zsuzsanna",
                                    "(No column name)": "3"
                                },
                                {
                                    "LOGIN": "zsuzsanna",
                                    "(No column name)": "15"
                                },
                                {
                                    "LOGIN": "ZSUZSAV",
                                    "(No column name)": "139"
                                },
                                {
                                    "LOGIN": "ZSUZSAV",
                                    "(No column name)": "139"
                                },
                                {
                                    "LOGIN": "ZSUZSAV",
                                    "(No column name)": "142"
                                },
                                {
                                    "LOGIN": "ZSUZSAV",
                                    "(No column name)": "420"
                                },
                                {
                                    "LOGIN": "NULL",
                                    "(No column name)": "28085"
                                }
                            ]
                        },
                        "text/html": [
                            "<table>",
                            "<tr><th>LOGIN</th><th>(No column name)</th></tr>",
                            "<tr><td>adam1</td><td>129</td></tr>",
                            "<tr><td>adam1</td><td>132</td></tr>",
                            "<tr><td>adam1</td><td>131</td></tr>",
                            "<tr><td>adam1</td><td>392</td></tr>",
                            "<tr><td>adam3</td><td>10</td></tr>",
                            "<tr><td>adam3</td><td>3</td></tr>",
                            "<tr><td>adam3</td><td>2</td></tr>",
                            "<tr><td>adam3</td><td>15</td></tr>",
                            "<tr><td>adam4</td><td>12</td></tr>",
                            "<tr><td>adam4</td><td>6</td></tr>",
                            "<tr><td>adam4</td><td>11</td></tr>",
                            "<tr><td>adam4</td><td>29</td></tr>",
                            "<tr><td>agnes</td><td>144</td></tr>",
                            "<tr><td>agnes</td><td>130</td></tr>",
                            "<tr><td>agnes</td><td>144</td></tr>",
                            "<tr><td>agnes</td><td>418</td></tr>",
                            "<tr><td>agnes3</td><td>148</td></tr>",
                            "<tr><td>agnes3</td><td>146</td></tr>",
                            "<tr><td>agnes3</td><td>136</td></tr>",
                            "<tr><td>agnes3</td><td>430</td></tr>",
                            "<tr><td>AGNESH</td><td>2</td></tr>",
                            "<tr><td>AGNESH</td><td>3</td></tr>",
                            "<tr><td>AGNESH</td><td>6</td></tr>",
                            "<tr><td>AGNESH</td><td>11</td></tr>",
                            "<tr><td>AGNESK</td><td>1</td></tr>",
                            "<tr><td>AGNESK</td><td>7</td></tr>",
                            "<tr><td>AGNESK</td><td>7</td></tr>",
                            "<tr><td>AGNESK</td><td>15</td></tr>",
                            "<tr><td>akos</td><td>146</td></tr>",
                            "<tr><td>akos</td><td>143</td></tr>",
                            "<tr><td>akos</td><td>140</td></tr>",
                            "<tr><td>akos</td><td>429</td></tr>",
                            "<tr><td>aladar</td><td>156</td></tr>",
                            "<tr><td>aladar</td><td>134</td></tr>",
                            "<tr><td>aladar</td><td>118</td></tr>",
                            "<tr><td>aladar</td><td>408</td></tr>",
                            "<tr><td>alexandra</td><td>5</td></tr>",
                            "<tr><td>alexandra</td><td>9</td></tr>",
                            "<tr><td>alexandra</td><td>5</td></tr>",
                            "<tr><td>alexandra</td><td>19</td></tr>",
                            "<tr><td>andi</td><td>7</td></tr>",
                            "<tr><td>andi</td><td>4</td></tr>",
                            "<tr><td>andi</td><td>7</td></tr>",
                            "<tr><td>andi</td><td>18</td></tr>",
                            "<tr><td>andras2</td><td>4</td></tr>",
                            "<tr><td>andras2</td><td>7</td></tr>",
                            "<tr><td>andras2</td><td>11</td></tr>",
                            "<tr><td>andras2</td><td>22</td></tr>",
                            "<tr><td>andras21</td><td>140</td></tr>",
                            "<tr><td>andras21</td><td>124</td></tr>",
                            "<tr><td>andras21</td><td>126</td></tr>",
                            "<tr><td>andras21</td><td>390</td></tr>",
                            "<tr><td>andras3</td><td>3</td></tr>",
                            "<tr><td>andras3</td><td>1</td></tr>",
                            "<tr><td>andras3</td><td>5</td></tr>",
                            "<tr><td>andras3</td><td>9</td></tr>",
                            "<tr><td>andras4</td><td>4</td></tr>",
                            "<tr><td>andras4</td><td>4</td></tr>",
                            "<tr><td>andras4</td><td>4</td></tr>",
                            "<tr><td>andras4</td><td>12</td></tr>",
                            "<tr><td>andras41</td><td>149</td></tr>",
                            "<tr><td>andras41</td><td>137</td></tr>",
                            "<tr><td>andras41</td><td>133</td></tr>",
                            "<tr><td>andras41</td><td>419</td></tr>",
                            "<tr><td>ANDRASE</td><td>159</td></tr>",
                            "<tr><td>ANDRASE</td><td>141</td></tr>",
                            "<tr><td>ANDRASE</td><td>136</td></tr>",
                            "<tr><td>ANDRASE</td><td>436</td></tr>",
                            "<tr><td>ANDRASN</td><td>10</td></tr>",
                            "<tr><td>ANDRASN</td><td>9</td></tr>",
                            "<tr><td>ANDRASN</td><td>5</td></tr>",
                            "<tr><td>ANDRASN</td><td>24</td></tr>",
                            "<tr><td>andrea</td><td>12</td></tr>",
                            "<tr><td>andrea</td><td>4</td></tr>",
                            "<tr><td>andrea</td><td>8</td></tr>",
                            "<tr><td>andrea</td><td>24</td></tr>",
                            "<tr><td>andrea3</td><td>131</td></tr>",
                            "<tr><td>andrea3</td><td>136</td></tr>",
                            "<tr><td>andrea3</td><td>146</td></tr>",
                            "<tr><td>andrea3</td><td>413</td></tr>",
                            "<tr><td>andrea4</td><td>7</td></tr>",
                            "<tr><td>andrea4</td><td>4</td></tr>",
                            "<tr><td>andrea4</td><td>7</td></tr>",
                            "<tr><td>andrea4</td><td>18</td></tr>",
                            "<tr><td>ANDREAT</td><td>3</td></tr>",
                            "<tr><td>ANDREAT</td><td>6</td></tr>",
                            "<tr><td>ANDREAT</td><td>12</td></tr>",
                            "<tr><td>ANDREAT</td><td>21</td></tr>",
                            "<tr><td>anett3</td><td>3</td></tr>",
                            "<tr><td>anett3</td><td>6</td></tr>",
                            "<tr><td>anett3</td><td>9</td></tr>",
                            "<tr><td>anett3</td><td>18</td></tr>",
                            "<tr><td>aniko</td><td>128</td></tr>",
                            "<tr><td>aniko</td><td>137</td></tr>",
                            "<tr><td>aniko</td><td>138</td></tr>",
                            "<tr><td>aniko</td><td>403</td></tr>",
                            "<tr><td>aniko4</td><td>6</td></tr>",
                            "<tr><td>aniko4</td><td>6</td></tr>",
                            "<tr><td>aniko4</td><td>3</td></tr>",
                            "<tr><td>aniko4</td><td>15</td></tr>",
                            "<tr><td>ANIKOS</td><td>128</td></tr>",
                            "<tr><td>ANIKOS</td><td>126</td></tr>",
                            "<tr><td>ANIKOS</td><td>150</td></tr>",
                            "<tr><td>ANIKOS</td><td>404</td></tr>",
                            "<tr><td>anita</td><td>5</td></tr>",
                            "<tr><td>anita</td><td>2</td></tr>",
                            "<tr><td>anita</td><td>5</td></tr>",
                            "<tr><td>anita</td><td>12</td></tr>",
                            "<tr><td>annamaria1</td><td>5</td></tr>",
                            "<tr><td>annamaria1</td><td>4</td></tr>",
                            "<tr><td>annamaria1</td><td>7</td></tr>",
                            "<tr><td>annamaria1</td><td>16</td></tr>",
                            "<tr><td>ANNAMARIAR</td><td>8</td></tr>",
                            "<tr><td>ANNAMARIAR</td><td>2</td></tr>",
                            "<tr><td>ANNAMARIAR</td><td>3</td></tr>",
                            "<tr><td>ANNAMARIAR</td><td>13</td></tr>",
                            "<tr><td>aron2</td><td>132</td></tr>",
                            "<tr><td>aron2</td><td>133</td></tr>",
                            "<tr><td>aron2</td><td>144</td></tr>",
                            "<tr><td>aron2</td><td>409</td></tr>",
                            "<tr><td>ARONK</td><td>155</td></tr>",
                            "<tr><td>ARONK</td><td>120</td></tr>",
                            "<tr><td>ARONK</td><td>155</td></tr>",
                            "<tr><td>ARONK</td><td>430</td></tr>",
                            "<tr><td>arpad2</td><td>6</td></tr>",
                            "<tr><td>arpad2</td><td>1</td></tr>",
                            "<tr><td>arpad2</td><td>10</td></tr>",
                            "<tr><td>arpad2</td><td>17</td></tr>",
                            "<tr><td>ARPADH</td><td>6</td></tr>",
                            "<tr><td>ARPADH</td><td>3</td></tr>",
                            "<tr><td>ARPADH</td><td>5</td></tr>",
                            "<tr><td>ARPADH</td><td>14</td></tr>",
                            "<tr><td>ARPADM</td><td>6</td></tr>",
                            "<tr><td>ARPADM</td><td>3</td></tr>",
                            "<tr><td>ARPADM</td><td>7</td></tr>",
                            "<tr><td>ARPADM</td><td>16</td></tr>",
                            "<tr><td>attila1</td><td>5</td></tr>",
                            "<tr><td>attila1</td><td>7</td></tr>",
                            "<tr><td>attila1</td><td>6</td></tr>",
                            "<tr><td>attila1</td><td>18</td></tr>",
                            "<tr><td>attila4</td><td>135</td></tr>",
                            "<tr><td>attila4</td><td>125</td></tr>",
                            "<tr><td>attila4</td><td>141</td></tr>",
                            "<tr><td>attila4</td><td>401</td></tr>",
                            "<tr><td>ATTILAO</td><td>4</td></tr>",
                            "<tr><td>ATTILAO</td><td>4</td></tr>",
                            "<tr><td>ATTILAO</td><td>6</td></tr>",
                            "<tr><td>ATTILAO</td><td>14</td></tr>",
                            "<tr><td>balazs1</td><td>128</td></tr>",
                            "<tr><td>balazs1</td><td>136</td></tr>",
                            "<tr><td>balazs1</td><td>155</td></tr>",
                            "<tr><td>balazs1</td><td>419</td></tr>",
                            "<tr><td>balazs2</td><td>5</td></tr>",
                            "<tr><td>balazs2</td><td>7</td></tr>",
                            "<tr><td>balazs2</td><td>5</td></tr>",
                            "<tr><td>balazs2</td><td>17</td></tr>",
                            "<tr><td>balazs3</td><td>6</td></tr>",
                            "<tr><td>balazs3</td><td>6</td></tr>",
                            "<tr><td>balazs3</td><td>3</td></tr>",
                            "<tr><td>balazs3</td><td>15</td></tr>",
                            "<tr><td>balint</td><td>10</td></tr>",
                            "<tr><td>balint</td><td>4</td></tr>",
                            "<tr><td>balint</td><td>2</td></tr>",
                            "<tr><td>balint</td><td>16</td></tr>",
                            "<tr><td>balint1</td><td>158</td></tr>",
                            "<tr><td>balint1</td><td>152</td></tr>",
                            "<tr><td>balint1</td><td>152</td></tr>",
                            "<tr><td>balint1</td><td>462</td></tr>",
                            "<tr><td>balint2</td><td>8</td></tr>",
                            "<tr><td>balint2</td><td>6</td></tr>",
                            "<tr><td>balint2</td><td>3</td></tr>",
                            "<tr><td>balint2</td><td>17</td></tr>",
                            "<tr><td>balu</td><td>127</td></tr>",
                            "<tr><td>balu</td><td>137</td></tr>",
                            "<tr><td>balu</td><td>123</td></tr>",
                            "<tr><td>balu</td><td>387</td></tr>",
                            "<tr><td>BEATRIXK</td><td>135</td></tr>",
                            "<tr><td>BEATRIXK</td><td>155</td></tr>",
                            "<tr><td>BEATRIXK</td><td>145</td></tr>",
                            "<tr><td>BEATRIXK</td><td>435</td></tr>",
                            "<tr><td>BEATRIXS</td><td>146</td></tr>",
                            "<tr><td>BEATRIXS</td><td>141</td></tr>",
                            "<tr><td>BEATRIXS</td><td>133</td></tr>",
                            "<tr><td>BEATRIXS</td><td>420</td></tr>",
                            "<tr><td>BELAF</td><td>11</td></tr>",
                            "<tr><td>BELAF</td><td>2</td></tr>",
                            "<tr><td>BELAF</td><td>5</td></tr>",
                            "<tr><td>BELAF</td><td>18</td></tr>",
                            "<tr><td>bence</td><td>4</td></tr>",
                            "<tr><td>bence</td><td>6</td></tr>",
                            "<tr><td>bence</td><td>8</td></tr>",
                            "<tr><td>bence</td><td>18</td></tr>",
                            "<tr><td>BENCEB</td><td>5</td></tr>",
                            "<tr><td>BENCEB</td><td>7</td></tr>",
                            "<tr><td>BENCEB</td><td>5</td></tr>",
                            "<tr><td>BENCEB</td><td>17</td></tr>",
                            "<tr><td>bernadett1</td><td>10</td></tr>",
                            "<tr><td>bernadett1</td><td>5</td></tr>",
                            "<tr><td>bernadett1</td><td>5</td></tr>",
                            "<tr><td>bernadett1</td><td>20</td></tr>",
                            "<tr><td>bernadett2</td><td>6</td></tr>",
                            "<tr><td>bernadett2</td><td>2</td></tr>",
                            "<tr><td>bernadett2</td><td>7</td></tr>",
                            "<tr><td>bernadett2</td><td>15</td></tr>",
                            "<tr><td>BERNADETTO</td><td>7</td></tr>",
                            "<tr><td>BERNADETTO</td><td>2</td></tr>",
                            "<tr><td>BERNADETTO</td><td>7</td></tr>",
                            "<tr><td>BERNADETTO</td><td>16</td></tr>",
                            "<tr><td>bertalan</td><td>128</td></tr>",
                            "<tr><td>bertalan</td><td>124</td></tr>",
                            "<tr><td>bertalan</td><td>101</td></tr>",
                            "<tr><td>bertalan</td><td>353</td></tr>",
                            "<tr><td>brigitta</td><td>137</td></tr>",
                            "<tr><td>brigitta</td><td>137</td></tr>",
                            "<tr><td>brigitta</td><td>119</td></tr>",
                            "<tr><td>brigitta</td><td>393</td></tr>",
                            "<tr><td>brigitta3</td><td>144</td></tr>",
                            "<tr><td>brigitta3</td><td>130</td></tr>",
                            "<tr><td>brigitta3</td><td>139</td></tr>",
                            "<tr><td>brigitta3</td><td>413</td></tr>",
                            "<tr><td>csongor3</td><td>5</td></tr>",
                            "<tr><td>csongor3</td><td>2</td></tr>",
                            "<tr><td>csongor3</td><td>8</td></tr>",
                            "<tr><td>csongor3</td><td>15</td></tr>",
                            "<tr><td>dani</td><td>5</td></tr>",
                            "<tr><td>dani</td><td>8</td></tr>",
                            "<tr><td>dani</td><td>13</td></tr>",
                            "<tr><td>daniel</td><td>7</td></tr>",
                            "<tr><td>daniel</td><td>2</td></tr>",
                            "<tr><td>daniel</td><td>4</td></tr>",
                            "<tr><td>daniel</td><td>13</td></tr>",
                            "<tr><td>daniel1</td><td>156</td></tr>",
                            "<tr><td>daniel1</td><td>131</td></tr>",
                            "<tr><td>daniel1</td><td>132</td></tr>",
                            "<tr><td>daniel1</td><td>419</td></tr>",
                            "<tr><td>david</td><td>161</td></tr>",
                            "<tr><td>david</td><td>144</td></tr>",
                            "<tr><td>david</td><td>146</td></tr>",
                            "<tr><td>david</td><td>451</td></tr>",
                            "<tr><td>david1</td><td>8</td></tr>",
                            "<tr><td>david1</td><td>1</td></tr>",
                            "<tr><td>david1</td><td>8</td></tr>",
                            "<tr><td>david1</td><td>17</td></tr>",
                            "<tr><td>david4</td><td>3</td></tr>",
                            "<tr><td>david4</td><td>8</td></tr>",
                            "<tr><td>david4</td><td>10</td></tr>",
                            "<tr><td>david4</td><td>21</td></tr>",
                            "<tr><td>debora</td><td>7</td></tr>",
                            "<tr><td>debora</td><td>6</td></tr>",
                            "<tr><td>debora</td><td>3</td></tr>",
                            "<tr><td>debora</td><td>16</td></tr>",
                            "<tr><td>denes</td><td>3</td></tr>",
                            "<tr><td>denes</td><td>2</td></tr>",
                            "<tr><td>denes</td><td>4</td></tr>",
                            "<tr><td>denes</td><td>9</td></tr>",
                            "<tr><td>dora3</td><td>144</td></tr>",
                            "<tr><td>dora3</td><td>124</td></tr>",
                            "<tr><td>dora3</td><td>164</td></tr>",
                            "<tr><td>dora3</td><td>432</td></tr>",
                            "<tr><td>edit</td><td>7</td></tr>",
                            "<tr><td>edit</td><td>2</td></tr>",
                            "<tr><td>edit</td><td>4</td></tr>",
                            "<tr><td>edit</td><td>13</td></tr>",
                            "<tr><td>emese</td><td>128</td></tr>",
                            "<tr><td>emese</td><td>136</td></tr>",
                            "<tr><td>emese</td><td>142</td></tr>",
                            "<tr><td>emese</td><td>406</td></tr>",
                            "<tr><td>eszter2</td><td>127</td></tr>",
                            "<tr><td>eszter2</td><td>136</td></tr>",
                            "<tr><td>eszter2</td><td>152</td></tr>",
                            "<tr><td>eszter2</td><td>415</td></tr>",
                            "<tr><td>eszter4</td><td>141</td></tr>",
                            "<tr><td>eszter4</td><td>134</td></tr>",
                            "<tr><td>eszter4</td><td>149</td></tr>",
                            "<tr><td>eszter4</td><td>424</td></tr>",
                            "<tr><td>ESZTERE</td><td>6</td></tr>",
                            "<tr><td>ESZTERE</td><td>9</td></tr>",
                            "<tr><td>ESZTERE</td><td>7</td></tr>",
                            "<tr><td>ESZTERE</td><td>22</td></tr>",
                            "<tr><td>eva</td><td>125</td></tr>",
                            "<tr><td>eva</td><td>140</td></tr>",
                            "<tr><td>eva</td><td>139</td></tr>",
                            "<tr><td>eva</td><td>404</td></tr>",
                            "<tr><td>eva2</td><td>154</td></tr>",
                            "<tr><td>eva2</td><td>138</td></tr>",
                            "<tr><td>eva2</td><td>170</td></tr>",
                            "<tr><td>eva2</td><td>462</td></tr>",
                            "<tr><td>EVAV</td><td>2</td></tr>",
                            "<tr><td>EVAV</td><td>1</td></tr>",
                            "<tr><td>EVAV</td><td>4</td></tr>",
                            "<tr><td>EVAV</td><td>7</td></tr>",
                            "<tr><td>ferenc1</td><td>144</td></tr>",
                            "<tr><td>ferenc1</td><td>158</td></tr>",
                            "<tr><td>ferenc1</td><td>135</td></tr>",
                            "<tr><td>ferenc1</td><td>437</td></tr>",
                            "<tr><td>fruzsina4</td><td>8</td></tr>",
                            "<tr><td>fruzsina4</td><td>3</td></tr>",
                            "<tr><td>fruzsina4</td><td>7</td></tr>",
                            "<tr><td>fruzsina4</td><td>18</td></tr>",
                            "<tr><td>gabor1</td><td>9</td></tr>",
                            "<tr><td>gabor1</td><td>5</td></tr>",
                            "<tr><td>gabor1</td><td>5</td></tr>",
                            "<tr><td>gabor1</td><td>19</td></tr>",
                            "<tr><td>gabor4</td><td>7</td></tr>",
                            "<tr><td>gabor4</td><td>9</td></tr>",
                            "<tr><td>gabor4</td><td>4</td></tr>",
                            "<tr><td>gabor4</td><td>20</td></tr>",
                            "<tr><td>GABORS</td><td>5</td></tr>",
                            "<tr><td>GABORS</td><td>6</td></tr>",
                            "<tr><td>GABORS</td><td>4</td></tr>",
                            "<tr><td>GABORS</td><td>15</td></tr>",
                            "<tr><td>gabriella1</td><td>5</td></tr>",
                            "<tr><td>gabriella1</td><td>4</td></tr>",
                            "<tr><td>gabriella1</td><td>5</td></tr>",
                            "<tr><td>gabriella1</td><td>14</td></tr>",
                            "<tr><td>gabriella10</td><td>4</td></tr>",
                            "<tr><td>gabriella10</td><td>5</td></tr>",
                            "<tr><td>gabriella10</td><td>7</td></tr>",
                            "<tr><td>gabriella10</td><td>16</td></tr>",
                            "<tr><td>georgij</td><td>9</td></tr>",
                            "<tr><td>georgij</td><td>2</td></tr>",
                            "<tr><td>georgij</td><td>10</td></tr>",
                            "<tr><td>georgij</td><td>21</td></tr>",
                            "<tr><td>gusztav</td><td>5</td></tr>",
                            "<tr><td>gusztav</td><td>4</td></tr>",
                            "<tr><td>gusztav</td><td>5</td></tr>",
                            "<tr><td>gusztav</td><td>14</td></tr>",
                            "<tr><td>GYONGYIK</td><td>6</td></tr>",
                            "<tr><td>GYONGYIK</td><td>6</td></tr>",
                            "<tr><td>GYONGYIK</td><td>3</td></tr>",
                            "<tr><td>GYONGYIK</td><td>15</td></tr>",
                            "<tr><td>GYORGYO</td><td>7</td></tr>",
                            "<tr><td>GYORGYO</td><td>4</td></tr>",
                            "<tr><td>GYORGYO</td><td>5</td></tr>",
                            "<tr><td>GYORGYO</td><td>16</td></tr>",
                            "<tr><td>henrik3</td><td>7</td></tr>",
                            "<tr><td>henrik3</td><td>4</td></tr>",
                            "<tr><td>henrik3</td><td>5</td></tr>",
                            "<tr><td>henrik3</td><td>16</td></tr>",
                            "<tr><td>IBOLYAA</td><td>140</td></tr>",
                            "<tr><td>IBOLYAA</td><td>125</td></tr>",
                            "<tr><td>IBOLYAA</td><td>157</td></tr>",
                            "<tr><td>IBOLYAA</td><td>422</td></tr>",
                            "<tr><td>ilona3</td><td>9</td></tr>",
                            "<tr><td>ilona3</td><td>2</td></tr>",
                            "<tr><td>ilona3</td><td>7</td></tr>",
                            "<tr><td>ilona3</td><td>18</td></tr>",
                            "<tr><td>imre</td><td>5</td></tr>",
                            "<tr><td>imre</td><td>4</td></tr>",
                            "<tr><td>imre</td><td>6</td></tr>",
                            "<tr><td>imre</td><td>15</td></tr>",
                            "<tr><td>imre1</td><td>8</td></tr>",
                            "<tr><td>imre1</td><td>4</td></tr>",
                            "<tr><td>imre1</td><td>3</td></tr>",
                            "<tr><td>imre1</td><td>15</td></tr>",
                            "<tr><td>istvan</td><td>3</td></tr>",
                            "<tr><td>istvan</td><td>4</td></tr>",
                            "<tr><td>istvan</td><td>4</td></tr>",
                            "<tr><td>istvan</td><td>11</td></tr>",
                            "<tr><td>istvan1</td><td>8</td></tr>",
                            "<tr><td>istvan1</td><td>4</td></tr>",
                            "<tr><td>istvan1</td><td>7</td></tr>",
                            "<tr><td>istvan1</td><td>19</td></tr>",
                            "<tr><td>ISTVANV</td><td>4</td></tr>",
                            "<tr><td>ISTVANV</td><td>9</td></tr>",
                            "<tr><td>ISTVANV</td><td>8</td></tr>",
                            "<tr><td>ISTVANV</td><td>21</td></tr>",
                            "<tr><td>janos3</td><td>5</td></tr>",
                            "<tr><td>janos3</td><td>2</td></tr>",
                            "<tr><td>janos3</td><td>6</td></tr>",
                            "<tr><td>janos3</td><td>13</td></tr>",
                            "<tr><td>JANOSG</td><td>3</td></tr>",
                            "<tr><td>JANOSG</td><td>3</td></tr>",
                            "<tr><td>JANOSG</td><td>4</td></tr>",
                            "<tr><td>JANOSG</td><td>10</td></tr>",
                            "<tr><td>JANOSP</td><td>7</td></tr>",
                            "<tr><td>JANOSP</td><td>7</td></tr>",
                            "<tr><td>JANOSP</td><td>3</td></tr>",
                            "<tr><td>JANOSP</td><td>17</td></tr>",
                            "<tr><td>jozsef</td><td>116</td></tr>",
                            "<tr><td>jozsef</td><td>132</td></tr>",
                            "<tr><td>jozsef</td><td>134</td></tr>",
                            "<tr><td>jozsef</td><td>382</td></tr>",
                            "<tr><td>jozsef2</td><td>7</td></tr>",
                            "<tr><td>jozsef2</td><td>2</td></tr>",
                            "<tr><td>jozsef2</td><td>4</td></tr>",
                            "<tr><td>jozsef2</td><td>13</td></tr>",
                            "<tr><td>JOZSEFG</td><td>11</td></tr>",
                            "<tr><td>JOZSEFG</td><td>1</td></tr>",
                            "<tr><td>JOZSEFG</td><td>9</td></tr>",
                            "<tr><td>JOZSEFG</td><td>21</td></tr>",
                            "<tr><td>JUDITH</td><td>170</td></tr>",
                            "<tr><td>JUDITH</td><td>130</td></tr>",
                            "<tr><td>JUDITH</td><td>150</td></tr>",
                            "<tr><td>JUDITH</td><td>450</td></tr>",
                            "<tr><td>julia</td><td>137</td></tr>",
                            "<tr><td>julia</td><td>160</td></tr>",
                            "<tr><td>julia</td><td>138</td></tr>",
                            "<tr><td>julia</td><td>435</td></tr>",
                            "<tr><td>julia4</td><td>2</td></tr>",
                            "<tr><td>julia4</td><td>4</td></tr>",
                            "<tr><td>julia4</td><td>8</td></tr>",
                            "<tr><td>julia4</td><td>14</td></tr>",
                            "<tr><td>julianna4</td><td>8</td></tr>",
                            "<tr><td>julianna4</td><td>12</td></tr>",
                            "<tr><td>julianna4</td><td>7</td></tr>",
                            "<tr><td>julianna4</td><td>27</td></tr>",
                            "<tr><td>kata</td><td>5</td></tr>",
                            "<tr><td>kata</td><td>4</td></tr>",
                            "<tr><td>kata</td><td>3</td></tr>",
                            "<tr><td>kata</td><td>12</td></tr>",
                            "<tr><td>katalin</td><td>7</td></tr>",
                            "<tr><td>katalin</td><td>7</td></tr>",
                            "<tr><td>katalin</td><td>5</td></tr>",
                            "<tr><td>katalin</td><td>19</td></tr>",
                            "<tr><td>katalin4</td><td>7</td></tr>",
                            "<tr><td>katalin4</td><td>5</td></tr>",
                            "<tr><td>katalin4</td><td>11</td></tr>",
                            "<tr><td>katalin4</td><td>23</td></tr>",
                            "<tr><td>kati</td><td>4</td></tr>",
                            "<tr><td>kati</td><td>5</td></tr>",
                            "<tr><td>kati</td><td>4</td></tr>",
                            "<tr><td>kati</td><td>13</td></tr>",
                            "<tr><td>katka</td><td>6</td></tr>",
                            "<tr><td>katka</td><td>6</td></tr>",
                            "<tr><td>katka</td><td>10</td></tr>",
                            "<tr><td>katka</td><td>22</td></tr>",
                            "<tr><td>klaudia2</td><td>3</td></tr>",
                            "<tr><td>klaudia2</td><td>9</td></tr>",
                            "<tr><td>klaudia2</td><td>5</td></tr>",
                            "<tr><td>klaudia2</td><td>17</td></tr>",
                            "<tr><td>kornel4</td><td>3</td></tr>",
                            "<tr><td>kornel4</td><td>1</td></tr>",
                            "<tr><td>kornel4</td><td>7</td></tr>",
                            "<tr><td>kornel4</td><td>11</td></tr>",
                            "<tr><td>kristof4</td><td>9</td></tr>",
                            "<tr><td>kristof4</td><td>4</td></tr>",
                            "<tr><td>kristof4</td><td>8</td></tr>",
                            "<tr><td>kristof4</td><td>21</td></tr>",
                            "<tr><td>kriszti</td><td>3</td></tr>",
                            "<tr><td>kriszti</td><td>5</td></tr>",
                            "<tr><td>kriszti</td><td>5</td></tr>",
                            "<tr><td>kriszti</td><td>13</td></tr>",
                            "<tr><td>krisztian4</td><td>5</td></tr>",
                            "<tr><td>krisztian4</td><td>6</td></tr>",
                            "<tr><td>krisztian4</td><td>6</td></tr>",
                            "<tr><td>krisztian4</td><td>17</td></tr>",
                            "<tr><td>KRISZTIANM</td><td>118</td></tr>",
                            "<tr><td>KRISZTIANM</td><td>136</td></tr>",
                            "<tr><td>KRISZTIANM</td><td>130</td></tr>",
                            "<tr><td>KRISZTIANM</td><td>384</td></tr>",
                            "<tr><td>krisztina</td><td>149</td></tr>",
                            "<tr><td>krisztina</td><td>150</td></tr>",
                            "<tr><td>krisztina</td><td>157</td></tr>",
                            "<tr><td>krisztina</td><td>456</td></tr>",
                            "<tr><td>krisztina1</td><td>10</td></tr>",
                            "<tr><td>krisztina1</td><td>4</td></tr>",
                            "<tr><td>krisztina1</td><td>8</td></tr>",
                            "<tr><td>krisztina1</td><td>22</td></tr>",
                            "<tr><td>KRISZTINAG</td><td>6</td></tr>",
                            "<tr><td>KRISZTINAG</td><td>6</td></tr>",
                            "<tr><td>KRISZTINAG</td><td>10</td></tr>",
                            "<tr><td>KRISZTINAG</td><td>22</td></tr>",
                            "<tr><td>lajos</td><td>5</td></tr>",
                            "<tr><td>lajos</td><td>2</td></tr>",
                            "<tr><td>lajos</td><td>9</td></tr>",
                            "<tr><td>lajos</td><td>16</td></tr>",
                            "<tr><td>lala</td><td>5</td></tr>",
                            "<tr><td>lala</td><td>3</td></tr>",
                            "<tr><td>lala</td><td>9</td></tr>",
                            "<tr><td>lala</td><td>17</td></tr>",
                            "<tr><td>laszlo1</td><td>130</td></tr>",
                            "<tr><td>laszlo1</td><td>129</td></tr>",
                            "<tr><td>laszlo1</td><td>135</td></tr>",
                            "<tr><td>laszlo1</td><td>394</td></tr>",
                            "<tr><td>laszlo2</td><td>12</td></tr>",
                            "<tr><td>laszlo2</td><td>6</td></tr>",
                            "<tr><td>laszlo2</td><td>7</td></tr>",
                            "<tr><td>laszlo2</td><td>25</td></tr>",
                            "<tr><td>LASZLOA</td><td>156</td></tr>",
                            "<tr><td>LASZLOA</td><td>136</td></tr>",
                            "<tr><td>LASZLOA</td><td>154</td></tr>",
                            "<tr><td>LASZLOA</td><td>446</td></tr>",
                            "<tr><td>LASZLON</td><td>126</td></tr>",
                            "<tr><td>LASZLON</td><td>131</td></tr>",
                            "<tr><td>LASZLON</td><td>143</td></tr>",
                            "<tr><td>LASZLON</td><td>400</td></tr>",
                            "<tr><td>maria1</td><td>4</td></tr>",
                            "<tr><td>maria1</td><td>5</td></tr>",
                            "<tr><td>maria1</td><td>1</td></tr>",
                            "<tr><td>maria1</td><td>10</td></tr>",
                            "<tr><td>MARKH</td><td>128</td></tr>",
                            "<tr><td>MARKH</td><td>142</td></tr>",
                            "<tr><td>MARKH</td><td>142</td></tr>",
                            "<tr><td>MARKH</td><td>412</td></tr>",
                            "<tr><td>marton</td><td>5</td></tr>",
                            "<tr><td>marton</td><td>4</td></tr>",
                            "<tr><td>marton</td><td>5</td></tr>",
                            "<tr><td>marton</td><td>14</td></tr>",
                            "<tr><td>MATEK</td><td>6</td></tr>",
                            "<tr><td>MATEK</td><td>10</td></tr>",
                            "<tr><td>MATEK</td><td>9</td></tr>",
                            "<tr><td>MATEK</td><td>25</td></tr>",
                            "<tr><td>matyas2</td><td>138</td></tr>",
                            "<tr><td>matyas2</td><td>131</td></tr>",
                            "<tr><td>matyas2</td><td>164</td></tr>",
                            "<tr><td>matyas2</td><td>433</td></tr>",
                            "<tr><td>MATYASS</td><td>4</td></tr>",
                            "<tr><td>MATYASS</td><td>5</td></tr>",
                            "<tr><td>MATYASS</td><td>3</td></tr>",
                            "<tr><td>MATYASS</td><td>12</td></tr>",
                            "<tr><td>MIHALYJ</td><td>3</td></tr>",
                            "<tr><td>MIHALYJ</td><td>4</td></tr>",
                            "<tr><td>MIHALYJ</td><td>6</td></tr>",
                            "<tr><td>MIHALYJ</td><td>13</td></tr>",
                            "<tr><td>miklos2</td><td>7</td></tr>",
                            "<tr><td>miklos2</td><td>4</td></tr>",
                            "<tr><td>miklos2</td><td>2</td></tr>",
                            "<tr><td>miklos2</td><td>13</td></tr>",
                            "<tr><td>MIKLOSB</td><td>6</td></tr>",
                            "<tr><td>MIKLOSB</td><td>1</td></tr>",
                            "<tr><td>MIKLOSB</td><td>8</td></tr>",
                            "<tr><td>MIKLOSB</td><td>15</td></tr>",
                            "<tr><td>MONIKAM</td><td>133</td></tr>",
                            "<tr><td>MONIKAM</td><td>151</td></tr>",
                            "<tr><td>MONIKAM</td><td>123</td></tr>",
                            "<tr><td>MONIKAM</td><td>407</td></tr>",
                            "<tr><td>NANDORF</td><td>147</td></tr>",
                            "<tr><td>NANDORF</td><td>139</td></tr>",
                            "<tr><td>NANDORF</td><td>134</td></tr>",
                            "<tr><td>NANDORF</td><td>420</td></tr>",
                            "<tr><td>nikolett3</td><td>4</td></tr>",
                            "<tr><td>nikolett3</td><td>3</td></tr>",
                            "<tr><td>nikolett3</td><td>10</td></tr>",
                            "<tr><td>nikolett3</td><td>17</td></tr>",
                            "<tr><td>nikoletta4</td><td>137</td></tr>",
                            "<tr><td>nikoletta4</td><td>158</td></tr>",
                            "<tr><td>nikoletta4</td><td>119</td></tr>",
                            "<tr><td>nikoletta4</td><td>414</td></tr>",
                            "<tr><td>NIKOLETTAT</td><td>13</td></tr>",
                            "<tr><td>NIKOLETTAT</td><td>7</td></tr>",
                            "<tr><td>NIKOLETTAT</td><td>5</td></tr>",
                            "<tr><td>NIKOLETTAT</td><td>25</td></tr>",
                            "<tr><td>norbert2</td><td>7</td></tr>",
                            "<tr><td>norbert2</td><td>4</td></tr>",
                            "<tr><td>norbert2</td><td>11</td></tr>",
                            "<tr><td>norbert4</td><td>1</td></tr>",
                            "<tr><td>norbert4</td><td>3</td></tr>",
                            "<tr><td>norbert4</td><td>9</td></tr>",
                            "<tr><td>norbert4</td><td>13</td></tr>",
                            "<tr><td>norbert5</td><td>1</td></tr>",
                            "<tr><td>norbert5</td><td>6</td></tr>",
                            "<tr><td>norbert5</td><td>9</td></tr>",
                            "<tr><td>norbert5</td><td>16</td></tr>",
                            "<tr><td>pal</td><td>152</td></tr>",
                            "<tr><td>pal</td><td>132</td></tr>",
                            "<tr><td>pal</td><td>154</td></tr>",
                            "<tr><td>pal</td><td>438</td></tr>",
                            "<tr><td>peter1</td><td>151</td></tr>",
                            "<tr><td>peter1</td><td>135</td></tr>",
                            "<tr><td>peter1</td><td>126</td></tr>",
                            "<tr><td>peter1</td><td>412</td></tr>",
                            "<tr><td>peter2</td><td>7</td></tr>",
                            "<tr><td>peter2</td><td>4</td></tr>",
                            "<tr><td>peter2</td><td>7</td></tr>",
                            "<tr><td>peter2</td><td>18</td></tr>",
                            "<tr><td>peter3</td><td>8</td></tr>",
                            "<tr><td>peter3</td><td>7</td></tr>",
                            "<tr><td>peter3</td><td>10</td></tr>",
                            "<tr><td>peter3</td><td>25</td></tr>",
                            "<tr><td>peter4</td><td>266</td></tr>",
                            "<tr><td>peter4</td><td>293</td></tr>",
                            "<tr><td>peter4</td><td>293</td></tr>",
                            "<tr><td>peter4</td><td>852</td></tr>",
                            "<tr><td>PETERB</td><td>2</td></tr>",
                            "<tr><td>PETERB</td><td>4</td></tr>",
                            "<tr><td>PETERB</td><td>9</td></tr>",
                            "<tr><td>PETERB</td><td>15</td></tr>",
                            "<tr><td>polla</td><td>9</td></tr>",
                            "<tr><td>polla</td><td>6</td></tr>",
                            "<tr><td>polla</td><td>7</td></tr>",
                            "<tr><td>polla</td><td>22</td></tr>",
                            "<tr><td>rajmond4</td><td>6</td></tr>",
                            "<tr><td>rajmond4</td><td>5</td></tr>",
                            "<tr><td>rajmond4</td><td>6</td></tr>",
                            "<tr><td>rajmond4</td><td>17</td></tr>",
                            "<tr><td>reka4</td><td>5</td></tr>",
                            "<tr><td>reka4</td><td>4</td></tr>",
                            "<tr><td>reka4</td><td>11</td></tr>",
                            "<tr><td>reka4</td><td>20</td></tr>",
                            "<tr><td>RENATAK</td><td>135</td></tr>",
                            "<tr><td>RENATAK</td><td>140</td></tr>",
                            "<tr><td>RENATAK</td><td>147</td></tr>",
                            "<tr><td>RENATAK</td><td>422</td></tr>",
                            "<tr><td>RENATAS</td><td>6</td></tr>",
                            "<tr><td>RENATAS</td><td>5</td></tr>",
                            "<tr><td>RENATAS</td><td>5</td></tr>",
                            "<tr><td>RENATAS</td><td>16</td></tr>",
                            "<tr><td>robert2</td><td>5</td></tr>",
                            "<tr><td>robert2</td><td>1</td></tr>",
                            "<tr><td>robert2</td><td>7</td></tr>",
                            "<tr><td>robert2</td><td>13</td></tr>",
                            "<tr><td>ROBERTI</td><td>5</td></tr>",
                            "<tr><td>ROBERTI</td><td>3</td></tr>",
                            "<tr><td>ROBERTI</td><td>5</td></tr>",
                            "<tr><td>ROBERTI</td><td>13</td></tr>",
                            "<tr><td>ROBERTP</td><td>8</td></tr>",
                            "<tr><td>ROBERTP</td><td>8</td></tr>",
                            "<tr><td>ROBERTP</td><td>10</td></tr>",
                            "<tr><td>ROBERTP</td><td>26</td></tr>",
                            "<tr><td>roland</td><td>132</td></tr>",
                            "<tr><td>roland</td><td>157</td></tr>",
                            "<tr><td>roland</td><td>125</td></tr>",
                            "<tr><td>roland</td><td>414</td></tr>",
                            "<tr><td>roland1</td><td>142</td></tr>",
                            "<tr><td>roland1</td><td>155</td></tr>",
                            "<tr><td>roland1</td><td>135</td></tr>",
                            "<tr><td>roland1</td><td>432</td></tr>",
                            "<tr><td>roza2</td><td>3</td></tr>",
                            "<tr><td>roza2</td><td>2</td></tr>",
                            "<tr><td>roza2</td><td>3</td></tr>",
                            "<tr><td>roza2</td><td>8</td></tr>",
                            "<tr><td>sandor</td><td>4</td></tr>",
                            "<tr><td>sandor</td><td>6</td></tr>",
                            "<tr><td>sandor</td><td>7</td></tr>",
                            "<tr><td>sandor</td><td>17</td></tr>",
                            "<tr><td>sandor3</td><td>4</td></tr>",
                            "<tr><td>sandor3</td><td>4</td></tr>",
                            "<tr><td>sandor3</td><td>6</td></tr>",
                            "<tr><td>sandor3</td><td>14</td></tr>",
                            "<tr><td>sandor4</td><td>4</td></tr>",
                            "<tr><td>sandor4</td><td>2</td></tr>",
                            "<tr><td>sandor4</td><td>5</td></tr>",
                            "<tr><td>sandor4</td><td>11</td></tr>",
                            "<tr><td>sara</td><td>4</td></tr>",
                            "<tr><td>sara</td><td>7</td></tr>",
                            "<tr><td>sara</td><td>9</td></tr>",
                            "<tr><td>sara</td><td>20</td></tr>",
                            "<tr><td>SEBASTIANF</td><td>6</td></tr>",
                            "<tr><td>SEBASTIANF</td><td>3</td></tr>",
                            "<tr><td>SEBASTIANF</td><td>6</td></tr>",
                            "<tr><td>SEBASTIANF</td><td>15</td></tr>",
                            "<tr><td>sebestyen</td><td>4</td></tr>",
                            "<tr><td>sebestyen</td><td>6</td></tr>",
                            "<tr><td>sebestyen</td><td>6</td></tr>",
                            "<tr><td>sebestyen</td><td>16</td></tr>",
                            "<tr><td>szabolcs</td><td>145</td></tr>",
                            "<tr><td>szabolcs</td><td>157</td></tr>",
                            "<tr><td>szabolcs</td><td>169</td></tr>",
                            "<tr><td>szabolcs</td><td>471</td></tr>",
                            "<tr><td>SZABOLCSM</td><td>126</td></tr>",
                            "<tr><td>SZABOLCSM</td><td>153</td></tr>",
                            "<tr><td>SZABOLCSM</td><td>129</td></tr>",
                            "<tr><td>SZABOLCSM</td><td>408</td></tr>",
                            "<tr><td>SZILARDS</td><td>144</td></tr>",
                            "<tr><td>SZILARDS</td><td>131</td></tr>",
                            "<tr><td>SZILARDS</td><td>111</td></tr>",
                            "<tr><td>SZILARDS</td><td>386</td></tr>",
                            "<tr><td>szilvia1</td><td>156</td></tr>",
                            "<tr><td>szilvia1</td><td>151</td></tr>",
                            "<tr><td>szilvia1</td><td>138</td></tr>",
                            "<tr><td>szilvia1</td><td>445</td></tr>",
                            "<tr><td>tamara2</td><td>6</td></tr>",
                            "<tr><td>tamara2</td><td>4</td></tr>",
                            "<tr><td>tamara2</td><td>3</td></tr>",
                            "<tr><td>tamara2</td><td>13</td></tr>",
                            "<tr><td>tamas</td><td>143</td></tr>",
                            "<tr><td>tamas</td><td>156</td></tr>",
                            "<tr><td>tamas</td><td>122</td></tr>",
                            "<tr><td>tamas</td><td>421</td></tr>",
                            "<tr><td>TAMASF</td><td>159</td></tr>",
                            "<tr><td>TAMASF</td><td>145</td></tr>",
                            "<tr><td>TAMASF</td><td>129</td></tr>",
                            "<tr><td>TAMASF</td><td>433</td></tr>",
                            "<tr><td>tibor</td><td>115</td></tr>",
                            "<tr><td>tibor</td><td>129</td></tr>",
                            "<tr><td>tibor</td><td>130</td></tr>",
                            "<tr><td>tibor</td><td>374</td></tr>",
                            "<tr><td>tibor2</td><td>7</td></tr>",
                            "<tr><td>tibor2</td><td>7</td></tr>",
                            "<tr><td>tibor2</td><td>11</td></tr>",
                            "<tr><td>tibor2</td><td>25</td></tr>",
                            "<tr><td>tihamer</td><td>9</td></tr>",
                            "<tr><td>tihamer</td><td>6</td></tr>",
                            "<tr><td>tihamer</td><td>5</td></tr>",
                            "<tr><td>tihamer</td><td>20</td></tr>",
                            "<tr><td>timea</td><td>14</td></tr>",
                            "<tr><td>timea</td><td>23</td></tr>",
                            "<tr><td>timea</td><td>18</td></tr>",
                            "<tr><td>timea</td><td>55</td></tr>",
                            "<tr><td>timea2</td><td>1</td></tr>",
                            "<tr><td>timea2</td><td>5</td></tr>",
                            "<tr><td>timea2</td><td>10</td></tr>",
                            "<tr><td>timea2</td><td>16</td></tr>",
                            "<tr><td>tunde</td><td>6</td></tr>",
                            "<tr><td>tunde</td><td>6</td></tr>",
                            "<tr><td>tunde</td><td>4</td></tr>",
                            "<tr><td>tunde</td><td>16</td></tr>",
                            "<tr><td>valentin</td><td>5</td></tr>",
                            "<tr><td>valentin</td><td>5</td></tr>",
                            "<tr><td>valentin</td><td>3</td></tr>",
                            "<tr><td>valentin</td><td>13</td></tr>",
                            "<tr><td>veronika4</td><td>5</td></tr>",
                            "<tr><td>veronika4</td><td>6</td></tr>",
                            "<tr><td>veronika4</td><td>7</td></tr>",
                            "<tr><td>veronika4</td><td>18</td></tr>",
                            "<tr><td>VIKTORIAU</td><td>5</td></tr>",
                            "<tr><td>VIKTORIAU</td><td>4</td></tr>",
                            "<tr><td>VIKTORIAU</td><td>5</td></tr>",
                            "<tr><td>VIKTORIAU</td><td>14</td></tr>",
                            "<tr><td>VIKTORK</td><td>8</td></tr>",
                            "<tr><td>VIKTORK</td><td>6</td></tr>",
                            "<tr><td>VIKTORK</td><td>6</td></tr>",
                            "<tr><td>VIKTORK</td><td>20</td></tr>",
                            "<tr><td>vivien3</td><td>9</td></tr>",
                            "<tr><td>vivien3</td><td>6</td></tr>",
                            "<tr><td>vivien3</td><td>7</td></tr>",
                            "<tr><td>vivien3</td><td>22</td></tr>",
                            "<tr><td>zoltan</td><td>5</td></tr>",
                            "<tr><td>zoltan</td><td>3</td></tr>",
                            "<tr><td>zoltan</td><td>7</td></tr>",
                            "<tr><td>zoltan</td><td>15</td></tr>",
                            "<tr><td>zoltan4</td><td>129</td></tr>",
                            "<tr><td>zoltan4</td><td>124</td></tr>",
                            "<tr><td>zoltan4</td><td>171</td></tr>",
                            "<tr><td>zoltan4</td><td>424</td></tr>",
                            "<tr><td>ZOLTANP</td><td>6</td></tr>",
                            "<tr><td>ZOLTANP</td><td>3</td></tr>",
                            "<tr><td>ZOLTANP</td><td>4</td></tr>",
                            "<tr><td>ZOLTANP</td><td>13</td></tr>",
                            "<tr><td>ZOLTANT</td><td>127</td></tr>",
                            "<tr><td>ZOLTANT</td><td>107</td></tr>",
                            "<tr><td>ZOLTANT</td><td>123</td></tr>",
                            "<tr><td>ZOLTANT</td><td>357</td></tr>",
                            "<tr><td>zsofi1</td><td>7</td></tr>",
                            "<tr><td>zsofi1</td><td>6</td></tr>",
                            "<tr><td>zsofi1</td><td>6</td></tr>",
                            "<tr><td>zsofi1</td><td>19</td></tr>",
                            "<tr><td>zsolt1</td><td>11</td></tr>",
                            "<tr><td>zsolt1</td><td>6</td></tr>",
                            "<tr><td>zsolt1</td><td>3</td></tr>",
                            "<tr><td>zsolt1</td><td>20</td></tr>",
                            "<tr><td>ZSOLTJ</td><td>1</td></tr>",
                            "<tr><td>ZSOLTJ</td><td>8</td></tr>",
                            "<tr><td>ZSOLTJ</td><td>9</td></tr>",
                            "<tr><td>ZSOLTJ</td><td>18</td></tr>",
                            "<tr><td>zsuzsa</td><td>8</td></tr>",
                            "<tr><td>zsuzsa</td><td>5</td></tr>",
                            "<tr><td>zsuzsa</td><td>3</td></tr>",
                            "<tr><td>zsuzsa</td><td>16</td></tr>",
                            "<tr><td>zsuzsa3</td><td>5</td></tr>",
                            "<tr><td>zsuzsa3</td><td>5</td></tr>",
                            "<tr><td>zsuzsa3</td><td>6</td></tr>",
                            "<tr><td>zsuzsa3</td><td>16</td></tr>",
                            "<tr><td>zsuzsanna</td><td>7</td></tr>",
                            "<tr><td>zsuzsanna</td><td>5</td></tr>",
                            "<tr><td>zsuzsanna</td><td>3</td></tr>",
                            "<tr><td>zsuzsanna</td><td>15</td></tr>",
                            "<tr><td>ZSUZSAV</td><td>139</td></tr>",
                            "<tr><td>ZSUZSAV</td><td>139</td></tr>",
                            "<tr><td>ZSUZSAV</td><td>142</td></tr>",
                            "<tr><td>ZSUZSAV</td><td>420</td></tr>",
                            "<tr><td>NULL</td><td>28085</td></tr>",
                            "</table>"
                        ]
                    }
                }
            ],
            "execution_count": 5
        },
        {
            "cell_type": "markdown",
            "source": [
                "2. <span style=\"background-color: rgb(255, 255, 255); color: rgb(0, 0, 0); font-family: &quot;Open Sans&quot;, sans-serif; font-size: 14.44px;\">Készítsünk listát a termékek számáról a következő csoportosítási szempontok szerint:<br>kategória azonosító, raktárkód, raktárkód+mennyiségi egység!</span>\n",
                "\n",
                "a. A listát szűrjük azokra a csoportokra, ahol a termékek száma legalább 6!"
            ],
            "metadata": {
                "azdata_cell_guid": "ea75c103-911f-41a3-a32c-3d40fb3e4e4a"
            },
            "attachments": {}
        },
        {
            "cell_type": "code",
            "source": [
                ""
            ],
            "metadata": {
                "azdata_cell_guid": "222b9618-a8e8-42b4-a8e8-d002257122b7",
                "language": "sql"
            },
            "outputs": [],
            "execution_count": null
        },
        {
            "cell_type": "markdown",
            "source": [
                "```\n",
                "3. Készítsünk listát az egyes termékkategóriákban lévő termékek számáról! \n",
                "\n",
                "```\n",
                "\n",
                "a. Elég megjeleníteni a kategóriák azonosítóit és a darabszámokat!   \n",
                "<span style=\"color: var(--vscode-foreground);\">b. A lista megfelelően jelölve tartalmazza a végösszeget is!&nbsp;<br></span> <span style=\"color: var(--vscode-foreground);\">c. Az oszlopokat nevezzük el értelemszerűen!&nbsp;<br></span> <span style=\"color: var(--vscode-foreground);\">d. A listát rendezzük a darabszám szerint növekvő sorrendbe!</span>\n",
                "\n",
                "  \n",
                "\n",
                "![](https://moodle.uni-corvinus.hu/theme/image.php/adaptable/atto_h5p/1709548862/icon)"
            ],
            "metadata": {
                "azdata_cell_guid": "d7876bb9-76d0-4d07-baed-3cb17b2f96c3"
            },
            "attachments": {}
        },
        {
            "cell_type": "code",
            "source": [
                ""
            ],
            "metadata": {
                "azdata_cell_guid": "56ec19ce-e249-4551-b2a8-f17569765acc",
                "language": "sql"
            },
            "outputs": [],
            "execution_count": null
        },
        {
            "cell_type": "markdown",
            "source": [
                "4. <span style=\"background-color: rgb(255, 255, 255); color: rgb(0, 0, 0); font-family: &quot;Open Sans&quot;, sans-serif; font-size: 14.44px;\">Készítsünk listát az ügyfelek számáról születési év szerint, azon belül nem szerinti bontásban!&nbsp;</span> \n",
                "\n",
                "a. A lista megfelelően jelölve tartalmazza a részösszegeket és a végösszeget is!  \n",
                "b. Az oszlopoknak adjunk nevet értelemszerűen!"
            ],
            "metadata": {
                "azdata_cell_guid": "8e7fef82-8022-49a0-8255-fc2846c2134b"
            },
            "attachments": {}
        },
        {
            "cell_type": "code",
            "source": [
                ""
            ],
            "metadata": {
                "azdata_cell_guid": "36f7b396-4a1f-45e5-8720-2302537c91bc",
                "language": "sql"
            },
            "outputs": [],
            "execution_count": null
        },
        {
            "cell_type": "markdown",
            "source": [
                "5. <span style=\"background-color: rgb(255, 255, 255); color: rgb(0, 0, 0); font-family: &quot;Open Sans&quot;, sans-serif; font-size: 14.44px;\">Készítsünk listát a termékek számáról a felvitel hónapja, azon belül napja szerint csoportosítva.&nbsp;</span> \n",
                "\n",
                "a. A lista csak a részösszegeket és a végösszeget tartalmazza!  \n",
                "b. Az oszlopoknak adjunk megfelelő nevet!  \n",
                "c. Ötlet: HAVING + GROUPING\\_ID fv együttes használata"
            ],
            "metadata": {
                "azdata_cell_guid": "84239ca2-6b5e-49f5-9860-d44c11d6de32"
            },
            "attachments": {}
        },
        {
            "cell_type": "code",
            "source": [
                ""
            ],
            "metadata": {
                "azdata_cell_guid": "06d9a62b-9430-424b-a135-d80e675f0eb3",
                "language": "sql"
            },
            "outputs": [],
            "execution_count": null
        }
    ]
}